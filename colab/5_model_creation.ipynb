{
  "nbformat": 4,
  "nbformat_minor": 0,
  "metadata": {
    "colab": {
      "provenance": [],
      "gpuType": "V28"
    },
    "kernelspec": {
      "name": "python3",
      "display_name": "Python 3"
    },
    "language_info": {
      "name": "python"
    },
    "accelerator": "TPU"
  },
  "cells": [
    {
      "cell_type": "code",
      "execution_count": null,
      "metadata": {
        "colab": {
          "base_uri": "https://localhost:8080/"
        },
        "id": "k1ehioj_hKXq",
        "outputId": "b82ebde6-57ef-4d59-e545-23109e75c976"
      },
      "outputs": [
        {
          "output_type": "stream",
          "name": "stdout",
          "text": [
            "Drive already mounted at /content/drive; to attempt to forcibly remount, call drive.mount(\"/content/drive\", force_remount=True).\n"
          ]
        }
      ],
      "source": [
        "# for drive access\n",
        "from google.colab import drive\n",
        "drive.mount('/content/drive')\n",
        "\n",
        "# standard libraries\n",
        "import numpy as np\n",
        "import pandas as pd\n",
        "import pickle\n",
        "import time\n",
        "\n",
        "# for audio\n",
        "import librosa\n",
        "\n",
        "# for preprocessing\n",
        "from sklearn.preprocessing import LabelEncoder\n",
        "from sklearn.preprocessing import MinMaxScaler\n",
        "from sklearn.preprocessing import OneHotEncoder\n",
        "import tensorflow as tf\n",
        "\n",
        "# for saving the label & features to disk\n",
        "import pickle"
      ]
    },
    {
      "cell_type": "code",
      "source": [
        "# For visualization\n",
        "import matplotlib.pyplot as plt\n",
        "import seaborn as sns\n"
      ],
      "metadata": {
        "id": "TrUso2oq7csc"
      },
      "execution_count": null,
      "outputs": []
    },
    {
      "cell_type": "markdown",
      "source": [
        "##For Audio Feature Extraction\n"
      ],
      "metadata": {
        "id": "4wIWYWrtxcNd"
      }
    },
    {
      "cell_type": "code",
      "source": [
        "df = pd.read_csv('/content/drive/MyDrive/modifiedbird/train_val.csv')\n",
        "\n",
        "df.head(10)"
      ],
      "metadata": {
        "id": "suqWQdvslQQM",
        "colab": {
          "base_uri": "https://localhost:8080/",
          "height": 557
        },
        "outputId": "ec768c2b-6987-446d-800a-4542c28b9a97"
      },
      "execution_count": null,
      "outputs": [
        {
          "output_type": "execute_result",
          "data": {
            "text/plain": [
              "  primary_label  type  latitude  longitude     scientific_name  \\\n",
              "0       abethr1  call   -2.9965    37.6244  Turdus tephronotus   \n",
              "1       abethr1  both   -2.9524    38.2921  Turdus tephronotus   \n",
              "2       abethr1  song   -2.9524    38.2921  Turdus tephronotus   \n",
              "3       abethr1  song    4.8403    38.6988  Turdus tephronotus   \n",
              "4       abethr1  song   -4.0904    37.8807  Turdus tephronotus   \n",
              "5       abethr1  song    4.3906    38.2788  Turdus tephronotus   \n",
              "6       abethr1  both   -2.9858    37.5975  Turdus tephronotus   \n",
              "7       abethr1  song       NaN        NaN  Turdus tephronotus   \n",
              "8       abethr1  song   -2.9524    38.2921  Turdus tephronotus   \n",
              "9       abethr1  song   -4.0904    37.8807  Turdus tephronotus   \n",
              "\n",
              "                common_name  rating             file_name   duration  country  \\\n",
              "0  African Bare-eyed Thrush     3.0  abethr1/XC432639.ogg  25.392000       KE   \n",
              "1  African Bare-eyed Thrush     4.5  abethr1/XC363504.ogg  42.344500       KE   \n",
              "2  African Bare-eyed Thrush     5.0  abethr1/XC363503.ogg  29.257188       KE   \n",
              "3  African Bare-eyed Thrush     4.0  abethr1/XC531557.ogg  19.931000       ET   \n",
              "4  African Bare-eyed Thrush     5.0  abethr1/XC467122.ogg  20.688000       TZ   \n",
              "5  African Bare-eyed Thrush     4.0  abethr1/XC128013.ogg  45.609812       ET   \n",
              "6  African Bare-eyed Thrush     5.0  abethr1/XC639039.ogg  34.011437       KE   \n",
              "7  African Bare-eyed Thrush     4.0  abethr1/XC585802.ogg  19.464000  UNKNOWN   \n",
              "8  African Bare-eyed Thrush     3.5  abethr1/XC363502.ogg  38.765750       KE   \n",
              "9  African Bare-eyed Thrush     5.0  abethr1/XC467121.ogg  42.631000       TZ   \n",
              "\n",
              "  continent          filename_npy    set  \n",
              "0        AF  abethr1/XC432639.npy  train  \n",
              "1        AF  abethr1/XC363504.npy  train  \n",
              "2        AF  abethr1/XC363503.npy  train  \n",
              "3        AF  abethr1/XC531557.npy  train  \n",
              "4        AF  abethr1/XC467122.npy  train  \n",
              "5        AF  abethr1/XC128013.npy  train  \n",
              "6        AF  abethr1/XC639039.npy  train  \n",
              "7   UNKNOWN  abethr1/XC585802.npy  train  \n",
              "8        AF  abethr1/XC363502.npy  train  \n",
              "9        AF  abethr1/XC467121.npy  train  "
            ],
            "text/html": [
              "\n",
              "  <div id=\"df-069d59d2-faa9-449c-85bc-5d6564a3abe6\" class=\"colab-df-container\">\n",
              "    <div>\n",
              "<style scoped>\n",
              "    .dataframe tbody tr th:only-of-type {\n",
              "        vertical-align: middle;\n",
              "    }\n",
              "\n",
              "    .dataframe tbody tr th {\n",
              "        vertical-align: top;\n",
              "    }\n",
              "\n",
              "    .dataframe thead th {\n",
              "        text-align: right;\n",
              "    }\n",
              "</style>\n",
              "<table border=\"1\" class=\"dataframe\">\n",
              "  <thead>\n",
              "    <tr style=\"text-align: right;\">\n",
              "      <th></th>\n",
              "      <th>primary_label</th>\n",
              "      <th>type</th>\n",
              "      <th>latitude</th>\n",
              "      <th>longitude</th>\n",
              "      <th>scientific_name</th>\n",
              "      <th>common_name</th>\n",
              "      <th>rating</th>\n",
              "      <th>file_name</th>\n",
              "      <th>duration</th>\n",
              "      <th>country</th>\n",
              "      <th>continent</th>\n",
              "      <th>filename_npy</th>\n",
              "      <th>set</th>\n",
              "    </tr>\n",
              "  </thead>\n",
              "  <tbody>\n",
              "    <tr>\n",
              "      <th>0</th>\n",
              "      <td>abethr1</td>\n",
              "      <td>call</td>\n",
              "      <td>-2.9965</td>\n",
              "      <td>37.6244</td>\n",
              "      <td>Turdus tephronotus</td>\n",
              "      <td>African Bare-eyed Thrush</td>\n",
              "      <td>3.0</td>\n",
              "      <td>abethr1/XC432639.ogg</td>\n",
              "      <td>25.392000</td>\n",
              "      <td>KE</td>\n",
              "      <td>AF</td>\n",
              "      <td>abethr1/XC432639.npy</td>\n",
              "      <td>train</td>\n",
              "    </tr>\n",
              "    <tr>\n",
              "      <th>1</th>\n",
              "      <td>abethr1</td>\n",
              "      <td>both</td>\n",
              "      <td>-2.9524</td>\n",
              "      <td>38.2921</td>\n",
              "      <td>Turdus tephronotus</td>\n",
              "      <td>African Bare-eyed Thrush</td>\n",
              "      <td>4.5</td>\n",
              "      <td>abethr1/XC363504.ogg</td>\n",
              "      <td>42.344500</td>\n",
              "      <td>KE</td>\n",
              "      <td>AF</td>\n",
              "      <td>abethr1/XC363504.npy</td>\n",
              "      <td>train</td>\n",
              "    </tr>\n",
              "    <tr>\n",
              "      <th>2</th>\n",
              "      <td>abethr1</td>\n",
              "      <td>song</td>\n",
              "      <td>-2.9524</td>\n",
              "      <td>38.2921</td>\n",
              "      <td>Turdus tephronotus</td>\n",
              "      <td>African Bare-eyed Thrush</td>\n",
              "      <td>5.0</td>\n",
              "      <td>abethr1/XC363503.ogg</td>\n",
              "      <td>29.257188</td>\n",
              "      <td>KE</td>\n",
              "      <td>AF</td>\n",
              "      <td>abethr1/XC363503.npy</td>\n",
              "      <td>train</td>\n",
              "    </tr>\n",
              "    <tr>\n",
              "      <th>3</th>\n",
              "      <td>abethr1</td>\n",
              "      <td>song</td>\n",
              "      <td>4.8403</td>\n",
              "      <td>38.6988</td>\n",
              "      <td>Turdus tephronotus</td>\n",
              "      <td>African Bare-eyed Thrush</td>\n",
              "      <td>4.0</td>\n",
              "      <td>abethr1/XC531557.ogg</td>\n",
              "      <td>19.931000</td>\n",
              "      <td>ET</td>\n",
              "      <td>AF</td>\n",
              "      <td>abethr1/XC531557.npy</td>\n",
              "      <td>train</td>\n",
              "    </tr>\n",
              "    <tr>\n",
              "      <th>4</th>\n",
              "      <td>abethr1</td>\n",
              "      <td>song</td>\n",
              "      <td>-4.0904</td>\n",
              "      <td>37.8807</td>\n",
              "      <td>Turdus tephronotus</td>\n",
              "      <td>African Bare-eyed Thrush</td>\n",
              "      <td>5.0</td>\n",
              "      <td>abethr1/XC467122.ogg</td>\n",
              "      <td>20.688000</td>\n",
              "      <td>TZ</td>\n",
              "      <td>AF</td>\n",
              "      <td>abethr1/XC467122.npy</td>\n",
              "      <td>train</td>\n",
              "    </tr>\n",
              "    <tr>\n",
              "      <th>5</th>\n",
              "      <td>abethr1</td>\n",
              "      <td>song</td>\n",
              "      <td>4.3906</td>\n",
              "      <td>38.2788</td>\n",
              "      <td>Turdus tephronotus</td>\n",
              "      <td>African Bare-eyed Thrush</td>\n",
              "      <td>4.0</td>\n",
              "      <td>abethr1/XC128013.ogg</td>\n",
              "      <td>45.609812</td>\n",
              "      <td>ET</td>\n",
              "      <td>AF</td>\n",
              "      <td>abethr1/XC128013.npy</td>\n",
              "      <td>train</td>\n",
              "    </tr>\n",
              "    <tr>\n",
              "      <th>6</th>\n",
              "      <td>abethr1</td>\n",
              "      <td>both</td>\n",
              "      <td>-2.9858</td>\n",
              "      <td>37.5975</td>\n",
              "      <td>Turdus tephronotus</td>\n",
              "      <td>African Bare-eyed Thrush</td>\n",
              "      <td>5.0</td>\n",
              "      <td>abethr1/XC639039.ogg</td>\n",
              "      <td>34.011437</td>\n",
              "      <td>KE</td>\n",
              "      <td>AF</td>\n",
              "      <td>abethr1/XC639039.npy</td>\n",
              "      <td>train</td>\n",
              "    </tr>\n",
              "    <tr>\n",
              "      <th>7</th>\n",
              "      <td>abethr1</td>\n",
              "      <td>song</td>\n",
              "      <td>NaN</td>\n",
              "      <td>NaN</td>\n",
              "      <td>Turdus tephronotus</td>\n",
              "      <td>African Bare-eyed Thrush</td>\n",
              "      <td>4.0</td>\n",
              "      <td>abethr1/XC585802.ogg</td>\n",
              "      <td>19.464000</td>\n",
              "      <td>UNKNOWN</td>\n",
              "      <td>UNKNOWN</td>\n",
              "      <td>abethr1/XC585802.npy</td>\n",
              "      <td>train</td>\n",
              "    </tr>\n",
              "    <tr>\n",
              "      <th>8</th>\n",
              "      <td>abethr1</td>\n",
              "      <td>song</td>\n",
              "      <td>-2.9524</td>\n",
              "      <td>38.2921</td>\n",
              "      <td>Turdus tephronotus</td>\n",
              "      <td>African Bare-eyed Thrush</td>\n",
              "      <td>3.5</td>\n",
              "      <td>abethr1/XC363502.ogg</td>\n",
              "      <td>38.765750</td>\n",
              "      <td>KE</td>\n",
              "      <td>AF</td>\n",
              "      <td>abethr1/XC363502.npy</td>\n",
              "      <td>train</td>\n",
              "    </tr>\n",
              "    <tr>\n",
              "      <th>9</th>\n",
              "      <td>abethr1</td>\n",
              "      <td>song</td>\n",
              "      <td>-4.0904</td>\n",
              "      <td>37.8807</td>\n",
              "      <td>Turdus tephronotus</td>\n",
              "      <td>African Bare-eyed Thrush</td>\n",
              "      <td>5.0</td>\n",
              "      <td>abethr1/XC467121.ogg</td>\n",
              "      <td>42.631000</td>\n",
              "      <td>TZ</td>\n",
              "      <td>AF</td>\n",
              "      <td>abethr1/XC467121.npy</td>\n",
              "      <td>train</td>\n",
              "    </tr>\n",
              "  </tbody>\n",
              "</table>\n",
              "</div>\n",
              "    <div class=\"colab-df-buttons\">\n",
              "\n",
              "  <div class=\"colab-df-container\">\n",
              "    <button class=\"colab-df-convert\" onclick=\"convertToInteractive('df-069d59d2-faa9-449c-85bc-5d6564a3abe6')\"\n",
              "            title=\"Convert this dataframe to an interactive table.\"\n",
              "            style=\"display:none;\">\n",
              "\n",
              "  <svg xmlns=\"http://www.w3.org/2000/svg\" height=\"24px\" viewBox=\"0 -960 960 960\">\n",
              "    <path d=\"M120-120v-720h720v720H120Zm60-500h600v-160H180v160Zm220 220h160v-160H400v160Zm0 220h160v-160H400v160ZM180-400h160v-160H180v160Zm440 0h160v-160H620v160ZM180-180h160v-160H180v160Zm440 0h160v-160H620v160Z\"/>\n",
              "  </svg>\n",
              "    </button>\n",
              "\n",
              "  <style>\n",
              "    .colab-df-container {\n",
              "      display:flex;\n",
              "      gap: 12px;\n",
              "    }\n",
              "\n",
              "    .colab-df-convert {\n",
              "      background-color: #E8F0FE;\n",
              "      border: none;\n",
              "      border-radius: 50%;\n",
              "      cursor: pointer;\n",
              "      display: none;\n",
              "      fill: #1967D2;\n",
              "      height: 32px;\n",
              "      padding: 0 0 0 0;\n",
              "      width: 32px;\n",
              "    }\n",
              "\n",
              "    .colab-df-convert:hover {\n",
              "      background-color: #E2EBFA;\n",
              "      box-shadow: 0px 1px 2px rgba(60, 64, 67, 0.3), 0px 1px 3px 1px rgba(60, 64, 67, 0.15);\n",
              "      fill: #174EA6;\n",
              "    }\n",
              "\n",
              "    .colab-df-buttons div {\n",
              "      margin-bottom: 4px;\n",
              "    }\n",
              "\n",
              "    [theme=dark] .colab-df-convert {\n",
              "      background-color: #3B4455;\n",
              "      fill: #D2E3FC;\n",
              "    }\n",
              "\n",
              "    [theme=dark] .colab-df-convert:hover {\n",
              "      background-color: #434B5C;\n",
              "      box-shadow: 0px 1px 3px 1px rgba(0, 0, 0, 0.15);\n",
              "      filter: drop-shadow(0px 1px 2px rgba(0, 0, 0, 0.3));\n",
              "      fill: #FFFFFF;\n",
              "    }\n",
              "  </style>\n",
              "\n",
              "    <script>\n",
              "      const buttonEl =\n",
              "        document.querySelector('#df-069d59d2-faa9-449c-85bc-5d6564a3abe6 button.colab-df-convert');\n",
              "      buttonEl.style.display =\n",
              "        google.colab.kernel.accessAllowed ? 'block' : 'none';\n",
              "\n",
              "      async function convertToInteractive(key) {\n",
              "        const element = document.querySelector('#df-069d59d2-faa9-449c-85bc-5d6564a3abe6');\n",
              "        const dataTable =\n",
              "          await google.colab.kernel.invokeFunction('convertToInteractive',\n",
              "                                                    [key], {});\n",
              "        if (!dataTable) return;\n",
              "\n",
              "        const docLinkHtml = 'Like what you see? Visit the ' +\n",
              "          '<a target=\"_blank\" href=https://colab.research.google.com/notebooks/data_table.ipynb>data table notebook</a>'\n",
              "          + ' to learn more about interactive tables.';\n",
              "        element.innerHTML = '';\n",
              "        dataTable['output_type'] = 'display_data';\n",
              "        await google.colab.output.renderOutput(dataTable, element);\n",
              "        const docLink = document.createElement('div');\n",
              "        docLink.innerHTML = docLinkHtml;\n",
              "        element.appendChild(docLink);\n",
              "      }\n",
              "    </script>\n",
              "  </div>\n",
              "\n",
              "\n",
              "<div id=\"df-cd7d42cc-b9bf-4a33-af03-62b6401a9288\">\n",
              "  <button class=\"colab-df-quickchart\" onclick=\"quickchart('df-cd7d42cc-b9bf-4a33-af03-62b6401a9288')\"\n",
              "            title=\"Suggest charts\"\n",
              "            style=\"display:none;\">\n",
              "\n",
              "<svg xmlns=\"http://www.w3.org/2000/svg\" height=\"24px\"viewBox=\"0 0 24 24\"\n",
              "     width=\"24px\">\n",
              "    <g>\n",
              "        <path d=\"M19 3H5c-1.1 0-2 .9-2 2v14c0 1.1.9 2 2 2h14c1.1 0 2-.9 2-2V5c0-1.1-.9-2-2-2zM9 17H7v-7h2v7zm4 0h-2V7h2v10zm4 0h-2v-4h2v4z\"/>\n",
              "    </g>\n",
              "</svg>\n",
              "  </button>\n",
              "\n",
              "<style>\n",
              "  .colab-df-quickchart {\n",
              "      --bg-color: #E8F0FE;\n",
              "      --fill-color: #1967D2;\n",
              "      --hover-bg-color: #E2EBFA;\n",
              "      --hover-fill-color: #174EA6;\n",
              "      --disabled-fill-color: #AAA;\n",
              "      --disabled-bg-color: #DDD;\n",
              "  }\n",
              "\n",
              "  [theme=dark] .colab-df-quickchart {\n",
              "      --bg-color: #3B4455;\n",
              "      --fill-color: #D2E3FC;\n",
              "      --hover-bg-color: #434B5C;\n",
              "      --hover-fill-color: #FFFFFF;\n",
              "      --disabled-bg-color: #3B4455;\n",
              "      --disabled-fill-color: #666;\n",
              "  }\n",
              "\n",
              "  .colab-df-quickchart {\n",
              "    background-color: var(--bg-color);\n",
              "    border: none;\n",
              "    border-radius: 50%;\n",
              "    cursor: pointer;\n",
              "    display: none;\n",
              "    fill: var(--fill-color);\n",
              "    height: 32px;\n",
              "    padding: 0;\n",
              "    width: 32px;\n",
              "  }\n",
              "\n",
              "  .colab-df-quickchart:hover {\n",
              "    background-color: var(--hover-bg-color);\n",
              "    box-shadow: 0 1px 2px rgba(60, 64, 67, 0.3), 0 1px 3px 1px rgba(60, 64, 67, 0.15);\n",
              "    fill: var(--button-hover-fill-color);\n",
              "  }\n",
              "\n",
              "  .colab-df-quickchart-complete:disabled,\n",
              "  .colab-df-quickchart-complete:disabled:hover {\n",
              "    background-color: var(--disabled-bg-color);\n",
              "    fill: var(--disabled-fill-color);\n",
              "    box-shadow: none;\n",
              "  }\n",
              "\n",
              "  .colab-df-spinner {\n",
              "    border: 2px solid var(--fill-color);\n",
              "    border-color: transparent;\n",
              "    border-bottom-color: var(--fill-color);\n",
              "    animation:\n",
              "      spin 1s steps(1) infinite;\n",
              "  }\n",
              "\n",
              "  @keyframes spin {\n",
              "    0% {\n",
              "      border-color: transparent;\n",
              "      border-bottom-color: var(--fill-color);\n",
              "      border-left-color: var(--fill-color);\n",
              "    }\n",
              "    20% {\n",
              "      border-color: transparent;\n",
              "      border-left-color: var(--fill-color);\n",
              "      border-top-color: var(--fill-color);\n",
              "    }\n",
              "    30% {\n",
              "      border-color: transparent;\n",
              "      border-left-color: var(--fill-color);\n",
              "      border-top-color: var(--fill-color);\n",
              "      border-right-color: var(--fill-color);\n",
              "    }\n",
              "    40% {\n",
              "      border-color: transparent;\n",
              "      border-right-color: var(--fill-color);\n",
              "      border-top-color: var(--fill-color);\n",
              "    }\n",
              "    60% {\n",
              "      border-color: transparent;\n",
              "      border-right-color: var(--fill-color);\n",
              "    }\n",
              "    80% {\n",
              "      border-color: transparent;\n",
              "      border-right-color: var(--fill-color);\n",
              "      border-bottom-color: var(--fill-color);\n",
              "    }\n",
              "    90% {\n",
              "      border-color: transparent;\n",
              "      border-bottom-color: var(--fill-color);\n",
              "    }\n",
              "  }\n",
              "</style>\n",
              "\n",
              "  <script>\n",
              "    async function quickchart(key) {\n",
              "      const quickchartButtonEl =\n",
              "        document.querySelector('#' + key + ' button');\n",
              "      quickchartButtonEl.disabled = true;  // To prevent multiple clicks.\n",
              "      quickchartButtonEl.classList.add('colab-df-spinner');\n",
              "      try {\n",
              "        const charts = await google.colab.kernel.invokeFunction(\n",
              "            'suggestCharts', [key], {});\n",
              "      } catch (error) {\n",
              "        console.error('Error during call to suggestCharts:', error);\n",
              "      }\n",
              "      quickchartButtonEl.classList.remove('colab-df-spinner');\n",
              "      quickchartButtonEl.classList.add('colab-df-quickchart-complete');\n",
              "    }\n",
              "    (() => {\n",
              "      let quickchartButtonEl =\n",
              "        document.querySelector('#df-cd7d42cc-b9bf-4a33-af03-62b6401a9288 button');\n",
              "      quickchartButtonEl.style.display =\n",
              "        google.colab.kernel.accessAllowed ? 'block' : 'none';\n",
              "    })();\n",
              "  </script>\n",
              "</div>\n",
              "\n",
              "    </div>\n",
              "  </div>\n"
            ],
            "application/vnd.google.colaboratory.intrinsic+json": {
              "type": "dataframe",
              "variable_name": "df",
              "summary": "{\n  \"name\": \"df\",\n  \"rows\": 6695,\n  \"fields\": [\n    {\n      \"column\": \"primary_label\",\n      \"properties\": {\n        \"dtype\": \"category\",\n        \"num_unique_values\": 198,\n        \"samples\": [\n          \"luebus1\",\n          \"whbtit5\",\n          \"blaplo1\"\n        ],\n        \"semantic_type\": \"\",\n        \"description\": \"\"\n      }\n    },\n    {\n      \"column\": \"type\",\n      \"properties\": {\n        \"dtype\": \"category\",\n        \"num_unique_values\": 4,\n        \"samples\": [\n          \"both\",\n          \"blank\",\n          \"call\"\n        ],\n        \"semantic_type\": \"\",\n        \"description\": \"\"\n      }\n    },\n    {\n      \"column\": \"latitude\",\n      \"properties\": {\n        \"dtype\": \"number\",\n        \"std\": 22.555738051372614,\n        \"min\": -38.0051,\n        \"max\": 69.9458,\n        \"num_unique_values\": 2656,\n        \"samples\": [\n          -28.1661,\n          5.7492,\n          54.5592\n        ],\n        \"semantic_type\": \"\",\n        \"description\": \"\"\n      }\n    },\n    {\n      \"column\": \"longitude\",\n      \"properties\": {\n        \"dtype\": \"number\",\n        \"std\": 26.269905586058698,\n        \"min\": -155.3579,\n        \"max\": 153.5512,\n        \"num_unique_values\": 2671,\n        \"samples\": [\n          -15.788,\n          25.3111,\n          -16.5637\n        ],\n        \"semantic_type\": \"\",\n        \"description\": \"\"\n      }\n    },\n    {\n      \"column\": \"scientific_name\",\n      \"properties\": {\n        \"dtype\": \"category\",\n        \"num_unique_values\": 198,\n        \"samples\": [\n          \"Laniarius luehderi\",\n          \"Melaniparus albiventris\",\n          \"Vanellus armatus\"\n        ],\n        \"semantic_type\": \"\",\n        \"description\": \"\"\n      }\n    },\n    {\n      \"column\": \"common_name\",\n      \"properties\": {\n        \"dtype\": \"category\",\n        \"num_unique_values\": 198,\n        \"samples\": [\n          \"L\\u00fchder's Bushshrike\",\n          \"White-bellied Tit\",\n          \"Blacksmith Lapwing\"\n        ],\n        \"semantic_type\": \"\",\n        \"description\": \"\"\n      }\n    },\n    {\n      \"column\": \"rating\",\n      \"properties\": {\n        \"dtype\": \"number\",\n        \"std\": 0.9104411400435639,\n        \"min\": 0.0,\n        \"max\": 5.0,\n        \"num_unique_values\": 11,\n        \"samples\": [\n          0.0,\n          3.0,\n          1.0\n        ],\n        \"semantic_type\": \"\",\n        \"description\": \"\"\n      }\n    },\n    {\n      \"column\": \"file_name\",\n      \"properties\": {\n        \"dtype\": \"string\",\n        \"num_unique_values\": 6695,\n        \"samples\": [\n          \"wookin1/XC213653.ogg\",\n          \"gnhsun1/XC262778.ogg\",\n          \"gargan/XC318216.ogg\"\n        ],\n        \"semantic_type\": \"\",\n        \"description\": \"\"\n      }\n    },\n    {\n      \"column\": \"duration\",\n      \"properties\": {\n        \"dtype\": \"number\",\n        \"std\": 43.61233055372197,\n        \"min\": 0.548,\n        \"max\": 915.816,\n        \"num_unique_values\": 4334,\n        \"samples\": [\n          15.384,\n          62.0408125,\n          9.691\n        ],\n        \"semantic_type\": \"\",\n        \"description\": \"\"\n      }\n    },\n    {\n      \"column\": \"country\",\n      \"properties\": {\n        \"dtype\": \"category\",\n        \"num_unique_values\": 112,\n        \"samples\": [\n          \"CV\",\n          \"ID\",\n          \"UG\"\n        ],\n        \"semantic_type\": \"\",\n        \"description\": \"\"\n      }\n    },\n    {\n      \"column\": \"continent\",\n      \"properties\": {\n        \"dtype\": \"category\",\n        \"num_unique_values\": 6,\n        \"samples\": [\n          \"AF\",\n          \"UNKNOWN\",\n          \"SA\"\n        ],\n        \"semantic_type\": \"\",\n        \"description\": \"\"\n      }\n    },\n    {\n      \"column\": \"filename_npy\",\n      \"properties\": {\n        \"dtype\": \"string\",\n        \"num_unique_values\": 6695,\n        \"samples\": [\n          \"wookin1/XC213653.npy\",\n          \"gnhsun1/XC262778.npy\",\n          \"gargan/XC318216.npy\"\n        ],\n        \"semantic_type\": \"\",\n        \"description\": \"\"\n      }\n    },\n    {\n      \"column\": \"set\",\n      \"properties\": {\n        \"dtype\": \"category\",\n        \"num_unique_values\": 2,\n        \"samples\": [\n          \"val\",\n          \"train\"\n        ],\n        \"semantic_type\": \"\",\n        \"description\": \"\"\n      }\n    }\n  ]\n}"
            }
          },
          "metadata": {},
          "execution_count": 13
        }
      ]
    },
    {
      "cell_type": "code",
      "source": [
        "# prompt: code to select update the df with the csv of top 3 most repeated primary label only from the above loaded csv\n",
        "\n",
        "# Count occurrences of each primary label\n",
        "label_counts = df['primary_label'].value_counts()\n",
        "\n",
        "# Get the top 3 most frequent labels\n",
        "top_3_labels = label_counts.nlargest(3).index\n",
        "\n",
        "# Create a boolean mask to select rows with top 3 labels\n",
        "mask = df['primary_label'].isin(top_3_labels)\n",
        "\n",
        "# Update the DataFrame with only the top 3 labels\n",
        "df = df[mask]"
      ],
      "metadata": {
        "id": "MCRA8NUK42RJ"
      },
      "execution_count": null,
      "outputs": []
    },
    {
      "cell_type": "code",
      "source": [
        "df['primary_label'].nunique()"
      ],
      "metadata": {
        "colab": {
          "base_uri": "https://localhost:8080/"
        },
        "id": "emWdc2XyTdo-",
        "outputId": "2ac93b85-3f4b-403d-b24d-611854aea710"
      },
      "execution_count": null,
      "outputs": [
        {
          "output_type": "execute_result",
          "data": {
            "text/plain": [
              "3"
            ]
          },
          "metadata": {},
          "execution_count": 15
        }
      ]
    },
    {
      "cell_type": "markdown",
      "source": [
        "#Self Defined Class Methods For Feature Extraction"
      ],
      "metadata": {
        "id": "KbUBs2vWh9qj"
      }
    },
    {
      "cell_type": "code",
      "source": [
        "class Framed:\n",
        "\n",
        "  def __init__(self,\n",
        "               dataframe,\n",
        "               sr=16000,\n",
        "               window_size_s=8.0,\n",
        "               hop_size_s=4,\n",
        "               do_augment=True\n",
        "               ):\n",
        "    \"\"\"\n",
        "    Instantiate the Framed class, create train and val dfs.\n",
        "\n",
        "    The extract_framed() method is automatically called when the class is\n",
        "    instantiated to extract the framed audios and add to the train and val dfs.\n",
        "\n",
        "    Parameters:\n",
        "      dataframe (pd.DataFrame): DataFrame containing audio file information.\n",
        "      sr (int): Sample rate of the audio files.\n",
        "      window_size_s (float): Window size in seconds for framing the audio.\n",
        "      hop_size_s (float): Hop size in seconds for framing the audio.\n",
        "      augment (bool): Whether to apply augmentation to the audio.\n",
        "    \"\"\"\n",
        "    # instantiate class\n",
        "    self.sr = sr\n",
        "    self.frame_length = int(window_size_s * sr)\n",
        "    self.frame_step = int(hop_size_s * sr)\n",
        "\n",
        "    # split the dataframe to train and val by calling the _split_train_val() method\n",
        "    self.train_df, self.val_df = self._split_train_val(dataframe)\n",
        "\n",
        "    # add framed audios to train and val dfs by calling the extract_framed() method\n",
        "    # only training data could be augmented, validation is never augmented\n",
        "    self.extract_framed(self.train_df, augment=do_augment)\n",
        "    self.extract_framed(self.val_df, augment=False)\n",
        "\n",
        "\n",
        "  ########################################\n",
        "  # _split_train_val function is called when the class is instantiated\n",
        "  ########################################\n",
        "  def _split_train_val(self,\n",
        "                       dataframe):\n",
        "    \"\"\"\n",
        "    Split the dataframe to train and val based on predefined 'set' column.\n",
        "\n",
        "    Parameters:\n",
        "      dataframe (pd.DataFrame): DataFrame containing audio file information.\n",
        "\n",
        "    Returns:\n",
        "      tuple: Tuple of train and val dataframes containing audio file information.\n",
        "    \"\"\"\n",
        "    # extract the train set from dataframe & shuffle the train set\n",
        "    train_df = dataframe[dataframe['set'] == 'train']\n",
        "    train_df = train_df.sample(frac=1, random_state=1234)\n",
        "\n",
        "    # extract the val set from dataframe & shuffle the val set\n",
        "    val_df = dataframe[dataframe['set'] == 'val']\n",
        "    val_df = val_df.sample(frac=1, random_state=1234)\n",
        "\n",
        "    return train_df, val_df\n",
        "\n",
        "\n",
        "  ########################################\n",
        "  # augment function is called by extract_framed function if do_augment=True\n",
        "  ########################################\n",
        "  def augment(self, audio_array):\n",
        "    \"\"\"\n",
        "    Apply random augmentation if needed.\n",
        "\n",
        "    Parameters:\n",
        "      audio_array (npy): Training audio array.\n",
        "\n",
        "    Returns:\n",
        "      audio_array (npy): Augmented audio array.\n",
        "    \"\"\"\n",
        "    choice = np.random.choice(['original','noise','shift','pitch'])\n",
        "\n",
        "    # if the audio is short (less than 7 seconds in duration), stretch it first\n",
        "    if len(audio_array) <= 7*self.sr:\n",
        "      audio_array = librosa.effects.time_stretch(y=audio_array, rate=np.random.uniform(low=0, high=1))\n",
        "    # if the audio is not short, apply a random augmentation at random magnitude\n",
        "    elif choice == 'noise':\n",
        "      noise_amp = np.random.normal(loc=0.0, scale=0.05)*np.amax(audio_array)\n",
        "      audio_array = audio_array + noise_amp*np.random.normal(size=audio_array.shape[0])\n",
        "    elif choice == 'shift':\n",
        "      shift_range = int(np.random.uniform(low=-5, high=5)*1000)\n",
        "      audio_array = np.roll(audio_array, shift_range)\n",
        "    elif choice == 'pitch':\n",
        "      audio_array = librosa.effects.pitch_shift(y=audio_array, sr=self.sr, n_steps=np.random.uniform(low=0, high=1))\n",
        "    else:\n",
        "      audio_array = audio_array\n",
        "\n",
        "    return audio_array\n",
        "\n",
        "\n",
        "  ########################################\n",
        "  # extract_framed function is called when the class is instantiated to extract the framed audios\n",
        "  ########################################\n",
        "  def extract_framed(self, dataframe, augment):\n",
        "    \"\"\"\n",
        "    Load audio files from the given DataFrame, extract framed audios,\n",
        "    and add the framed audios to the given DataFrame\n",
        "\n",
        "    Parameters:\n",
        "      dataframe (pd.DataFrame): DataFrame containing audio file information.\n",
        "      augment (bool): Whether to apply augmentation to the audio.\n",
        "    \"\"\"\n",
        "    # load audios\n",
        "    audios = []\n",
        "    for filename in dataframe['filename_npy']:\n",
        "      audio = np.load('/content/drive/MyDrive/modifiedbird/train_npy/' + filename)\n",
        "      # if augment is true, call the augment function to apply augmentation to the audio\n",
        "      if augment:\n",
        "        audio = self.augment(audio)\n",
        "      audios.append(audio)\n",
        "    assert len(audios) == len(dataframe)\n",
        "\n",
        "    # extract framed audios\n",
        "    framed = []\n",
        "    for audio in audios:\n",
        "      framed_audio = tf.signal.frame(audio, self.frame_length, self.frame_step, pad_end=False)\n",
        "      framed.append(framed_audio)\n",
        "    assert len(framed) == len(audios)\n",
        "\n",
        "    # add framed audios to df\n",
        "    dataframe['framed'] = framed"
      ],
      "metadata": {
        "id": "9s-Os0o2iAKT"
      },
      "execution_count": null,
      "outputs": []
    },
    {
      "cell_type": "code",
      "source": [
        "len(df)"
      ],
      "metadata": {
        "id": "q1EmkMXRiUeK",
        "colab": {
          "base_uri": "https://localhost:8080/"
        },
        "outputId": "32abf569-cfc2-47d9-84f0-f9775f3746dd"
      },
      "execution_count": null,
      "outputs": [
        {
          "output_type": "execute_result",
          "data": {
            "text/plain": [
              "150"
            ]
          },
          "metadata": {},
          "execution_count": 17
        }
      ]
    },
    {
      "cell_type": "markdown",
      "source": [
        "#Extract train and val dfs with framed audios"
      ],
      "metadata": {
        "id": "GkgMf5MFifoq"
      }
    },
    {
      "cell_type": "code",
      "source": [
        "filtered = df[df['duration'] < 10.0]\n",
        "\n",
        "filtered"
      ],
      "metadata": {
        "id": "710dVo_KiXjy",
        "colab": {
          "base_uri": "https://localhost:8080/",
          "height": 1000
        },
        "outputId": "c6b232f3-c089-4bb4-b540-fe3b7a3208a5"
      },
      "execution_count": null,
      "outputs": [
        {
          "output_type": "execute_result",
          "data": {
            "text/plain": [
              "     primary_label   type  latitude  longitude           scientific_name  \\\n",
              "2775       sccsun2   call    9.5811    -5.3874  Chalcomitra senegalensis   \n",
              "2779       sccsun2  blank   -1.8495    36.8708  Chalcomitra senegalensis   \n",
              "2785       sccsun2   call   -2.9858    37.5975  Chalcomitra senegalensis   \n",
              "2823       reccuc1   song   -2.9858    37.5975        Cuculus solitarius   \n",
              "2825       reccuc1   song   -2.8145    37.4113        Cuculus solitarius   \n",
              "2833       reccuc1   song   -2.9858    37.5975        Cuculus solitarius   \n",
              "2851       reccuc1   song   -0.6306    34.2962        Cuculus solitarius   \n",
              "2852       reccuc1   song    1.7112    31.5421        Cuculus solitarius   \n",
              "2853       reccuc1   song    0.4830    30.3890        Cuculus solitarius   \n",
              "2864        egygoo   call   50.4631     3.6638      Alopochen aegyptiaca   \n",
              "2872        egygoo   call   44.9593    10.6593      Alopochen aegyptiaca   \n",
              "2878        egygoo   call   52.2703    13.7253      Alopochen aegyptiaca   \n",
              "2881        egygoo   call   51.9650     5.1743      Alopochen aegyptiaca   \n",
              "2892        egygoo   call   46.9808     7.0354      Alopochen aegyptiaca   \n",
              "2903        egygoo   call   52.3690     4.8970      Alopochen aegyptiaca   \n",
              "2905        egygoo   call   -0.3601    36.9006      Alopochen aegyptiaca   \n",
              "2906        egygoo   call   51.4213     5.4732      Alopochen aegyptiaca   \n",
              "6352        egygoo   call   51.9086     4.5021      Alopochen aegyptiaca   \n",
              "6354        egygoo   call   33.6375  -117.6410      Alopochen aegyptiaca   \n",
              "\n",
              "                  common_name  rating             file_name  duration country  \\\n",
              "2775  Scarlet-chested Sunbird     5.0  sccsun2/XC380521.ogg  7.157563      CI   \n",
              "2779  Scarlet-chested Sunbird     5.0  sccsun2/XC753434.ogg  5.799188      KE   \n",
              "2785  Scarlet-chested Sunbird     5.0  sccsun2/XC645219.ogg  3.144000      KE   \n",
              "2823       Red-chested Cuckoo     5.0  reccuc1/XC607153.ogg  9.744000      KE   \n",
              "2825       Red-chested Cuckoo     5.0  reccuc1/XC397760.ogg  5.276000      KE   \n",
              "2833       Red-chested Cuckoo     5.0  reccuc1/XC607234.ogg  8.376000      KE   \n",
              "2851       Red-chested Cuckoo     4.0  reccuc1/XC537203.ogg  8.071875      KE   \n",
              "2852       Red-chested Cuckoo     4.0  reccuc1/XC430359.ogg  4.780000      UG   \n",
              "2853       Red-chested Cuckoo     4.0  reccuc1/XC263039.ogg  7.601625      UG   \n",
              "2864           Egyptian Goose     5.0   egygoo/XC585946.ogg  6.582000      BE   \n",
              "2872           Egyptian Goose     5.0   egygoo/XC590302.ogg  7.784500      IT   \n",
              "2878           Egyptian Goose     5.0   egygoo/XC402520.ogg  5.642437      DE   \n",
              "2881           Egyptian Goose     5.0   egygoo/XC546108.ogg  9.586000      NL   \n",
              "2892           Egyptian Goose     4.0   egygoo/XC298003.ogg  8.520000      CH   \n",
              "2903           Egyptian Goose     4.0   egygoo/XC498471.ogg  8.098000      NL   \n",
              "2905           Egyptian Goose     4.0    egygoo/XC56501.ogg  7.000813      KE   \n",
              "2906           Egyptian Goose     3.5   egygoo/XC538134.ogg  6.269375      NL   \n",
              "6352           Egyptian Goose     4.5   egygoo/XC113364.ogg  8.777188      NL   \n",
              "6354           Egyptian Goose     5.0   egygoo/XC212888.ogg  2.586125      US   \n",
              "\n",
              "     continent          filename_npy    set  \n",
              "2775        AF  sccsun2/XC380521.npy  train  \n",
              "2779        AF  sccsun2/XC753434.npy  train  \n",
              "2785        AF  sccsun2/XC645219.npy  train  \n",
              "2823        AF  reccuc1/XC607153.npy  train  \n",
              "2825        AF  reccuc1/XC397760.npy  train  \n",
              "2833        AF  reccuc1/XC607234.npy  train  \n",
              "2851        AF  reccuc1/XC537203.npy  train  \n",
              "2852        AF  reccuc1/XC430359.npy  train  \n",
              "2853        AF  reccuc1/XC263039.npy  train  \n",
              "2864        EU   egygoo/XC585946.npy  train  \n",
              "2872        EU   egygoo/XC590302.npy  train  \n",
              "2878        EU   egygoo/XC402520.npy  train  \n",
              "2881        EU   egygoo/XC546108.npy  train  \n",
              "2892        EU   egygoo/XC298003.npy  train  \n",
              "2903        EU   egygoo/XC498471.npy  train  \n",
              "2905        AF    egygoo/XC56501.npy  train  \n",
              "2906        EU   egygoo/XC538134.npy  train  \n",
              "6352        EU   egygoo/XC113364.npy    val  \n",
              "6354       NaN   egygoo/XC212888.npy    val  "
            ],
            "text/html": [
              "\n",
              "  <div id=\"df-8778e804-7306-4d5e-8340-eb1fad2340ea\" class=\"colab-df-container\">\n",
              "    <div>\n",
              "<style scoped>\n",
              "    .dataframe tbody tr th:only-of-type {\n",
              "        vertical-align: middle;\n",
              "    }\n",
              "\n",
              "    .dataframe tbody tr th {\n",
              "        vertical-align: top;\n",
              "    }\n",
              "\n",
              "    .dataframe thead th {\n",
              "        text-align: right;\n",
              "    }\n",
              "</style>\n",
              "<table border=\"1\" class=\"dataframe\">\n",
              "  <thead>\n",
              "    <tr style=\"text-align: right;\">\n",
              "      <th></th>\n",
              "      <th>primary_label</th>\n",
              "      <th>type</th>\n",
              "      <th>latitude</th>\n",
              "      <th>longitude</th>\n",
              "      <th>scientific_name</th>\n",
              "      <th>common_name</th>\n",
              "      <th>rating</th>\n",
              "      <th>file_name</th>\n",
              "      <th>duration</th>\n",
              "      <th>country</th>\n",
              "      <th>continent</th>\n",
              "      <th>filename_npy</th>\n",
              "      <th>set</th>\n",
              "    </tr>\n",
              "  </thead>\n",
              "  <tbody>\n",
              "    <tr>\n",
              "      <th>2775</th>\n",
              "      <td>sccsun2</td>\n",
              "      <td>call</td>\n",
              "      <td>9.5811</td>\n",
              "      <td>-5.3874</td>\n",
              "      <td>Chalcomitra senegalensis</td>\n",
              "      <td>Scarlet-chested Sunbird</td>\n",
              "      <td>5.0</td>\n",
              "      <td>sccsun2/XC380521.ogg</td>\n",
              "      <td>7.157563</td>\n",
              "      <td>CI</td>\n",
              "      <td>AF</td>\n",
              "      <td>sccsun2/XC380521.npy</td>\n",
              "      <td>train</td>\n",
              "    </tr>\n",
              "    <tr>\n",
              "      <th>2779</th>\n",
              "      <td>sccsun2</td>\n",
              "      <td>blank</td>\n",
              "      <td>-1.8495</td>\n",
              "      <td>36.8708</td>\n",
              "      <td>Chalcomitra senegalensis</td>\n",
              "      <td>Scarlet-chested Sunbird</td>\n",
              "      <td>5.0</td>\n",
              "      <td>sccsun2/XC753434.ogg</td>\n",
              "      <td>5.799188</td>\n",
              "      <td>KE</td>\n",
              "      <td>AF</td>\n",
              "      <td>sccsun2/XC753434.npy</td>\n",
              "      <td>train</td>\n",
              "    </tr>\n",
              "    <tr>\n",
              "      <th>2785</th>\n",
              "      <td>sccsun2</td>\n",
              "      <td>call</td>\n",
              "      <td>-2.9858</td>\n",
              "      <td>37.5975</td>\n",
              "      <td>Chalcomitra senegalensis</td>\n",
              "      <td>Scarlet-chested Sunbird</td>\n",
              "      <td>5.0</td>\n",
              "      <td>sccsun2/XC645219.ogg</td>\n",
              "      <td>3.144000</td>\n",
              "      <td>KE</td>\n",
              "      <td>AF</td>\n",
              "      <td>sccsun2/XC645219.npy</td>\n",
              "      <td>train</td>\n",
              "    </tr>\n",
              "    <tr>\n",
              "      <th>2823</th>\n",
              "      <td>reccuc1</td>\n",
              "      <td>song</td>\n",
              "      <td>-2.9858</td>\n",
              "      <td>37.5975</td>\n",
              "      <td>Cuculus solitarius</td>\n",
              "      <td>Red-chested Cuckoo</td>\n",
              "      <td>5.0</td>\n",
              "      <td>reccuc1/XC607153.ogg</td>\n",
              "      <td>9.744000</td>\n",
              "      <td>KE</td>\n",
              "      <td>AF</td>\n",
              "      <td>reccuc1/XC607153.npy</td>\n",
              "      <td>train</td>\n",
              "    </tr>\n",
              "    <tr>\n",
              "      <th>2825</th>\n",
              "      <td>reccuc1</td>\n",
              "      <td>song</td>\n",
              "      <td>-2.8145</td>\n",
              "      <td>37.4113</td>\n",
              "      <td>Cuculus solitarius</td>\n",
              "      <td>Red-chested Cuckoo</td>\n",
              "      <td>5.0</td>\n",
              "      <td>reccuc1/XC397760.ogg</td>\n",
              "      <td>5.276000</td>\n",
              "      <td>KE</td>\n",
              "      <td>AF</td>\n",
              "      <td>reccuc1/XC397760.npy</td>\n",
              "      <td>train</td>\n",
              "    </tr>\n",
              "    <tr>\n",
              "      <th>2833</th>\n",
              "      <td>reccuc1</td>\n",
              "      <td>song</td>\n",
              "      <td>-2.9858</td>\n",
              "      <td>37.5975</td>\n",
              "      <td>Cuculus solitarius</td>\n",
              "      <td>Red-chested Cuckoo</td>\n",
              "      <td>5.0</td>\n",
              "      <td>reccuc1/XC607234.ogg</td>\n",
              "      <td>8.376000</td>\n",
              "      <td>KE</td>\n",
              "      <td>AF</td>\n",
              "      <td>reccuc1/XC607234.npy</td>\n",
              "      <td>train</td>\n",
              "    </tr>\n",
              "    <tr>\n",
              "      <th>2851</th>\n",
              "      <td>reccuc1</td>\n",
              "      <td>song</td>\n",
              "      <td>-0.6306</td>\n",
              "      <td>34.2962</td>\n",
              "      <td>Cuculus solitarius</td>\n",
              "      <td>Red-chested Cuckoo</td>\n",
              "      <td>4.0</td>\n",
              "      <td>reccuc1/XC537203.ogg</td>\n",
              "      <td>8.071875</td>\n",
              "      <td>KE</td>\n",
              "      <td>AF</td>\n",
              "      <td>reccuc1/XC537203.npy</td>\n",
              "      <td>train</td>\n",
              "    </tr>\n",
              "    <tr>\n",
              "      <th>2852</th>\n",
              "      <td>reccuc1</td>\n",
              "      <td>song</td>\n",
              "      <td>1.7112</td>\n",
              "      <td>31.5421</td>\n",
              "      <td>Cuculus solitarius</td>\n",
              "      <td>Red-chested Cuckoo</td>\n",
              "      <td>4.0</td>\n",
              "      <td>reccuc1/XC430359.ogg</td>\n",
              "      <td>4.780000</td>\n",
              "      <td>UG</td>\n",
              "      <td>AF</td>\n",
              "      <td>reccuc1/XC430359.npy</td>\n",
              "      <td>train</td>\n",
              "    </tr>\n",
              "    <tr>\n",
              "      <th>2853</th>\n",
              "      <td>reccuc1</td>\n",
              "      <td>song</td>\n",
              "      <td>0.4830</td>\n",
              "      <td>30.3890</td>\n",
              "      <td>Cuculus solitarius</td>\n",
              "      <td>Red-chested Cuckoo</td>\n",
              "      <td>4.0</td>\n",
              "      <td>reccuc1/XC263039.ogg</td>\n",
              "      <td>7.601625</td>\n",
              "      <td>UG</td>\n",
              "      <td>AF</td>\n",
              "      <td>reccuc1/XC263039.npy</td>\n",
              "      <td>train</td>\n",
              "    </tr>\n",
              "    <tr>\n",
              "      <th>2864</th>\n",
              "      <td>egygoo</td>\n",
              "      <td>call</td>\n",
              "      <td>50.4631</td>\n",
              "      <td>3.6638</td>\n",
              "      <td>Alopochen aegyptiaca</td>\n",
              "      <td>Egyptian Goose</td>\n",
              "      <td>5.0</td>\n",
              "      <td>egygoo/XC585946.ogg</td>\n",
              "      <td>6.582000</td>\n",
              "      <td>BE</td>\n",
              "      <td>EU</td>\n",
              "      <td>egygoo/XC585946.npy</td>\n",
              "      <td>train</td>\n",
              "    </tr>\n",
              "    <tr>\n",
              "      <th>2872</th>\n",
              "      <td>egygoo</td>\n",
              "      <td>call</td>\n",
              "      <td>44.9593</td>\n",
              "      <td>10.6593</td>\n",
              "      <td>Alopochen aegyptiaca</td>\n",
              "      <td>Egyptian Goose</td>\n",
              "      <td>5.0</td>\n",
              "      <td>egygoo/XC590302.ogg</td>\n",
              "      <td>7.784500</td>\n",
              "      <td>IT</td>\n",
              "      <td>EU</td>\n",
              "      <td>egygoo/XC590302.npy</td>\n",
              "      <td>train</td>\n",
              "    </tr>\n",
              "    <tr>\n",
              "      <th>2878</th>\n",
              "      <td>egygoo</td>\n",
              "      <td>call</td>\n",
              "      <td>52.2703</td>\n",
              "      <td>13.7253</td>\n",
              "      <td>Alopochen aegyptiaca</td>\n",
              "      <td>Egyptian Goose</td>\n",
              "      <td>5.0</td>\n",
              "      <td>egygoo/XC402520.ogg</td>\n",
              "      <td>5.642437</td>\n",
              "      <td>DE</td>\n",
              "      <td>EU</td>\n",
              "      <td>egygoo/XC402520.npy</td>\n",
              "      <td>train</td>\n",
              "    </tr>\n",
              "    <tr>\n",
              "      <th>2881</th>\n",
              "      <td>egygoo</td>\n",
              "      <td>call</td>\n",
              "      <td>51.9650</td>\n",
              "      <td>5.1743</td>\n",
              "      <td>Alopochen aegyptiaca</td>\n",
              "      <td>Egyptian Goose</td>\n",
              "      <td>5.0</td>\n",
              "      <td>egygoo/XC546108.ogg</td>\n",
              "      <td>9.586000</td>\n",
              "      <td>NL</td>\n",
              "      <td>EU</td>\n",
              "      <td>egygoo/XC546108.npy</td>\n",
              "      <td>train</td>\n",
              "    </tr>\n",
              "    <tr>\n",
              "      <th>2892</th>\n",
              "      <td>egygoo</td>\n",
              "      <td>call</td>\n",
              "      <td>46.9808</td>\n",
              "      <td>7.0354</td>\n",
              "      <td>Alopochen aegyptiaca</td>\n",
              "      <td>Egyptian Goose</td>\n",
              "      <td>4.0</td>\n",
              "      <td>egygoo/XC298003.ogg</td>\n",
              "      <td>8.520000</td>\n",
              "      <td>CH</td>\n",
              "      <td>EU</td>\n",
              "      <td>egygoo/XC298003.npy</td>\n",
              "      <td>train</td>\n",
              "    </tr>\n",
              "    <tr>\n",
              "      <th>2903</th>\n",
              "      <td>egygoo</td>\n",
              "      <td>call</td>\n",
              "      <td>52.3690</td>\n",
              "      <td>4.8970</td>\n",
              "      <td>Alopochen aegyptiaca</td>\n",
              "      <td>Egyptian Goose</td>\n",
              "      <td>4.0</td>\n",
              "      <td>egygoo/XC498471.ogg</td>\n",
              "      <td>8.098000</td>\n",
              "      <td>NL</td>\n",
              "      <td>EU</td>\n",
              "      <td>egygoo/XC498471.npy</td>\n",
              "      <td>train</td>\n",
              "    </tr>\n",
              "    <tr>\n",
              "      <th>2905</th>\n",
              "      <td>egygoo</td>\n",
              "      <td>call</td>\n",
              "      <td>-0.3601</td>\n",
              "      <td>36.9006</td>\n",
              "      <td>Alopochen aegyptiaca</td>\n",
              "      <td>Egyptian Goose</td>\n",
              "      <td>4.0</td>\n",
              "      <td>egygoo/XC56501.ogg</td>\n",
              "      <td>7.000813</td>\n",
              "      <td>KE</td>\n",
              "      <td>AF</td>\n",
              "      <td>egygoo/XC56501.npy</td>\n",
              "      <td>train</td>\n",
              "    </tr>\n",
              "    <tr>\n",
              "      <th>2906</th>\n",
              "      <td>egygoo</td>\n",
              "      <td>call</td>\n",
              "      <td>51.4213</td>\n",
              "      <td>5.4732</td>\n",
              "      <td>Alopochen aegyptiaca</td>\n",
              "      <td>Egyptian Goose</td>\n",
              "      <td>3.5</td>\n",
              "      <td>egygoo/XC538134.ogg</td>\n",
              "      <td>6.269375</td>\n",
              "      <td>NL</td>\n",
              "      <td>EU</td>\n",
              "      <td>egygoo/XC538134.npy</td>\n",
              "      <td>train</td>\n",
              "    </tr>\n",
              "    <tr>\n",
              "      <th>6352</th>\n",
              "      <td>egygoo</td>\n",
              "      <td>call</td>\n",
              "      <td>51.9086</td>\n",
              "      <td>4.5021</td>\n",
              "      <td>Alopochen aegyptiaca</td>\n",
              "      <td>Egyptian Goose</td>\n",
              "      <td>4.5</td>\n",
              "      <td>egygoo/XC113364.ogg</td>\n",
              "      <td>8.777188</td>\n",
              "      <td>NL</td>\n",
              "      <td>EU</td>\n",
              "      <td>egygoo/XC113364.npy</td>\n",
              "      <td>val</td>\n",
              "    </tr>\n",
              "    <tr>\n",
              "      <th>6354</th>\n",
              "      <td>egygoo</td>\n",
              "      <td>call</td>\n",
              "      <td>33.6375</td>\n",
              "      <td>-117.6410</td>\n",
              "      <td>Alopochen aegyptiaca</td>\n",
              "      <td>Egyptian Goose</td>\n",
              "      <td>5.0</td>\n",
              "      <td>egygoo/XC212888.ogg</td>\n",
              "      <td>2.586125</td>\n",
              "      <td>US</td>\n",
              "      <td>NaN</td>\n",
              "      <td>egygoo/XC212888.npy</td>\n",
              "      <td>val</td>\n",
              "    </tr>\n",
              "  </tbody>\n",
              "</table>\n",
              "</div>\n",
              "    <div class=\"colab-df-buttons\">\n",
              "\n",
              "  <div class=\"colab-df-container\">\n",
              "    <button class=\"colab-df-convert\" onclick=\"convertToInteractive('df-8778e804-7306-4d5e-8340-eb1fad2340ea')\"\n",
              "            title=\"Convert this dataframe to an interactive table.\"\n",
              "            style=\"display:none;\">\n",
              "\n",
              "  <svg xmlns=\"http://www.w3.org/2000/svg\" height=\"24px\" viewBox=\"0 -960 960 960\">\n",
              "    <path d=\"M120-120v-720h720v720H120Zm60-500h600v-160H180v160Zm220 220h160v-160H400v160Zm0 220h160v-160H400v160ZM180-400h160v-160H180v160Zm440 0h160v-160H620v160ZM180-180h160v-160H180v160Zm440 0h160v-160H620v160Z\"/>\n",
              "  </svg>\n",
              "    </button>\n",
              "\n",
              "  <style>\n",
              "    .colab-df-container {\n",
              "      display:flex;\n",
              "      gap: 12px;\n",
              "    }\n",
              "\n",
              "    .colab-df-convert {\n",
              "      background-color: #E8F0FE;\n",
              "      border: none;\n",
              "      border-radius: 50%;\n",
              "      cursor: pointer;\n",
              "      display: none;\n",
              "      fill: #1967D2;\n",
              "      height: 32px;\n",
              "      padding: 0 0 0 0;\n",
              "      width: 32px;\n",
              "    }\n",
              "\n",
              "    .colab-df-convert:hover {\n",
              "      background-color: #E2EBFA;\n",
              "      box-shadow: 0px 1px 2px rgba(60, 64, 67, 0.3), 0px 1px 3px 1px rgba(60, 64, 67, 0.15);\n",
              "      fill: #174EA6;\n",
              "    }\n",
              "\n",
              "    .colab-df-buttons div {\n",
              "      margin-bottom: 4px;\n",
              "    }\n",
              "\n",
              "    [theme=dark] .colab-df-convert {\n",
              "      background-color: #3B4455;\n",
              "      fill: #D2E3FC;\n",
              "    }\n",
              "\n",
              "    [theme=dark] .colab-df-convert:hover {\n",
              "      background-color: #434B5C;\n",
              "      box-shadow: 0px 1px 3px 1px rgba(0, 0, 0, 0.15);\n",
              "      filter: drop-shadow(0px 1px 2px rgba(0, 0, 0, 0.3));\n",
              "      fill: #FFFFFF;\n",
              "    }\n",
              "  </style>\n",
              "\n",
              "    <script>\n",
              "      const buttonEl =\n",
              "        document.querySelector('#df-8778e804-7306-4d5e-8340-eb1fad2340ea button.colab-df-convert');\n",
              "      buttonEl.style.display =\n",
              "        google.colab.kernel.accessAllowed ? 'block' : 'none';\n",
              "\n",
              "      async function convertToInteractive(key) {\n",
              "        const element = document.querySelector('#df-8778e804-7306-4d5e-8340-eb1fad2340ea');\n",
              "        const dataTable =\n",
              "          await google.colab.kernel.invokeFunction('convertToInteractive',\n",
              "                                                    [key], {});\n",
              "        if (!dataTable) return;\n",
              "\n",
              "        const docLinkHtml = 'Like what you see? Visit the ' +\n",
              "          '<a target=\"_blank\" href=https://colab.research.google.com/notebooks/data_table.ipynb>data table notebook</a>'\n",
              "          + ' to learn more about interactive tables.';\n",
              "        element.innerHTML = '';\n",
              "        dataTable['output_type'] = 'display_data';\n",
              "        await google.colab.output.renderOutput(dataTable, element);\n",
              "        const docLink = document.createElement('div');\n",
              "        docLink.innerHTML = docLinkHtml;\n",
              "        element.appendChild(docLink);\n",
              "      }\n",
              "    </script>\n",
              "  </div>\n",
              "\n",
              "\n",
              "<div id=\"df-90bd4fac-eb27-43bf-90d8-a81191c73eeb\">\n",
              "  <button class=\"colab-df-quickchart\" onclick=\"quickchart('df-90bd4fac-eb27-43bf-90d8-a81191c73eeb')\"\n",
              "            title=\"Suggest charts\"\n",
              "            style=\"display:none;\">\n",
              "\n",
              "<svg xmlns=\"http://www.w3.org/2000/svg\" height=\"24px\"viewBox=\"0 0 24 24\"\n",
              "     width=\"24px\">\n",
              "    <g>\n",
              "        <path d=\"M19 3H5c-1.1 0-2 .9-2 2v14c0 1.1.9 2 2 2h14c1.1 0 2-.9 2-2V5c0-1.1-.9-2-2-2zM9 17H7v-7h2v7zm4 0h-2V7h2v10zm4 0h-2v-4h2v4z\"/>\n",
              "    </g>\n",
              "</svg>\n",
              "  </button>\n",
              "\n",
              "<style>\n",
              "  .colab-df-quickchart {\n",
              "      --bg-color: #E8F0FE;\n",
              "      --fill-color: #1967D2;\n",
              "      --hover-bg-color: #E2EBFA;\n",
              "      --hover-fill-color: #174EA6;\n",
              "      --disabled-fill-color: #AAA;\n",
              "      --disabled-bg-color: #DDD;\n",
              "  }\n",
              "\n",
              "  [theme=dark] .colab-df-quickchart {\n",
              "      --bg-color: #3B4455;\n",
              "      --fill-color: #D2E3FC;\n",
              "      --hover-bg-color: #434B5C;\n",
              "      --hover-fill-color: #FFFFFF;\n",
              "      --disabled-bg-color: #3B4455;\n",
              "      --disabled-fill-color: #666;\n",
              "  }\n",
              "\n",
              "  .colab-df-quickchart {\n",
              "    background-color: var(--bg-color);\n",
              "    border: none;\n",
              "    border-radius: 50%;\n",
              "    cursor: pointer;\n",
              "    display: none;\n",
              "    fill: var(--fill-color);\n",
              "    height: 32px;\n",
              "    padding: 0;\n",
              "    width: 32px;\n",
              "  }\n",
              "\n",
              "  .colab-df-quickchart:hover {\n",
              "    background-color: var(--hover-bg-color);\n",
              "    box-shadow: 0 1px 2px rgba(60, 64, 67, 0.3), 0 1px 3px 1px rgba(60, 64, 67, 0.15);\n",
              "    fill: var(--button-hover-fill-color);\n",
              "  }\n",
              "\n",
              "  .colab-df-quickchart-complete:disabled,\n",
              "  .colab-df-quickchart-complete:disabled:hover {\n",
              "    background-color: var(--disabled-bg-color);\n",
              "    fill: var(--disabled-fill-color);\n",
              "    box-shadow: none;\n",
              "  }\n",
              "\n",
              "  .colab-df-spinner {\n",
              "    border: 2px solid var(--fill-color);\n",
              "    border-color: transparent;\n",
              "    border-bottom-color: var(--fill-color);\n",
              "    animation:\n",
              "      spin 1s steps(1) infinite;\n",
              "  }\n",
              "\n",
              "  @keyframes spin {\n",
              "    0% {\n",
              "      border-color: transparent;\n",
              "      border-bottom-color: var(--fill-color);\n",
              "      border-left-color: var(--fill-color);\n",
              "    }\n",
              "    20% {\n",
              "      border-color: transparent;\n",
              "      border-left-color: var(--fill-color);\n",
              "      border-top-color: var(--fill-color);\n",
              "    }\n",
              "    30% {\n",
              "      border-color: transparent;\n",
              "      border-left-color: var(--fill-color);\n",
              "      border-top-color: var(--fill-color);\n",
              "      border-right-color: var(--fill-color);\n",
              "    }\n",
              "    40% {\n",
              "      border-color: transparent;\n",
              "      border-right-color: var(--fill-color);\n",
              "      border-top-color: var(--fill-color);\n",
              "    }\n",
              "    60% {\n",
              "      border-color: transparent;\n",
              "      border-right-color: var(--fill-color);\n",
              "    }\n",
              "    80% {\n",
              "      border-color: transparent;\n",
              "      border-right-color: var(--fill-color);\n",
              "      border-bottom-color: var(--fill-color);\n",
              "    }\n",
              "    90% {\n",
              "      border-color: transparent;\n",
              "      border-bottom-color: var(--fill-color);\n",
              "    }\n",
              "  }\n",
              "</style>\n",
              "\n",
              "  <script>\n",
              "    async function quickchart(key) {\n",
              "      const quickchartButtonEl =\n",
              "        document.querySelector('#' + key + ' button');\n",
              "      quickchartButtonEl.disabled = true;  // To prevent multiple clicks.\n",
              "      quickchartButtonEl.classList.add('colab-df-spinner');\n",
              "      try {\n",
              "        const charts = await google.colab.kernel.invokeFunction(\n",
              "            'suggestCharts', [key], {});\n",
              "      } catch (error) {\n",
              "        console.error('Error during call to suggestCharts:', error);\n",
              "      }\n",
              "      quickchartButtonEl.classList.remove('colab-df-spinner');\n",
              "      quickchartButtonEl.classList.add('colab-df-quickchart-complete');\n",
              "    }\n",
              "    (() => {\n",
              "      let quickchartButtonEl =\n",
              "        document.querySelector('#df-90bd4fac-eb27-43bf-90d8-a81191c73eeb button');\n",
              "      quickchartButtonEl.style.display =\n",
              "        google.colab.kernel.accessAllowed ? 'block' : 'none';\n",
              "    })();\n",
              "  </script>\n",
              "</div>\n",
              "\n",
              "  <div id=\"id_ce92cfaa-c6fb-40cd-ad51-b3853fa37357\">\n",
              "    <style>\n",
              "      .colab-df-generate {\n",
              "        background-color: #E8F0FE;\n",
              "        border: none;\n",
              "        border-radius: 50%;\n",
              "        cursor: pointer;\n",
              "        display: none;\n",
              "        fill: #1967D2;\n",
              "        height: 32px;\n",
              "        padding: 0 0 0 0;\n",
              "        width: 32px;\n",
              "      }\n",
              "\n",
              "      .colab-df-generate:hover {\n",
              "        background-color: #E2EBFA;\n",
              "        box-shadow: 0px 1px 2px rgba(60, 64, 67, 0.3), 0px 1px 3px 1px rgba(60, 64, 67, 0.15);\n",
              "        fill: #174EA6;\n",
              "      }\n",
              "\n",
              "      [theme=dark] .colab-df-generate {\n",
              "        background-color: #3B4455;\n",
              "        fill: #D2E3FC;\n",
              "      }\n",
              "\n",
              "      [theme=dark] .colab-df-generate:hover {\n",
              "        background-color: #434B5C;\n",
              "        box-shadow: 0px 1px 3px 1px rgba(0, 0, 0, 0.15);\n",
              "        filter: drop-shadow(0px 1px 2px rgba(0, 0, 0, 0.3));\n",
              "        fill: #FFFFFF;\n",
              "      }\n",
              "    </style>\n",
              "    <button class=\"colab-df-generate\" onclick=\"generateWithVariable('filtered')\"\n",
              "            title=\"Generate code using this dataframe.\"\n",
              "            style=\"display:none;\">\n",
              "\n",
              "  <svg xmlns=\"http://www.w3.org/2000/svg\" height=\"24px\"viewBox=\"0 0 24 24\"\n",
              "       width=\"24px\">\n",
              "    <path d=\"M7,19H8.4L18.45,9,17,7.55,7,17.6ZM5,21V16.75L18.45,3.32a2,2,0,0,1,2.83,0l1.4,1.43a1.91,1.91,0,0,1,.58,1.4,1.91,1.91,0,0,1-.58,1.4L9.25,21ZM18.45,9,17,7.55Zm-12,3A5.31,5.31,0,0,0,4.9,8.1,5.31,5.31,0,0,0,1,6.5,5.31,5.31,0,0,0,4.9,4.9,5.31,5.31,0,0,0,6.5,1,5.31,5.31,0,0,0,8.1,4.9,5.31,5.31,0,0,0,12,6.5,5.46,5.46,0,0,0,6.5,12Z\"/>\n",
              "  </svg>\n",
              "    </button>\n",
              "    <script>\n",
              "      (() => {\n",
              "      const buttonEl =\n",
              "        document.querySelector('#id_ce92cfaa-c6fb-40cd-ad51-b3853fa37357 button.colab-df-generate');\n",
              "      buttonEl.style.display =\n",
              "        google.colab.kernel.accessAllowed ? 'block' : 'none';\n",
              "\n",
              "      buttonEl.onclick = () => {\n",
              "        google.colab.notebook.generateWithVariable('filtered');\n",
              "      }\n",
              "      })();\n",
              "    </script>\n",
              "  </div>\n",
              "\n",
              "    </div>\n",
              "  </div>\n"
            ],
            "application/vnd.google.colaboratory.intrinsic+json": {
              "type": "dataframe",
              "variable_name": "filtered",
              "summary": "{\n  \"name\": \"filtered\",\n  \"rows\": 19,\n  \"fields\": [\n    {\n      \"column\": \"primary_label\",\n      \"properties\": {\n        \"dtype\": \"category\",\n        \"num_unique_values\": 3,\n        \"samples\": [\n          \"sccsun2\",\n          \"reccuc1\",\n          \"egygoo\"\n        ],\n        \"semantic_type\": \"\",\n        \"description\": \"\"\n      }\n    },\n    {\n      \"column\": \"type\",\n      \"properties\": {\n        \"dtype\": \"category\",\n        \"num_unique_values\": 3,\n        \"samples\": [\n          \"call\",\n          \"blank\",\n          \"song\"\n        ],\n        \"semantic_type\": \"\",\n        \"description\": \"\"\n      }\n    },\n    {\n      \"column\": \"latitude\",\n      \"properties\": {\n        \"dtype\": \"number\",\n        \"std\": 25.472955585293803,\n        \"min\": -2.9858,\n        \"max\": 52.369,\n        \"num_unique_values\": 17,\n        \"samples\": [\n          9.5811,\n          -1.8495,\n          1.7112\n        ],\n        \"semantic_type\": \"\",\n        \"description\": \"\"\n      }\n    },\n    {\n      \"column\": \"longitude\",\n      \"properties\": {\n        \"dtype\": \"number\",\n        \"std\": 35.3081600158796,\n        \"min\": -117.641,\n        \"max\": 37.5975,\n        \"num_unique_values\": 17,\n        \"samples\": [\n          -5.3874,\n          36.8708,\n          31.5421\n        ],\n        \"semantic_type\": \"\",\n        \"description\": \"\"\n      }\n    },\n    {\n      \"column\": \"scientific_name\",\n      \"properties\": {\n        \"dtype\": \"category\",\n        \"num_unique_values\": 3,\n        \"samples\": [\n          \"Chalcomitra senegalensis\",\n          \"Cuculus solitarius\",\n          \"Alopochen aegyptiaca\"\n        ],\n        \"semantic_type\": \"\",\n        \"description\": \"\"\n      }\n    },\n    {\n      \"column\": \"common_name\",\n      \"properties\": {\n        \"dtype\": \"category\",\n        \"num_unique_values\": 3,\n        \"samples\": [\n          \"Scarlet-chested Sunbird\",\n          \"Red-chested Cuckoo\",\n          \"Egyptian Goose\"\n        ],\n        \"semantic_type\": \"\",\n        \"description\": \"\"\n      }\n    },\n    {\n      \"column\": \"rating\",\n      \"properties\": {\n        \"dtype\": \"number\",\n        \"std\": 0.5339360629309895,\n        \"min\": 3.5,\n        \"max\": 5.0,\n        \"num_unique_values\": 4,\n        \"samples\": [\n          4.0,\n          4.5,\n          5.0\n        ],\n        \"semantic_type\": \"\",\n        \"description\": \"\"\n      }\n    },\n    {\n      \"column\": \"file_name\",\n      \"properties\": {\n        \"dtype\": \"string\",\n        \"num_unique_values\": 19,\n        \"samples\": [\n          \"sccsun2/XC380521.ogg\",\n          \"reccuc1/XC607234.ogg\",\n          \"egygoo/XC402520.ogg\"\n        ],\n        \"semantic_type\": \"\",\n        \"description\": \"\"\n      }\n    },\n    {\n      \"column\": \"duration\",\n      \"properties\": {\n        \"dtype\": \"number\",\n        \"std\": 1.985018981170158,\n        \"min\": 2.586125,\n        \"max\": 9.744,\n        \"num_unique_values\": 19,\n        \"samples\": [\n          7.1575625,\n          8.376,\n          5.6424375\n        ],\n        \"semantic_type\": \"\",\n        \"description\": \"\"\n      }\n    },\n    {\n      \"column\": \"country\",\n      \"properties\": {\n        \"dtype\": \"category\",\n        \"num_unique_values\": 9,\n        \"samples\": [\n          \"CH\",\n          \"KE\",\n          \"DE\"\n        ],\n        \"semantic_type\": \"\",\n        \"description\": \"\"\n      }\n    },\n    {\n      \"column\": \"continent\",\n      \"properties\": {\n        \"dtype\": \"category\",\n        \"num_unique_values\": 2,\n        \"samples\": [\n          \"EU\",\n          \"AF\"\n        ],\n        \"semantic_type\": \"\",\n        \"description\": \"\"\n      }\n    },\n    {\n      \"column\": \"filename_npy\",\n      \"properties\": {\n        \"dtype\": \"string\",\n        \"num_unique_values\": 19,\n        \"samples\": [\n          \"sccsun2/XC380521.npy\",\n          \"reccuc1/XC607234.npy\"\n        ],\n        \"semantic_type\": \"\",\n        \"description\": \"\"\n      }\n    },\n    {\n      \"column\": \"set\",\n      \"properties\": {\n        \"dtype\": \"category\",\n        \"num_unique_values\": 2,\n        \"samples\": [\n          \"val\",\n          \"train\"\n        ],\n        \"semantic_type\": \"\",\n        \"description\": \"\"\n      }\n    }\n  ]\n}"
            }
          },
          "metadata": {},
          "execution_count": 18
        }
      ]
    },
    {
      "cell_type": "code",
      "source": [
        "df.drop(filtered.index, inplace=True)"
      ],
      "metadata": {
        "id": "OAyrIwMGijWa"
      },
      "execution_count": null,
      "outputs": []
    },
    {
      "cell_type": "code",
      "source": [
        "assert len(df[df['duration'] < 8.0]) == 0"
      ],
      "metadata": {
        "id": "RPXEpJbzimfK"
      },
      "execution_count": null,
      "outputs": []
    },
    {
      "cell_type": "code",
      "source": [
        "%%time\n",
        "\n",
        "framed = Framed(df,\n",
        "               window_size_s=8.0,\n",
        "               hop_size_s=4.0,\n",
        "               do_augment=True)"
      ],
      "metadata": {
        "id": "oPXSERvXio5S",
        "colab": {
          "base_uri": "https://localhost:8080/"
        },
        "outputId": "c1ed10ee-e28d-467d-c029-bf8458f03095"
      },
      "execution_count": null,
      "outputs": [
        {
          "output_type": "stream",
          "name": "stdout",
          "text": [
            "CPU times: user 18.1 s, sys: 1.72 s, total: 19.8 s\n",
            "Wall time: 1min 4s\n"
          ]
        }
      ]
    },
    {
      "cell_type": "markdown",
      "source": [
        "##View the train_df with framed audios for future use"
      ],
      "metadata": {
        "id": "UGj0jjqwivSC"
      }
    },
    {
      "cell_type": "code",
      "source": [
        "framed.train_df.head()"
      ],
      "metadata": {
        "id": "tIdjbfAhivCC",
        "colab": {
          "base_uri": "https://localhost:8080/",
          "height": 330
        },
        "outputId": "a09c5bed-dab1-4430-d8eb-83a17dde8a97"
      },
      "execution_count": null,
      "outputs": [
        {
          "output_type": "execute_result",
          "data": {
            "text/plain": [
              "     primary_label  type  latitude  longitude           scientific_name  \\\n",
              "2866        egygoo  call   52.2704    13.7252      Alopochen aegyptiaca   \n",
              "2867        egygoo  call   52.3616     7.0626      Alopochen aegyptiaca   \n",
              "2900        egygoo  call  -33.3155    26.1085      Alopochen aegyptiaca   \n",
              "2898        egygoo  call   25.7054   -80.1570      Alopochen aegyptiaca   \n",
              "2782       sccsun2  call   -2.9858    37.5975  Chalcomitra senegalensis   \n",
              "\n",
              "                  common_name  rating             file_name   duration  \\\n",
              "2866           Egyptian Goose     5.0   egygoo/XC402519.ogg  16.065313   \n",
              "2867           Egyptian Goose     5.0   egygoo/XC474526.ogg  27.454687   \n",
              "2900           Egyptian Goose     4.0   egygoo/XC315025.ogg  27.984000   \n",
              "2898           Egyptian Goose     4.0   egygoo/XC315564.ogg  35.976000   \n",
              "2782  Scarlet-chested Sunbird     5.0  sccsun2/XC620843.ogg  42.432000   \n",
              "\n",
              "     country continent          filename_npy    set  \\\n",
              "2866      DE        EU   egygoo/XC402519.npy  train   \n",
              "2867      NL        EU   egygoo/XC474526.npy  train   \n",
              "2900      ZA        AF   egygoo/XC315025.npy  train   \n",
              "2898      US       NaN   egygoo/XC315564.npy  train   \n",
              "2782      KE        AF  sccsun2/XC620843.npy  train   \n",
              "\n",
              "                                                 framed  \n",
              "2866  ((tf.Tensor(-0.0008935826, shape=(), dtype=flo...  \n",
              "2867  ((tf.Tensor(0.010603871757674056, shape=(), dt...  \n",
              "2900  ((tf.Tensor(0.0073181224369550275, shape=(), d...  \n",
              "2898  ((tf.Tensor(0.00033781928, shape=(), dtype=flo...  \n",
              "2782  ((tf.Tensor(-0.0020933535, shape=(), dtype=flo...  "
            ],
            "text/html": [
              "\n",
              "  <div id=\"df-6d1bcf37-a7ca-40a6-acb0-62ea9186c66f\" class=\"colab-df-container\">\n",
              "    <div>\n",
              "<style scoped>\n",
              "    .dataframe tbody tr th:only-of-type {\n",
              "        vertical-align: middle;\n",
              "    }\n",
              "\n",
              "    .dataframe tbody tr th {\n",
              "        vertical-align: top;\n",
              "    }\n",
              "\n",
              "    .dataframe thead th {\n",
              "        text-align: right;\n",
              "    }\n",
              "</style>\n",
              "<table border=\"1\" class=\"dataframe\">\n",
              "  <thead>\n",
              "    <tr style=\"text-align: right;\">\n",
              "      <th></th>\n",
              "      <th>primary_label</th>\n",
              "      <th>type</th>\n",
              "      <th>latitude</th>\n",
              "      <th>longitude</th>\n",
              "      <th>scientific_name</th>\n",
              "      <th>common_name</th>\n",
              "      <th>rating</th>\n",
              "      <th>file_name</th>\n",
              "      <th>duration</th>\n",
              "      <th>country</th>\n",
              "      <th>continent</th>\n",
              "      <th>filename_npy</th>\n",
              "      <th>set</th>\n",
              "      <th>framed</th>\n",
              "    </tr>\n",
              "  </thead>\n",
              "  <tbody>\n",
              "    <tr>\n",
              "      <th>2866</th>\n",
              "      <td>egygoo</td>\n",
              "      <td>call</td>\n",
              "      <td>52.2704</td>\n",
              "      <td>13.7252</td>\n",
              "      <td>Alopochen aegyptiaca</td>\n",
              "      <td>Egyptian Goose</td>\n",
              "      <td>5.0</td>\n",
              "      <td>egygoo/XC402519.ogg</td>\n",
              "      <td>16.065313</td>\n",
              "      <td>DE</td>\n",
              "      <td>EU</td>\n",
              "      <td>egygoo/XC402519.npy</td>\n",
              "      <td>train</td>\n",
              "      <td>((tf.Tensor(-0.0008935826, shape=(), dtype=flo...</td>\n",
              "    </tr>\n",
              "    <tr>\n",
              "      <th>2867</th>\n",
              "      <td>egygoo</td>\n",
              "      <td>call</td>\n",
              "      <td>52.3616</td>\n",
              "      <td>7.0626</td>\n",
              "      <td>Alopochen aegyptiaca</td>\n",
              "      <td>Egyptian Goose</td>\n",
              "      <td>5.0</td>\n",
              "      <td>egygoo/XC474526.ogg</td>\n",
              "      <td>27.454687</td>\n",
              "      <td>NL</td>\n",
              "      <td>EU</td>\n",
              "      <td>egygoo/XC474526.npy</td>\n",
              "      <td>train</td>\n",
              "      <td>((tf.Tensor(0.010603871757674056, shape=(), dt...</td>\n",
              "    </tr>\n",
              "    <tr>\n",
              "      <th>2900</th>\n",
              "      <td>egygoo</td>\n",
              "      <td>call</td>\n",
              "      <td>-33.3155</td>\n",
              "      <td>26.1085</td>\n",
              "      <td>Alopochen aegyptiaca</td>\n",
              "      <td>Egyptian Goose</td>\n",
              "      <td>4.0</td>\n",
              "      <td>egygoo/XC315025.ogg</td>\n",
              "      <td>27.984000</td>\n",
              "      <td>ZA</td>\n",
              "      <td>AF</td>\n",
              "      <td>egygoo/XC315025.npy</td>\n",
              "      <td>train</td>\n",
              "      <td>((tf.Tensor(0.0073181224369550275, shape=(), d...</td>\n",
              "    </tr>\n",
              "    <tr>\n",
              "      <th>2898</th>\n",
              "      <td>egygoo</td>\n",
              "      <td>call</td>\n",
              "      <td>25.7054</td>\n",
              "      <td>-80.1570</td>\n",
              "      <td>Alopochen aegyptiaca</td>\n",
              "      <td>Egyptian Goose</td>\n",
              "      <td>4.0</td>\n",
              "      <td>egygoo/XC315564.ogg</td>\n",
              "      <td>35.976000</td>\n",
              "      <td>US</td>\n",
              "      <td>NaN</td>\n",
              "      <td>egygoo/XC315564.npy</td>\n",
              "      <td>train</td>\n",
              "      <td>((tf.Tensor(0.00033781928, shape=(), dtype=flo...</td>\n",
              "    </tr>\n",
              "    <tr>\n",
              "      <th>2782</th>\n",
              "      <td>sccsun2</td>\n",
              "      <td>call</td>\n",
              "      <td>-2.9858</td>\n",
              "      <td>37.5975</td>\n",
              "      <td>Chalcomitra senegalensis</td>\n",
              "      <td>Scarlet-chested Sunbird</td>\n",
              "      <td>5.0</td>\n",
              "      <td>sccsun2/XC620843.ogg</td>\n",
              "      <td>42.432000</td>\n",
              "      <td>KE</td>\n",
              "      <td>AF</td>\n",
              "      <td>sccsun2/XC620843.npy</td>\n",
              "      <td>train</td>\n",
              "      <td>((tf.Tensor(-0.0020933535, shape=(), dtype=flo...</td>\n",
              "    </tr>\n",
              "  </tbody>\n",
              "</table>\n",
              "</div>\n",
              "    <div class=\"colab-df-buttons\">\n",
              "\n",
              "  <div class=\"colab-df-container\">\n",
              "    <button class=\"colab-df-convert\" onclick=\"convertToInteractive('df-6d1bcf37-a7ca-40a6-acb0-62ea9186c66f')\"\n",
              "            title=\"Convert this dataframe to an interactive table.\"\n",
              "            style=\"display:none;\">\n",
              "\n",
              "  <svg xmlns=\"http://www.w3.org/2000/svg\" height=\"24px\" viewBox=\"0 -960 960 960\">\n",
              "    <path d=\"M120-120v-720h720v720H120Zm60-500h600v-160H180v160Zm220 220h160v-160H400v160Zm0 220h160v-160H400v160ZM180-400h160v-160H180v160Zm440 0h160v-160H620v160ZM180-180h160v-160H180v160Zm440 0h160v-160H620v160Z\"/>\n",
              "  </svg>\n",
              "    </button>\n",
              "\n",
              "  <style>\n",
              "    .colab-df-container {\n",
              "      display:flex;\n",
              "      gap: 12px;\n",
              "    }\n",
              "\n",
              "    .colab-df-convert {\n",
              "      background-color: #E8F0FE;\n",
              "      border: none;\n",
              "      border-radius: 50%;\n",
              "      cursor: pointer;\n",
              "      display: none;\n",
              "      fill: #1967D2;\n",
              "      height: 32px;\n",
              "      padding: 0 0 0 0;\n",
              "      width: 32px;\n",
              "    }\n",
              "\n",
              "    .colab-df-convert:hover {\n",
              "      background-color: #E2EBFA;\n",
              "      box-shadow: 0px 1px 2px rgba(60, 64, 67, 0.3), 0px 1px 3px 1px rgba(60, 64, 67, 0.15);\n",
              "      fill: #174EA6;\n",
              "    }\n",
              "\n",
              "    .colab-df-buttons div {\n",
              "      margin-bottom: 4px;\n",
              "    }\n",
              "\n",
              "    [theme=dark] .colab-df-convert {\n",
              "      background-color: #3B4455;\n",
              "      fill: #D2E3FC;\n",
              "    }\n",
              "\n",
              "    [theme=dark] .colab-df-convert:hover {\n",
              "      background-color: #434B5C;\n",
              "      box-shadow: 0px 1px 3px 1px rgba(0, 0, 0, 0.15);\n",
              "      filter: drop-shadow(0px 1px 2px rgba(0, 0, 0, 0.3));\n",
              "      fill: #FFFFFF;\n",
              "    }\n",
              "  </style>\n",
              "\n",
              "    <script>\n",
              "      const buttonEl =\n",
              "        document.querySelector('#df-6d1bcf37-a7ca-40a6-acb0-62ea9186c66f button.colab-df-convert');\n",
              "      buttonEl.style.display =\n",
              "        google.colab.kernel.accessAllowed ? 'block' : 'none';\n",
              "\n",
              "      async function convertToInteractive(key) {\n",
              "        const element = document.querySelector('#df-6d1bcf37-a7ca-40a6-acb0-62ea9186c66f');\n",
              "        const dataTable =\n",
              "          await google.colab.kernel.invokeFunction('convertToInteractive',\n",
              "                                                    [key], {});\n",
              "        if (!dataTable) return;\n",
              "\n",
              "        const docLinkHtml = 'Like what you see? Visit the ' +\n",
              "          '<a target=\"_blank\" href=https://colab.research.google.com/notebooks/data_table.ipynb>data table notebook</a>'\n",
              "          + ' to learn more about interactive tables.';\n",
              "        element.innerHTML = '';\n",
              "        dataTable['output_type'] = 'display_data';\n",
              "        await google.colab.output.renderOutput(dataTable, element);\n",
              "        const docLink = document.createElement('div');\n",
              "        docLink.innerHTML = docLinkHtml;\n",
              "        element.appendChild(docLink);\n",
              "      }\n",
              "    </script>\n",
              "  </div>\n",
              "\n",
              "\n",
              "<div id=\"df-9c26ca3f-9574-43ee-82b1-5a81480db8b8\">\n",
              "  <button class=\"colab-df-quickchart\" onclick=\"quickchart('df-9c26ca3f-9574-43ee-82b1-5a81480db8b8')\"\n",
              "            title=\"Suggest charts\"\n",
              "            style=\"display:none;\">\n",
              "\n",
              "<svg xmlns=\"http://www.w3.org/2000/svg\" height=\"24px\"viewBox=\"0 0 24 24\"\n",
              "     width=\"24px\">\n",
              "    <g>\n",
              "        <path d=\"M19 3H5c-1.1 0-2 .9-2 2v14c0 1.1.9 2 2 2h14c1.1 0 2-.9 2-2V5c0-1.1-.9-2-2-2zM9 17H7v-7h2v7zm4 0h-2V7h2v10zm4 0h-2v-4h2v4z\"/>\n",
              "    </g>\n",
              "</svg>\n",
              "  </button>\n",
              "\n",
              "<style>\n",
              "  .colab-df-quickchart {\n",
              "      --bg-color: #E8F0FE;\n",
              "      --fill-color: #1967D2;\n",
              "      --hover-bg-color: #E2EBFA;\n",
              "      --hover-fill-color: #174EA6;\n",
              "      --disabled-fill-color: #AAA;\n",
              "      --disabled-bg-color: #DDD;\n",
              "  }\n",
              "\n",
              "  [theme=dark] .colab-df-quickchart {\n",
              "      --bg-color: #3B4455;\n",
              "      --fill-color: #D2E3FC;\n",
              "      --hover-bg-color: #434B5C;\n",
              "      --hover-fill-color: #FFFFFF;\n",
              "      --disabled-bg-color: #3B4455;\n",
              "      --disabled-fill-color: #666;\n",
              "  }\n",
              "\n",
              "  .colab-df-quickchart {\n",
              "    background-color: var(--bg-color);\n",
              "    border: none;\n",
              "    border-radius: 50%;\n",
              "    cursor: pointer;\n",
              "    display: none;\n",
              "    fill: var(--fill-color);\n",
              "    height: 32px;\n",
              "    padding: 0;\n",
              "    width: 32px;\n",
              "  }\n",
              "\n",
              "  .colab-df-quickchart:hover {\n",
              "    background-color: var(--hover-bg-color);\n",
              "    box-shadow: 0 1px 2px rgba(60, 64, 67, 0.3), 0 1px 3px 1px rgba(60, 64, 67, 0.15);\n",
              "    fill: var(--button-hover-fill-color);\n",
              "  }\n",
              "\n",
              "  .colab-df-quickchart-complete:disabled,\n",
              "  .colab-df-quickchart-complete:disabled:hover {\n",
              "    background-color: var(--disabled-bg-color);\n",
              "    fill: var(--disabled-fill-color);\n",
              "    box-shadow: none;\n",
              "  }\n",
              "\n",
              "  .colab-df-spinner {\n",
              "    border: 2px solid var(--fill-color);\n",
              "    border-color: transparent;\n",
              "    border-bottom-color: var(--fill-color);\n",
              "    animation:\n",
              "      spin 1s steps(1) infinite;\n",
              "  }\n",
              "\n",
              "  @keyframes spin {\n",
              "    0% {\n",
              "      border-color: transparent;\n",
              "      border-bottom-color: var(--fill-color);\n",
              "      border-left-color: var(--fill-color);\n",
              "    }\n",
              "    20% {\n",
              "      border-color: transparent;\n",
              "      border-left-color: var(--fill-color);\n",
              "      border-top-color: var(--fill-color);\n",
              "    }\n",
              "    30% {\n",
              "      border-color: transparent;\n",
              "      border-left-color: var(--fill-color);\n",
              "      border-top-color: var(--fill-color);\n",
              "      border-right-color: var(--fill-color);\n",
              "    }\n",
              "    40% {\n",
              "      border-color: transparent;\n",
              "      border-right-color: var(--fill-color);\n",
              "      border-top-color: var(--fill-color);\n",
              "    }\n",
              "    60% {\n",
              "      border-color: transparent;\n",
              "      border-right-color: var(--fill-color);\n",
              "    }\n",
              "    80% {\n",
              "      border-color: transparent;\n",
              "      border-right-color: var(--fill-color);\n",
              "      border-bottom-color: var(--fill-color);\n",
              "    }\n",
              "    90% {\n",
              "      border-color: transparent;\n",
              "      border-bottom-color: var(--fill-color);\n",
              "    }\n",
              "  }\n",
              "</style>\n",
              "\n",
              "  <script>\n",
              "    async function quickchart(key) {\n",
              "      const quickchartButtonEl =\n",
              "        document.querySelector('#' + key + ' button');\n",
              "      quickchartButtonEl.disabled = true;  // To prevent multiple clicks.\n",
              "      quickchartButtonEl.classList.add('colab-df-spinner');\n",
              "      try {\n",
              "        const charts = await google.colab.kernel.invokeFunction(\n",
              "            'suggestCharts', [key], {});\n",
              "      } catch (error) {\n",
              "        console.error('Error during call to suggestCharts:', error);\n",
              "      }\n",
              "      quickchartButtonEl.classList.remove('colab-df-spinner');\n",
              "      quickchartButtonEl.classList.add('colab-df-quickchart-complete');\n",
              "    }\n",
              "    (() => {\n",
              "      let quickchartButtonEl =\n",
              "        document.querySelector('#df-9c26ca3f-9574-43ee-82b1-5a81480db8b8 button');\n",
              "      quickchartButtonEl.style.display =\n",
              "        google.colab.kernel.accessAllowed ? 'block' : 'none';\n",
              "    })();\n",
              "  </script>\n",
              "</div>\n",
              "\n",
              "    </div>\n",
              "  </div>\n"
            ],
            "application/vnd.google.colaboratory.intrinsic+json": {
              "type": "dataframe",
              "summary": "{\n  \"name\": \"framed\",\n  \"rows\": 5,\n  \"fields\": [\n    {\n      \"column\": \"primary_label\",\n      \"properties\": {\n        \"dtype\": \"category\",\n        \"num_unique_values\": 2,\n        \"samples\": [\n          \"sccsun2\",\n          \"egygoo\"\n        ],\n        \"semantic_type\": \"\",\n        \"description\": \"\"\n      }\n    },\n    {\n      \"column\": \"type\",\n      \"properties\": {\n        \"dtype\": \"category\",\n        \"num_unique_values\": 1,\n        \"samples\": [\n          \"call\"\n        ],\n        \"semantic_type\": \"\",\n        \"description\": \"\"\n      }\n    },\n    {\n      \"column\": \"latitude\",\n      \"properties\": {\n        \"dtype\": \"number\",\n        \"std\": 37.03032332132681,\n        \"min\": -33.3155,\n        \"max\": 52.3616,\n        \"num_unique_values\": 5,\n        \"samples\": [\n          52.3616\n        ],\n        \"semantic_type\": \"\",\n        \"description\": \"\"\n      }\n    },\n    {\n      \"column\": \"longitude\",\n      \"properties\": {\n        \"dtype\": \"number\",\n        \"std\": 46.783731933365466,\n        \"min\": -80.157,\n        \"max\": 37.5975,\n        \"num_unique_values\": 5,\n        \"samples\": [\n          7.0626\n        ],\n        \"semantic_type\": \"\",\n        \"description\": \"\"\n      }\n    },\n    {\n      \"column\": \"scientific_name\",\n      \"properties\": {\n        \"dtype\": \"category\",\n        \"num_unique_values\": 2,\n        \"samples\": [\n          \"Chalcomitra senegalensis\"\n        ],\n        \"semantic_type\": \"\",\n        \"description\": \"\"\n      }\n    },\n    {\n      \"column\": \"common_name\",\n      \"properties\": {\n        \"dtype\": \"category\",\n        \"num_unique_values\": 2,\n        \"samples\": [\n          \"Scarlet-chested Sunbird\"\n        ],\n        \"semantic_type\": \"\",\n        \"description\": \"\"\n      }\n    },\n    {\n      \"column\": \"rating\",\n      \"properties\": {\n        \"dtype\": \"number\",\n        \"std\": 0.5477225575051662,\n        \"min\": 4.0,\n        \"max\": 5.0,\n        \"num_unique_values\": 2,\n        \"samples\": [\n          4.0\n        ],\n        \"semantic_type\": \"\",\n        \"description\": \"\"\n      }\n    },\n    {\n      \"column\": \"file_name\",\n      \"properties\": {\n        \"dtype\": \"string\",\n        \"num_unique_values\": 5,\n        \"samples\": [\n          \"egygoo/XC474526.ogg\"\n        ],\n        \"semantic_type\": \"\",\n        \"description\": \"\"\n      }\n    },\n    {\n      \"column\": \"duration\",\n      \"properties\": {\n        \"dtype\": \"number\",\n        \"std\": 9.937102679419596,\n        \"min\": 16.0653125,\n        \"max\": 42.432,\n        \"num_unique_values\": 5,\n        \"samples\": [\n          27.4546875\n        ],\n        \"semantic_type\": \"\",\n        \"description\": \"\"\n      }\n    },\n    {\n      \"column\": \"country\",\n      \"properties\": {\n        \"dtype\": \"string\",\n        \"num_unique_values\": 5,\n        \"samples\": [\n          \"NL\"\n        ],\n        \"semantic_type\": \"\",\n        \"description\": \"\"\n      }\n    },\n    {\n      \"column\": \"continent\",\n      \"properties\": {\n        \"dtype\": \"category\",\n        \"num_unique_values\": 2,\n        \"samples\": [\n          \"AF\"\n        ],\n        \"semantic_type\": \"\",\n        \"description\": \"\"\n      }\n    },\n    {\n      \"column\": \"filename_npy\",\n      \"properties\": {\n        \"dtype\": \"string\",\n        \"num_unique_values\": 5,\n        \"samples\": [\n          \"egygoo/XC474526.npy\"\n        ],\n        \"semantic_type\": \"\",\n        \"description\": \"\"\n      }\n    },\n    {\n      \"column\": \"set\",\n      \"properties\": {\n        \"dtype\": \"category\",\n        \"num_unique_values\": 1,\n        \"samples\": [\n          \"train\"\n        ],\n        \"semantic_type\": \"\",\n        \"description\": \"\"\n      }\n    },\n    {\n      \"column\": \"framed\",\n      \"properties\": {\n        \"dtype\": \"object\",\n        \"semantic_type\": \"\",\n        \"description\": \"\"\n      }\n    }\n  ]\n}"
            }
          },
          "metadata": {},
          "execution_count": 22
        }
      ]
    },
    {
      "cell_type": "code",
      "source": [
        "class Extraction:\n",
        "\n",
        "  def __init__(self,\n",
        "               train_df,\n",
        "               val_df,\n",
        "               sr=16000,\n",
        "               n_mfccs=20, #20 is the default n_mfccs from librosa\n",
        "               n_mels=20, #reduced from 128 default from librosa to 20\n",
        "               n_chroma=12, #12 is the default n_chroma from librosa\n",
        "               features=['mfcc','rms'],\n",
        "               do_normalize=True,\n",
        "               do_avgpool=True #WARNING: THE KERNEL WILL CRASH IF YOU TRY TO EXTRACT ALL FEATURES WITHOUT AVGPOOL\n",
        "               ):\n",
        "    \"\"\"\n",
        "    Instantiate the Extraction class and extract the labels and features from train and val DataFrames.\n",
        "\n",
        "    The extract_features() method is automatically called to extract the labels and features from the given DataFrame.\n",
        "\n",
        "    Parameters:\n",
        "      train_df (pd.DataFrame): DataFrame containing training data.\n",
        "      val_df (pd.DataFrame): DataFrame containing validation data.\n",
        "      sr (int): Sample rate of the audio files.\n",
        "      n_mfccs (int): Number of MFCCs to extract.\n",
        "      n_mels (int): Number of Mel bands to extract.\n",
        "      n_chroma (int): Number of chroma bins to use.\n",
        "      features (list): List of features to extract.\n",
        "        accepted features: 'mfcc', 'chroma', 'rms', 'spectral_centroid', 'melspectrogram', 'continent', 'rating', 'type'.\n",
        "      normalize (bool): Whether to normalize the features.\n",
        "      maxpool (bool): Whether to maxpool the features.\n",
        "    \"\"\"\n",
        "    # instantiate class variables\n",
        "    self.sr = sr\n",
        "    self.n_mfccs = n_mfccs\n",
        "    self.n_mels = n_mels\n",
        "    self.n_chroma = n_chroma\n",
        "    self.do_normalize = do_normalize\n",
        "    self.do_avgpool = do_avgpool\n",
        "\n",
        "    # confirm features have been specified\n",
        "    assert len(features) != 0, \"Must Specify At Least One Feature In The Form Of A List.\"\n",
        "    self.features = features\n",
        "\n",
        "    # confirm features are valid\n",
        "    self.accepted_feature = ['mfcc', 'chroma', 'rms', 'spectral_centroid', 'melspectrogram', 'continent', 'rating', 'type']\n",
        "    for each in self.features:\n",
        "      assert each in self.accepted_feature, f\"{each} is not an accepted feature, only 'mfcc', 'chroma', 'rms', 'spectral_centroid', 'melspectrogram', 'continent', 'rating', and 'type' are accpeted features.\"\n",
        "\n",
        "    # extract train and val labels and features\n",
        "    self.train_y, self.train_features = self.extract_features(train_df)\n",
        "    self.val_y, self.val_features = self.extract_features(val_df)\n",
        "\n",
        "    # process the features by applying normalization or average pooling\n",
        "    self.train_features, self.val_features = self.process_features(self.train_features, self.val_features)\n",
        "\n",
        "\n",
        "  ########################################\n",
        "  # each of the extract_x() function is callable by the extract_features() function based on the features instantiated\n",
        "  # each of the features are extracted from librosa and transposed to shape (n_time, n_features)\n",
        "  ########################################\n",
        "  def extract_mfcc(self, each):\n",
        "    return np.transpose(librosa.feature.mfcc(y=np.array(each), sr=self.sr, n_mfcc=self.n_mfccs))\n",
        "\n",
        "  def extract_chroma(self, each):\n",
        "    return np.transpose(librosa.feature.chroma_stft(y=np.array(each), sr=self.sr, n_chroma=self.n_chroma))\n",
        "\n",
        "  def extract_rms(self, each):\n",
        "    return np.transpose(librosa.feature.rms(y=np.array(each)))\n",
        "\n",
        "  def extract_spectral_centroid(self, each):\n",
        "    return np.transpose(librosa.feature.spectral_centroid(y=np.array(each), sr=self.sr))\n",
        "\n",
        "  def extract_melspectrogram(self, each):\n",
        "    mel = librosa.feature.melspectrogram(y=np.array(each), sr=self.sr, n_mels=self.n_mels)\n",
        "    return np.transpose(librosa.power_to_db(mel))\n",
        "\n",
        "\n",
        "  ########################################\n",
        "  # normalization function is called by process_features() function for the features that require normalization\n",
        "  ########################################\n",
        "  def normalization(self, train_X, val_X, n_time, n_features):\n",
        "    \"\"\"\n",
        "    Normalize the train and val features\n",
        "\n",
        "    Parameters:\n",
        "      train_X (npy): Training feature\n",
        "      val_X (npy): Validation feature\n",
        "      n_time (int): Time axis\n",
        "      n_features (int): Feature axis\n",
        "\n",
        "    Returns:\n",
        "      train_X (npy): Normalized training feature\n",
        "      val_X (npy): Normalized validation feature\n",
        "    \"\"\"\n",
        "    # flatten the np arrays to 1D\n",
        "    train_X_reshape = train_X.reshape(-1, n_time * n_features)\n",
        "    val_X_reshape = val_X.reshape(-1, n_time * n_features)\n",
        "\n",
        "    # use minmaxscaler to normalize the train and val features\n",
        "    scaler = MinMaxScaler((0,1)).fit(train_X_reshape)\n",
        "    train_X_scaled = scaler.transform(train_X_reshape)\n",
        "    val_X_scaled = scaler.transform(val_X_reshape)\n",
        "\n",
        "    # reshape the features to the original shape (n_time, n_features)\n",
        "    train_X = train_X_scaled.reshape(-1, n_time, n_features)\n",
        "    val_X = val_X_scaled.reshape(-1, n_time, n_features)\n",
        "\n",
        "    return train_X, val_X\n",
        "\n",
        "\n",
        "  ########################################\n",
        "  # avgpooling function is called by process_features() function for the features that require average pooling\n",
        "  ########################################\n",
        "  def avgpooling(self, train_X, val_X, n_time, n_features):\n",
        "    \"\"\"\n",
        "    Average pooling the train and val features\n",
        "\n",
        "    Parameters:\n",
        "      train_X (npy): Training feature\n",
        "      val_X (npy): Validation feature\n",
        "      n_time (int): Time axis\n",
        "      n_features (int): Feature axis\n",
        "\n",
        "    Returns:\n",
        "      train_X (npy): Avgpooled training feature\n",
        "      val_X (npy): Avgpooled validation feature\n",
        "    \"\"\"\n",
        "    # instantiate the keras layers and model.\n",
        "    # the model only performs average pooling of inputs\n",
        "    tf.keras.backend.clear_session()\n",
        "    input = tf.keras.layers.Input(shape=(n_time, n_features))\n",
        "    global_avg_pooling = tf.keras.layers.GlobalAveragePooling1D()\n",
        "    pooled = global_avg_pooling(input)\n",
        "    pooling_model = tf.keras.models.Model(inputs=input, outputs=pooled)\n",
        "\n",
        "    # use the instantiated model to avgpool the train and val features\n",
        "    train_X = pooling_model.predict(train_X)\n",
        "    val_X = pooling_model.predict(val_X)\n",
        "\n",
        "    return train_X, val_X\n",
        "\n",
        "\n",
        "  ########################################\n",
        "  # process_features function is called when the class is instantiated\n",
        "  ########################################\n",
        "  def process_features(self, train_features_dict, val_features_dict):\n",
        "    \"\"\"\n",
        "    Apply normalization or average pooling to train and val features\n",
        "\n",
        "    Parameters:\n",
        "      train_features_dict (dict): Dictionary containing the training features\n",
        "      val_features_dict (dict): Dictionary containing the validation features\n",
        "\n",
        "    Returns:\n",
        "      tuple: Tuple containing normalized and/or average pooled training and validation features dictionary\n",
        "    \"\"\"\n",
        "    start_time = time.time()\n",
        "    display('features processing started ---------->')\n",
        "\n",
        "    for each in train_features_dict.keys():\n",
        "      # 'continent', 'rating', and 'type' do not need to be processed\n",
        "      if each == 'continent' or each == 'rating' or each == 'type':\n",
        "        pass\n",
        "      # process numeric features\n",
        "      else:\n",
        "        if each == 'mfcc':\n",
        "          n_features=self.n_mfccs\n",
        "        elif each == 'chroma':\n",
        "          n_features=self.n_chroma\n",
        "        elif each == 'rms' or each == 'spectral_centroid':\n",
        "          n_features=1\n",
        "        elif each == 'melspectrogram':\n",
        "          n_features=self.n_mels\n",
        "\n",
        "        # index the dictionary to find the value of the feature based on the feature name (key)\n",
        "        train_feature = train_features_dict[each]\n",
        "        val_feature = val_features_dict[each]\n",
        "\n",
        "        # call normalization or avgpooling function to apply normalization or average pooling to features\n",
        "        if self.do_normalize and self.do_avgpool:\n",
        "          train_features_dict[each], val_features_dict[each] = self.normalization(train_feature, val_feature, n_time=train_feature.shape[1], n_features=n_features)\n",
        "          train_features_dict[each], val_features_dict[each] = self.avgpooling(train_features_dict[each], val_features_dict[each], n_time=train_feature.shape[1], n_features=n_features)\n",
        "        elif self.do_normalize:\n",
        "          train_features_dict[each], val_features_dict[each] = self.normalization(train_feature, val_feature, n_time=train_feature.shape[1], n_features=n_features)\n",
        "        elif self.do_avgpool:\n",
        "          train_features_dict[each], val_features_dict[each] = self.avgpooling(train_feature, val_feature, n_time=train_feature.shape[1], n_features=n_features)\n",
        "        else:\n",
        "          train_features_dict[each], val_features_dict[each] = train_features_dict[each], val_features_dict[each]\n",
        "\n",
        "        display(f'{each} processed')\n",
        "\n",
        "    end_time = time.time()\n",
        "    display(f'features processing took {(end_time - start_time)/60:.1f} mins')\n",
        "\n",
        "    return train_features_dict, val_features_dict\n",
        "\n",
        "\n",
        "  ########################################\n",
        "  # extract_features function is called when the class is instantiated\n",
        "  ########################################\n",
        "  def extract_features(self, dataframe):\n",
        "    \"\"\"\n",
        "    Extract the label & features from the dataframes\n",
        "\n",
        "    Parameters:\n",
        "      dataframe (pd.DataFrame): DataFrame containing audio file information\n",
        "\n",
        "    Returns:\n",
        "      tuple: Tuple containing labels and a dictionary of extracted features\n",
        "    \"\"\"\n",
        "    start_time = time.time()\n",
        "    display(f'feature extraction started ---------->')\n",
        "\n",
        "    # create empty list and dict to store the labels and features\n",
        "    y = []\n",
        "    features_dict = {item: [] for item in self.features}\n",
        "\n",
        "    # iterate through each row of the dataframe to extract the label and features\n",
        "    for _, row in dataframe.iterrows():\n",
        "      label = row['primary_label']\n",
        "      framed = row['framed']\n",
        "\n",
        "      for each in framed:\n",
        "        y.append(label)\n",
        "\n",
        "        if 'continent' in self.features:\n",
        "          features_dict['continent'].append(row['continent'])\n",
        "        if 'rating' in self.features:\n",
        "          features_dict['rating'].append(row['rating'])\n",
        "        if 'type' in self.features:\n",
        "          features_dict['type'].append(row['type'])\n",
        "\n",
        "        # dynatically call the extract_x function to extract the listed features\n",
        "        for feature in self.features:\n",
        "          extract = f\"extract_{feature}\"\n",
        "          if hasattr(self, extract) and callable(func := getattr(self, extract)):\n",
        "            features_dict[feature].append(func(each))\n",
        "\n",
        "    # cast lists to np arrays\n",
        "    for each in features_dict.keys():\n",
        "      features_dict[each] = np.array(features_dict[each])\n",
        "    y = np.array(y)\n",
        "\n",
        "    end_time = time.time()\n",
        "    display(f'features extraction took {(end_time - start_time)/60:.1f} mins')\n",
        "\n",
        "    return y, features_dict\n"
      ],
      "metadata": {
        "id": "lxQidc7Dhh6L"
      },
      "execution_count": null,
      "outputs": []
    },
    {
      "cell_type": "markdown",
      "source": [
        "#Extracting Features\n"
      ],
      "metadata": {
        "id": "mFFCrXvBRiU6"
      }
    },
    {
      "cell_type": "code",
      "source": [
        "features_list = ['mfcc', 'rms', 'melspectrogram']\n",
        "#  'chroma','spectral_centroid',"
      ],
      "metadata": {
        "id": "_lqQ232dRkxR"
      },
      "execution_count": null,
      "outputs": []
    },
    {
      "cell_type": "code",
      "source": [
        "\n",
        "%%time\n",
        "\n",
        "features = Extraction(framed.train_df,\n",
        "                      framed.val_df,\n",
        "                      features=features_list,\n",
        "                      do_normalize=True,\n",
        "                      do_avgpool=False)"
      ],
      "metadata": {
        "id": "JtsWeG-JRgqC",
        "colab": {
          "base_uri": "https://localhost:8080/",
          "height": 217
        },
        "outputId": "b4840fd9-5dde-4ae2-bf19-a76c65fdb117"
      },
      "execution_count": null,
      "outputs": [
        {
          "output_type": "display_data",
          "data": {
            "text/plain": [
              "'feature extraction started ---------->'"
            ],
            "application/vnd.google.colaboratory.intrinsic+json": {
              "type": "string"
            }
          },
          "metadata": {}
        },
        {
          "output_type": "display_data",
          "data": {
            "text/plain": [
              "'features extraction took 0.8 mins'"
            ],
            "application/vnd.google.colaboratory.intrinsic+json": {
              "type": "string"
            }
          },
          "metadata": {}
        },
        {
          "output_type": "display_data",
          "data": {
            "text/plain": [
              "'feature extraction started ---------->'"
            ],
            "application/vnd.google.colaboratory.intrinsic+json": {
              "type": "string"
            }
          },
          "metadata": {}
        },
        {
          "output_type": "display_data",
          "data": {
            "text/plain": [
              "'features extraction took 0.1 mins'"
            ],
            "application/vnd.google.colaboratory.intrinsic+json": {
              "type": "string"
            }
          },
          "metadata": {}
        },
        {
          "output_type": "display_data",
          "data": {
            "text/plain": [
              "'features processing started ---------->'"
            ],
            "application/vnd.google.colaboratory.intrinsic+json": {
              "type": "string"
            }
          },
          "metadata": {}
        },
        {
          "output_type": "display_data",
          "data": {
            "text/plain": [
              "'mfcc processed'"
            ],
            "application/vnd.google.colaboratory.intrinsic+json": {
              "type": "string"
            }
          },
          "metadata": {}
        },
        {
          "output_type": "display_data",
          "data": {
            "text/plain": [
              "'rms processed'"
            ],
            "application/vnd.google.colaboratory.intrinsic+json": {
              "type": "string"
            }
          },
          "metadata": {}
        },
        {
          "output_type": "display_data",
          "data": {
            "text/plain": [
              "'melspectrogram processed'"
            ],
            "application/vnd.google.colaboratory.intrinsic+json": {
              "type": "string"
            }
          },
          "metadata": {}
        },
        {
          "output_type": "display_data",
          "data": {
            "text/plain": [
              "'features processing took 0.0 mins'"
            ],
            "application/vnd.google.colaboratory.intrinsic+json": {
              "type": "string"
            }
          },
          "metadata": {}
        },
        {
          "output_type": "stream",
          "name": "stdout",
          "text": [
            "CPU times: user 1min 41s, sys: 4min 58s, total: 6min 40s\n",
            "Wall time: 51.2 s\n"
          ]
        }
      ]
    },
    {
      "cell_type": "code",
      "source": [
        "train_y = features.train_y\n",
        "\n",
        "display(train_y.shape)\n",
        "display(train_y[:5])"
      ],
      "metadata": {
        "id": "pEtMMNN0RyyB",
        "colab": {
          "base_uri": "https://localhost:8080/",
          "height": 52
        },
        "outputId": "9b54fab7-f843-4106-cfbe-3800a00d138f"
      },
      "execution_count": null,
      "outputs": [
        {
          "output_type": "display_data",
          "data": {
            "text/plain": [
              "(897,)"
            ]
          },
          "metadata": {}
        },
        {
          "output_type": "display_data",
          "data": {
            "text/plain": [
              "array(['egygoo', 'egygoo', 'egygoo', 'egygoo', 'egygoo'], dtype='<U7')"
            ]
          },
          "metadata": {}
        }
      ]
    },
    {
      "cell_type": "code",
      "source": [
        "\n",
        "train_features = features.train_features\n",
        "\n",
        "for key in train_features.keys():\n",
        "  display(key)\n",
        "  display(train_features[key].shape)\n",
        "  display(train_features[key][0])"
      ],
      "metadata": {
        "id": "nwFCVjP8R14R",
        "colab": {
          "base_uri": "https://localhost:8080/",
          "height": 1000
        },
        "outputId": "b272a3aa-e686-4015-a435-06ea1b8b4b4b"
      },
      "execution_count": null,
      "outputs": [
        {
          "output_type": "display_data",
          "data": {
            "text/plain": [
              "'mfcc'"
            ],
            "application/vnd.google.colaboratory.intrinsic+json": {
              "type": "string"
            }
          },
          "metadata": {}
        },
        {
          "output_type": "display_data",
          "data": {
            "text/plain": [
              "(897, 251, 20)"
            ]
          },
          "metadata": {}
        },
        {
          "output_type": "display_data",
          "data": {
            "text/plain": [
              "array([[0.45196299, 0.86899774, 0.76724797, ..., 0.4930924 , 0.31372398,\n",
              "        0.38404111],\n",
              "       [0.4643291 , 0.8451906 , 0.71392004, ..., 0.49891251, 0.32523724,\n",
              "        0.43230885],\n",
              "       [0.51317713, 0.74132754, 0.64648704, ..., 0.54218557, 0.41009619,\n",
              "        0.40439876],\n",
              "       ...,\n",
              "       [0.73528198, 0.47100205, 0.45628491, ..., 0.53008509, 0.18556476,\n",
              "        0.34542718],\n",
              "       [0.73088355, 0.48112267, 0.41364   , ..., 0.51763292, 0.21784972,\n",
              "        0.32982119],\n",
              "       [0.70441276, 0.49458846, 0.3648672 , ..., 0.42939997, 0.31305707,\n",
              "        0.29767795]])"
            ]
          },
          "metadata": {}
        },
        {
          "output_type": "display_data",
          "data": {
            "text/plain": [
              "'rms'"
            ],
            "application/vnd.google.colaboratory.intrinsic+json": {
              "type": "string"
            }
          },
          "metadata": {}
        },
        {
          "output_type": "display_data",
          "data": {
            "text/plain": [
              "(897, 251, 1)"
            ]
          },
          "metadata": {}
        },
        {
          "output_type": "display_data",
          "data": {
            "text/plain": [
              "array([[0.00738203],\n",
              "       [0.00890564],\n",
              "       [0.02683961],\n",
              "       [0.06703743],\n",
              "       [0.10012889],\n",
              "       [0.09938955],\n",
              "       [0.09097028],\n",
              "       [0.08663682],\n",
              "       [0.0623696 ],\n",
              "       [0.03231403],\n",
              "       [0.01885636],\n",
              "       [0.01806521],\n",
              "       [0.01587706],\n",
              "       [0.01501755],\n",
              "       [0.01626847],\n",
              "       [0.0149024 ],\n",
              "       [0.01616124],\n",
              "       [0.01544973],\n",
              "       [0.02295032],\n",
              "       [0.07583997],\n",
              "       [0.10130966],\n",
              "       [0.06970537],\n",
              "       [0.0543941 ],\n",
              "       [0.03536914],\n",
              "       [0.01912833],\n",
              "       [0.0181917 ],\n",
              "       [0.01563746],\n",
              "       [0.01516   ],\n",
              "       [0.02189402],\n",
              "       [0.02133607],\n",
              "       [0.01650657],\n",
              "       [0.01221833],\n",
              "       [0.00921756],\n",
              "       [0.01036953],\n",
              "       [0.03704635],\n",
              "       [0.08211174],\n",
              "       [0.07572323],\n",
              "       [0.07475153],\n",
              "       [0.0705627 ],\n",
              "       [0.03255666],\n",
              "       [0.01631417],\n",
              "       [0.01480088],\n",
              "       [0.01133202],\n",
              "       [0.01211118],\n",
              "       [0.01094888],\n",
              "       [0.01068889],\n",
              "       [0.01468409],\n",
              "       [0.01659916],\n",
              "       [0.02668292],\n",
              "       [0.028993  ],\n",
              "       [0.02642627],\n",
              "       [0.02157294],\n",
              "       [0.03311586],\n",
              "       [0.0551809 ],\n",
              "       [0.06916278],\n",
              "       [0.06207869],\n",
              "       [0.04975946],\n",
              "       [0.02895883],\n",
              "       [0.01916104],\n",
              "       [0.01447677],\n",
              "       [0.01290292],\n",
              "       [0.01181234],\n",
              "       [0.00921525],\n",
              "       [0.00819765],\n",
              "       [0.00725963],\n",
              "       [0.01243905],\n",
              "       [0.01662864],\n",
              "       [0.02090072],\n",
              "       [0.01956362],\n",
              "       [0.01442528],\n",
              "       [0.01314691],\n",
              "       [0.00924341],\n",
              "       [0.00991945],\n",
              "       [0.01092792],\n",
              "       [0.01278533],\n",
              "       [0.02677643],\n",
              "       [0.04816624],\n",
              "       [0.04800653],\n",
              "       [0.04418674],\n",
              "       [0.04048346],\n",
              "       [0.03802404],\n",
              "       [0.03458484],\n",
              "       [0.04521717],\n",
              "       [0.03461828],\n",
              "       [0.02405907],\n",
              "       [0.01942456],\n",
              "       [0.02827821],\n",
              "       [0.03958441],\n",
              "       [0.04354237],\n",
              "       [0.05021939],\n",
              "       [0.05196247],\n",
              "       [0.02711462],\n",
              "       [0.0169655 ],\n",
              "       [0.01570832],\n",
              "       [0.01551482],\n",
              "       [0.01669111],\n",
              "       [0.01634856],\n",
              "       [0.01531086],\n",
              "       [0.01298385],\n",
              "       [0.04838336],\n",
              "       [0.06472332],\n",
              "       [0.06927711],\n",
              "       [0.07175475],\n",
              "       [0.07382149],\n",
              "       [0.05023674],\n",
              "       [0.02564916],\n",
              "       [0.01612091],\n",
              "       [0.01236214],\n",
              "       [0.01192166],\n",
              "       [0.01080323],\n",
              "       [0.01030347],\n",
              "       [0.00692777],\n",
              "       [0.00486664],\n",
              "       [0.0086568 ],\n",
              "       [0.02557787],\n",
              "       [0.04005068],\n",
              "       [0.05185923],\n",
              "       [0.07123442],\n",
              "       [0.08124621],\n",
              "       [0.04338816],\n",
              "       [0.02592287],\n",
              "       [0.0131985 ],\n",
              "       [0.00852941],\n",
              "       [0.00657394],\n",
              "       [0.00494821],\n",
              "       [0.00449439],\n",
              "       [0.00994997],\n",
              "       [0.03561811],\n",
              "       [0.06999749],\n",
              "       [0.07294818],\n",
              "       [0.05846671],\n",
              "       [0.03432026],\n",
              "       [0.01281609],\n",
              "       [0.00615613],\n",
              "       [0.00591039],\n",
              "       [0.00718567],\n",
              "       [0.00863254],\n",
              "       [0.00898725],\n",
              "       [0.00996597],\n",
              "       [0.01054865],\n",
              "       [0.03073445],\n",
              "       [0.05819225],\n",
              "       [0.07317767],\n",
              "       [0.0735282 ],\n",
              "       [0.07921686],\n",
              "       [0.04091044],\n",
              "       [0.01264558],\n",
              "       [0.00741811],\n",
              "       [0.00603673],\n",
              "       [0.00576351],\n",
              "       [0.00542648],\n",
              "       [0.00605147],\n",
              "       [0.00897491],\n",
              "       [0.01001552],\n",
              "       [0.03670623],\n",
              "       [0.06026305],\n",
              "       [0.07578183],\n",
              "       [0.06223057],\n",
              "       [0.04520085],\n",
              "       [0.02614818],\n",
              "       [0.01635166],\n",
              "       [0.01577692],\n",
              "       [0.01401576],\n",
              "       [0.01379456],\n",
              "       [0.01229618],\n",
              "       [0.00889238],\n",
              "       [0.01926698],\n",
              "       [0.05497793],\n",
              "       [0.08122386],\n",
              "       [0.08289923],\n",
              "       [0.07989123],\n",
              "       [0.0467391 ],\n",
              "       [0.02179677],\n",
              "       [0.01233131],\n",
              "       [0.00980551],\n",
              "       [0.0092277 ],\n",
              "       [0.00717606],\n",
              "       [0.00594415],\n",
              "       [0.00907639],\n",
              "       [0.01288412],\n",
              "       [0.04370507],\n",
              "       [0.06615819],\n",
              "       [0.0809861 ],\n",
              "       [0.09939341],\n",
              "       [0.06529965],\n",
              "       [0.04107988],\n",
              "       [0.01295136],\n",
              "       [0.01558398],\n",
              "       [0.01496909],\n",
              "       [0.01539083],\n",
              "       [0.01077468],\n",
              "       [0.00868979],\n",
              "       [0.00835293],\n",
              "       [0.04774236],\n",
              "       [0.08144128],\n",
              "       [0.10101258],\n",
              "       [0.11863317],\n",
              "       [0.08643389],\n",
              "       [0.04293124],\n",
              "       [0.01171121],\n",
              "       [0.0106291 ],\n",
              "       [0.01111986],\n",
              "       [0.00962504],\n",
              "       [0.0089284 ],\n",
              "       [0.00930037],\n",
              "       [0.00984026],\n",
              "       [0.0410642 ],\n",
              "       [0.07316507],\n",
              "       [0.08694307],\n",
              "       [0.06410965],\n",
              "       [0.04556797],\n",
              "       [0.02578519],\n",
              "       [0.00869684],\n",
              "       [0.00663842],\n",
              "       [0.00717534],\n",
              "       [0.00844858],\n",
              "       [0.00868377],\n",
              "       [0.00973401],\n",
              "       [0.01065997],\n",
              "       [0.01012326],\n",
              "       [0.02958333],\n",
              "       [0.07368965],\n",
              "       [0.09079107],\n",
              "       [0.09046023],\n",
              "       [0.08647422],\n",
              "       [0.05423002],\n",
              "       [0.02212032],\n",
              "       [0.01321142],\n",
              "       [0.01386685],\n",
              "       [0.01289313],\n",
              "       [0.01464272],\n",
              "       [0.0209488 ],\n",
              "       [0.01976467],\n",
              "       [0.0205694 ],\n",
              "       [0.0730117 ],\n",
              "       [0.1093674 ],\n",
              "       [0.08997368],\n",
              "       [0.07274279],\n",
              "       [0.05209982],\n",
              "       [0.02791002],\n",
              "       [0.007972  ],\n",
              "       [0.00811453],\n",
              "       [0.01065806],\n",
              "       [0.01501191],\n",
              "       [0.01533159],\n",
              "       [0.01766312],\n",
              "       [0.042807  ],\n",
              "       [0.10538034],\n",
              "       [0.11500752],\n",
              "       [0.11490183],\n",
              "       [0.11599316]], dtype=float32)"
            ]
          },
          "metadata": {}
        },
        {
          "output_type": "display_data",
          "data": {
            "text/plain": [
              "'melspectrogram'"
            ],
            "application/vnd.google.colaboratory.intrinsic+json": {
              "type": "string"
            }
          },
          "metadata": {}
        },
        {
          "output_type": "display_data",
          "data": {
            "text/plain": [
              "(897, 251, 20)"
            ]
          },
          "metadata": {}
        },
        {
          "output_type": "display_data",
          "data": {
            "text/plain": [
              "array([[0.64159768, 0.66048337, 0.66279302, ..., 0.37058073, 0.34797969,\n",
              "        0.34992692],\n",
              "       [0.66890187, 0.68062175, 0.68075072, ..., 0.37911204, 0.35675489,\n",
              "        0.35735337],\n",
              "       [0.66225354, 0.68087862, 0.72434513, ..., 0.38930736, 0.40496672,\n",
              "        0.3781762 ],\n",
              "       ...,\n",
              "       [0.67081577, 0.65532292, 0.6146544 , ..., 0.73619529, 0.70946482,\n",
              "        0.65181474],\n",
              "       [0.64291948, 0.63980189, 0.61187014, ..., 0.68767503, 0.68250558,\n",
              "        0.6474197 ],\n",
              "       [0.59414314, 0.63749418, 0.65812162, ..., 0.69094839, 0.70997881,\n",
              "        0.61031804]])"
            ]
          },
          "metadata": {}
        }
      ]
    },
    {
      "cell_type": "code",
      "source": [
        "val_y = features.val_y\n",
        "val_y = np.array(val_y)\n",
        "\n",
        "display(val_y.shape)\n",
        "display(val_y[:5])"
      ],
      "metadata": {
        "id": "45sEFWH1R5wp",
        "colab": {
          "base_uri": "https://localhost:8080/",
          "height": 52
        },
        "outputId": "ed321ee5-2ec9-4b7f-d768-061011e0e64b"
      },
      "execution_count": null,
      "outputs": [
        {
          "output_type": "display_data",
          "data": {
            "text/plain": [
              "(71,)"
            ]
          },
          "metadata": {}
        },
        {
          "output_type": "display_data",
          "data": {
            "text/plain": [
              "array(['egygoo', 'sccsun2', 'sccsun2', 'sccsun2', 'sccsun2'], dtype='<U7')"
            ]
          },
          "metadata": {}
        }
      ]
    },
    {
      "cell_type": "code",
      "source": [
        "val_features = features.val_features\n",
        "\n",
        "for key in val_features.keys():\n",
        "  display(key)\n",
        "  display(val_features[key].shape)\n",
        "  display(val_features[key][0])"
      ],
      "metadata": {
        "id": "erphA5nVR7Gq",
        "colab": {
          "base_uri": "https://localhost:8080/",
          "height": 1000
        },
        "outputId": "44395cbb-3913-4428-bb51-3ebf75496aa9"
      },
      "execution_count": null,
      "outputs": [
        {
          "output_type": "display_data",
          "data": {
            "text/plain": [
              "'mfcc'"
            ],
            "application/vnd.google.colaboratory.intrinsic+json": {
              "type": "string"
            }
          },
          "metadata": {}
        },
        {
          "output_type": "display_data",
          "data": {
            "text/plain": [
              "(71, 251, 20)"
            ]
          },
          "metadata": {}
        },
        {
          "output_type": "display_data",
          "data": {
            "text/plain": [
              "array([[0.19040102, 0.58338815, 0.68049186, ..., 0.5335268 , 0.45109367,\n",
              "        0.43933716],\n",
              "       [0.20430182, 0.68989   , 0.75477374, ..., 0.42060453, 0.35851246,\n",
              "        0.42290965],\n",
              "       [0.30724877, 0.72321707, 0.66339153, ..., 0.38438863, 0.42418787,\n",
              "        0.47768667],\n",
              "       ...,\n",
              "       [0.56706166, 0.733975  , 0.5881151 , ..., 0.51443225, 0.36562666,\n",
              "        0.52066505],\n",
              "       [0.52079415, 0.7744016 , 0.6075009 , ..., 0.518576  , 0.49187276,\n",
              "        0.47313562],\n",
              "       [0.49341595, 0.808817  , 0.6459578 , ..., 0.47188896, 0.5635281 ,\n",
              "        0.4590536 ]], dtype=float32)"
            ]
          },
          "metadata": {}
        },
        {
          "output_type": "display_data",
          "data": {
            "text/plain": [
              "'rms'"
            ],
            "application/vnd.google.colaboratory.intrinsic+json": {
              "type": "string"
            }
          },
          "metadata": {}
        },
        {
          "output_type": "display_data",
          "data": {
            "text/plain": [
              "(71, 251, 1)"
            ]
          },
          "metadata": {}
        },
        {
          "output_type": "display_data",
          "data": {
            "text/plain": [
              "array([[1.26469211e-04],\n",
              "       [9.81974299e-04],\n",
              "       [2.10356223e-03],\n",
              "       [5.76408720e-03],\n",
              "       [9.46552027e-03],\n",
              "       [1.15595143e-02],\n",
              "       [1.36097204e-02],\n",
              "       [1.85883809e-02],\n",
              "       [2.31122989e-02],\n",
              "       [2.65848618e-02],\n",
              "       [2.45502759e-02],\n",
              "       [2.59425920e-02],\n",
              "       [2.90683415e-02],\n",
              "       [3.14772055e-02],\n",
              "       [3.36215533e-02],\n",
              "       [3.29647772e-02],\n",
              "       [3.23753357e-02],\n",
              "       [3.23964171e-02],\n",
              "       [3.21001485e-02],\n",
              "       [3.63289043e-02],\n",
              "       [3.40319313e-02],\n",
              "       [2.18851827e-02],\n",
              "       [1.71073284e-02],\n",
              "       [1.46672679e-02],\n",
              "       [1.37548130e-02],\n",
              "       [1.40695758e-02],\n",
              "       [1.69463810e-02],\n",
              "       [2.07835436e-02],\n",
              "       [2.84895767e-02],\n",
              "       [2.80307569e-02],\n",
              "       [2.29501873e-02],\n",
              "       [1.88843962e-02],\n",
              "       [1.77396536e-02],\n",
              "       [2.05020551e-02],\n",
              "       [2.15303563e-02],\n",
              "       [2.94592399e-02],\n",
              "       [2.75698267e-02],\n",
              "       [2.68854368e-02],\n",
              "       [2.94061806e-02],\n",
              "       [2.96462122e-02],\n",
              "       [3.45801413e-02],\n",
              "       [6.82095662e-02],\n",
              "       [1.22673094e-01],\n",
              "       [2.52732366e-01],\n",
              "       [3.19366217e-01],\n",
              "       [3.62544626e-01],\n",
              "       [3.27117264e-01],\n",
              "       [2.83357859e-01],\n",
              "       [2.25665465e-01],\n",
              "       [1.70497701e-01],\n",
              "       [9.35044438e-02],\n",
              "       [5.71437664e-02],\n",
              "       [3.83142345e-02],\n",
              "       [3.38356979e-02],\n",
              "       [3.23494487e-02],\n",
              "       [2.62839291e-02],\n",
              "       [2.56808028e-02],\n",
              "       [2.63284352e-02],\n",
              "       [3.00344657e-02],\n",
              "       [2.33668815e-02],\n",
              "       [4.33205217e-02],\n",
              "       [9.40826610e-02],\n",
              "       [9.30898860e-02],\n",
              "       [1.07175216e-01],\n",
              "       [1.30237103e-01],\n",
              "       [1.61490887e-01],\n",
              "       [2.27355644e-01],\n",
              "       [2.39166081e-01],\n",
              "       [1.87756658e-01],\n",
              "       [1.41999707e-01],\n",
              "       [8.68500173e-02],\n",
              "       [4.70896512e-02],\n",
              "       [3.57943997e-02],\n",
              "       [3.01036034e-02],\n",
              "       [2.84828451e-02],\n",
              "       [3.18720192e-02],\n",
              "       [3.18558849e-02],\n",
              "       [2.51753200e-02],\n",
              "       [2.35219505e-02],\n",
              "       [2.35272665e-02],\n",
              "       [2.77186837e-02],\n",
              "       [2.63950601e-02],\n",
              "       [2.72979531e-02],\n",
              "       [2.10280679e-02],\n",
              "       [1.82618797e-02],\n",
              "       [1.60663445e-02],\n",
              "       [1.42401177e-02],\n",
              "       [1.49611933e-02],\n",
              "       [6.57883063e-02],\n",
              "       [8.94521028e-02],\n",
              "       [1.36526287e-01],\n",
              "       [2.09306017e-01],\n",
              "       [2.11734653e-01],\n",
              "       [2.08096653e-01],\n",
              "       [2.12834314e-01],\n",
              "       [1.35316238e-01],\n",
              "       [1.05357178e-01],\n",
              "       [7.77442753e-02],\n",
              "       [4.70361896e-02],\n",
              "       [3.32669206e-02],\n",
              "       [2.66595129e-02],\n",
              "       [2.47271173e-02],\n",
              "       [2.45681498e-02],\n",
              "       [2.96341088e-02],\n",
              "       [2.58581359e-02],\n",
              "       [2.79277861e-02],\n",
              "       [2.86867749e-02],\n",
              "       [2.40416359e-02],\n",
              "       [2.40397155e-02],\n",
              "       [2.35854704e-02],\n",
              "       [2.35364102e-02],\n",
              "       [1.75462607e-02],\n",
              "       [1.38475541e-02],\n",
              "       [1.25336805e-02],\n",
              "       [1.24395192e-02],\n",
              "       [1.40519198e-02],\n",
              "       [1.74009632e-02],\n",
              "       [2.42008753e-02],\n",
              "       [3.52900177e-02],\n",
              "       [3.56248505e-02],\n",
              "       [3.75926420e-02],\n",
              "       [2.58626658e-02],\n",
              "       [1.80881917e-02],\n",
              "       [1.41878063e-02],\n",
              "       [1.27991056e-02],\n",
              "       [1.37613360e-02],\n",
              "       [1.60693098e-02],\n",
              "       [2.06629075e-02],\n",
              "       [2.85535865e-02],\n",
              "       [2.81429999e-02],\n",
              "       [2.32063923e-02],\n",
              "       [1.76364835e-02],\n",
              "       [1.62472837e-02],\n",
              "       [1.59298088e-02],\n",
              "       [1.75642408e-02],\n",
              "       [2.25643031e-02],\n",
              "       [2.73972452e-02],\n",
              "       [2.72664074e-02],\n",
              "       [2.96635125e-02],\n",
              "       [3.12967151e-02],\n",
              "       [3.06770094e-02],\n",
              "       [3.31711993e-02],\n",
              "       [3.15272547e-02],\n",
              "       [3.20757814e-02],\n",
              "       [3.64699923e-02],\n",
              "       [2.51737274e-02],\n",
              "       [2.48931088e-02],\n",
              "       [1.88303925e-02],\n",
              "       [1.56877879e-02],\n",
              "       [1.48469387e-02],\n",
              "       [1.39963049e-02],\n",
              "       [1.57023817e-02],\n",
              "       [1.65309478e-02],\n",
              "       [1.58971287e-02],\n",
              "       [1.94976814e-02],\n",
              "       [2.57492252e-02],\n",
              "       [2.98511051e-02],\n",
              "       [2.41081528e-02],\n",
              "       [2.32063197e-02],\n",
              "       [2.22149547e-02],\n",
              "       [3.00811399e-02],\n",
              "       [3.31728347e-02],\n",
              "       [3.06743961e-02],\n",
              "       [2.98070908e-02],\n",
              "       [2.78936848e-02],\n",
              "       [2.50584502e-02],\n",
              "       [2.83979215e-02],\n",
              "       [4.05588970e-02],\n",
              "       [5.80676906e-02],\n",
              "       [6.68561086e-02],\n",
              "       [7.32443556e-02],\n",
              "       [6.86491877e-02],\n",
              "       [7.26508796e-02],\n",
              "       [8.20033774e-02],\n",
              "       [7.17631653e-02],\n",
              "       [6.23667985e-02],\n",
              "       [4.48786803e-02],\n",
              "       [3.66309993e-02],\n",
              "       [3.71074602e-02],\n",
              "       [3.83100398e-02],\n",
              "       [3.22196968e-02],\n",
              "       [2.91742124e-02],\n",
              "       [2.76244581e-02],\n",
              "       [3.39790694e-02],\n",
              "       [2.43915655e-02],\n",
              "       [2.38413122e-02],\n",
              "       [2.60991808e-02],\n",
              "       [3.44547592e-02],\n",
              "       [3.54901366e-02],\n",
              "       [3.80465947e-02],\n",
              "       [2.84374934e-02],\n",
              "       [2.18555387e-02],\n",
              "       [2.00940594e-02],\n",
              "       [2.13393848e-02],\n",
              "       [2.49144044e-02],\n",
              "       [2.83646435e-02],\n",
              "       [3.35078165e-02],\n",
              "       [3.04753371e-02],\n",
              "       [2.52058301e-02],\n",
              "       [2.43512839e-02],\n",
              "       [2.77116243e-02],\n",
              "       [3.15504707e-02],\n",
              "       [2.80975457e-02],\n",
              "       [2.55807806e-02],\n",
              "       [2.35755499e-02],\n",
              "       [2.30987482e-02],\n",
              "       [2.22896524e-02],\n",
              "       [2.28183903e-02],\n",
              "       [2.34713573e-02],\n",
              "       [1.59881152e-02],\n",
              "       [1.42504871e-02],\n",
              "       [1.30613251e-02],\n",
              "       [1.36081045e-02],\n",
              "       [1.51993977e-02],\n",
              "       [1.87153611e-02],\n",
              "       [2.59201434e-02],\n",
              "       [2.89439820e-02],\n",
              "       [3.15557308e-02],\n",
              "       [3.07021216e-02],\n",
              "       [2.74894014e-02],\n",
              "       [2.45975219e-02],\n",
              "       [2.37185042e-02],\n",
              "       [2.39346642e-02],\n",
              "       [2.45756544e-02],\n",
              "       [2.85354108e-02],\n",
              "       [2.75292285e-02],\n",
              "       [2.67817117e-02],\n",
              "       [2.82552112e-02],\n",
              "       [3.37446071e-02],\n",
              "       [4.24243137e-02],\n",
              "       [4.28617895e-02],\n",
              "       [4.28384468e-02],\n",
              "       [3.33014354e-02],\n",
              "       [2.97608804e-02],\n",
              "       [2.69771628e-02],\n",
              "       [2.62625292e-02],\n",
              "       [2.13269349e-02],\n",
              "       [1.92809198e-02],\n",
              "       [1.79389808e-02],\n",
              "       [1.78714152e-02],\n",
              "       [1.83635447e-02],\n",
              "       [1.85163599e-02],\n",
              "       [2.54518837e-02],\n",
              "       [3.64124067e-02],\n",
              "       [4.12566252e-02],\n",
              "       [4.38268110e-02],\n",
              "       [4.15151455e-02],\n",
              "       [3.58632319e-02],\n",
              "       [2.68991403e-02],\n",
              "       [2.23373510e-02],\n",
              "       [1.79619920e-02]], dtype=float32)"
            ]
          },
          "metadata": {}
        },
        {
          "output_type": "display_data",
          "data": {
            "text/plain": [
              "'melspectrogram'"
            ],
            "application/vnd.google.colaboratory.intrinsic+json": {
              "type": "string"
            }
          },
          "metadata": {}
        },
        {
          "output_type": "display_data",
          "data": {
            "text/plain": [
              "(71, 251, 20)"
            ]
          },
          "metadata": {}
        },
        {
          "output_type": "display_data",
          "data": {
            "text/plain": [
              "array([[0.14448856, 0.12937303, 0.12896177, ..., 0.1309648 , 0.140738  ,\n",
              "        0.14875308],\n",
              "       [0.39771616, 0.35254285, 0.33515772, ..., 0.1032022 , 0.10883947,\n",
              "        0.1171301 ],\n",
              "       [0.50121886, 0.47146484, 0.48442453, ..., 0.19174635, 0.15583286,\n",
              "        0.12587458],\n",
              "       ...,\n",
              "       [0.68897396, 0.686103  , 0.65511125, ..., 0.3942381 , 0.4023402 ,\n",
              "        0.37644863],\n",
              "       [0.6888173 , 0.7153515 , 0.66734225, ..., 0.3406501 , 0.33586523,\n",
              "        0.3287308 ],\n",
              "       [0.6940482 , 0.71247643, 0.68132937, ..., 0.34244475, 0.35165396,\n",
              "        0.33036995]], dtype=float32)"
            ]
          },
          "metadata": {}
        }
      ]
    },
    {
      "cell_type": "code",
      "source": [
        "label_encoder = LabelEncoder().fit(train_y)\n",
        "train_y = label_encoder.transform(train_y)\n",
        "val_y = label_encoder.transform(val_y)\n",
        "\n",
        "classes = list(label_encoder.inverse_transform([]))#Need To change in this part\n",
        "classes"
      ],
      "metadata": {
        "id": "Qgw7PjZTR__q",
        "colab": {
          "base_uri": "https://localhost:8080/"
        },
        "outputId": "85ed44af-0512-4380-862f-0f36e8d40637"
      },
      "execution_count": null,
      "outputs": [
        {
          "output_type": "execute_result",
          "data": {
            "text/plain": [
              "[]"
            ]
          },
          "metadata": {},
          "execution_count": 30
        }
      ]
    },
    {
      "cell_type": "code",
      "source": [
        "display(len(train_y))\n",
        "display(train_y[:10])\n",
        "\n",
        "display(len(val_y))\n",
        "display(val_y[:10])\n"
      ],
      "metadata": {
        "id": "fWH1lExBSKsB",
        "colab": {
          "base_uri": "https://localhost:8080/",
          "height": 86
        },
        "outputId": "239ac761-ac29-4710-c1c4-991b5384a6d3"
      },
      "execution_count": null,
      "outputs": [
        {
          "output_type": "display_data",
          "data": {
            "text/plain": [
              "897"
            ]
          },
          "metadata": {}
        },
        {
          "output_type": "display_data",
          "data": {
            "text/plain": [
              "array([0, 0, 0, 0, 0, 0, 0, 0, 0, 0])"
            ]
          },
          "metadata": {}
        },
        {
          "output_type": "display_data",
          "data": {
            "text/plain": [
              "71"
            ]
          },
          "metadata": {}
        },
        {
          "output_type": "display_data",
          "data": {
            "text/plain": [
              "array([0, 2, 2, 2, 2, 2, 2, 2, 2, 2])"
            ]
          },
          "metadata": {}
        }
      ]
    },
    {
      "cell_type": "code",
      "source": [
        "train_features['label'] = train_y\n",
        "train_features"
      ],
      "metadata": {
        "id": "wk5jqI7HSM4K",
        "colab": {
          "base_uri": "https://localhost:8080/"
        },
        "outputId": "de4591ee-44dc-47cd-9f63-9487eee58996"
      },
      "execution_count": null,
      "outputs": [
        {
          "output_type": "execute_result",
          "data": {
            "text/plain": [
              "{'mfcc': array([[[0.45196299, 0.86899774, 0.76724797, ..., 0.4930924 ,\n",
              "          0.31372398, 0.38404111],\n",
              "         [0.4643291 , 0.8451906 , 0.71392004, ..., 0.49891251,\n",
              "          0.32523724, 0.43230885],\n",
              "         [0.51317713, 0.74132754, 0.64648704, ..., 0.54218557,\n",
              "          0.41009619, 0.40439876],\n",
              "         ...,\n",
              "         [0.73528198, 0.47100205, 0.45628491, ..., 0.53008509,\n",
              "          0.18556476, 0.34542718],\n",
              "         [0.73088355, 0.48112267, 0.41364   , ..., 0.51763292,\n",
              "          0.21784972, 0.32982119],\n",
              "         [0.70441276, 0.49458846, 0.3648672 , ..., 0.42939997,\n",
              "          0.31305707, 0.29767795]],\n",
              " \n",
              "        [[0.4393311 , 0.86458521, 0.71105676, ..., 0.57686386,\n",
              "          0.47179152, 0.45686834],\n",
              "         [0.45373075, 0.81285538, 0.65925663, ..., 0.62496475,\n",
              "          0.43849502, 0.45489531],\n",
              "         [0.60464377, 0.58836617, 0.54535105, ..., 0.48672029,\n",
              "          0.29762674, 0.45381986],\n",
              "         ...,\n",
              "         [0.51195483, 0.66808846, 0.51322367, ..., 0.45506389,\n",
              "          0.53376011, 0.44102145],\n",
              "         [0.42716128, 0.70680362, 0.57072367, ..., 0.5429683 ,\n",
              "          0.47869736, 0.33773877],\n",
              "         [0.39630885, 0.71962249, 0.61695007, ..., 0.53060424,\n",
              "          0.43880794, 0.32252215]],\n",
              " \n",
              "        [[0.65451538, 0.72562632, 0.38042283, ..., 0.54165538,\n",
              "          0.25191801, 0.12136189],\n",
              "         [0.61222464, 0.72626305, 0.45809769, ..., 0.59311287,\n",
              "          0.20433118, 0.14588443],\n",
              "         [0.55415621, 0.68846316, 0.5836792 , ..., 0.69183507,\n",
              "          0.32728259, 0.38829285],\n",
              "         ...,\n",
              "         [0.        , 0.43572795, 0.61322137, ..., 0.4382129 ,\n",
              "          0.47847933, 0.49177903],\n",
              "         [0.2399828 , 0.69897596, 0.62430947, ..., 0.43264129,\n",
              "          0.30589681, 0.48728443],\n",
              "         [0.3501382 , 0.73305465, 0.63804962, ..., 0.44025599,\n",
              "          0.32970183, 0.52776248]],\n",
              " \n",
              "        ...,\n",
              " \n",
              "        [[0.25334355, 0.76344923, 0.33213588, ..., 0.42190047,\n",
              "          0.45496123, 0.43717526],\n",
              "         [0.24326138, 0.73818442, 0.37676198, ..., 0.43222929,\n",
              "          0.40323909, 0.55264679],\n",
              "         [0.25029458, 0.64676792, 0.44391416, ..., 0.40304175,\n",
              "          0.4678885 , 0.56020294],\n",
              "         ...,\n",
              "         [0.25388312, 0.57940269, 0.20241303, ..., 0.53517919,\n",
              "          0.44775074, 0.33386077],\n",
              "         [0.23360464, 0.65579119, 0.23639164, ..., 0.61565604,\n",
              "          0.61154003, 0.37920789],\n",
              "         [0.31427275, 0.71444317, 0.22931815, ..., 0.64495504,\n",
              "          0.68660768, 0.41801926]],\n",
              " \n",
              "        [[0.37841776, 0.6549189 , 0.24999051, ..., 0.69553964,\n",
              "          0.61346123, 0.34412016],\n",
              "         [0.31616137, 0.66731742, 0.25391841, ..., 0.69375312,\n",
              "          0.59448206, 0.39101535],\n",
              "         [0.31244676, 0.60357779, 0.18647085, ..., 0.60896209,\n",
              "          0.53220559, 0.54381057],\n",
              "         ...,\n",
              "         [0.23909238, 0.59211714, 0.24499964, ..., 0.6532113 ,\n",
              "          0.10600337, 0.55290234],\n",
              "         [0.31285459, 0.56480982, 0.23192099, ..., 0.68449103,\n",
              "          0.34531878, 0.3401248 ],\n",
              "         [0.41510386, 0.55970048, 0.27562047, ..., 0.67556228,\n",
              "          0.50575372, 0.36891511]],\n",
              " \n",
              "        [[0.41589827, 0.8421712 , 0.14287917, ..., 0.50820288,\n",
              "          0.48303712, 0.46796844],\n",
              "         [0.35350647, 0.75893675, 0.17232622, ..., 0.55670743,\n",
              "          0.44665327, 0.48988137],\n",
              "         [0.30391995, 0.608994  , 0.23045236, ..., 0.53961712,\n",
              "          0.45719844, 0.51366668],\n",
              "         ...,\n",
              "         [0.17703979, 0.62396154, 0.47420447, ..., 0.51954903,\n",
              "          0.44051021, 0.44891185],\n",
              "         [0.06539422, 0.62680582, 0.49800909, ..., 0.60724022,\n",
              "          0.49414048, 0.42330987],\n",
              "         [0.05233752, 0.61516009, 0.53651385, ..., 0.63862448,\n",
              "          0.63642388, 0.449502  ]]]),\n",
              " 'rms': array([[[0.00738203],\n",
              "         [0.00890564],\n",
              "         [0.02683961],\n",
              "         ...,\n",
              "         [0.11500752],\n",
              "         [0.11490183],\n",
              "         [0.11599316]],\n",
              " \n",
              "        [[0.00445531],\n",
              "         [0.01205755],\n",
              "         [0.0359273 ],\n",
              "         ...,\n",
              "         [0.01695737],\n",
              "         [0.00969534],\n",
              "         [0.00732476]],\n",
              " \n",
              "        [[0.02275121],\n",
              "         [0.02216711],\n",
              "         [0.02264068],\n",
              "         ...,\n",
              "         [0.00230496],\n",
              "         [0.00238667],\n",
              "         [0.00255781]],\n",
              " \n",
              "        ...,\n",
              " \n",
              "        [[0.00214006],\n",
              "         [0.00210493],\n",
              "         [0.00218423],\n",
              "         ...,\n",
              "         [0.02770769],\n",
              "         [0.02771292],\n",
              "         [0.02784491]],\n",
              " \n",
              "        [[0.00987425],\n",
              "         [0.01180036],\n",
              "         [0.01230871],\n",
              "         ...,\n",
              "         [0.04017265],\n",
              "         [0.04024987],\n",
              "         [0.04104192]],\n",
              " \n",
              "        [[0.01151926],\n",
              "         [0.01149032],\n",
              "         [0.01176823],\n",
              "         ...,\n",
              "         [0.00106584],\n",
              "         [0.00061857],\n",
              "         [0.00051733]]], dtype=float32),\n",
              " 'melspectrogram': array([[[0.64159768, 0.66048337, 0.66279302, ..., 0.37058073,\n",
              "          0.34797969, 0.34992692],\n",
              "         [0.66890187, 0.68062175, 0.68075072, ..., 0.37911204,\n",
              "          0.35675489, 0.35735337],\n",
              "         [0.66225354, 0.68087862, 0.72434513, ..., 0.38930736,\n",
              "          0.40496672, 0.3781762 ],\n",
              "         ...,\n",
              "         [0.67081577, 0.65532292, 0.6146544 , ..., 0.73619529,\n",
              "          0.70946482, 0.65181474],\n",
              "         [0.64291948, 0.63980189, 0.61187014, ..., 0.68767503,\n",
              "          0.68250558, 0.6474197 ],\n",
              "         [0.59414314, 0.63749418, 0.65812162, ..., 0.69094839,\n",
              "          0.70997881, 0.61031804]],\n",
              " \n",
              "        [[0.59823549, 0.60965971, 0.62568762, ..., 0.35619938,\n",
              "          0.3297937 , 0.3228751 ],\n",
              "         [0.60297454, 0.6161742 , 0.6567725 , ..., 0.39171847,\n",
              "          0.34299923, 0.3316283 ],\n",
              "         [0.58518406, 0.6192388 , 0.68477902, ..., 0.59344703,\n",
              "          0.5654333 , 0.53635784],\n",
              "         ...,\n",
              "         [0.60579476, 0.58479977, 0.59910948, ..., 0.36093987,\n",
              "          0.36279478, 0.32270169],\n",
              "         [0.59413041, 0.60562629, 0.61398473, ..., 0.29426554,\n",
              "          0.27854493, 0.26533172],\n",
              "         [0.59276587, 0.60525821, 0.61897329, ..., 0.29731133,\n",
              "          0.2881134 , 0.26286041]],\n",
              " \n",
              "        [[0.66534211, 0.63941176, 0.63492974, ..., 0.6793254 ,\n",
              "          0.63770577, 0.54765712],\n",
              "         [0.67465845, 0.6342492 , 0.64250219, ..., 0.63942776,\n",
              "          0.57734168, 0.4950331 ],\n",
              "         [0.65276251, 0.64175492, 0.6867091 , ..., 0.5042874 ,\n",
              "          0.4595025 , 0.4042999 ],\n",
              "         ...,\n",
              "         [0.11485032, 0.07533711, 0.09048799, ..., 0.        ,\n",
              "          0.        , 0.        ],\n",
              "         [0.49445465, 0.50304728, 0.47518676, ..., 0.18649539,\n",
              "          0.14929056, 0.15355488],\n",
              "         [0.56149227, 0.57831066, 0.56799233, ..., 0.27685479,\n",
              "          0.25721512, 0.25472055]],\n",
              " \n",
              "        ...,\n",
              " \n",
              "        [[0.31275573, 0.28193661, 0.33676537, ..., 0.17193861,\n",
              "          0.14080833, 0.14451146],\n",
              "         [0.31143254, 0.23892437, 0.38948919, ..., 0.14888136,\n",
              "          0.13587692, 0.14619099],\n",
              "         [0.32620463, 0.24917812, 0.42289835, ..., 0.14171822,\n",
              "          0.14880517, 0.14686148],\n",
              "         ...,\n",
              "         [0.29708346, 0.19455827, 0.30827703, ..., 0.10852793,\n",
              "          0.1239166 , 0.12246018],\n",
              "         [0.34380068, 0.32600729, 0.36134168, ..., 0.09632159,\n",
              "          0.08206421, 0.0941461 ],\n",
              "         [0.39977697, 0.39658942, 0.43429379, ..., 0.15388686,\n",
              "          0.13396898, 0.12147135]],\n",
              " \n",
              "        [[0.33625154, 0.3178721 , 0.3411868 , ..., 0.31943854,\n",
              "          0.32095371, 0.32030755],\n",
              "         [0.32980586, 0.24778885, 0.3092578 , ..., 0.22730226,\n",
              "          0.22887974, 0.22869112],\n",
              "         [0.30740098, 0.20700828, 0.30144294, ..., 0.16267089,\n",
              "          0.1667284 , 0.16208026],\n",
              "         ...,\n",
              "         [0.29863298, 0.23790623, 0.26826931, ..., 0.19251122,\n",
              "          0.13438248, 0.13501297],\n",
              "         [0.35476085, 0.3452294 , 0.34363874, ..., 0.22146619,\n",
              "          0.2006183 , 0.21563146],\n",
              "         [0.41376649, 0.41943971, 0.44150141, ..., 0.3209657 ,\n",
              "          0.32883418, 0.33268915]],\n",
              " \n",
              "        [[0.43843227, 0.4473581 , 0.46040508, ..., 0.23536099,\n",
              "          0.22340765, 0.19752909],\n",
              "         [0.36726182, 0.3402954 , 0.38856973, ..., 0.17913782,\n",
              "          0.17917056, 0.16505986],\n",
              "         [0.31252785, 0.24187992, 0.35260104, ..., 0.15392743,\n",
              "          0.16888912, 0.16051668],\n",
              "         ...,\n",
              "         [0.30546385, 0.22045647, 0.28801015, ..., 0.11222557,\n",
              "          0.10846789, 0.10701236],\n",
              "         [0.2837832 , 0.21805125, 0.27354247, ..., 0.06123122,\n",
              "          0.04739518, 0.05788276],\n",
              "         [0.27155474, 0.18895949, 0.21930542, ..., 0.06689288,\n",
              "          0.06207031, 0.06787043]]]),\n",
              " 'label': array([0, 0, 0, 0, 0, 0, 0, 0, 0, 0, 0, 0, 0, 0, 0, 0, 0, 0, 0, 0, 2, 2,\n",
              "        2, 2, 2, 2, 2, 2, 2, 0, 0, 0, 0, 0, 0, 0, 0, 0, 0, 1, 1, 1, 1, 1,\n",
              "        1, 1, 1, 1, 1, 1, 1, 1, 1, 1, 1, 2, 2, 2, 2, 2, 2, 2, 2, 2, 2, 2,\n",
              "        2, 2, 2, 2, 2, 2, 2, 0, 0, 0, 0, 0, 2, 2, 2, 1, 1, 1, 1, 0, 0, 0,\n",
              "        0, 0, 0, 2, 2, 0, 1, 1, 1, 1, 1, 1, 1, 1, 1, 1, 1, 1, 1, 1, 1, 1,\n",
              "        1, 1, 1, 1, 1, 1, 1, 1, 1, 1, 1, 1, 1, 1, 1, 1, 1, 1, 1, 0, 0, 2,\n",
              "        2, 2, 2, 2, 2, 1, 1, 1, 1, 1, 1, 1, 1, 1, 1, 1, 1, 1, 1, 1, 1, 1,\n",
              "        1, 1, 1, 1, 2, 2, 2, 2, 2, 2, 2, 2, 2, 2, 2, 2, 2, 2, 2, 2, 2, 2,\n",
              "        2, 2, 1, 1, 1, 1, 1, 1, 1, 0, 0, 0, 0, 0, 0, 0, 0, 1, 1, 1, 1, 1,\n",
              "        1, 1, 1, 1, 1, 1, 1, 1, 1, 1, 1, 1, 2, 2, 2, 2, 2, 2, 2, 2, 2, 2,\n",
              "        2, 2, 2, 2, 2, 2, 2, 2, 2, 2, 2, 0, 0, 0, 0, 0, 0, 0, 1, 1, 1, 1,\n",
              "        1, 1, 1, 1, 1, 1, 1, 1, 2, 2, 2, 0, 0, 0, 0, 0, 0, 1, 1, 1, 1, 1,\n",
              "        1, 1, 1, 1, 1, 1, 1, 1, 0, 0, 2, 2, 2, 2, 0, 0, 0, 0, 0, 0, 2, 2,\n",
              "        2, 2, 2, 2, 2, 2, 2, 2, 2, 1, 1, 1, 1, 1, 2, 2, 2, 2, 2, 2, 2, 2,\n",
              "        2, 0, 0, 0, 0, 2, 2, 2, 2, 2, 2, 1, 1, 1, 1, 1, 0, 0, 0, 0, 0, 0,\n",
              "        0, 0, 0, 1, 1, 1, 1, 1, 1, 0, 0, 0, 0, 0, 0, 0, 0, 0, 0, 0, 0, 0,\n",
              "        0, 0, 0, 0, 0, 0, 1, 1, 1, 1, 1, 1, 1, 1, 1, 2, 2, 2, 2, 2, 2, 2,\n",
              "        2, 2, 0, 0, 0, 0, 0, 0, 0, 0, 0, 0, 0, 0, 0, 0, 0, 0, 0, 0, 0, 0,\n",
              "        0, 0, 0, 0, 0, 0, 2, 2, 2, 2, 2, 2, 2, 2, 2, 0, 0, 0, 0, 0, 0, 0,\n",
              "        0, 0, 1, 1, 1, 0, 0, 0, 0, 0, 0, 0, 0, 0, 0, 0, 1, 1, 2, 2, 2, 2,\n",
              "        2, 2, 2, 2, 2, 2, 0, 0, 0, 0, 0, 1, 1, 1, 1, 1, 1, 1, 1, 1, 1, 1,\n",
              "        1, 1, 1, 1, 1, 2, 2, 2, 2, 2, 1, 1, 1, 1, 1, 1, 1, 1, 1, 1, 1, 1,\n",
              "        1, 1, 1, 1, 1, 1, 1, 1, 1, 1, 1, 1, 1, 1, 1, 1, 1, 1, 1, 2, 2, 2,\n",
              "        2, 2, 2, 2, 0, 0, 0, 0, 0, 0, 0, 2, 2, 2, 2, 2, 2, 2, 2, 2, 2, 2,\n",
              "        2, 2, 2, 2, 2, 2, 2, 2, 2, 2, 2, 2, 2, 2, 2, 2, 2, 2, 2, 2, 2, 2,\n",
              "        2, 2, 2, 2, 2, 1, 1, 1, 1, 1, 1, 1, 1, 1, 1, 1, 1, 1, 1, 1, 1, 1,\n",
              "        1, 1, 1, 1, 1, 1, 1, 1, 1, 1, 1, 1, 1, 1, 1, 1, 1, 1, 1, 1, 1, 1,\n",
              "        1, 1, 1, 1, 1, 1, 1, 1, 1, 1, 1, 1, 1, 1, 1, 1, 1, 1, 1, 1, 1, 1,\n",
              "        1, 1, 1, 2, 2, 0, 0, 0, 0, 1, 1, 1, 1, 1, 2, 2, 2, 2, 2, 2, 2, 2,\n",
              "        2, 2, 2, 2, 2, 2, 2, 2, 2, 2, 2, 2, 2, 2, 2, 2, 2, 2, 2, 2, 2, 2,\n",
              "        0, 0, 1, 1, 1, 2, 2, 2, 2, 2, 2, 2, 2, 2, 2, 2, 2, 2, 2, 2, 2, 2,\n",
              "        1, 1, 1, 1, 1, 1, 1, 0, 2, 2, 2, 2, 2, 2, 2, 2, 2, 2, 2, 2, 2, 2,\n",
              "        2, 2, 2, 2, 0, 0, 1, 1, 1, 0, 0, 1, 1, 1, 1, 1, 1, 1, 1, 1, 1, 1,\n",
              "        1, 1, 1, 1, 1, 1, 1, 1, 1, 1, 1, 1, 1, 0, 0, 0, 0, 0, 1, 1, 1, 1,\n",
              "        1, 1, 1, 1, 1, 0, 0, 0, 0, 0, 0, 0, 0, 0, 0, 0, 0, 0, 0, 0, 0, 0,\n",
              "        0, 0, 0, 0, 0, 0, 0, 0, 0, 1, 1, 1, 1, 1, 1, 1, 1, 1, 1, 1, 1, 1,\n",
              "        1, 2, 2, 2, 2, 2, 2, 2, 2, 2, 2, 2, 2, 2, 2, 2, 2, 2, 2, 0, 0, 0,\n",
              "        0, 0, 0, 0, 0, 2, 2, 2, 2, 2, 1, 1, 1, 1, 2, 2, 2, 2, 2, 2, 2, 2,\n",
              "        2, 2, 2, 2, 2, 2, 2, 2, 2, 2, 2, 2, 1, 1, 1, 1, 1, 1, 2, 2, 2, 2,\n",
              "        2, 2, 2, 2, 2, 2, 2, 2, 2, 2, 0, 0, 0, 0, 0, 0, 0, 0, 0, 0, 0, 0,\n",
              "        0, 0, 0, 0, 0, 0, 0, 0, 0, 0, 0, 0, 0, 1, 1, 1, 1])}"
            ]
          },
          "metadata": {},
          "execution_count": 32
        }
      ]
    },
    {
      "cell_type": "code",
      "source": [
        "val_features['label'] = val_y\n",
        "val_features"
      ],
      "metadata": {
        "id": "70XrBRVrSQOo",
        "colab": {
          "base_uri": "https://localhost:8080/"
        },
        "outputId": "174e7010-74e5-4c6c-d2a7-b1660482beca"
      },
      "execution_count": null,
      "outputs": [
        {
          "output_type": "execute_result",
          "data": {
            "text/plain": [
              "{'mfcc': array([[[ 0.19040102,  0.58338815,  0.68049186, ...,  0.5335268 ,\n",
              "           0.45109367,  0.43933716],\n",
              "         [ 0.20430182,  0.68989   ,  0.75477374, ...,  0.42060453,\n",
              "           0.35851246,  0.42290965],\n",
              "         [ 0.30724877,  0.72321707,  0.66339153, ...,  0.38438863,\n",
              "           0.42418787,  0.47768667],\n",
              "         ...,\n",
              "         [ 0.56706166,  0.733975  ,  0.5881151 , ...,  0.51443225,\n",
              "           0.36562666,  0.52066505],\n",
              "         [ 0.52079415,  0.7744016 ,  0.6075009 , ...,  0.518576  ,\n",
              "           0.49187276,  0.47313562],\n",
              "         [ 0.49341595,  0.808817  ,  0.6459578 , ...,  0.47188896,\n",
              "           0.5635281 ,  0.4590536 ]],\n",
              " \n",
              "        [[ 0.29439706,  0.6577764 ,  0.65328217, ...,  0.54723924,\n",
              "           0.3891843 ,  0.38000563],\n",
              "         [ 0.46514305,  0.6816832 ,  0.56777805, ...,  0.5872497 ,\n",
              "           0.28956845,  0.53293014],\n",
              "         [ 0.5363484 ,  0.5932922 ,  0.5656139 , ...,  0.5440023 ,\n",
              "           0.41437033,  0.59484076],\n",
              "         ...,\n",
              "         [ 0.5131488 ,  0.54150105,  0.5977223 , ...,  0.43491954,\n",
              "           0.30117226,  0.38661474],\n",
              "         [ 0.4834644 ,  0.5144331 ,  0.63898826, ...,  0.49807206,\n",
              "           0.36024174,  0.5362553 ],\n",
              "         [ 0.47683364,  0.46208438,  0.71107286, ...,  0.5212122 ,\n",
              "           0.38518244,  0.689313  ]],\n",
              " \n",
              "        [[ 0.5910034 ,  0.61467797,  0.51564753, ...,  0.4230359 ,\n",
              "           0.36422   ,  0.7119254 ],\n",
              "         [ 0.54607207,  0.6299584 ,  0.5589694 , ...,  0.44970718,\n",
              "           0.35503826,  0.74885046],\n",
              "         [ 0.5420332 ,  0.5585723 ,  0.6061865 , ...,  0.43853465,\n",
              "           0.3709324 ,  0.5904901 ],\n",
              "         ...,\n",
              "         [ 0.56226623,  0.46793917,  0.5346549 , ...,  0.19769092,\n",
              "           0.47018984,  0.56592906],\n",
              "         [ 0.50015205,  0.5144268 ,  0.55685765, ...,  0.1912947 ,\n",
              "           0.54925364,  0.59150237],\n",
              "         [ 0.47635943,  0.5264517 ,  0.58576214, ...,  0.27903444,\n",
              "           0.56251955,  0.7086323 ]],\n",
              " \n",
              "        ...,\n",
              " \n",
              "        [[ 0.4145317 ,  0.70682156,  0.45649278, ...,  0.6969458 ,\n",
              "           0.66067183,  0.68055433],\n",
              "         [ 0.4434419 ,  0.67529756,  0.35759106, ...,  0.58100426,\n",
              "           0.56813574,  0.5497043 ],\n",
              "         [ 0.4761119 ,  0.5651934 ,  0.34999123, ...,  0.41407147,\n",
              "           0.49579823,  0.49629277],\n",
              "         ...,\n",
              "         [ 0.56442356,  0.8604818 ,  0.6996929 , ...,  0.20050795,\n",
              "           0.32462025,  0.53116786],\n",
              "         [ 0.53790104,  0.9730397 ,  0.8797598 , ...,  0.37367454,\n",
              "           0.4104593 ,  0.4305323 ],\n",
              "         [ 0.5508228 ,  0.97861797,  1.0044149 , ...,  0.39598745,\n",
              "           0.47336084,  0.34335876]],\n",
              " \n",
              "        [[ 0.4527161 ,  0.7593753 ,  0.8002829 , ...,  0.16644064,\n",
              "           0.31521738,  0.51988053],\n",
              "         [ 0.44011247,  0.72410816,  0.67740667, ...,  0.18431966,\n",
              "           0.26757768,  0.5688292 ],\n",
              "         [ 0.45501378,  0.61210984,  0.6144115 , ...,  0.35849044,\n",
              "           0.3769982 ,  0.49882516],\n",
              "         ...,\n",
              "         [ 0.6133278 ,  0.9522883 ,  0.8472831 , ...,  0.43382376,\n",
              "           0.40938714,  0.3117421 ],\n",
              "         [ 0.50781107,  0.81895643,  0.87135154, ...,  0.50176907,\n",
              "           0.48202392,  0.3508039 ],\n",
              "         [ 0.563147  ,  0.7503524 ,  0.8473945 , ...,  0.46865913,\n",
              "           0.52754205,  0.39380097]],\n",
              " \n",
              "        [[ 0.59492517,  1.0365454 ,  0.9875357 , ...,  0.41955277,\n",
              "           0.07343456,  0.23770344],\n",
              "         [ 0.5934689 ,  1.0161338 ,  0.94041383, ...,  0.35193354,\n",
              "          -0.06985421,  0.25275874],\n",
              "         [ 0.64014786,  0.93933636,  0.84894353, ...,  0.42141423,\n",
              "           0.17836274,  0.36944723],\n",
              "         ...,\n",
              "         [ 0.4899606 ,  0.7252782 ,  0.89742374, ...,  0.40722606,\n",
              "           0.28638914,  0.41132122],\n",
              "         [ 0.5607158 ,  0.7370043 ,  0.81601745, ...,  0.5224793 ,\n",
              "           0.47187537,  0.48476863],\n",
              "         [ 0.65392387,  0.7378655 ,  0.8199602 , ...,  0.55032897,\n",
              "           0.57199156,  0.48855105]]], dtype=float32),\n",
              " 'rms': array([[[1.26469211e-04],\n",
              "         [9.81974299e-04],\n",
              "         [2.10356223e-03],\n",
              "         ...,\n",
              "         [2.68991403e-02],\n",
              "         [2.23373510e-02],\n",
              "         [1.79619920e-02]],\n",
              " \n",
              "        [[2.93511362e-03],\n",
              "         [4.00402490e-03],\n",
              "         [5.34430146e-03],\n",
              "         ...,\n",
              "         [3.38661373e-02],\n",
              "         [3.37121002e-02],\n",
              "         [3.48031670e-02]],\n",
              " \n",
              "        [[2.84761321e-02],\n",
              "         [2.76499726e-02],\n",
              "         [2.79342104e-02],\n",
              "         ...,\n",
              "         [2.22867265e-01],\n",
              "         [2.06504956e-01],\n",
              "         [1.41097263e-01]],\n",
              " \n",
              "        ...,\n",
              " \n",
              "        [[4.27602278e-03],\n",
              "         [4.82443813e-03],\n",
              "         [5.25364326e-03],\n",
              "         ...,\n",
              "         [2.99657464e-01],\n",
              "         [2.90775180e-01],\n",
              "         [2.92668700e-01]],\n",
              " \n",
              "        [[1.70135740e-02],\n",
              "         [1.84836704e-02],\n",
              "         [1.90197565e-02],\n",
              "         ...,\n",
              "         [4.53458995e-01],\n",
              "         [2.83415347e-01],\n",
              "         [1.00869104e-01]],\n",
              " \n",
              "        [[2.71545917e-01],\n",
              "         [3.00695568e-01],\n",
              "         [3.32153678e-01],\n",
              "         ...,\n",
              "         [2.14751676e-01],\n",
              "         [2.12489888e-01],\n",
              "         [9.80118215e-02]]], dtype=float32),\n",
              " 'melspectrogram': array([[[0.14448856, 0.12937303, 0.12896177, ..., 0.1309648 ,\n",
              "          0.140738  , 0.14875308],\n",
              "         [0.39771616, 0.35254285, 0.33515772, ..., 0.1032022 ,\n",
              "          0.10883947, 0.1171301 ],\n",
              "         [0.50121886, 0.47146484, 0.48442453, ..., 0.19174635,\n",
              "          0.15583286, 0.12587458],\n",
              "         ...,\n",
              "         [0.68897396, 0.686103  , 0.65511125, ..., 0.3942381 ,\n",
              "          0.4023402 , 0.37644863],\n",
              "         [0.6888173 , 0.7153515 , 0.66734225, ..., 0.3406501 ,\n",
              "          0.33586523, 0.3287308 ],\n",
              "         [0.6940482 , 0.71247643, 0.68132937, ..., 0.34244475,\n",
              "          0.35165396, 0.33036995]],\n",
              " \n",
              "        [[0.36193314, 0.36730194, 0.34312716, ..., 0.2932547 ,\n",
              "          0.263512  , 0.23558596],\n",
              "         [0.54394984, 0.53548706, 0.5240312 , ..., 0.48260787,\n",
              "          0.4537228 , 0.41911006],\n",
              "         [0.5786566 , 0.5841785 , 0.59640133, ..., 0.46799424,\n",
              "          0.49390867, 0.46002543],\n",
              "         ...,\n",
              "         [0.62538666, 0.5894223 , 0.53470176, ..., 0.40656483,\n",
              "          0.4295281 , 0.41797876],\n",
              "         [0.61056346, 0.5928651 , 0.5409559 , ..., 0.3885232 ,\n",
              "          0.38134626, 0.39528397],\n",
              "         [0.589568  , 0.5773545 , 0.53616285, ..., 0.44663033,\n",
              "          0.44338498, 0.44017494]],\n",
              " \n",
              "        [[0.6245033 , 0.69817835, 0.6365195 , ..., 0.5841076 ,\n",
              "          0.53441536, 0.5325265 ],\n",
              "         [0.6314036 , 0.66233456, 0.602215  , ..., 0.52631587,\n",
              "          0.49325654, 0.4768951 ],\n",
              "         [0.62145805, 0.60390234, 0.593805  , ..., 0.4913534 ,\n",
              "          0.47435442, 0.44687808],\n",
              "         ...,\n",
              "         [0.6269834 , 0.5904747 , 0.5266122 , ..., 0.42163676,\n",
              "          0.44253704, 0.4332435 ],\n",
              "         [0.64215046, 0.6037886 , 0.5475319 , ..., 0.38176575,\n",
              "          0.36827895, 0.39968506],\n",
              "         [0.63795793, 0.61380327, 0.5746716 , ..., 0.3862783 ,\n",
              "          0.39376047, 0.40149862]],\n",
              " \n",
              "        ...,\n",
              " \n",
              "        [[0.5768943 , 0.43083093, 0.38599923, ..., 0.27530017,\n",
              "          0.25724378, 0.2651311 ],\n",
              "         [0.59964556, 0.43948835, 0.3964639 , ..., 0.3153328 ,\n",
              "          0.22889933, 0.23362148],\n",
              "         [0.58833486, 0.4715348 , 0.40847743, ..., 0.31881446,\n",
              "          0.24936959, 0.23723817],\n",
              "         ...,\n",
              "         [0.8883165 , 0.8685021 , 0.83285975, ..., 0.23603357,\n",
              "          0.18561974, 0.18863243],\n",
              "         [0.95297015, 0.9681231 , 0.9167172 , ..., 0.23880824,\n",
              "          0.22385016, 0.24473487],\n",
              "         [0.98726773, 0.9989925 , 0.9560217 , ..., 0.33985117,\n",
              "          0.3538414 , 0.36232305]],\n",
              " \n",
              "        [[0.7781187 , 0.70045567, 0.47696215, ..., 0.3468404 ,\n",
              "          0.3569961 , 0.36477396],\n",
              "         [0.75997704, 0.65608585, 0.45387653, ..., 0.3197144 ,\n",
              "          0.32812127, 0.33336145],\n",
              "         [0.72583514, 0.5716141 , 0.45565632, ..., 0.29858577,\n",
              "          0.33448008, 0.33604354],\n",
              "         ...,\n",
              "         [0.936585  , 0.9229257 , 0.89420265, ..., 0.27193564,\n",
              "          0.2892048 , 0.29389876],\n",
              "         [0.87980396, 0.8495422 , 0.781132  , ..., 0.3291556 ,\n",
              "          0.32824525, 0.35180506],\n",
              "         [0.8732076 , 0.83647215, 0.76174724, ..., 0.44290796,\n",
              "          0.46627483, 0.47610283]],\n",
              " \n",
              "        [[0.9739113 , 0.9840475 , 0.9052958 , ..., 0.42179015,\n",
              "          0.42099562, 0.42368087],\n",
              "         [0.9955301 , 1.0265237 , 0.9625714 , ..., 0.40359262,\n",
              "          0.32812127, 0.33336145],\n",
              "         [0.9496213 , 0.99439925, 1.0227633 , ..., 0.39323825,\n",
              "          0.33448008, 0.33604354],\n",
              "         ...,\n",
              "         [0.9117639 , 0.84391445, 0.7060875 , ..., 0.27193564,\n",
              "          0.2892048 , 0.29389876],\n",
              "         [0.872423  , 0.8316401 , 0.74256927, ..., 0.401276  ,\n",
              "          0.40662393, 0.43549606],\n",
              "         [0.8905181 , 0.8710558 , 0.8303098 , ..., 0.51826185,\n",
              "          0.5481053 , 0.5597639 ]]], dtype=float32),\n",
              " 'label': array([0, 2, 2, 2, 2, 2, 2, 2, 2, 2, 2, 2, 2, 0, 0, 0, 0, 0, 0, 0, 1, 1,\n",
              "        1, 1, 1, 2, 2, 2, 2, 2, 2, 2, 2, 2, 2, 2, 2, 2, 0, 0, 0, 0, 0, 0,\n",
              "        1, 1, 1, 2, 2, 2, 2, 2, 1, 1, 2, 2, 2, 1, 1, 1, 1, 1, 1, 1, 1, 1,\n",
              "        2, 2, 2, 2, 2])}"
            ]
          },
          "metadata": {},
          "execution_count": 33
        }
      ]
    },
    {
      "cell_type": "code",
      "source": [
        "audio_df = {'train': train_features, 'val': val_features}\n",
        "\n",
        "audio_df"
      ],
      "metadata": {
        "id": "m5fC9x8YSUx5",
        "colab": {
          "base_uri": "https://localhost:8080/"
        },
        "outputId": "ee89a383-780a-44b7-c20f-942d22106ece"
      },
      "execution_count": null,
      "outputs": [
        {
          "output_type": "execute_result",
          "data": {
            "text/plain": [
              "{'train': {'mfcc': array([[[0.45196299, 0.86899774, 0.76724797, ..., 0.4930924 ,\n",
              "           0.31372398, 0.38404111],\n",
              "          [0.4643291 , 0.8451906 , 0.71392004, ..., 0.49891251,\n",
              "           0.32523724, 0.43230885],\n",
              "          [0.51317713, 0.74132754, 0.64648704, ..., 0.54218557,\n",
              "           0.41009619, 0.40439876],\n",
              "          ...,\n",
              "          [0.73528198, 0.47100205, 0.45628491, ..., 0.53008509,\n",
              "           0.18556476, 0.34542718],\n",
              "          [0.73088355, 0.48112267, 0.41364   , ..., 0.51763292,\n",
              "           0.21784972, 0.32982119],\n",
              "          [0.70441276, 0.49458846, 0.3648672 , ..., 0.42939997,\n",
              "           0.31305707, 0.29767795]],\n",
              "  \n",
              "         [[0.4393311 , 0.86458521, 0.71105676, ..., 0.57686386,\n",
              "           0.47179152, 0.45686834],\n",
              "          [0.45373075, 0.81285538, 0.65925663, ..., 0.62496475,\n",
              "           0.43849502, 0.45489531],\n",
              "          [0.60464377, 0.58836617, 0.54535105, ..., 0.48672029,\n",
              "           0.29762674, 0.45381986],\n",
              "          ...,\n",
              "          [0.51195483, 0.66808846, 0.51322367, ..., 0.45506389,\n",
              "           0.53376011, 0.44102145],\n",
              "          [0.42716128, 0.70680362, 0.57072367, ..., 0.5429683 ,\n",
              "           0.47869736, 0.33773877],\n",
              "          [0.39630885, 0.71962249, 0.61695007, ..., 0.53060424,\n",
              "           0.43880794, 0.32252215]],\n",
              "  \n",
              "         [[0.65451538, 0.72562632, 0.38042283, ..., 0.54165538,\n",
              "           0.25191801, 0.12136189],\n",
              "          [0.61222464, 0.72626305, 0.45809769, ..., 0.59311287,\n",
              "           0.20433118, 0.14588443],\n",
              "          [0.55415621, 0.68846316, 0.5836792 , ..., 0.69183507,\n",
              "           0.32728259, 0.38829285],\n",
              "          ...,\n",
              "          [0.        , 0.43572795, 0.61322137, ..., 0.4382129 ,\n",
              "           0.47847933, 0.49177903],\n",
              "          [0.2399828 , 0.69897596, 0.62430947, ..., 0.43264129,\n",
              "           0.30589681, 0.48728443],\n",
              "          [0.3501382 , 0.73305465, 0.63804962, ..., 0.44025599,\n",
              "           0.32970183, 0.52776248]],\n",
              "  \n",
              "         ...,\n",
              "  \n",
              "         [[0.25334355, 0.76344923, 0.33213588, ..., 0.42190047,\n",
              "           0.45496123, 0.43717526],\n",
              "          [0.24326138, 0.73818442, 0.37676198, ..., 0.43222929,\n",
              "           0.40323909, 0.55264679],\n",
              "          [0.25029458, 0.64676792, 0.44391416, ..., 0.40304175,\n",
              "           0.4678885 , 0.56020294],\n",
              "          ...,\n",
              "          [0.25388312, 0.57940269, 0.20241303, ..., 0.53517919,\n",
              "           0.44775074, 0.33386077],\n",
              "          [0.23360464, 0.65579119, 0.23639164, ..., 0.61565604,\n",
              "           0.61154003, 0.37920789],\n",
              "          [0.31427275, 0.71444317, 0.22931815, ..., 0.64495504,\n",
              "           0.68660768, 0.41801926]],\n",
              "  \n",
              "         [[0.37841776, 0.6549189 , 0.24999051, ..., 0.69553964,\n",
              "           0.61346123, 0.34412016],\n",
              "          [0.31616137, 0.66731742, 0.25391841, ..., 0.69375312,\n",
              "           0.59448206, 0.39101535],\n",
              "          [0.31244676, 0.60357779, 0.18647085, ..., 0.60896209,\n",
              "           0.53220559, 0.54381057],\n",
              "          ...,\n",
              "          [0.23909238, 0.59211714, 0.24499964, ..., 0.6532113 ,\n",
              "           0.10600337, 0.55290234],\n",
              "          [0.31285459, 0.56480982, 0.23192099, ..., 0.68449103,\n",
              "           0.34531878, 0.3401248 ],\n",
              "          [0.41510386, 0.55970048, 0.27562047, ..., 0.67556228,\n",
              "           0.50575372, 0.36891511]],\n",
              "  \n",
              "         [[0.41589827, 0.8421712 , 0.14287917, ..., 0.50820288,\n",
              "           0.48303712, 0.46796844],\n",
              "          [0.35350647, 0.75893675, 0.17232622, ..., 0.55670743,\n",
              "           0.44665327, 0.48988137],\n",
              "          [0.30391995, 0.608994  , 0.23045236, ..., 0.53961712,\n",
              "           0.45719844, 0.51366668],\n",
              "          ...,\n",
              "          [0.17703979, 0.62396154, 0.47420447, ..., 0.51954903,\n",
              "           0.44051021, 0.44891185],\n",
              "          [0.06539422, 0.62680582, 0.49800909, ..., 0.60724022,\n",
              "           0.49414048, 0.42330987],\n",
              "          [0.05233752, 0.61516009, 0.53651385, ..., 0.63862448,\n",
              "           0.63642388, 0.449502  ]]]),\n",
              "  'rms': array([[[0.00738203],\n",
              "          [0.00890564],\n",
              "          [0.02683961],\n",
              "          ...,\n",
              "          [0.11500752],\n",
              "          [0.11490183],\n",
              "          [0.11599316]],\n",
              "  \n",
              "         [[0.00445531],\n",
              "          [0.01205755],\n",
              "          [0.0359273 ],\n",
              "          ...,\n",
              "          [0.01695737],\n",
              "          [0.00969534],\n",
              "          [0.00732476]],\n",
              "  \n",
              "         [[0.02275121],\n",
              "          [0.02216711],\n",
              "          [0.02264068],\n",
              "          ...,\n",
              "          [0.00230496],\n",
              "          [0.00238667],\n",
              "          [0.00255781]],\n",
              "  \n",
              "         ...,\n",
              "  \n",
              "         [[0.00214006],\n",
              "          [0.00210493],\n",
              "          [0.00218423],\n",
              "          ...,\n",
              "          [0.02770769],\n",
              "          [0.02771292],\n",
              "          [0.02784491]],\n",
              "  \n",
              "         [[0.00987425],\n",
              "          [0.01180036],\n",
              "          [0.01230871],\n",
              "          ...,\n",
              "          [0.04017265],\n",
              "          [0.04024987],\n",
              "          [0.04104192]],\n",
              "  \n",
              "         [[0.01151926],\n",
              "          [0.01149032],\n",
              "          [0.01176823],\n",
              "          ...,\n",
              "          [0.00106584],\n",
              "          [0.00061857],\n",
              "          [0.00051733]]], dtype=float32),\n",
              "  'melspectrogram': array([[[0.64159768, 0.66048337, 0.66279302, ..., 0.37058073,\n",
              "           0.34797969, 0.34992692],\n",
              "          [0.66890187, 0.68062175, 0.68075072, ..., 0.37911204,\n",
              "           0.35675489, 0.35735337],\n",
              "          [0.66225354, 0.68087862, 0.72434513, ..., 0.38930736,\n",
              "           0.40496672, 0.3781762 ],\n",
              "          ...,\n",
              "          [0.67081577, 0.65532292, 0.6146544 , ..., 0.73619529,\n",
              "           0.70946482, 0.65181474],\n",
              "          [0.64291948, 0.63980189, 0.61187014, ..., 0.68767503,\n",
              "           0.68250558, 0.6474197 ],\n",
              "          [0.59414314, 0.63749418, 0.65812162, ..., 0.69094839,\n",
              "           0.70997881, 0.61031804]],\n",
              "  \n",
              "         [[0.59823549, 0.60965971, 0.62568762, ..., 0.35619938,\n",
              "           0.3297937 , 0.3228751 ],\n",
              "          [0.60297454, 0.6161742 , 0.6567725 , ..., 0.39171847,\n",
              "           0.34299923, 0.3316283 ],\n",
              "          [0.58518406, 0.6192388 , 0.68477902, ..., 0.59344703,\n",
              "           0.5654333 , 0.53635784],\n",
              "          ...,\n",
              "          [0.60579476, 0.58479977, 0.59910948, ..., 0.36093987,\n",
              "           0.36279478, 0.32270169],\n",
              "          [0.59413041, 0.60562629, 0.61398473, ..., 0.29426554,\n",
              "           0.27854493, 0.26533172],\n",
              "          [0.59276587, 0.60525821, 0.61897329, ..., 0.29731133,\n",
              "           0.2881134 , 0.26286041]],\n",
              "  \n",
              "         [[0.66534211, 0.63941176, 0.63492974, ..., 0.6793254 ,\n",
              "           0.63770577, 0.54765712],\n",
              "          [0.67465845, 0.6342492 , 0.64250219, ..., 0.63942776,\n",
              "           0.57734168, 0.4950331 ],\n",
              "          [0.65276251, 0.64175492, 0.6867091 , ..., 0.5042874 ,\n",
              "           0.4595025 , 0.4042999 ],\n",
              "          ...,\n",
              "          [0.11485032, 0.07533711, 0.09048799, ..., 0.        ,\n",
              "           0.        , 0.        ],\n",
              "          [0.49445465, 0.50304728, 0.47518676, ..., 0.18649539,\n",
              "           0.14929056, 0.15355488],\n",
              "          [0.56149227, 0.57831066, 0.56799233, ..., 0.27685479,\n",
              "           0.25721512, 0.25472055]],\n",
              "  \n",
              "         ...,\n",
              "  \n",
              "         [[0.31275573, 0.28193661, 0.33676537, ..., 0.17193861,\n",
              "           0.14080833, 0.14451146],\n",
              "          [0.31143254, 0.23892437, 0.38948919, ..., 0.14888136,\n",
              "           0.13587692, 0.14619099],\n",
              "          [0.32620463, 0.24917812, 0.42289835, ..., 0.14171822,\n",
              "           0.14880517, 0.14686148],\n",
              "          ...,\n",
              "          [0.29708346, 0.19455827, 0.30827703, ..., 0.10852793,\n",
              "           0.1239166 , 0.12246018],\n",
              "          [0.34380068, 0.32600729, 0.36134168, ..., 0.09632159,\n",
              "           0.08206421, 0.0941461 ],\n",
              "          [0.39977697, 0.39658942, 0.43429379, ..., 0.15388686,\n",
              "           0.13396898, 0.12147135]],\n",
              "  \n",
              "         [[0.33625154, 0.3178721 , 0.3411868 , ..., 0.31943854,\n",
              "           0.32095371, 0.32030755],\n",
              "          [0.32980586, 0.24778885, 0.3092578 , ..., 0.22730226,\n",
              "           0.22887974, 0.22869112],\n",
              "          [0.30740098, 0.20700828, 0.30144294, ..., 0.16267089,\n",
              "           0.1667284 , 0.16208026],\n",
              "          ...,\n",
              "          [0.29863298, 0.23790623, 0.26826931, ..., 0.19251122,\n",
              "           0.13438248, 0.13501297],\n",
              "          [0.35476085, 0.3452294 , 0.34363874, ..., 0.22146619,\n",
              "           0.2006183 , 0.21563146],\n",
              "          [0.41376649, 0.41943971, 0.44150141, ..., 0.3209657 ,\n",
              "           0.32883418, 0.33268915]],\n",
              "  \n",
              "         [[0.43843227, 0.4473581 , 0.46040508, ..., 0.23536099,\n",
              "           0.22340765, 0.19752909],\n",
              "          [0.36726182, 0.3402954 , 0.38856973, ..., 0.17913782,\n",
              "           0.17917056, 0.16505986],\n",
              "          [0.31252785, 0.24187992, 0.35260104, ..., 0.15392743,\n",
              "           0.16888912, 0.16051668],\n",
              "          ...,\n",
              "          [0.30546385, 0.22045647, 0.28801015, ..., 0.11222557,\n",
              "           0.10846789, 0.10701236],\n",
              "          [0.2837832 , 0.21805125, 0.27354247, ..., 0.06123122,\n",
              "           0.04739518, 0.05788276],\n",
              "          [0.27155474, 0.18895949, 0.21930542, ..., 0.06689288,\n",
              "           0.06207031, 0.06787043]]]),\n",
              "  'label': array([0, 0, 0, 0, 0, 0, 0, 0, 0, 0, 0, 0, 0, 0, 0, 0, 0, 0, 0, 0, 2, 2,\n",
              "         2, 2, 2, 2, 2, 2, 2, 0, 0, 0, 0, 0, 0, 0, 0, 0, 0, 1, 1, 1, 1, 1,\n",
              "         1, 1, 1, 1, 1, 1, 1, 1, 1, 1, 1, 2, 2, 2, 2, 2, 2, 2, 2, 2, 2, 2,\n",
              "         2, 2, 2, 2, 2, 2, 2, 0, 0, 0, 0, 0, 2, 2, 2, 1, 1, 1, 1, 0, 0, 0,\n",
              "         0, 0, 0, 2, 2, 0, 1, 1, 1, 1, 1, 1, 1, 1, 1, 1, 1, 1, 1, 1, 1, 1,\n",
              "         1, 1, 1, 1, 1, 1, 1, 1, 1, 1, 1, 1, 1, 1, 1, 1, 1, 1, 1, 0, 0, 2,\n",
              "         2, 2, 2, 2, 2, 1, 1, 1, 1, 1, 1, 1, 1, 1, 1, 1, 1, 1, 1, 1, 1, 1,\n",
              "         1, 1, 1, 1, 2, 2, 2, 2, 2, 2, 2, 2, 2, 2, 2, 2, 2, 2, 2, 2, 2, 2,\n",
              "         2, 2, 1, 1, 1, 1, 1, 1, 1, 0, 0, 0, 0, 0, 0, 0, 0, 1, 1, 1, 1, 1,\n",
              "         1, 1, 1, 1, 1, 1, 1, 1, 1, 1, 1, 1, 2, 2, 2, 2, 2, 2, 2, 2, 2, 2,\n",
              "         2, 2, 2, 2, 2, 2, 2, 2, 2, 2, 2, 0, 0, 0, 0, 0, 0, 0, 1, 1, 1, 1,\n",
              "         1, 1, 1, 1, 1, 1, 1, 1, 2, 2, 2, 0, 0, 0, 0, 0, 0, 1, 1, 1, 1, 1,\n",
              "         1, 1, 1, 1, 1, 1, 1, 1, 0, 0, 2, 2, 2, 2, 0, 0, 0, 0, 0, 0, 2, 2,\n",
              "         2, 2, 2, 2, 2, 2, 2, 2, 2, 1, 1, 1, 1, 1, 2, 2, 2, 2, 2, 2, 2, 2,\n",
              "         2, 0, 0, 0, 0, 2, 2, 2, 2, 2, 2, 1, 1, 1, 1, 1, 0, 0, 0, 0, 0, 0,\n",
              "         0, 0, 0, 1, 1, 1, 1, 1, 1, 0, 0, 0, 0, 0, 0, 0, 0, 0, 0, 0, 0, 0,\n",
              "         0, 0, 0, 0, 0, 0, 1, 1, 1, 1, 1, 1, 1, 1, 1, 2, 2, 2, 2, 2, 2, 2,\n",
              "         2, 2, 0, 0, 0, 0, 0, 0, 0, 0, 0, 0, 0, 0, 0, 0, 0, 0, 0, 0, 0, 0,\n",
              "         0, 0, 0, 0, 0, 0, 2, 2, 2, 2, 2, 2, 2, 2, 2, 0, 0, 0, 0, 0, 0, 0,\n",
              "         0, 0, 1, 1, 1, 0, 0, 0, 0, 0, 0, 0, 0, 0, 0, 0, 1, 1, 2, 2, 2, 2,\n",
              "         2, 2, 2, 2, 2, 2, 0, 0, 0, 0, 0, 1, 1, 1, 1, 1, 1, 1, 1, 1, 1, 1,\n",
              "         1, 1, 1, 1, 1, 2, 2, 2, 2, 2, 1, 1, 1, 1, 1, 1, 1, 1, 1, 1, 1, 1,\n",
              "         1, 1, 1, 1, 1, 1, 1, 1, 1, 1, 1, 1, 1, 1, 1, 1, 1, 1, 1, 2, 2, 2,\n",
              "         2, 2, 2, 2, 0, 0, 0, 0, 0, 0, 0, 2, 2, 2, 2, 2, 2, 2, 2, 2, 2, 2,\n",
              "         2, 2, 2, 2, 2, 2, 2, 2, 2, 2, 2, 2, 2, 2, 2, 2, 2, 2, 2, 2, 2, 2,\n",
              "         2, 2, 2, 2, 2, 1, 1, 1, 1, 1, 1, 1, 1, 1, 1, 1, 1, 1, 1, 1, 1, 1,\n",
              "         1, 1, 1, 1, 1, 1, 1, 1, 1, 1, 1, 1, 1, 1, 1, 1, 1, 1, 1, 1, 1, 1,\n",
              "         1, 1, 1, 1, 1, 1, 1, 1, 1, 1, 1, 1, 1, 1, 1, 1, 1, 1, 1, 1, 1, 1,\n",
              "         1, 1, 1, 2, 2, 0, 0, 0, 0, 1, 1, 1, 1, 1, 2, 2, 2, 2, 2, 2, 2, 2,\n",
              "         2, 2, 2, 2, 2, 2, 2, 2, 2, 2, 2, 2, 2, 2, 2, 2, 2, 2, 2, 2, 2, 2,\n",
              "         0, 0, 1, 1, 1, 2, 2, 2, 2, 2, 2, 2, 2, 2, 2, 2, 2, 2, 2, 2, 2, 2,\n",
              "         1, 1, 1, 1, 1, 1, 1, 0, 2, 2, 2, 2, 2, 2, 2, 2, 2, 2, 2, 2, 2, 2,\n",
              "         2, 2, 2, 2, 0, 0, 1, 1, 1, 0, 0, 1, 1, 1, 1, 1, 1, 1, 1, 1, 1, 1,\n",
              "         1, 1, 1, 1, 1, 1, 1, 1, 1, 1, 1, 1, 1, 0, 0, 0, 0, 0, 1, 1, 1, 1,\n",
              "         1, 1, 1, 1, 1, 0, 0, 0, 0, 0, 0, 0, 0, 0, 0, 0, 0, 0, 0, 0, 0, 0,\n",
              "         0, 0, 0, 0, 0, 0, 0, 0, 0, 1, 1, 1, 1, 1, 1, 1, 1, 1, 1, 1, 1, 1,\n",
              "         1, 2, 2, 2, 2, 2, 2, 2, 2, 2, 2, 2, 2, 2, 2, 2, 2, 2, 2, 0, 0, 0,\n",
              "         0, 0, 0, 0, 0, 2, 2, 2, 2, 2, 1, 1, 1, 1, 2, 2, 2, 2, 2, 2, 2, 2,\n",
              "         2, 2, 2, 2, 2, 2, 2, 2, 2, 2, 2, 2, 1, 1, 1, 1, 1, 1, 2, 2, 2, 2,\n",
              "         2, 2, 2, 2, 2, 2, 2, 2, 2, 2, 0, 0, 0, 0, 0, 0, 0, 0, 0, 0, 0, 0,\n",
              "         0, 0, 0, 0, 0, 0, 0, 0, 0, 0, 0, 0, 0, 1, 1, 1, 1])},\n",
              " 'val': {'mfcc': array([[[ 0.19040102,  0.58338815,  0.68049186, ...,  0.5335268 ,\n",
              "            0.45109367,  0.43933716],\n",
              "          [ 0.20430182,  0.68989   ,  0.75477374, ...,  0.42060453,\n",
              "            0.35851246,  0.42290965],\n",
              "          [ 0.30724877,  0.72321707,  0.66339153, ...,  0.38438863,\n",
              "            0.42418787,  0.47768667],\n",
              "          ...,\n",
              "          [ 0.56706166,  0.733975  ,  0.5881151 , ...,  0.51443225,\n",
              "            0.36562666,  0.52066505],\n",
              "          [ 0.52079415,  0.7744016 ,  0.6075009 , ...,  0.518576  ,\n",
              "            0.49187276,  0.47313562],\n",
              "          [ 0.49341595,  0.808817  ,  0.6459578 , ...,  0.47188896,\n",
              "            0.5635281 ,  0.4590536 ]],\n",
              "  \n",
              "         [[ 0.29439706,  0.6577764 ,  0.65328217, ...,  0.54723924,\n",
              "            0.3891843 ,  0.38000563],\n",
              "          [ 0.46514305,  0.6816832 ,  0.56777805, ...,  0.5872497 ,\n",
              "            0.28956845,  0.53293014],\n",
              "          [ 0.5363484 ,  0.5932922 ,  0.5656139 , ...,  0.5440023 ,\n",
              "            0.41437033,  0.59484076],\n",
              "          ...,\n",
              "          [ 0.5131488 ,  0.54150105,  0.5977223 , ...,  0.43491954,\n",
              "            0.30117226,  0.38661474],\n",
              "          [ 0.4834644 ,  0.5144331 ,  0.63898826, ...,  0.49807206,\n",
              "            0.36024174,  0.5362553 ],\n",
              "          [ 0.47683364,  0.46208438,  0.71107286, ...,  0.5212122 ,\n",
              "            0.38518244,  0.689313  ]],\n",
              "  \n",
              "         [[ 0.5910034 ,  0.61467797,  0.51564753, ...,  0.4230359 ,\n",
              "            0.36422   ,  0.7119254 ],\n",
              "          [ 0.54607207,  0.6299584 ,  0.5589694 , ...,  0.44970718,\n",
              "            0.35503826,  0.74885046],\n",
              "          [ 0.5420332 ,  0.5585723 ,  0.6061865 , ...,  0.43853465,\n",
              "            0.3709324 ,  0.5904901 ],\n",
              "          ...,\n",
              "          [ 0.56226623,  0.46793917,  0.5346549 , ...,  0.19769092,\n",
              "            0.47018984,  0.56592906],\n",
              "          [ 0.50015205,  0.5144268 ,  0.55685765, ...,  0.1912947 ,\n",
              "            0.54925364,  0.59150237],\n",
              "          [ 0.47635943,  0.5264517 ,  0.58576214, ...,  0.27903444,\n",
              "            0.56251955,  0.7086323 ]],\n",
              "  \n",
              "         ...,\n",
              "  \n",
              "         [[ 0.4145317 ,  0.70682156,  0.45649278, ...,  0.6969458 ,\n",
              "            0.66067183,  0.68055433],\n",
              "          [ 0.4434419 ,  0.67529756,  0.35759106, ...,  0.58100426,\n",
              "            0.56813574,  0.5497043 ],\n",
              "          [ 0.4761119 ,  0.5651934 ,  0.34999123, ...,  0.41407147,\n",
              "            0.49579823,  0.49629277],\n",
              "          ...,\n",
              "          [ 0.56442356,  0.8604818 ,  0.6996929 , ...,  0.20050795,\n",
              "            0.32462025,  0.53116786],\n",
              "          [ 0.53790104,  0.9730397 ,  0.8797598 , ...,  0.37367454,\n",
              "            0.4104593 ,  0.4305323 ],\n",
              "          [ 0.5508228 ,  0.97861797,  1.0044149 , ...,  0.39598745,\n",
              "            0.47336084,  0.34335876]],\n",
              "  \n",
              "         [[ 0.4527161 ,  0.7593753 ,  0.8002829 , ...,  0.16644064,\n",
              "            0.31521738,  0.51988053],\n",
              "          [ 0.44011247,  0.72410816,  0.67740667, ...,  0.18431966,\n",
              "            0.26757768,  0.5688292 ],\n",
              "          [ 0.45501378,  0.61210984,  0.6144115 , ...,  0.35849044,\n",
              "            0.3769982 ,  0.49882516],\n",
              "          ...,\n",
              "          [ 0.6133278 ,  0.9522883 ,  0.8472831 , ...,  0.43382376,\n",
              "            0.40938714,  0.3117421 ],\n",
              "          [ 0.50781107,  0.81895643,  0.87135154, ...,  0.50176907,\n",
              "            0.48202392,  0.3508039 ],\n",
              "          [ 0.563147  ,  0.7503524 ,  0.8473945 , ...,  0.46865913,\n",
              "            0.52754205,  0.39380097]],\n",
              "  \n",
              "         [[ 0.59492517,  1.0365454 ,  0.9875357 , ...,  0.41955277,\n",
              "            0.07343456,  0.23770344],\n",
              "          [ 0.5934689 ,  1.0161338 ,  0.94041383, ...,  0.35193354,\n",
              "           -0.06985421,  0.25275874],\n",
              "          [ 0.64014786,  0.93933636,  0.84894353, ...,  0.42141423,\n",
              "            0.17836274,  0.36944723],\n",
              "          ...,\n",
              "          [ 0.4899606 ,  0.7252782 ,  0.89742374, ...,  0.40722606,\n",
              "            0.28638914,  0.41132122],\n",
              "          [ 0.5607158 ,  0.7370043 ,  0.81601745, ...,  0.5224793 ,\n",
              "            0.47187537,  0.48476863],\n",
              "          [ 0.65392387,  0.7378655 ,  0.8199602 , ...,  0.55032897,\n",
              "            0.57199156,  0.48855105]]], dtype=float32),\n",
              "  'rms': array([[[1.26469211e-04],\n",
              "          [9.81974299e-04],\n",
              "          [2.10356223e-03],\n",
              "          ...,\n",
              "          [2.68991403e-02],\n",
              "          [2.23373510e-02],\n",
              "          [1.79619920e-02]],\n",
              "  \n",
              "         [[2.93511362e-03],\n",
              "          [4.00402490e-03],\n",
              "          [5.34430146e-03],\n",
              "          ...,\n",
              "          [3.38661373e-02],\n",
              "          [3.37121002e-02],\n",
              "          [3.48031670e-02]],\n",
              "  \n",
              "         [[2.84761321e-02],\n",
              "          [2.76499726e-02],\n",
              "          [2.79342104e-02],\n",
              "          ...,\n",
              "          [2.22867265e-01],\n",
              "          [2.06504956e-01],\n",
              "          [1.41097263e-01]],\n",
              "  \n",
              "         ...,\n",
              "  \n",
              "         [[4.27602278e-03],\n",
              "          [4.82443813e-03],\n",
              "          [5.25364326e-03],\n",
              "          ...,\n",
              "          [2.99657464e-01],\n",
              "          [2.90775180e-01],\n",
              "          [2.92668700e-01]],\n",
              "  \n",
              "         [[1.70135740e-02],\n",
              "          [1.84836704e-02],\n",
              "          [1.90197565e-02],\n",
              "          ...,\n",
              "          [4.53458995e-01],\n",
              "          [2.83415347e-01],\n",
              "          [1.00869104e-01]],\n",
              "  \n",
              "         [[2.71545917e-01],\n",
              "          [3.00695568e-01],\n",
              "          [3.32153678e-01],\n",
              "          ...,\n",
              "          [2.14751676e-01],\n",
              "          [2.12489888e-01],\n",
              "          [9.80118215e-02]]], dtype=float32),\n",
              "  'melspectrogram': array([[[0.14448856, 0.12937303, 0.12896177, ..., 0.1309648 ,\n",
              "           0.140738  , 0.14875308],\n",
              "          [0.39771616, 0.35254285, 0.33515772, ..., 0.1032022 ,\n",
              "           0.10883947, 0.1171301 ],\n",
              "          [0.50121886, 0.47146484, 0.48442453, ..., 0.19174635,\n",
              "           0.15583286, 0.12587458],\n",
              "          ...,\n",
              "          [0.68897396, 0.686103  , 0.65511125, ..., 0.3942381 ,\n",
              "           0.4023402 , 0.37644863],\n",
              "          [0.6888173 , 0.7153515 , 0.66734225, ..., 0.3406501 ,\n",
              "           0.33586523, 0.3287308 ],\n",
              "          [0.6940482 , 0.71247643, 0.68132937, ..., 0.34244475,\n",
              "           0.35165396, 0.33036995]],\n",
              "  \n",
              "         [[0.36193314, 0.36730194, 0.34312716, ..., 0.2932547 ,\n",
              "           0.263512  , 0.23558596],\n",
              "          [0.54394984, 0.53548706, 0.5240312 , ..., 0.48260787,\n",
              "           0.4537228 , 0.41911006],\n",
              "          [0.5786566 , 0.5841785 , 0.59640133, ..., 0.46799424,\n",
              "           0.49390867, 0.46002543],\n",
              "          ...,\n",
              "          [0.62538666, 0.5894223 , 0.53470176, ..., 0.40656483,\n",
              "           0.4295281 , 0.41797876],\n",
              "          [0.61056346, 0.5928651 , 0.5409559 , ..., 0.3885232 ,\n",
              "           0.38134626, 0.39528397],\n",
              "          [0.589568  , 0.5773545 , 0.53616285, ..., 0.44663033,\n",
              "           0.44338498, 0.44017494]],\n",
              "  \n",
              "         [[0.6245033 , 0.69817835, 0.6365195 , ..., 0.5841076 ,\n",
              "           0.53441536, 0.5325265 ],\n",
              "          [0.6314036 , 0.66233456, 0.602215  , ..., 0.52631587,\n",
              "           0.49325654, 0.4768951 ],\n",
              "          [0.62145805, 0.60390234, 0.593805  , ..., 0.4913534 ,\n",
              "           0.47435442, 0.44687808],\n",
              "          ...,\n",
              "          [0.6269834 , 0.5904747 , 0.5266122 , ..., 0.42163676,\n",
              "           0.44253704, 0.4332435 ],\n",
              "          [0.64215046, 0.6037886 , 0.5475319 , ..., 0.38176575,\n",
              "           0.36827895, 0.39968506],\n",
              "          [0.63795793, 0.61380327, 0.5746716 , ..., 0.3862783 ,\n",
              "           0.39376047, 0.40149862]],\n",
              "  \n",
              "         ...,\n",
              "  \n",
              "         [[0.5768943 , 0.43083093, 0.38599923, ..., 0.27530017,\n",
              "           0.25724378, 0.2651311 ],\n",
              "          [0.59964556, 0.43948835, 0.3964639 , ..., 0.3153328 ,\n",
              "           0.22889933, 0.23362148],\n",
              "          [0.58833486, 0.4715348 , 0.40847743, ..., 0.31881446,\n",
              "           0.24936959, 0.23723817],\n",
              "          ...,\n",
              "          [0.8883165 , 0.8685021 , 0.83285975, ..., 0.23603357,\n",
              "           0.18561974, 0.18863243],\n",
              "          [0.95297015, 0.9681231 , 0.9167172 , ..., 0.23880824,\n",
              "           0.22385016, 0.24473487],\n",
              "          [0.98726773, 0.9989925 , 0.9560217 , ..., 0.33985117,\n",
              "           0.3538414 , 0.36232305]],\n",
              "  \n",
              "         [[0.7781187 , 0.70045567, 0.47696215, ..., 0.3468404 ,\n",
              "           0.3569961 , 0.36477396],\n",
              "          [0.75997704, 0.65608585, 0.45387653, ..., 0.3197144 ,\n",
              "           0.32812127, 0.33336145],\n",
              "          [0.72583514, 0.5716141 , 0.45565632, ..., 0.29858577,\n",
              "           0.33448008, 0.33604354],\n",
              "          ...,\n",
              "          [0.936585  , 0.9229257 , 0.89420265, ..., 0.27193564,\n",
              "           0.2892048 , 0.29389876],\n",
              "          [0.87980396, 0.8495422 , 0.781132  , ..., 0.3291556 ,\n",
              "           0.32824525, 0.35180506],\n",
              "          [0.8732076 , 0.83647215, 0.76174724, ..., 0.44290796,\n",
              "           0.46627483, 0.47610283]],\n",
              "  \n",
              "         [[0.9739113 , 0.9840475 , 0.9052958 , ..., 0.42179015,\n",
              "           0.42099562, 0.42368087],\n",
              "          [0.9955301 , 1.0265237 , 0.9625714 , ..., 0.40359262,\n",
              "           0.32812127, 0.33336145],\n",
              "          [0.9496213 , 0.99439925, 1.0227633 , ..., 0.39323825,\n",
              "           0.33448008, 0.33604354],\n",
              "          ...,\n",
              "          [0.9117639 , 0.84391445, 0.7060875 , ..., 0.27193564,\n",
              "           0.2892048 , 0.29389876],\n",
              "          [0.872423  , 0.8316401 , 0.74256927, ..., 0.401276  ,\n",
              "           0.40662393, 0.43549606],\n",
              "          [0.8905181 , 0.8710558 , 0.8303098 , ..., 0.51826185,\n",
              "           0.5481053 , 0.5597639 ]]], dtype=float32),\n",
              "  'label': array([0, 2, 2, 2, 2, 2, 2, 2, 2, 2, 2, 2, 2, 0, 0, 0, 0, 0, 0, 0, 1, 1,\n",
              "         1, 1, 1, 2, 2, 2, 2, 2, 2, 2, 2, 2, 2, 2, 2, 2, 0, 0, 0, 0, 0, 0,\n",
              "         1, 1, 1, 2, 2, 2, 2, 2, 1, 1, 2, 2, 2, 1, 1, 1, 1, 1, 1, 1, 1, 1,\n",
              "         2, 2, 2, 2, 2])}}"
            ]
          },
          "metadata": {},
          "execution_count": 34
        }
      ]
    },
    {
      "cell_type": "markdown",
      "source": [
        "##For non Audio Feature\n"
      ],
      "metadata": {
        "id": "qIQccV5ayDtj"
      }
    },
    {
      "cell_type": "code",
      "source": [
        "# May add sth"
      ],
      "metadata": {
        "id": "cnjwSFksyGi7"
      },
      "execution_count": null,
      "outputs": []
    },
    {
      "cell_type": "code",
      "source": [
        "\n",
        "NonAudiofeatures_list = ['type','continent','rating']"
      ],
      "metadata": {
        "id": "_AK1q1PAyt-j"
      },
      "execution_count": null,
      "outputs": []
    },
    {
      "cell_type": "code",
      "source": [
        "%%time\n",
        "\n",
        "NonAudiofeatures = Extraction(framed.train_df,\n",
        "                      framed.val_df,\n",
        "                      features=NonAudiofeatures_list,\n",
        "                      do_normalize=False,\n",
        "                      do_avgpool=False)"
      ],
      "metadata": {
        "colab": {
          "base_uri": "https://localhost:8080/",
          "height": 162
        },
        "id": "b61Ch2q-yyGq",
        "outputId": "f33440ef-f88a-40ac-f73c-adedbdaee336"
      },
      "execution_count": null,
      "outputs": [
        {
          "output_type": "display_data",
          "data": {
            "text/plain": [
              "'feature extraction started ---------->'"
            ],
            "application/vnd.google.colaboratory.intrinsic+json": {
              "type": "string"
            }
          },
          "metadata": {}
        },
        {
          "output_type": "display_data",
          "data": {
            "text/plain": [
              "'features extraction took 0.0 mins'"
            ],
            "application/vnd.google.colaboratory.intrinsic+json": {
              "type": "string"
            }
          },
          "metadata": {}
        },
        {
          "output_type": "display_data",
          "data": {
            "text/plain": [
              "'feature extraction started ---------->'"
            ],
            "application/vnd.google.colaboratory.intrinsic+json": {
              "type": "string"
            }
          },
          "metadata": {}
        },
        {
          "output_type": "display_data",
          "data": {
            "text/plain": [
              "'features extraction took 0.0 mins'"
            ],
            "application/vnd.google.colaboratory.intrinsic+json": {
              "type": "string"
            }
          },
          "metadata": {}
        },
        {
          "output_type": "display_data",
          "data": {
            "text/plain": [
              "'features processing started ---------->'"
            ],
            "application/vnd.google.colaboratory.intrinsic+json": {
              "type": "string"
            }
          },
          "metadata": {}
        },
        {
          "output_type": "display_data",
          "data": {
            "text/plain": [
              "'features processing took 0.0 mins'"
            ],
            "application/vnd.google.colaboratory.intrinsic+json": {
              "type": "string"
            }
          },
          "metadata": {}
        },
        {
          "output_type": "stream",
          "name": "stdout",
          "text": [
            "CPU times: user 244 ms, sys: 1.07 ms, total: 245 ms\n",
            "Wall time: 244 ms\n"
          ]
        }
      ]
    },
    {
      "cell_type": "code",
      "source": [
        "\n",
        "NonAudio_train_y = NonAudiofeatures.train_y\n",
        "\n",
        "display(NonAudio_train_y.shape)\n",
        "display(NonAudio_train_y[:5])"
      ],
      "metadata": {
        "colab": {
          "base_uri": "https://localhost:8080/",
          "height": 52
        },
        "id": "2K0q8nL11ZiT",
        "outputId": "9e66c253-5be4-439e-d955-08a6bb7a5db9"
      },
      "execution_count": null,
      "outputs": [
        {
          "output_type": "display_data",
          "data": {
            "text/plain": [
              "(897,)"
            ]
          },
          "metadata": {}
        },
        {
          "output_type": "display_data",
          "data": {
            "text/plain": [
              "array(['egygoo', 'egygoo', 'egygoo', 'egygoo', 'egygoo'], dtype='<U7')"
            ]
          },
          "metadata": {}
        }
      ]
    },
    {
      "cell_type": "code",
      "source": [
        "\n",
        "NonAudio_train_features = NonAudiofeatures.train_features\n",
        "\n",
        "for key in NonAudio_train_features.keys():\n",
        "  display(key)\n",
        "  display(NonAudio_train_features[key].shape)\n",
        "  display(NonAudio_train_features[key][0])"
      ],
      "metadata": {
        "colab": {
          "base_uri": "https://localhost:8080/",
          "height": 178
        },
        "id": "CjxwfDsSztrb",
        "outputId": "838c4783-7013-429e-f8ea-f5d549b7f277"
      },
      "execution_count": null,
      "outputs": [
        {
          "output_type": "display_data",
          "data": {
            "text/plain": [
              "'type'"
            ],
            "application/vnd.google.colaboratory.intrinsic+json": {
              "type": "string"
            }
          },
          "metadata": {}
        },
        {
          "output_type": "display_data",
          "data": {
            "text/plain": [
              "(897,)"
            ]
          },
          "metadata": {}
        },
        {
          "output_type": "display_data",
          "data": {
            "text/plain": [
              "'call'"
            ],
            "application/vnd.google.colaboratory.intrinsic+json": {
              "type": "string"
            }
          },
          "metadata": {}
        },
        {
          "output_type": "display_data",
          "data": {
            "text/plain": [
              "'continent'"
            ],
            "application/vnd.google.colaboratory.intrinsic+json": {
              "type": "string"
            }
          },
          "metadata": {}
        },
        {
          "output_type": "display_data",
          "data": {
            "text/plain": [
              "(897,)"
            ]
          },
          "metadata": {}
        },
        {
          "output_type": "display_data",
          "data": {
            "text/plain": [
              "'EU'"
            ],
            "application/vnd.google.colaboratory.intrinsic+json": {
              "type": "string"
            }
          },
          "metadata": {}
        },
        {
          "output_type": "display_data",
          "data": {
            "text/plain": [
              "'rating'"
            ],
            "application/vnd.google.colaboratory.intrinsic+json": {
              "type": "string"
            }
          },
          "metadata": {}
        },
        {
          "output_type": "display_data",
          "data": {
            "text/plain": [
              "(897,)"
            ]
          },
          "metadata": {}
        },
        {
          "output_type": "display_data",
          "data": {
            "text/plain": [
              "5.0"
            ]
          },
          "metadata": {}
        }
      ]
    },
    {
      "cell_type": "code",
      "source": [
        "\n",
        "NonAudio_val_y = NonAudiofeatures.val_y\n",
        "NonAudio_val_y = np.array(val_y)\n",
        "\n",
        "display(val_y.shape)\n",
        "display(val_y[:5])"
      ],
      "metadata": {
        "id": "1NgzRnpG1qWz",
        "colab": {
          "base_uri": "https://localhost:8080/",
          "height": 52
        },
        "outputId": "715274c7-15d8-4ee4-9d13-206ba8fddfd9"
      },
      "execution_count": null,
      "outputs": [
        {
          "output_type": "display_data",
          "data": {
            "text/plain": [
              "(71,)"
            ]
          },
          "metadata": {}
        },
        {
          "output_type": "display_data",
          "data": {
            "text/plain": [
              "array([0, 2, 2, 2, 2])"
            ]
          },
          "metadata": {}
        }
      ]
    },
    {
      "cell_type": "code",
      "source": [
        "NonAudio_val_features = NonAudiofeatures.val_features\n",
        "\n",
        "for key in NonAudio_val_features.keys():\n",
        "  display(key)\n",
        "  display(NonAudio_val_features[key].shape)\n",
        "  display(NonAudio_val_features[key][0])"
      ],
      "metadata": {
        "colab": {
          "base_uri": "https://localhost:8080/",
          "height": 178
        },
        "id": "u4vIYYaLz5wD",
        "outputId": "8be01bdf-0b8a-485f-fb1c-da656558cf49"
      },
      "execution_count": null,
      "outputs": [
        {
          "output_type": "display_data",
          "data": {
            "text/plain": [
              "'type'"
            ],
            "application/vnd.google.colaboratory.intrinsic+json": {
              "type": "string"
            }
          },
          "metadata": {}
        },
        {
          "output_type": "display_data",
          "data": {
            "text/plain": [
              "(71,)"
            ]
          },
          "metadata": {}
        },
        {
          "output_type": "display_data",
          "data": {
            "text/plain": [
              "'call'"
            ],
            "application/vnd.google.colaboratory.intrinsic+json": {
              "type": "string"
            }
          },
          "metadata": {}
        },
        {
          "output_type": "display_data",
          "data": {
            "text/plain": [
              "'continent'"
            ],
            "application/vnd.google.colaboratory.intrinsic+json": {
              "type": "string"
            }
          },
          "metadata": {}
        },
        {
          "output_type": "display_data",
          "data": {
            "text/plain": [
              "(71,)"
            ]
          },
          "metadata": {}
        },
        {
          "output_type": "display_data",
          "data": {
            "text/plain": [
              "'EU'"
            ],
            "application/vnd.google.colaboratory.intrinsic+json": {
              "type": "string"
            }
          },
          "metadata": {}
        },
        {
          "output_type": "display_data",
          "data": {
            "text/plain": [
              "'rating'"
            ],
            "application/vnd.google.colaboratory.intrinsic+json": {
              "type": "string"
            }
          },
          "metadata": {}
        },
        {
          "output_type": "display_data",
          "data": {
            "text/plain": [
              "(71,)"
            ]
          },
          "metadata": {}
        },
        {
          "output_type": "display_data",
          "data": {
            "text/plain": [
              "5.0"
            ]
          },
          "metadata": {}
        }
      ]
    },
    {
      "cell_type": "markdown",
      "source": [
        "encode class for non audio\n"
      ],
      "metadata": {
        "id": "3UzrXEpQ52fa"
      }
    },
    {
      "cell_type": "code",
      "source": [
        "NonAudio_label_encoder = LabelEncoder().fit(NonAudio_train_y)\n",
        "NonAudio_train_y = NonAudio_label_encoder.transform(NonAudio_train_y)\n",
        "\n",
        "# Convert NonAudio_val_y to numerical type before transformation\n",
        "NonAudio_val_y = NonAudio_val_y.astype(int) # add this line\n",
        "NonAudio_val_y = NonAudio_label_encoder.transform(NonAudio_val_y)\n",
        "\n",
        "classes = list(NonAudio_label_encoder.inverse_transform([0,1,2])) # Also, changed label_encoder to NonAudio_label_encoder\n",
        "classes"
      ],
      "metadata": {
        "id": "ElOauDM2z78y",
        "colab": {
          "base_uri": "https://localhost:8080/"
        },
        "outputId": "b8f13fdb-8cf7-422a-c53c-f364cb1b9018"
      },
      "execution_count": null,
      "outputs": [
        {
          "output_type": "execute_result",
          "data": {
            "text/plain": [
              "[0, 1, 2]"
            ]
          },
          "metadata": {},
          "execution_count": 43
        }
      ]
    },
    {
      "cell_type": "code",
      "source": [
        "\n",
        "display(len(NonAudio_train_y))\n",
        "display(NonAudio_train_y[:10])\n",
        "\n",
        "display(len(NonAudio_val_y))\n",
        "display(NonAudio_val_y[:10])"
      ],
      "metadata": {
        "id": "Sojgexfkz_W1",
        "colab": {
          "base_uri": "https://localhost:8080/",
          "height": 86
        },
        "outputId": "2d4861b0-7282-4d02-bf10-a07db3fde1f5"
      },
      "execution_count": null,
      "outputs": [
        {
          "output_type": "display_data",
          "data": {
            "text/plain": [
              "897"
            ]
          },
          "metadata": {}
        },
        {
          "output_type": "display_data",
          "data": {
            "text/plain": [
              "array([0, 0, 0, 0, 0, 0, 0, 0, 0, 0])"
            ]
          },
          "metadata": {}
        },
        {
          "output_type": "display_data",
          "data": {
            "text/plain": [
              "71"
            ]
          },
          "metadata": {}
        },
        {
          "output_type": "display_data",
          "data": {
            "text/plain": [
              "array([0, 2, 2, 2, 2, 2, 2, 2, 2, 2])"
            ]
          },
          "metadata": {}
        }
      ]
    },
    {
      "cell_type": "code",
      "source": [
        "\n",
        "NonAudio_train_features['label'] = NonAudio_train_y\n",
        "NonAudio_train_features"
      ],
      "metadata": {
        "id": "2zkymz_j0BsG",
        "colab": {
          "base_uri": "https://localhost:8080/"
        },
        "outputId": "af5fd056-1b34-4c80-bf68-8abd262af8da"
      },
      "execution_count": null,
      "outputs": [
        {
          "output_type": "execute_result",
          "data": {
            "text/plain": [
              "{'type': array(['call', 'call', 'call', 'call', 'call', 'call', 'call', 'call',\n",
              "        'call', 'call', 'call', 'call', 'call', 'call', 'call', 'call',\n",
              "        'call', 'call', 'call', 'call', 'call', 'call', 'call', 'call',\n",
              "        'call', 'call', 'call', 'call', 'call', 'call', 'call', 'call',\n",
              "        'call', 'call', 'call', 'call', 'call', 'call', 'call', 'song',\n",
              "        'song', 'song', 'song', 'song', 'song', 'song', 'song', 'song',\n",
              "        'song', 'song', 'song', 'song', 'song', 'song', 'song', 'song',\n",
              "        'call', 'call', 'call', 'call', 'call', 'call', 'call', 'call',\n",
              "        'call', 'call', 'call', 'call', 'call', 'call', 'call', 'call',\n",
              "        'call', 'call', 'call', 'call', 'call', 'call', 'song', 'song',\n",
              "        'song', 'song', 'song', 'song', 'song', 'call', 'call', 'call',\n",
              "        'call', 'call', 'call', 'song', 'song', 'call', 'song', 'song',\n",
              "        'song', 'song', 'song', 'song', 'song', 'song', 'song', 'song',\n",
              "        'song', 'song', 'song', 'song', 'song', 'both', 'both', 'both',\n",
              "        'song', 'song', 'song', 'song', 'song', 'song', 'song', 'song',\n",
              "        'song', 'song', 'song', 'song', 'song', 'song', 'song', 'song',\n",
              "        'song', 'call', 'call', 'call', 'call', 'call', 'call', 'call',\n",
              "        'call', 'song', 'song', 'song', 'song', 'song', 'song', 'song',\n",
              "        'song', 'song', 'song', 'song', 'song', 'song', 'song', 'song',\n",
              "        'song', 'song', 'song', 'song', 'song', 'song', 'song', 'song',\n",
              "        'song', 'song', 'song', 'song', 'song', 'call', 'call', 'call',\n",
              "        'call', 'call', 'call', 'call', 'call', 'call', 'call', 'call',\n",
              "        'call', 'call', 'song', 'song', 'song', 'song', 'song', 'song',\n",
              "        'song', 'call', 'call', 'call', 'call', 'call', 'call', 'call',\n",
              "        'call', 'both', 'both', 'both', 'both', 'both', 'both', 'both',\n",
              "        'both', 'both', 'both', 'both', 'both', 'both', 'both', 'both',\n",
              "        'both', 'both', 'call', 'call', 'call', 'call', 'call', 'call',\n",
              "        'call', 'call', 'call', 'call', 'call', 'call', 'call', 'call',\n",
              "        'call', 'call', 'call', 'call', 'call', 'call', 'call', 'call',\n",
              "        'call', 'call', 'call', 'call', 'call', 'call', 'song', 'song',\n",
              "        'song', 'song', 'song', 'song', 'song', 'song', 'song', 'song',\n",
              "        'song', 'song', 'call', 'call', 'call', 'call', 'call', 'call',\n",
              "        'call', 'call', 'call', 'call', 'call', 'call', 'call', 'call',\n",
              "        'call', 'call', 'call', 'call', 'call', 'call', 'call', 'call',\n",
              "        'call', 'call', 'call', 'call', 'call', 'call', 'call', 'call',\n",
              "        'call', 'call', 'call', 'call', 'both', 'both', 'song', 'song',\n",
              "        'song', 'song', 'song', 'song', 'song', 'song', 'song', 'song',\n",
              "        'song', 'song', 'song', 'song', 'call', 'call', 'call', 'call',\n",
              "        'call', 'call', 'call', 'call', 'call', 'call', 'call', 'call',\n",
              "        'call', 'both', 'both', 'both', 'both', 'both', 'both', 'song',\n",
              "        'song', 'song', 'song', 'song', 'call', 'call', 'call', 'call',\n",
              "        'call', 'call', 'call', 'call', 'call', 'song', 'song', 'song',\n",
              "        'song', 'song', 'song', 'both', 'both', 'both', 'both', 'both',\n",
              "        'both', 'both', 'both', 'both', 'both', 'both', 'both', 'both',\n",
              "        'both', 'both', 'both', 'both', 'both', 'both', 'call', 'call',\n",
              "        'call', 'call', 'call', 'call', 'call', 'call', 'call', 'call',\n",
              "        'call', 'call', 'call', 'call', 'call', 'call', 'call', 'call',\n",
              "        'call', 'call', 'call', 'call', 'call', 'call', 'call', 'call',\n",
              "        'call', 'call', 'call', 'call', 'call', 'call', 'call', 'call',\n",
              "        'call', 'call', 'call', 'call', 'call', 'call', 'call', 'call',\n",
              "        'call', 'call', 'both', 'both', 'both', 'call', 'call', 'call',\n",
              "        'call', 'call', 'call', 'call', 'call', 'call', 'call', 'call',\n",
              "        'call', 'call', 'call', 'call', 'song', 'song', 'song', 'call',\n",
              "        'call', 'call', 'call', 'call', 'call', 'call', 'call', 'call',\n",
              "        'call', 'call', 'song', 'song', 'call', 'call', 'call', 'song',\n",
              "        'song', 'song', 'song', 'song', 'song', 'song', 'call', 'call',\n",
              "        'call', 'call', 'call', 'song', 'song', 'song', 'song', 'call',\n",
              "        'call', 'call', 'call', 'call', 'call', 'call', 'call', 'call',\n",
              "        'call', 'both', 'both', 'song', 'call', 'call', 'call', 'call',\n",
              "        'song', 'song', 'song', 'song', 'song', 'song', 'song', 'song',\n",
              "        'song', 'song', 'song', 'song', 'song', 'song', 'song', 'song',\n",
              "        'song', 'song', 'song', 'song', 'song', 'song', 'song', 'song',\n",
              "        'song', 'song', 'song', 'song', 'song', 'song', 'song', 'song',\n",
              "        'song', 'song', 'song', 'song', 'song', 'song', 'call', 'call',\n",
              "        'call', 'call', 'call', 'call', 'call', 'song', 'song', 'song',\n",
              "        'song', 'song', 'song', 'song', 'song', 'song', 'song', 'song',\n",
              "        'song', 'song', 'song', 'song', 'song', 'song', 'song', 'song',\n",
              "        'song', 'song', 'song', 'call', 'call', 'call', 'call', 'call',\n",
              "        'call', 'call', 'call', 'call', 'call', 'call', 'call', 'call',\n",
              "        'call', 'call', 'call', 'both', 'both', 'both', 'both', 'both',\n",
              "        'both', 'blank', 'blank', 'blank', 'blank', 'blank', 'blank',\n",
              "        'blank', 'blank', 'blank', 'blank', 'blank', 'blank', 'blank',\n",
              "        'blank', 'blank', 'blank', 'blank', 'blank', 'blank', 'blank',\n",
              "        'blank', 'blank', 'blank', 'blank', 'blank', 'blank', 'blank',\n",
              "        'blank', 'blank', 'blank', 'blank', 'call', 'call', 'call', 'call',\n",
              "        'call', 'call', 'call', 'call', 'call', 'call', 'call', 'call',\n",
              "        'call', 'call', 'call', 'call', 'call', 'call', 'call', 'call',\n",
              "        'call', 'call', 'call', 'call', 'call', 'call', 'call', 'call',\n",
              "        'call', 'call', 'call', 'call', 'call', 'call', 'call', 'call',\n",
              "        'call', 'call', 'call', 'call', 'call', 'call', 'call', 'call',\n",
              "        'call', 'call', 'call', 'call', 'call', 'call', 'song', 'song',\n",
              "        'song', 'song', 'song', 'song', 'song', 'song', 'song', 'song',\n",
              "        'song', 'song', 'song', 'song', 'song', 'song', 'song', 'song',\n",
              "        'call', 'call', 'blank', 'blank', 'blank', 'call', 'call', 'call',\n",
              "        'call', 'call', 'call', 'call', 'call', 'call', 'call', 'call',\n",
              "        'call', 'call', 'call', 'call', 'call', 'call', 'song', 'song',\n",
              "        'song', 'song', 'song', 'song', 'song', 'call', 'both', 'both',\n",
              "        'both', 'both', 'song', 'song', 'song', 'song', 'song', 'song',\n",
              "        'song', 'song', 'song', 'song', 'song', 'song', 'song', 'song',\n",
              "        'call', 'call', 'song', 'song', 'song', 'song', 'song', 'call',\n",
              "        'call', 'call', 'call', 'call', 'call', 'call', 'call', 'call',\n",
              "        'call', 'call', 'call', 'call', 'song', 'song', 'song', 'song',\n",
              "        'song', 'song', 'song', 'song', 'song', 'song', 'song', 'call',\n",
              "        'call', 'call', 'call', 'call', 'song', 'song', 'song', 'song',\n",
              "        'song', 'song', 'song', 'song', 'song', 'call', 'call', 'call',\n",
              "        'call', 'call', 'call', 'call', 'call', 'call', 'call', 'call',\n",
              "        'call', 'call', 'call', 'call', 'call', 'call', 'call', 'call',\n",
              "        'call', 'call', 'call', 'call', 'call', 'call', 'call', 'song',\n",
              "        'song', 'song', 'song', 'song', 'song', 'song', 'song', 'song',\n",
              "        'song', 'song', 'song', 'song', 'song', 'song', 'song', 'song',\n",
              "        'song', 'song', 'song', 'song', 'song', 'song', 'song', 'song',\n",
              "        'call', 'call', 'call', 'call', 'call', 'call', 'call', 'call',\n",
              "        'call', 'call', 'call', 'call', 'call', 'call', 'call', 'blank',\n",
              "        'blank', 'blank', 'blank', 'blank', 'song', 'song', 'song', 'song',\n",
              "        'blank', 'blank', 'blank', 'blank', 'blank', 'blank', 'song',\n",
              "        'song', 'song', 'song', 'song', 'song', 'song', 'song', 'song',\n",
              "        'song', 'song', 'song', 'song', 'song', 'song', 'song', 'song',\n",
              "        'song', 'song', 'song', 'call', 'call', 'call', 'call', 'call',\n",
              "        'call', 'call', 'call', 'call', 'call', 'call', 'call', 'call',\n",
              "        'call', 'call', 'call', 'call', 'call', 'call', 'call', 'call',\n",
              "        'call', 'call', 'call', 'call', 'call', 'call', 'call', 'call',\n",
              "        'call', 'call', 'call', 'call', 'call', 'call', 'call', 'call',\n",
              "        'call', 'call', 'song', 'song', 'song', 'song'], dtype='<U5'),\n",
              " 'continent': array(['EU', 'EU', 'EU', 'EU', 'EU', 'EU', 'EU', 'EU', 'AF', 'AF', 'AF',\n",
              "        'AF', 'AF', 'nan', 'nan', 'nan', 'nan', 'nan', 'nan', 'nan', 'AF',\n",
              "        'AF', 'AF', 'AF', 'AF', 'AF', 'AF', 'AF', 'AF', 'AS', 'AS', 'AS',\n",
              "        'AS', 'AS', 'AS', 'AS', 'AS', 'AS', 'AS', 'AF', 'AF', 'AF', 'AF',\n",
              "        'AF', 'AF', 'AF', 'AF', 'AF', 'AF', 'AF', 'AF', 'AF', 'AF', 'AF',\n",
              "        'AF', 'AF', 'AF', 'AF', 'AF', 'AF', 'AF', 'AF', 'AF', 'AF', 'AF',\n",
              "        'AF', 'AF', 'AF', 'AF', 'AF', 'AF', 'AF', 'AF', 'EU', 'EU', 'EU',\n",
              "        'EU', 'EU', 'AF', 'AF', 'AF', 'AF', 'AF', 'AF', 'AF', 'EU', 'EU',\n",
              "        'EU', 'EU', 'EU', 'EU', 'AF', 'AF', 'EU', 'AF', 'AF', 'AF', 'AF',\n",
              "        'AF', 'AF', 'AF', 'AF', 'AF', 'AF', 'AF', 'AF', 'AF', 'AF', 'AF',\n",
              "        'AF', 'AF', 'AF', 'AF', 'AF', 'AF', 'AF', 'AF', 'AF', 'AF', 'AF',\n",
              "        'AF', 'AF', 'AF', 'AF', 'AF', 'AF', 'AF', 'AF', 'AF', 'AF', 'AF',\n",
              "        'AF', 'AF', 'AF', 'AF', 'AF', 'AF', 'AF', 'AF', 'AF', 'AF', 'AF',\n",
              "        'AF', 'AF', 'AF', 'AF', 'AF', 'AF', 'AF', 'AF', 'AF', 'AF', 'AF',\n",
              "        'AF', 'AF', 'AF', 'AF', 'AF', 'AF', 'AF', 'AF', 'AF', 'AF', 'AF',\n",
              "        'AF', 'AF', 'AF', 'AF', 'AF', 'AF', 'AF', 'AF', 'AF', 'AF', 'AF',\n",
              "        'AF', 'AF', 'AF', 'AF', 'AF', 'AF', 'AF', 'AF', 'AF', 'AF', 'EU',\n",
              "        'EU', 'EU', 'EU', 'EU', 'EU', 'EU', 'EU', 'AF', 'AF', 'AF', 'AF',\n",
              "        'AF', 'AF', 'AF', 'AF', 'AF', 'AF', 'AF', 'AF', 'AF', 'AF', 'AF',\n",
              "        'AF', 'AF', 'AF', 'AF', 'AF', 'AF', 'AF', 'AF', 'AF', 'AF', 'AF',\n",
              "        'AF', 'AF', 'AF', 'AF', 'AF', 'AF', 'AF', 'AF', 'AF', 'AF', 'AF',\n",
              "        'AF', 'EU', 'EU', 'EU', 'EU', 'EU', 'EU', 'EU', 'AF', 'AF', 'AF',\n",
              "        'AF', 'AF', 'AF', 'AF', 'AF', 'AF', 'AF', 'AF', 'AF', 'AF', 'AF',\n",
              "        'AF', 'AF', 'AF', 'AF', 'AF', 'AF', 'AF', 'AF', 'AF', 'AF', 'AF',\n",
              "        'AF', 'AF', 'AF', 'AF', 'AF', 'AF', 'AF', 'AF', 'AF', 'nan', 'nan',\n",
              "        'AF', 'AF', 'AF', 'AF', 'EU', 'EU', 'EU', 'EU', 'EU', 'EU', 'AF',\n",
              "        'AF', 'AF', 'AF', 'AF', 'AF', 'AF', 'AF', 'AF', 'AF', 'AF', 'AF',\n",
              "        'AF', 'AF', 'AF', 'AF', 'AF', 'AF', 'AF', 'AF', 'AF', 'AF', 'AF',\n",
              "        'AF', 'AF', 'AF', 'AF', 'AF', 'AF', 'AF', 'AF', 'AF', 'AF', 'AF',\n",
              "        'AF', 'AF', 'AF', 'AF', 'AF', 'AF', 'AF', 'AF', 'AF', 'AF', 'AF',\n",
              "        'AF', 'AF', 'AF', 'AF', 'AF', 'AF', 'AF', 'AF', 'AF', 'AF', 'EU',\n",
              "        'EU', 'EU', 'EU', 'EU', 'EU', 'EU', 'EU', 'EU', 'EU', 'EU', 'EU',\n",
              "        'EU', 'EU', 'EU', 'EU', 'EU', 'EU', 'EU', 'AF', 'AF', 'AF', 'AF',\n",
              "        'AF', 'AF', 'AF', 'AF', 'AF', 'AF', 'AF', 'AF', 'AF', 'AF', 'AF',\n",
              "        'AF', 'AF', 'AF', 'nan', 'nan', 'nan', 'nan', 'nan', 'nan', 'nan',\n",
              "        'nan', 'nan', 'nan', 'nan', 'nan', 'nan', 'nan', 'nan', 'nan',\n",
              "        'nan', 'nan', 'nan', 'nan', 'nan', 'nan', 'nan', 'nan', 'nan',\n",
              "        'nan', 'AF', 'AF', 'AF', 'AF', 'AF', 'AF', 'AF', 'AF', 'AF', 'AF',\n",
              "        'AF', 'AF', 'AF', 'AF', 'AF', 'AF', 'AF', 'AF', 'AF', 'AF', 'AF',\n",
              "        'EU', 'EU', 'EU', 'EU', 'EU', 'EU', 'EU', 'EU', 'EU', 'EU', 'EU',\n",
              "        'AF', 'AF', 'AF', 'AF', 'AF', 'AF', 'AF', 'AF', 'AF', 'AF', 'AF',\n",
              "        'AF', 'AF', 'AF', 'AF', 'AF', 'AF', 'AF', 'AF', 'AF', 'AF', 'AF',\n",
              "        'AF', 'AF', 'AF', 'AF', 'AF', 'AF', 'AF', 'AF', 'AF', 'AF', 'AF',\n",
              "        'AF', 'AF', 'AF', 'AF', 'AF', 'AF', 'AF', 'AF', 'AF', 'AF', 'AF',\n",
              "        'AF', 'AF', 'AF', 'AF', 'AF', 'AF', 'AF', 'AF', 'AF', 'AF', 'AF',\n",
              "        'AF', 'AF', 'AF', 'AF', 'AF', 'AF', 'AF', 'AF', 'AF', 'AF', 'AF',\n",
              "        'AF', 'AF', 'AF', 'AF', 'AF', 'AF', 'AF', 'AF', 'AF', 'AF', 'AF',\n",
              "        'AF', 'AF', 'AF', 'EU', 'EU', 'EU', 'AF', 'AF', 'AF', 'AF', 'AF',\n",
              "        'AF', 'AF', 'AF', 'AF', 'AF', 'AF', 'AF', 'AF', 'AF', 'AF', 'AF',\n",
              "        'AF', 'AF', 'AF', 'AF', 'AF', 'AF', 'AF', 'AF', 'AF', 'AF', 'AF',\n",
              "        'AF', 'AF', 'AF', 'AF', 'AF', 'AF', 'AF', 'AF', 'AF', 'AF', 'AF',\n",
              "        'AF', 'AF', 'AF', 'AF', 'AF', 'AF', 'AF', 'AF', 'AF', 'AF', 'AF',\n",
              "        'AF', 'AF', 'AF', 'AF', 'AF', 'AF', 'AF', 'AF', 'AF', 'AF', 'AF',\n",
              "        'AF', 'AF', 'AF', 'AF', 'AF', 'AF', 'AF', 'AF', 'AF', 'AF', 'AF',\n",
              "        'AF', 'AF', 'AF', 'AF', 'AF', 'AF', 'AF', 'AF', 'AF', 'AF', 'AF',\n",
              "        'AF', 'AF', 'AF', 'AF', 'AF', 'AF', 'AF', 'AF', 'AF', 'AF', 'AF',\n",
              "        'AF', 'AF', 'AF', 'AF', 'AF', 'AF', 'AF', 'AF', 'AF', 'AF', 'AF',\n",
              "        'AF', 'AF', 'AF', 'AF', 'AF', 'AF', 'AF', 'AF', 'AF', 'AF', 'AF',\n",
              "        'AF', 'AF', 'AF', 'AF', 'AF', 'AF', 'AF', 'AF', 'AF', 'AF', 'AF',\n",
              "        'AF', 'AF', 'AF', 'AF', 'AF', 'AF', 'AF', 'AF', 'AF', 'AF', 'AF',\n",
              "        'AF', 'AF', 'AF', 'AF', 'AF', 'AF', 'AF', 'AF', 'AF', 'AF', 'AF',\n",
              "        'AF', 'AF', 'AF', 'AF', 'AF', 'AF', 'AF', 'AF', 'AF', 'AF', 'AF',\n",
              "        'AF', 'AF', 'AF', 'AF', 'AF', 'AF', 'AF', 'AF', 'AF', 'AF', 'AF',\n",
              "        'AF', 'AF', 'AF', 'AF', 'AF', 'AF', 'AF', 'AF', 'AF', 'AF', 'AF',\n",
              "        'AF', 'AF', 'AF', 'AF', 'AF', 'AF', 'AF', 'AF', 'AF', 'AF', 'EU',\n",
              "        'EU', 'AF', 'AF', 'AF', 'EU', 'EU', 'AF', 'AF', 'AF', 'AF', 'AF',\n",
              "        'AF', 'AF', 'AF', 'AF', 'AF', 'AF', 'AF', 'AF', 'AF', 'AF', 'AF',\n",
              "        'AF', 'AF', 'AF', 'AF', 'AF', 'AF', 'AF', 'AF', 'nan', 'nan',\n",
              "        'nan', 'nan', 'nan', 'AF', 'AF', 'AF', 'AF', 'AF', 'AF', 'AF',\n",
              "        'AF', 'AF', 'EU', 'EU', 'AF', 'AF', 'AF', 'AF', 'AF', 'AF', 'AF',\n",
              "        'AF', 'AF', 'AF', 'AF', 'AF', 'AF', 'AF', 'AF', 'AF', 'AF', 'AF',\n",
              "        'AF', 'AF', 'AF', 'AF', 'AF', 'AF', 'AF', 'AF', 'AF', 'AF', 'AF',\n",
              "        'AF', 'AF', 'AF', 'AF', 'AF', 'AF', 'AF', 'AF', 'AF', 'AF', 'AF',\n",
              "        'AF', 'AF', 'AF', 'AF', 'AF', 'AF', 'AF', 'AF', 'AF', 'AF', 'AF',\n",
              "        'AF', 'AF', 'AF', 'AF', 'AF', 'AF', 'AF', 'AF', 'AF', 'AF', 'AF',\n",
              "        'AF', 'AF', 'AF', 'AF', 'AF', 'AF', 'AF', 'AF', 'AF', 'AF', 'AF',\n",
              "        'AF', 'AF', 'AF', 'AF', 'AF', 'AF', 'AF', 'AF', 'AF', 'AF', 'AF',\n",
              "        'AF', 'AF', 'AF', 'AF', 'AF', 'AF', 'AF', 'AF', 'AF', 'AF', 'AF',\n",
              "        'AF', 'AF', 'AF', 'AF', 'AF', 'AF', 'AF', 'AF', 'AF', 'AF', 'AF',\n",
              "        'AF', 'AF', 'AF', 'AF', 'AF', 'AF', 'AF', 'AF', 'AF', 'AF', 'AF',\n",
              "        'AF', 'AF', 'AF', 'AF', 'AF', 'AF', 'AF', 'AF', 'AF', 'AF', 'AF',\n",
              "        'AF', 'AF', 'AF', 'AF', 'AF', 'AF', 'AF', 'AF', 'AF', 'AF', 'AF',\n",
              "        'AF', 'AF', 'AF'], dtype='<U32'),\n",
              " 'rating': array([5. , 5. , 5. , 5. , 5. , 5. , 5. , 5. , 4. , 4. , 4. , 4. , 4. ,\n",
              "        4. , 4. , 4. , 4. , 4. , 4. , 4. , 5. , 5. , 5. , 5. , 5. , 5. ,\n",
              "        5. , 5. , 5. , 4.5, 4.5, 4.5, 4.5, 4.5, 4.5, 4.5, 4.5, 4.5, 4.5,\n",
              "        4.5, 4.5, 4.5, 4.5, 4.5, 4.5, 4.5, 4.5, 4.5, 4.5, 4.5, 4.5, 4.5,\n",
              "        4.5, 4.5, 4.5, 5. , 4. , 4. , 4. , 4. , 4. , 4. , 4. , 4. , 4. ,\n",
              "        4. , 4. , 4. , 4. , 4. , 4. , 4. , 4. , 5. , 5. , 5. , 5. , 5. ,\n",
              "        3.5, 3.5, 3.5, 5. , 5. , 5. , 5. , 5. , 5. , 5. , 5. , 5. , 5. ,\n",
              "        4. , 4. , 5. , 5. , 5. , 5. , 5. , 5. , 5. , 5. , 5. , 5. , 5. ,\n",
              "        5. , 5. , 5. , 5. , 5. , 4. , 4. , 4. , 5. , 5. , 5. , 5. , 5. ,\n",
              "        5. , 5. , 5. , 5. , 5. , 5. , 5. , 5. , 5. , 5. , 5. , 5. , 4.5,\n",
              "        4.5, 5. , 5. , 5. , 5. , 5. , 5. , 4. , 4. , 4. , 4. , 4. , 4. ,\n",
              "        4. , 4.5, 4.5, 4.5, 4.5, 4.5, 4.5, 4.5, 4.5, 4.5, 4.5, 4.5, 4.5,\n",
              "        4.5, 4.5, 5. , 5. , 5. , 5. , 5. , 5. , 5. , 4. , 4. , 4. , 4. ,\n",
              "        4. , 4. , 4. , 4. , 4. , 4. , 4. , 4. , 4. , 5. , 5. , 5. , 5. ,\n",
              "        5. , 5. , 5. , 4. , 4. , 4. , 4. , 4. , 4. , 4. , 4. , 5. , 5. ,\n",
              "        5. , 5. , 5. , 5. , 5. , 5. , 5. , 5. , 5. , 5. , 5. , 5. , 5. ,\n",
              "        5. , 5. , 4.5, 4.5, 3.5, 3.5, 3.5, 3.5, 3.5, 3.5, 3.5, 3.5, 3.5,\n",
              "        3.5, 3.5, 3.5, 3. , 3. , 3. , 3. , 3. , 3. , 3. , 4.5, 4.5, 4.5,\n",
              "        5. , 5. , 5. , 5. , 4.5, 4.5, 4.5, 4.5, 4.5, 4.5, 4.5, 4.5, 4.5,\n",
              "        4.5, 4.5, 4.5, 3.5, 3.5, 3.5, 4.5, 4.5, 4.5, 4.5, 4.5, 4.5, 5. ,\n",
              "        5. , 5. , 5. , 5. , 5. , 5. , 5. , 5. , 5. , 5. , 5. , 5. , 5. ,\n",
              "        5. , 4. , 4. , 4. , 4. , 4. , 5. , 5. , 5. , 5. , 5. , 4. , 4. ,\n",
              "        3. , 3. , 3. , 3. , 3. , 3. , 3. , 3. , 3. , 4.5, 4.5, 4.5, 4.5,\n",
              "        4.5, 5. , 5. , 5. , 5. , 5. , 5. , 5. , 5. , 5. , 5. , 5. , 5. ,\n",
              "        5. , 5. , 5. , 5. , 5. , 5. , 5. , 4. , 4. , 4. , 4. , 4. , 4. ,\n",
              "        4. , 4. , 4. , 4. , 4. , 4. , 4. , 4. , 5. , 5. , 5. , 5. , 5. ,\n",
              "        5. , 5. , 5. , 5. , 5. , 5. , 5. , 5. , 5. , 5. , 5. , 5. , 5. ,\n",
              "        5. , 5. , 5. , 5. , 5. , 5. , 5. , 5. , 5. , 5. , 5. , 5. , 5. ,\n",
              "        5. , 5. , 5. , 5. , 5. , 5. , 5. , 5. , 5. , 5. , 5. , 5. , 5. ,\n",
              "        5. , 5. , 5. , 5. , 5. , 5. , 5. , 5. , 5. , 5. , 5. , 5. , 5. ,\n",
              "        5. , 5. , 5. , 5. , 5. , 5. , 5. , 5. , 5. , 5. , 5. , 5. , 3.5,\n",
              "        3.5, 3.5, 5. , 5. , 5. , 5. , 5. , 5. , 4.5, 4.5, 4.5, 4.5, 4.5,\n",
              "        4.5, 4.5, 4.5, 4.5, 4. , 4. , 4. , 5. , 5. , 5. , 5. , 5. , 5. ,\n",
              "        5. , 5. , 5. , 5. , 5. , 4. , 4. , 4. , 4. , 4. , 4.5, 4.5, 4.5,\n",
              "        4.5, 4.5, 4.5, 4.5, 4. , 4. , 4. , 4.5, 4.5, 5. , 5. , 5. , 5. ,\n",
              "        4.5, 4.5, 4.5, 4.5, 4.5, 4.5, 4.5, 4.5, 4.5, 4.5, 5. , 5. , 3. ,\n",
              "        4.5, 4.5, 4.5, 4.5, 5. , 5. , 5. , 5. , 5. , 5. , 5. , 5. , 5. ,\n",
              "        5. , 5. , 5. , 5. , 5. , 5. , 5. , 5. , 5. , 5. , 5. , 5. , 5. ,\n",
              "        5. , 5. , 5. , 5. , 5. , 5. , 5. , 5. , 5. , 3.5, 3.5, 3.5, 3.5,\n",
              "        3.5, 3.5, 3.5, 4.5, 4.5, 4.5, 4.5, 4. , 4. , 4. , 4.5, 4.5, 4.5,\n",
              "        4.5, 4.5, 4.5, 4.5, 4.5, 4.5, 4.5, 4.5, 4.5, 4.5, 4.5, 4.5, 4.5,\n",
              "        4.5, 4.5, 4.5, 4.5, 4.5, 4.5, 4. , 4. , 4. , 4. , 4. , 4. , 4. ,\n",
              "        4. , 4. , 4. , 4. , 4. , 4. , 4. , 4. , 4. , 5. , 5. , 5. , 5. ,\n",
              "        5. , 5. , 5. , 5. , 5. , 5. , 5. , 5. , 5. , 5. , 5. , 5. , 5. ,\n",
              "        5. , 5. , 5. , 5. , 5. , 5. , 5. , 5. , 5. , 5. , 5. , 5. , 5. ,\n",
              "        5. , 5. , 5. , 5. , 5. , 5. , 5. , 4. , 4. , 4. , 4. , 4. , 4. ,\n",
              "        4. , 4. , 4. , 4. , 4. , 4. , 4. , 4. , 4. , 4. , 4. , 4. , 4. ,\n",
              "        4. , 4. , 4. , 4. , 4. , 4. , 4. , 4. , 4.5, 4.5, 5. , 5. , 5. ,\n",
              "        5. , 4.5, 4.5, 4.5, 4.5, 4.5, 5. , 5. , 5. , 4. , 4. , 4. , 4. ,\n",
              "        4. , 4. , 4. , 4. , 4. , 5. , 5. , 5. , 5. , 5. , 5. , 5. , 5. ,\n",
              "        5. , 5. , 5. , 5. , 5. , 5. , 5. , 5. , 5. , 5. , 4.5, 4.5, 4. ,\n",
              "        4. , 4. , 5. , 5. , 5. , 5. , 5. , 5. , 5. , 5. , 5. , 5. , 5. ,\n",
              "        5. , 5. , 5. , 5. , 5. , 5. , 4.5, 4.5, 4.5, 4.5, 4.5, 4.5, 4.5,\n",
              "        4. , 3.5, 3.5, 3.5, 3.5, 3.5, 3.5, 3.5, 3.5, 3.5, 3.5, 3.5, 3.5,\n",
              "        3.5, 3.5, 3.5, 3.5, 3.5, 3.5, 4. , 4. , 5. , 5. , 5. , 4. , 4. ,\n",
              "        4. , 4. , 4. , 4. , 4. , 4. , 4. , 4. , 4. , 4. , 4. , 4. , 4. ,\n",
              "        4. , 4. , 4. , 4. , 4. , 4.5, 4.5, 4.5, 4.5, 4.5, 4.5, 5. , 5. ,\n",
              "        5. , 5. , 5. , 5. , 5. , 5. , 5. , 5. , 5. , 5. , 5. , 5. , 4. ,\n",
              "        4. , 4. , 4. , 4. , 4. , 4. , 4. , 4. , 4. , 4. , 4. , 4. , 4. ,\n",
              "        4. , 4. , 4. , 4. , 4. , 4. , 4. , 4. , 4. , 4. , 4. , 4. , 5. ,\n",
              "        5. , 5. , 5. , 5. , 5. , 5. , 5. , 5. , 5. , 5. , 5. , 5. , 5. ,\n",
              "        4. , 4. , 4. , 4. , 4. , 4. , 4. , 4. , 4. , 4. , 4. , 4. , 4. ,\n",
              "        4. , 4. , 4. , 4. , 4. , 4. , 4. , 4. , 4. , 4. , 4. , 4. , 4. ,\n",
              "        4. , 4. , 4. , 4. , 4. , 5. , 5. , 5. , 5. , 4.5, 4.5, 4.5, 4.5,\n",
              "        4.5, 4.5, 4. , 4. , 4. , 4. , 4. , 4. , 4. , 4. , 4. , 4. , 4. ,\n",
              "        4. , 4. , 4. , 4. , 4. , 4. , 4. , 5. , 5. , 3.5, 3.5, 3.5, 3.5,\n",
              "        3.5, 3.5, 3.5, 3.5, 3.5, 3.5, 3.5, 3.5, 3.5, 3.5, 5. , 5. , 5. ,\n",
              "        5. , 5. , 5. , 5. , 5. , 5. , 5. , 5. , 5. , 5. , 5. , 5. , 5. ,\n",
              "        5. , 5. , 5. , 5. , 5. , 5. , 5. , 5. , 5. , 5. , 5. , 5. , 5. ]),\n",
              " 'label': array([0, 0, 0, 0, 0, 0, 0, 0, 0, 0, 0, 0, 0, 0, 0, 0, 0, 0, 0, 0, 2, 2,\n",
              "        2, 2, 2, 2, 2, 2, 2, 0, 0, 0, 0, 0, 0, 0, 0, 0, 0, 1, 1, 1, 1, 1,\n",
              "        1, 1, 1, 1, 1, 1, 1, 1, 1, 1, 1, 2, 2, 2, 2, 2, 2, 2, 2, 2, 2, 2,\n",
              "        2, 2, 2, 2, 2, 2, 2, 0, 0, 0, 0, 0, 2, 2, 2, 1, 1, 1, 1, 0, 0, 0,\n",
              "        0, 0, 0, 2, 2, 0, 1, 1, 1, 1, 1, 1, 1, 1, 1, 1, 1, 1, 1, 1, 1, 1,\n",
              "        1, 1, 1, 1, 1, 1, 1, 1, 1, 1, 1, 1, 1, 1, 1, 1, 1, 1, 1, 0, 0, 2,\n",
              "        2, 2, 2, 2, 2, 1, 1, 1, 1, 1, 1, 1, 1, 1, 1, 1, 1, 1, 1, 1, 1, 1,\n",
              "        1, 1, 1, 1, 2, 2, 2, 2, 2, 2, 2, 2, 2, 2, 2, 2, 2, 2, 2, 2, 2, 2,\n",
              "        2, 2, 1, 1, 1, 1, 1, 1, 1, 0, 0, 0, 0, 0, 0, 0, 0, 1, 1, 1, 1, 1,\n",
              "        1, 1, 1, 1, 1, 1, 1, 1, 1, 1, 1, 1, 2, 2, 2, 2, 2, 2, 2, 2, 2, 2,\n",
              "        2, 2, 2, 2, 2, 2, 2, 2, 2, 2, 2, 0, 0, 0, 0, 0, 0, 0, 1, 1, 1, 1,\n",
              "        1, 1, 1, 1, 1, 1, 1, 1, 2, 2, 2, 0, 0, 0, 0, 0, 0, 1, 1, 1, 1, 1,\n",
              "        1, 1, 1, 1, 1, 1, 1, 1, 0, 0, 2, 2, 2, 2, 0, 0, 0, 0, 0, 0, 2, 2,\n",
              "        2, 2, 2, 2, 2, 2, 2, 2, 2, 1, 1, 1, 1, 1, 2, 2, 2, 2, 2, 2, 2, 2,\n",
              "        2, 0, 0, 0, 0, 2, 2, 2, 2, 2, 2, 1, 1, 1, 1, 1, 0, 0, 0, 0, 0, 0,\n",
              "        0, 0, 0, 1, 1, 1, 1, 1, 1, 0, 0, 0, 0, 0, 0, 0, 0, 0, 0, 0, 0, 0,\n",
              "        0, 0, 0, 0, 0, 0, 1, 1, 1, 1, 1, 1, 1, 1, 1, 2, 2, 2, 2, 2, 2, 2,\n",
              "        2, 2, 0, 0, 0, 0, 0, 0, 0, 0, 0, 0, 0, 0, 0, 0, 0, 0, 0, 0, 0, 0,\n",
              "        0, 0, 0, 0, 0, 0, 2, 2, 2, 2, 2, 2, 2, 2, 2, 0, 0, 0, 0, 0, 0, 0,\n",
              "        0, 0, 1, 1, 1, 0, 0, 0, 0, 0, 0, 0, 0, 0, 0, 0, 1, 1, 2, 2, 2, 2,\n",
              "        2, 2, 2, 2, 2, 2, 0, 0, 0, 0, 0, 1, 1, 1, 1, 1, 1, 1, 1, 1, 1, 1,\n",
              "        1, 1, 1, 1, 1, 2, 2, 2, 2, 2, 1, 1, 1, 1, 1, 1, 1, 1, 1, 1, 1, 1,\n",
              "        1, 1, 1, 1, 1, 1, 1, 1, 1, 1, 1, 1, 1, 1, 1, 1, 1, 1, 1, 2, 2, 2,\n",
              "        2, 2, 2, 2, 0, 0, 0, 0, 0, 0, 0, 2, 2, 2, 2, 2, 2, 2, 2, 2, 2, 2,\n",
              "        2, 2, 2, 2, 2, 2, 2, 2, 2, 2, 2, 2, 2, 2, 2, 2, 2, 2, 2, 2, 2, 2,\n",
              "        2, 2, 2, 2, 2, 1, 1, 1, 1, 1, 1, 1, 1, 1, 1, 1, 1, 1, 1, 1, 1, 1,\n",
              "        1, 1, 1, 1, 1, 1, 1, 1, 1, 1, 1, 1, 1, 1, 1, 1, 1, 1, 1, 1, 1, 1,\n",
              "        1, 1, 1, 1, 1, 1, 1, 1, 1, 1, 1, 1, 1, 1, 1, 1, 1, 1, 1, 1, 1, 1,\n",
              "        1, 1, 1, 2, 2, 0, 0, 0, 0, 1, 1, 1, 1, 1, 2, 2, 2, 2, 2, 2, 2, 2,\n",
              "        2, 2, 2, 2, 2, 2, 2, 2, 2, 2, 2, 2, 2, 2, 2, 2, 2, 2, 2, 2, 2, 2,\n",
              "        0, 0, 1, 1, 1, 2, 2, 2, 2, 2, 2, 2, 2, 2, 2, 2, 2, 2, 2, 2, 2, 2,\n",
              "        1, 1, 1, 1, 1, 1, 1, 0, 2, 2, 2, 2, 2, 2, 2, 2, 2, 2, 2, 2, 2, 2,\n",
              "        2, 2, 2, 2, 0, 0, 1, 1, 1, 0, 0, 1, 1, 1, 1, 1, 1, 1, 1, 1, 1, 1,\n",
              "        1, 1, 1, 1, 1, 1, 1, 1, 1, 1, 1, 1, 1, 0, 0, 0, 0, 0, 1, 1, 1, 1,\n",
              "        1, 1, 1, 1, 1, 0, 0, 0, 0, 0, 0, 0, 0, 0, 0, 0, 0, 0, 0, 0, 0, 0,\n",
              "        0, 0, 0, 0, 0, 0, 0, 0, 0, 1, 1, 1, 1, 1, 1, 1, 1, 1, 1, 1, 1, 1,\n",
              "        1, 2, 2, 2, 2, 2, 2, 2, 2, 2, 2, 2, 2, 2, 2, 2, 2, 2, 2, 0, 0, 0,\n",
              "        0, 0, 0, 0, 0, 2, 2, 2, 2, 2, 1, 1, 1, 1, 2, 2, 2, 2, 2, 2, 2, 2,\n",
              "        2, 2, 2, 2, 2, 2, 2, 2, 2, 2, 2, 2, 1, 1, 1, 1, 1, 1, 2, 2, 2, 2,\n",
              "        2, 2, 2, 2, 2, 2, 2, 2, 2, 2, 0, 0, 0, 0, 0, 0, 0, 0, 0, 0, 0, 0,\n",
              "        0, 0, 0, 0, 0, 0, 0, 0, 0, 0, 0, 0, 0, 1, 1, 1, 1])}"
            ]
          },
          "metadata": {},
          "execution_count": 45
        }
      ]
    },
    {
      "cell_type": "code",
      "source": [
        "\n",
        "NonAudio_val_features['label'] = NonAudio_val_y\n",
        "NonAudio_val_features"
      ],
      "metadata": {
        "colab": {
          "base_uri": "https://localhost:8080/"
        },
        "id": "9wn41pmrIt2-",
        "outputId": "537755ea-1472-4ac2-ed1c-855dd1051f3f"
      },
      "execution_count": null,
      "outputs": [
        {
          "output_type": "execute_result",
          "data": {
            "text/plain": [
              "{'type': array(['call', 'song', 'song', 'song', 'song', 'song', 'song', 'song',\n",
              "        'song', 'song', 'song', 'song', 'song', 'call', 'call', 'call',\n",
              "        'call', 'call', 'call', 'call', 'song', 'song', 'song', 'song',\n",
              "        'song', 'call', 'call', 'call', 'call', 'call', 'call', 'call',\n",
              "        'call', 'call', 'call', 'call', 'call', 'call', 'call', 'call',\n",
              "        'call', 'call', 'call', 'call', 'song', 'song', 'song', 'call',\n",
              "        'call', 'call', 'call', 'call', 'song', 'song', 'song', 'song',\n",
              "        'song', 'song', 'song', 'song', 'song', 'song', 'song', 'song',\n",
              "        'song', 'song', 'call', 'call', 'call', 'call', 'call'],\n",
              "       dtype='<U4'),\n",
              " 'continent': array(['EU', 'AF', 'AF', 'AF', 'AF', 'AF', 'AF', 'AF', 'AF', 'AF', 'AF',\n",
              "        'AF', 'AF', 'AF', 'AF', 'AF', 'AF', 'AF', 'AF', 'AF', 'AF', 'AF',\n",
              "        'AF', 'AF', 'AF', 'AF', 'AF', 'AF', 'AF', 'AF', 'AF', 'AF', 'AF',\n",
              "        'AF', 'AF', 'AF', 'AF', 'AF', 'EU', 'EU', 'EU', 'EU', 'EU', 'EU',\n",
              "        'AF', 'AF', 'AF', 'AF', 'AF', 'AF', 'AF', 'AF', 'AF', 'AF', 'AF',\n",
              "        'AF', 'AF', 'AF', 'AF', 'AF', 'AF', 'AF', 'AF', 'AF', 'AF', 'AF',\n",
              "        'AF', 'AF', 'AF', 'AF', 'AF'], dtype='<U2'),\n",
              " 'rating': array([5. , 5. , 5. , 5. , 5. , 5. , 5. , 5. , 5. , 5. , 5. , 5. , 5. ,\n",
              "        4. , 4. , 4. , 4. , 4. , 4. , 4. , 5. , 5. , 5. , 5. , 5. , 4. ,\n",
              "        4. , 4. , 4. , 4. , 4. , 4. , 4. , 4. , 4. , 4. , 4. , 4. , 4. ,\n",
              "        4. , 4. , 4. , 4. , 4. , 4.5, 4.5, 4.5, 3.5, 3.5, 3.5, 3.5, 3.5,\n",
              "        4. , 4. , 5. , 5. , 5. , 5. , 5. , 5. , 4. , 4. , 4. , 4. , 4. ,\n",
              "        4. , 3.5, 3.5, 3.5, 3.5, 3.5]),\n",
              " 'label': array([0, 2, 2, 2, 2, 2, 2, 2, 2, 2, 2, 2, 2, 0, 0, 0, 0, 0, 0, 0, 1, 1,\n",
              "        1, 1, 1, 2, 2, 2, 2, 2, 2, 2, 2, 2, 2, 2, 2, 2, 0, 0, 0, 0, 0, 0,\n",
              "        1, 1, 1, 2, 2, 2, 2, 2, 1, 1, 2, 2, 2, 1, 1, 1, 1, 1, 1, 1, 1, 1,\n",
              "        2, 2, 2, 2, 2])}"
            ]
          },
          "metadata": {},
          "execution_count": 46
        }
      ]
    },
    {
      "cell_type": "code",
      "source": [
        "\n",
        "non_audio_df = {'train': NonAudio_train_features, 'val': NonAudio_val_features}\n",
        "\n",
        "non_audio_df"
      ],
      "metadata": {
        "colab": {
          "base_uri": "https://localhost:8080/"
        },
        "id": "bOxKBvOdJCK9",
        "outputId": "81f1cbbd-9ea5-4e81-f9c7-fd3b23377394"
      },
      "execution_count": null,
      "outputs": [
        {
          "output_type": "execute_result",
          "data": {
            "text/plain": [
              "{'train': {'type': array(['call', 'call', 'call', 'call', 'call', 'call', 'call', 'call',\n",
              "         'call', 'call', 'call', 'call', 'call', 'call', 'call', 'call',\n",
              "         'call', 'call', 'call', 'call', 'call', 'call', 'call', 'call',\n",
              "         'call', 'call', 'call', 'call', 'call', 'call', 'call', 'call',\n",
              "         'call', 'call', 'call', 'call', 'call', 'call', 'call', 'song',\n",
              "         'song', 'song', 'song', 'song', 'song', 'song', 'song', 'song',\n",
              "         'song', 'song', 'song', 'song', 'song', 'song', 'song', 'song',\n",
              "         'call', 'call', 'call', 'call', 'call', 'call', 'call', 'call',\n",
              "         'call', 'call', 'call', 'call', 'call', 'call', 'call', 'call',\n",
              "         'call', 'call', 'call', 'call', 'call', 'call', 'song', 'song',\n",
              "         'song', 'song', 'song', 'song', 'song', 'call', 'call', 'call',\n",
              "         'call', 'call', 'call', 'song', 'song', 'call', 'song', 'song',\n",
              "         'song', 'song', 'song', 'song', 'song', 'song', 'song', 'song',\n",
              "         'song', 'song', 'song', 'song', 'song', 'both', 'both', 'both',\n",
              "         'song', 'song', 'song', 'song', 'song', 'song', 'song', 'song',\n",
              "         'song', 'song', 'song', 'song', 'song', 'song', 'song', 'song',\n",
              "         'song', 'call', 'call', 'call', 'call', 'call', 'call', 'call',\n",
              "         'call', 'song', 'song', 'song', 'song', 'song', 'song', 'song',\n",
              "         'song', 'song', 'song', 'song', 'song', 'song', 'song', 'song',\n",
              "         'song', 'song', 'song', 'song', 'song', 'song', 'song', 'song',\n",
              "         'song', 'song', 'song', 'song', 'song', 'call', 'call', 'call',\n",
              "         'call', 'call', 'call', 'call', 'call', 'call', 'call', 'call',\n",
              "         'call', 'call', 'song', 'song', 'song', 'song', 'song', 'song',\n",
              "         'song', 'call', 'call', 'call', 'call', 'call', 'call', 'call',\n",
              "         'call', 'both', 'both', 'both', 'both', 'both', 'both', 'both',\n",
              "         'both', 'both', 'both', 'both', 'both', 'both', 'both', 'both',\n",
              "         'both', 'both', 'call', 'call', 'call', 'call', 'call', 'call',\n",
              "         'call', 'call', 'call', 'call', 'call', 'call', 'call', 'call',\n",
              "         'call', 'call', 'call', 'call', 'call', 'call', 'call', 'call',\n",
              "         'call', 'call', 'call', 'call', 'call', 'call', 'song', 'song',\n",
              "         'song', 'song', 'song', 'song', 'song', 'song', 'song', 'song',\n",
              "         'song', 'song', 'call', 'call', 'call', 'call', 'call', 'call',\n",
              "         'call', 'call', 'call', 'call', 'call', 'call', 'call', 'call',\n",
              "         'call', 'call', 'call', 'call', 'call', 'call', 'call', 'call',\n",
              "         'call', 'call', 'call', 'call', 'call', 'call', 'call', 'call',\n",
              "         'call', 'call', 'call', 'call', 'both', 'both', 'song', 'song',\n",
              "         'song', 'song', 'song', 'song', 'song', 'song', 'song', 'song',\n",
              "         'song', 'song', 'song', 'song', 'call', 'call', 'call', 'call',\n",
              "         'call', 'call', 'call', 'call', 'call', 'call', 'call', 'call',\n",
              "         'call', 'both', 'both', 'both', 'both', 'both', 'both', 'song',\n",
              "         'song', 'song', 'song', 'song', 'call', 'call', 'call', 'call',\n",
              "         'call', 'call', 'call', 'call', 'call', 'song', 'song', 'song',\n",
              "         'song', 'song', 'song', 'both', 'both', 'both', 'both', 'both',\n",
              "         'both', 'both', 'both', 'both', 'both', 'both', 'both', 'both',\n",
              "         'both', 'both', 'both', 'both', 'both', 'both', 'call', 'call',\n",
              "         'call', 'call', 'call', 'call', 'call', 'call', 'call', 'call',\n",
              "         'call', 'call', 'call', 'call', 'call', 'call', 'call', 'call',\n",
              "         'call', 'call', 'call', 'call', 'call', 'call', 'call', 'call',\n",
              "         'call', 'call', 'call', 'call', 'call', 'call', 'call', 'call',\n",
              "         'call', 'call', 'call', 'call', 'call', 'call', 'call', 'call',\n",
              "         'call', 'call', 'both', 'both', 'both', 'call', 'call', 'call',\n",
              "         'call', 'call', 'call', 'call', 'call', 'call', 'call', 'call',\n",
              "         'call', 'call', 'call', 'call', 'song', 'song', 'song', 'call',\n",
              "         'call', 'call', 'call', 'call', 'call', 'call', 'call', 'call',\n",
              "         'call', 'call', 'song', 'song', 'call', 'call', 'call', 'song',\n",
              "         'song', 'song', 'song', 'song', 'song', 'song', 'call', 'call',\n",
              "         'call', 'call', 'call', 'song', 'song', 'song', 'song', 'call',\n",
              "         'call', 'call', 'call', 'call', 'call', 'call', 'call', 'call',\n",
              "         'call', 'both', 'both', 'song', 'call', 'call', 'call', 'call',\n",
              "         'song', 'song', 'song', 'song', 'song', 'song', 'song', 'song',\n",
              "         'song', 'song', 'song', 'song', 'song', 'song', 'song', 'song',\n",
              "         'song', 'song', 'song', 'song', 'song', 'song', 'song', 'song',\n",
              "         'song', 'song', 'song', 'song', 'song', 'song', 'song', 'song',\n",
              "         'song', 'song', 'song', 'song', 'song', 'song', 'call', 'call',\n",
              "         'call', 'call', 'call', 'call', 'call', 'song', 'song', 'song',\n",
              "         'song', 'song', 'song', 'song', 'song', 'song', 'song', 'song',\n",
              "         'song', 'song', 'song', 'song', 'song', 'song', 'song', 'song',\n",
              "         'song', 'song', 'song', 'call', 'call', 'call', 'call', 'call',\n",
              "         'call', 'call', 'call', 'call', 'call', 'call', 'call', 'call',\n",
              "         'call', 'call', 'call', 'both', 'both', 'both', 'both', 'both',\n",
              "         'both', 'blank', 'blank', 'blank', 'blank', 'blank', 'blank',\n",
              "         'blank', 'blank', 'blank', 'blank', 'blank', 'blank', 'blank',\n",
              "         'blank', 'blank', 'blank', 'blank', 'blank', 'blank', 'blank',\n",
              "         'blank', 'blank', 'blank', 'blank', 'blank', 'blank', 'blank',\n",
              "         'blank', 'blank', 'blank', 'blank', 'call', 'call', 'call', 'call',\n",
              "         'call', 'call', 'call', 'call', 'call', 'call', 'call', 'call',\n",
              "         'call', 'call', 'call', 'call', 'call', 'call', 'call', 'call',\n",
              "         'call', 'call', 'call', 'call', 'call', 'call', 'call', 'call',\n",
              "         'call', 'call', 'call', 'call', 'call', 'call', 'call', 'call',\n",
              "         'call', 'call', 'call', 'call', 'call', 'call', 'call', 'call',\n",
              "         'call', 'call', 'call', 'call', 'call', 'call', 'song', 'song',\n",
              "         'song', 'song', 'song', 'song', 'song', 'song', 'song', 'song',\n",
              "         'song', 'song', 'song', 'song', 'song', 'song', 'song', 'song',\n",
              "         'call', 'call', 'blank', 'blank', 'blank', 'call', 'call', 'call',\n",
              "         'call', 'call', 'call', 'call', 'call', 'call', 'call', 'call',\n",
              "         'call', 'call', 'call', 'call', 'call', 'call', 'song', 'song',\n",
              "         'song', 'song', 'song', 'song', 'song', 'call', 'both', 'both',\n",
              "         'both', 'both', 'song', 'song', 'song', 'song', 'song', 'song',\n",
              "         'song', 'song', 'song', 'song', 'song', 'song', 'song', 'song',\n",
              "         'call', 'call', 'song', 'song', 'song', 'song', 'song', 'call',\n",
              "         'call', 'call', 'call', 'call', 'call', 'call', 'call', 'call',\n",
              "         'call', 'call', 'call', 'call', 'song', 'song', 'song', 'song',\n",
              "         'song', 'song', 'song', 'song', 'song', 'song', 'song', 'call',\n",
              "         'call', 'call', 'call', 'call', 'song', 'song', 'song', 'song',\n",
              "         'song', 'song', 'song', 'song', 'song', 'call', 'call', 'call',\n",
              "         'call', 'call', 'call', 'call', 'call', 'call', 'call', 'call',\n",
              "         'call', 'call', 'call', 'call', 'call', 'call', 'call', 'call',\n",
              "         'call', 'call', 'call', 'call', 'call', 'call', 'call', 'song',\n",
              "         'song', 'song', 'song', 'song', 'song', 'song', 'song', 'song',\n",
              "         'song', 'song', 'song', 'song', 'song', 'song', 'song', 'song',\n",
              "         'song', 'song', 'song', 'song', 'song', 'song', 'song', 'song',\n",
              "         'call', 'call', 'call', 'call', 'call', 'call', 'call', 'call',\n",
              "         'call', 'call', 'call', 'call', 'call', 'call', 'call', 'blank',\n",
              "         'blank', 'blank', 'blank', 'blank', 'song', 'song', 'song', 'song',\n",
              "         'blank', 'blank', 'blank', 'blank', 'blank', 'blank', 'song',\n",
              "         'song', 'song', 'song', 'song', 'song', 'song', 'song', 'song',\n",
              "         'song', 'song', 'song', 'song', 'song', 'song', 'song', 'song',\n",
              "         'song', 'song', 'song', 'call', 'call', 'call', 'call', 'call',\n",
              "         'call', 'call', 'call', 'call', 'call', 'call', 'call', 'call',\n",
              "         'call', 'call', 'call', 'call', 'call', 'call', 'call', 'call',\n",
              "         'call', 'call', 'call', 'call', 'call', 'call', 'call', 'call',\n",
              "         'call', 'call', 'call', 'call', 'call', 'call', 'call', 'call',\n",
              "         'call', 'call', 'song', 'song', 'song', 'song'], dtype='<U5'),\n",
              "  'continent': array(['EU', 'EU', 'EU', 'EU', 'EU', 'EU', 'EU', 'EU', 'AF', 'AF', 'AF',\n",
              "         'AF', 'AF', 'nan', 'nan', 'nan', 'nan', 'nan', 'nan', 'nan', 'AF',\n",
              "         'AF', 'AF', 'AF', 'AF', 'AF', 'AF', 'AF', 'AF', 'AS', 'AS', 'AS',\n",
              "         'AS', 'AS', 'AS', 'AS', 'AS', 'AS', 'AS', 'AF', 'AF', 'AF', 'AF',\n",
              "         'AF', 'AF', 'AF', 'AF', 'AF', 'AF', 'AF', 'AF', 'AF', 'AF', 'AF',\n",
              "         'AF', 'AF', 'AF', 'AF', 'AF', 'AF', 'AF', 'AF', 'AF', 'AF', 'AF',\n",
              "         'AF', 'AF', 'AF', 'AF', 'AF', 'AF', 'AF', 'AF', 'EU', 'EU', 'EU',\n",
              "         'EU', 'EU', 'AF', 'AF', 'AF', 'AF', 'AF', 'AF', 'AF', 'EU', 'EU',\n",
              "         'EU', 'EU', 'EU', 'EU', 'AF', 'AF', 'EU', 'AF', 'AF', 'AF', 'AF',\n",
              "         'AF', 'AF', 'AF', 'AF', 'AF', 'AF', 'AF', 'AF', 'AF', 'AF', 'AF',\n",
              "         'AF', 'AF', 'AF', 'AF', 'AF', 'AF', 'AF', 'AF', 'AF', 'AF', 'AF',\n",
              "         'AF', 'AF', 'AF', 'AF', 'AF', 'AF', 'AF', 'AF', 'AF', 'AF', 'AF',\n",
              "         'AF', 'AF', 'AF', 'AF', 'AF', 'AF', 'AF', 'AF', 'AF', 'AF', 'AF',\n",
              "         'AF', 'AF', 'AF', 'AF', 'AF', 'AF', 'AF', 'AF', 'AF', 'AF', 'AF',\n",
              "         'AF', 'AF', 'AF', 'AF', 'AF', 'AF', 'AF', 'AF', 'AF', 'AF', 'AF',\n",
              "         'AF', 'AF', 'AF', 'AF', 'AF', 'AF', 'AF', 'AF', 'AF', 'AF', 'AF',\n",
              "         'AF', 'AF', 'AF', 'AF', 'AF', 'AF', 'AF', 'AF', 'AF', 'AF', 'EU',\n",
              "         'EU', 'EU', 'EU', 'EU', 'EU', 'EU', 'EU', 'AF', 'AF', 'AF', 'AF',\n",
              "         'AF', 'AF', 'AF', 'AF', 'AF', 'AF', 'AF', 'AF', 'AF', 'AF', 'AF',\n",
              "         'AF', 'AF', 'AF', 'AF', 'AF', 'AF', 'AF', 'AF', 'AF', 'AF', 'AF',\n",
              "         'AF', 'AF', 'AF', 'AF', 'AF', 'AF', 'AF', 'AF', 'AF', 'AF', 'AF',\n",
              "         'AF', 'EU', 'EU', 'EU', 'EU', 'EU', 'EU', 'EU', 'AF', 'AF', 'AF',\n",
              "         'AF', 'AF', 'AF', 'AF', 'AF', 'AF', 'AF', 'AF', 'AF', 'AF', 'AF',\n",
              "         'AF', 'AF', 'AF', 'AF', 'AF', 'AF', 'AF', 'AF', 'AF', 'AF', 'AF',\n",
              "         'AF', 'AF', 'AF', 'AF', 'AF', 'AF', 'AF', 'AF', 'AF', 'nan', 'nan',\n",
              "         'AF', 'AF', 'AF', 'AF', 'EU', 'EU', 'EU', 'EU', 'EU', 'EU', 'AF',\n",
              "         'AF', 'AF', 'AF', 'AF', 'AF', 'AF', 'AF', 'AF', 'AF', 'AF', 'AF',\n",
              "         'AF', 'AF', 'AF', 'AF', 'AF', 'AF', 'AF', 'AF', 'AF', 'AF', 'AF',\n",
              "         'AF', 'AF', 'AF', 'AF', 'AF', 'AF', 'AF', 'AF', 'AF', 'AF', 'AF',\n",
              "         'AF', 'AF', 'AF', 'AF', 'AF', 'AF', 'AF', 'AF', 'AF', 'AF', 'AF',\n",
              "         'AF', 'AF', 'AF', 'AF', 'AF', 'AF', 'AF', 'AF', 'AF', 'AF', 'EU',\n",
              "         'EU', 'EU', 'EU', 'EU', 'EU', 'EU', 'EU', 'EU', 'EU', 'EU', 'EU',\n",
              "         'EU', 'EU', 'EU', 'EU', 'EU', 'EU', 'EU', 'AF', 'AF', 'AF', 'AF',\n",
              "         'AF', 'AF', 'AF', 'AF', 'AF', 'AF', 'AF', 'AF', 'AF', 'AF', 'AF',\n",
              "         'AF', 'AF', 'AF', 'nan', 'nan', 'nan', 'nan', 'nan', 'nan', 'nan',\n",
              "         'nan', 'nan', 'nan', 'nan', 'nan', 'nan', 'nan', 'nan', 'nan',\n",
              "         'nan', 'nan', 'nan', 'nan', 'nan', 'nan', 'nan', 'nan', 'nan',\n",
              "         'nan', 'AF', 'AF', 'AF', 'AF', 'AF', 'AF', 'AF', 'AF', 'AF', 'AF',\n",
              "         'AF', 'AF', 'AF', 'AF', 'AF', 'AF', 'AF', 'AF', 'AF', 'AF', 'AF',\n",
              "         'EU', 'EU', 'EU', 'EU', 'EU', 'EU', 'EU', 'EU', 'EU', 'EU', 'EU',\n",
              "         'AF', 'AF', 'AF', 'AF', 'AF', 'AF', 'AF', 'AF', 'AF', 'AF', 'AF',\n",
              "         'AF', 'AF', 'AF', 'AF', 'AF', 'AF', 'AF', 'AF', 'AF', 'AF', 'AF',\n",
              "         'AF', 'AF', 'AF', 'AF', 'AF', 'AF', 'AF', 'AF', 'AF', 'AF', 'AF',\n",
              "         'AF', 'AF', 'AF', 'AF', 'AF', 'AF', 'AF', 'AF', 'AF', 'AF', 'AF',\n",
              "         'AF', 'AF', 'AF', 'AF', 'AF', 'AF', 'AF', 'AF', 'AF', 'AF', 'AF',\n",
              "         'AF', 'AF', 'AF', 'AF', 'AF', 'AF', 'AF', 'AF', 'AF', 'AF', 'AF',\n",
              "         'AF', 'AF', 'AF', 'AF', 'AF', 'AF', 'AF', 'AF', 'AF', 'AF', 'AF',\n",
              "         'AF', 'AF', 'AF', 'EU', 'EU', 'EU', 'AF', 'AF', 'AF', 'AF', 'AF',\n",
              "         'AF', 'AF', 'AF', 'AF', 'AF', 'AF', 'AF', 'AF', 'AF', 'AF', 'AF',\n",
              "         'AF', 'AF', 'AF', 'AF', 'AF', 'AF', 'AF', 'AF', 'AF', 'AF', 'AF',\n",
              "         'AF', 'AF', 'AF', 'AF', 'AF', 'AF', 'AF', 'AF', 'AF', 'AF', 'AF',\n",
              "         'AF', 'AF', 'AF', 'AF', 'AF', 'AF', 'AF', 'AF', 'AF', 'AF', 'AF',\n",
              "         'AF', 'AF', 'AF', 'AF', 'AF', 'AF', 'AF', 'AF', 'AF', 'AF', 'AF',\n",
              "         'AF', 'AF', 'AF', 'AF', 'AF', 'AF', 'AF', 'AF', 'AF', 'AF', 'AF',\n",
              "         'AF', 'AF', 'AF', 'AF', 'AF', 'AF', 'AF', 'AF', 'AF', 'AF', 'AF',\n",
              "         'AF', 'AF', 'AF', 'AF', 'AF', 'AF', 'AF', 'AF', 'AF', 'AF', 'AF',\n",
              "         'AF', 'AF', 'AF', 'AF', 'AF', 'AF', 'AF', 'AF', 'AF', 'AF', 'AF',\n",
              "         'AF', 'AF', 'AF', 'AF', 'AF', 'AF', 'AF', 'AF', 'AF', 'AF', 'AF',\n",
              "         'AF', 'AF', 'AF', 'AF', 'AF', 'AF', 'AF', 'AF', 'AF', 'AF', 'AF',\n",
              "         'AF', 'AF', 'AF', 'AF', 'AF', 'AF', 'AF', 'AF', 'AF', 'AF', 'AF',\n",
              "         'AF', 'AF', 'AF', 'AF', 'AF', 'AF', 'AF', 'AF', 'AF', 'AF', 'AF',\n",
              "         'AF', 'AF', 'AF', 'AF', 'AF', 'AF', 'AF', 'AF', 'AF', 'AF', 'AF',\n",
              "         'AF', 'AF', 'AF', 'AF', 'AF', 'AF', 'AF', 'AF', 'AF', 'AF', 'AF',\n",
              "         'AF', 'AF', 'AF', 'AF', 'AF', 'AF', 'AF', 'AF', 'AF', 'AF', 'AF',\n",
              "         'AF', 'AF', 'AF', 'AF', 'AF', 'AF', 'AF', 'AF', 'AF', 'AF', 'EU',\n",
              "         'EU', 'AF', 'AF', 'AF', 'EU', 'EU', 'AF', 'AF', 'AF', 'AF', 'AF',\n",
              "         'AF', 'AF', 'AF', 'AF', 'AF', 'AF', 'AF', 'AF', 'AF', 'AF', 'AF',\n",
              "         'AF', 'AF', 'AF', 'AF', 'AF', 'AF', 'AF', 'AF', 'nan', 'nan',\n",
              "         'nan', 'nan', 'nan', 'AF', 'AF', 'AF', 'AF', 'AF', 'AF', 'AF',\n",
              "         'AF', 'AF', 'EU', 'EU', 'AF', 'AF', 'AF', 'AF', 'AF', 'AF', 'AF',\n",
              "         'AF', 'AF', 'AF', 'AF', 'AF', 'AF', 'AF', 'AF', 'AF', 'AF', 'AF',\n",
              "         'AF', 'AF', 'AF', 'AF', 'AF', 'AF', 'AF', 'AF', 'AF', 'AF', 'AF',\n",
              "         'AF', 'AF', 'AF', 'AF', 'AF', 'AF', 'AF', 'AF', 'AF', 'AF', 'AF',\n",
              "         'AF', 'AF', 'AF', 'AF', 'AF', 'AF', 'AF', 'AF', 'AF', 'AF', 'AF',\n",
              "         'AF', 'AF', 'AF', 'AF', 'AF', 'AF', 'AF', 'AF', 'AF', 'AF', 'AF',\n",
              "         'AF', 'AF', 'AF', 'AF', 'AF', 'AF', 'AF', 'AF', 'AF', 'AF', 'AF',\n",
              "         'AF', 'AF', 'AF', 'AF', 'AF', 'AF', 'AF', 'AF', 'AF', 'AF', 'AF',\n",
              "         'AF', 'AF', 'AF', 'AF', 'AF', 'AF', 'AF', 'AF', 'AF', 'AF', 'AF',\n",
              "         'AF', 'AF', 'AF', 'AF', 'AF', 'AF', 'AF', 'AF', 'AF', 'AF', 'AF',\n",
              "         'AF', 'AF', 'AF', 'AF', 'AF', 'AF', 'AF', 'AF', 'AF', 'AF', 'AF',\n",
              "         'AF', 'AF', 'AF', 'AF', 'AF', 'AF', 'AF', 'AF', 'AF', 'AF', 'AF',\n",
              "         'AF', 'AF', 'AF', 'AF', 'AF', 'AF', 'AF', 'AF', 'AF', 'AF', 'AF',\n",
              "         'AF', 'AF', 'AF'], dtype='<U32'),\n",
              "  'rating': array([5. , 5. , 5. , 5. , 5. , 5. , 5. , 5. , 4. , 4. , 4. , 4. , 4. ,\n",
              "         4. , 4. , 4. , 4. , 4. , 4. , 4. , 5. , 5. , 5. , 5. , 5. , 5. ,\n",
              "         5. , 5. , 5. , 4.5, 4.5, 4.5, 4.5, 4.5, 4.5, 4.5, 4.5, 4.5, 4.5,\n",
              "         4.5, 4.5, 4.5, 4.5, 4.5, 4.5, 4.5, 4.5, 4.5, 4.5, 4.5, 4.5, 4.5,\n",
              "         4.5, 4.5, 4.5, 5. , 4. , 4. , 4. , 4. , 4. , 4. , 4. , 4. , 4. ,\n",
              "         4. , 4. , 4. , 4. , 4. , 4. , 4. , 4. , 5. , 5. , 5. , 5. , 5. ,\n",
              "         3.5, 3.5, 3.5, 5. , 5. , 5. , 5. , 5. , 5. , 5. , 5. , 5. , 5. ,\n",
              "         4. , 4. , 5. , 5. , 5. , 5. , 5. , 5. , 5. , 5. , 5. , 5. , 5. ,\n",
              "         5. , 5. , 5. , 5. , 5. , 4. , 4. , 4. , 5. , 5. , 5. , 5. , 5. ,\n",
              "         5. , 5. , 5. , 5. , 5. , 5. , 5. , 5. , 5. , 5. , 5. , 5. , 4.5,\n",
              "         4.5, 5. , 5. , 5. , 5. , 5. , 5. , 4. , 4. , 4. , 4. , 4. , 4. ,\n",
              "         4. , 4.5, 4.5, 4.5, 4.5, 4.5, 4.5, 4.5, 4.5, 4.5, 4.5, 4.5, 4.5,\n",
              "         4.5, 4.5, 5. , 5. , 5. , 5. , 5. , 5. , 5. , 4. , 4. , 4. , 4. ,\n",
              "         4. , 4. , 4. , 4. , 4. , 4. , 4. , 4. , 4. , 5. , 5. , 5. , 5. ,\n",
              "         5. , 5. , 5. , 4. , 4. , 4. , 4. , 4. , 4. , 4. , 4. , 5. , 5. ,\n",
              "         5. , 5. , 5. , 5. , 5. , 5. , 5. , 5. , 5. , 5. , 5. , 5. , 5. ,\n",
              "         5. , 5. , 4.5, 4.5, 3.5, 3.5, 3.5, 3.5, 3.5, 3.5, 3.5, 3.5, 3.5,\n",
              "         3.5, 3.5, 3.5, 3. , 3. , 3. , 3. , 3. , 3. , 3. , 4.5, 4.5, 4.5,\n",
              "         5. , 5. , 5. , 5. , 4.5, 4.5, 4.5, 4.5, 4.5, 4.5, 4.5, 4.5, 4.5,\n",
              "         4.5, 4.5, 4.5, 3.5, 3.5, 3.5, 4.5, 4.5, 4.5, 4.5, 4.5, 4.5, 5. ,\n",
              "         5. , 5. , 5. , 5. , 5. , 5. , 5. , 5. , 5. , 5. , 5. , 5. , 5. ,\n",
              "         5. , 4. , 4. , 4. , 4. , 4. , 5. , 5. , 5. , 5. , 5. , 4. , 4. ,\n",
              "         3. , 3. , 3. , 3. , 3. , 3. , 3. , 3. , 3. , 4.5, 4.5, 4.5, 4.5,\n",
              "         4.5, 5. , 5. , 5. , 5. , 5. , 5. , 5. , 5. , 5. , 5. , 5. , 5. ,\n",
              "         5. , 5. , 5. , 5. , 5. , 5. , 5. , 4. , 4. , 4. , 4. , 4. , 4. ,\n",
              "         4. , 4. , 4. , 4. , 4. , 4. , 4. , 4. , 5. , 5. , 5. , 5. , 5. ,\n",
              "         5. , 5. , 5. , 5. , 5. , 5. , 5. , 5. , 5. , 5. , 5. , 5. , 5. ,\n",
              "         5. , 5. , 5. , 5. , 5. , 5. , 5. , 5. , 5. , 5. , 5. , 5. , 5. ,\n",
              "         5. , 5. , 5. , 5. , 5. , 5. , 5. , 5. , 5. , 5. , 5. , 5. , 5. ,\n",
              "         5. , 5. , 5. , 5. , 5. , 5. , 5. , 5. , 5. , 5. , 5. , 5. , 5. ,\n",
              "         5. , 5. , 5. , 5. , 5. , 5. , 5. , 5. , 5. , 5. , 5. , 5. , 3.5,\n",
              "         3.5, 3.5, 5. , 5. , 5. , 5. , 5. , 5. , 4.5, 4.5, 4.5, 4.5, 4.5,\n",
              "         4.5, 4.5, 4.5, 4.5, 4. , 4. , 4. , 5. , 5. , 5. , 5. , 5. , 5. ,\n",
              "         5. , 5. , 5. , 5. , 5. , 4. , 4. , 4. , 4. , 4. , 4.5, 4.5, 4.5,\n",
              "         4.5, 4.5, 4.5, 4.5, 4. , 4. , 4. , 4.5, 4.5, 5. , 5. , 5. , 5. ,\n",
              "         4.5, 4.5, 4.5, 4.5, 4.5, 4.5, 4.5, 4.5, 4.5, 4.5, 5. , 5. , 3. ,\n",
              "         4.5, 4.5, 4.5, 4.5, 5. , 5. , 5. , 5. , 5. , 5. , 5. , 5. , 5. ,\n",
              "         5. , 5. , 5. , 5. , 5. , 5. , 5. , 5. , 5. , 5. , 5. , 5. , 5. ,\n",
              "         5. , 5. , 5. , 5. , 5. , 5. , 5. , 5. , 5. , 3.5, 3.5, 3.5, 3.5,\n",
              "         3.5, 3.5, 3.5, 4.5, 4.5, 4.5, 4.5, 4. , 4. , 4. , 4.5, 4.5, 4.5,\n",
              "         4.5, 4.5, 4.5, 4.5, 4.5, 4.5, 4.5, 4.5, 4.5, 4.5, 4.5, 4.5, 4.5,\n",
              "         4.5, 4.5, 4.5, 4.5, 4.5, 4.5, 4. , 4. , 4. , 4. , 4. , 4. , 4. ,\n",
              "         4. , 4. , 4. , 4. , 4. , 4. , 4. , 4. , 4. , 5. , 5. , 5. , 5. ,\n",
              "         5. , 5. , 5. , 5. , 5. , 5. , 5. , 5. , 5. , 5. , 5. , 5. , 5. ,\n",
              "         5. , 5. , 5. , 5. , 5. , 5. , 5. , 5. , 5. , 5. , 5. , 5. , 5. ,\n",
              "         5. , 5. , 5. , 5. , 5. , 5. , 5. , 4. , 4. , 4. , 4. , 4. , 4. ,\n",
              "         4. , 4. , 4. , 4. , 4. , 4. , 4. , 4. , 4. , 4. , 4. , 4. , 4. ,\n",
              "         4. , 4. , 4. , 4. , 4. , 4. , 4. , 4. , 4.5, 4.5, 5. , 5. , 5. ,\n",
              "         5. , 4.5, 4.5, 4.5, 4.5, 4.5, 5. , 5. , 5. , 4. , 4. , 4. , 4. ,\n",
              "         4. , 4. , 4. , 4. , 4. , 5. , 5. , 5. , 5. , 5. , 5. , 5. , 5. ,\n",
              "         5. , 5. , 5. , 5. , 5. , 5. , 5. , 5. , 5. , 5. , 4.5, 4.5, 4. ,\n",
              "         4. , 4. , 5. , 5. , 5. , 5. , 5. , 5. , 5. , 5. , 5. , 5. , 5. ,\n",
              "         5. , 5. , 5. , 5. , 5. , 5. , 4.5, 4.5, 4.5, 4.5, 4.5, 4.5, 4.5,\n",
              "         4. , 3.5, 3.5, 3.5, 3.5, 3.5, 3.5, 3.5, 3.5, 3.5, 3.5, 3.5, 3.5,\n",
              "         3.5, 3.5, 3.5, 3.5, 3.5, 3.5, 4. , 4. , 5. , 5. , 5. , 4. , 4. ,\n",
              "         4. , 4. , 4. , 4. , 4. , 4. , 4. , 4. , 4. , 4. , 4. , 4. , 4. ,\n",
              "         4. , 4. , 4. , 4. , 4. , 4.5, 4.5, 4.5, 4.5, 4.5, 4.5, 5. , 5. ,\n",
              "         5. , 5. , 5. , 5. , 5. , 5. , 5. , 5. , 5. , 5. , 5. , 5. , 4. ,\n",
              "         4. , 4. , 4. , 4. , 4. , 4. , 4. , 4. , 4. , 4. , 4. , 4. , 4. ,\n",
              "         4. , 4. , 4. , 4. , 4. , 4. , 4. , 4. , 4. , 4. , 4. , 4. , 5. ,\n",
              "         5. , 5. , 5. , 5. , 5. , 5. , 5. , 5. , 5. , 5. , 5. , 5. , 5. ,\n",
              "         4. , 4. , 4. , 4. , 4. , 4. , 4. , 4. , 4. , 4. , 4. , 4. , 4. ,\n",
              "         4. , 4. , 4. , 4. , 4. , 4. , 4. , 4. , 4. , 4. , 4. , 4. , 4. ,\n",
              "         4. , 4. , 4. , 4. , 4. , 5. , 5. , 5. , 5. , 4.5, 4.5, 4.5, 4.5,\n",
              "         4.5, 4.5, 4. , 4. , 4. , 4. , 4. , 4. , 4. , 4. , 4. , 4. , 4. ,\n",
              "         4. , 4. , 4. , 4. , 4. , 4. , 4. , 5. , 5. , 3.5, 3.5, 3.5, 3.5,\n",
              "         3.5, 3.5, 3.5, 3.5, 3.5, 3.5, 3.5, 3.5, 3.5, 3.5, 5. , 5. , 5. ,\n",
              "         5. , 5. , 5. , 5. , 5. , 5. , 5. , 5. , 5. , 5. , 5. , 5. , 5. ,\n",
              "         5. , 5. , 5. , 5. , 5. , 5. , 5. , 5. , 5. , 5. , 5. , 5. , 5. ]),\n",
              "  'label': array([0, 0, 0, 0, 0, 0, 0, 0, 0, 0, 0, 0, 0, 0, 0, 0, 0, 0, 0, 0, 2, 2,\n",
              "         2, 2, 2, 2, 2, 2, 2, 0, 0, 0, 0, 0, 0, 0, 0, 0, 0, 1, 1, 1, 1, 1,\n",
              "         1, 1, 1, 1, 1, 1, 1, 1, 1, 1, 1, 2, 2, 2, 2, 2, 2, 2, 2, 2, 2, 2,\n",
              "         2, 2, 2, 2, 2, 2, 2, 0, 0, 0, 0, 0, 2, 2, 2, 1, 1, 1, 1, 0, 0, 0,\n",
              "         0, 0, 0, 2, 2, 0, 1, 1, 1, 1, 1, 1, 1, 1, 1, 1, 1, 1, 1, 1, 1, 1,\n",
              "         1, 1, 1, 1, 1, 1, 1, 1, 1, 1, 1, 1, 1, 1, 1, 1, 1, 1, 1, 0, 0, 2,\n",
              "         2, 2, 2, 2, 2, 1, 1, 1, 1, 1, 1, 1, 1, 1, 1, 1, 1, 1, 1, 1, 1, 1,\n",
              "         1, 1, 1, 1, 2, 2, 2, 2, 2, 2, 2, 2, 2, 2, 2, 2, 2, 2, 2, 2, 2, 2,\n",
              "         2, 2, 1, 1, 1, 1, 1, 1, 1, 0, 0, 0, 0, 0, 0, 0, 0, 1, 1, 1, 1, 1,\n",
              "         1, 1, 1, 1, 1, 1, 1, 1, 1, 1, 1, 1, 2, 2, 2, 2, 2, 2, 2, 2, 2, 2,\n",
              "         2, 2, 2, 2, 2, 2, 2, 2, 2, 2, 2, 0, 0, 0, 0, 0, 0, 0, 1, 1, 1, 1,\n",
              "         1, 1, 1, 1, 1, 1, 1, 1, 2, 2, 2, 0, 0, 0, 0, 0, 0, 1, 1, 1, 1, 1,\n",
              "         1, 1, 1, 1, 1, 1, 1, 1, 0, 0, 2, 2, 2, 2, 0, 0, 0, 0, 0, 0, 2, 2,\n",
              "         2, 2, 2, 2, 2, 2, 2, 2, 2, 1, 1, 1, 1, 1, 2, 2, 2, 2, 2, 2, 2, 2,\n",
              "         2, 0, 0, 0, 0, 2, 2, 2, 2, 2, 2, 1, 1, 1, 1, 1, 0, 0, 0, 0, 0, 0,\n",
              "         0, 0, 0, 1, 1, 1, 1, 1, 1, 0, 0, 0, 0, 0, 0, 0, 0, 0, 0, 0, 0, 0,\n",
              "         0, 0, 0, 0, 0, 0, 1, 1, 1, 1, 1, 1, 1, 1, 1, 2, 2, 2, 2, 2, 2, 2,\n",
              "         2, 2, 0, 0, 0, 0, 0, 0, 0, 0, 0, 0, 0, 0, 0, 0, 0, 0, 0, 0, 0, 0,\n",
              "         0, 0, 0, 0, 0, 0, 2, 2, 2, 2, 2, 2, 2, 2, 2, 0, 0, 0, 0, 0, 0, 0,\n",
              "         0, 0, 1, 1, 1, 0, 0, 0, 0, 0, 0, 0, 0, 0, 0, 0, 1, 1, 2, 2, 2, 2,\n",
              "         2, 2, 2, 2, 2, 2, 0, 0, 0, 0, 0, 1, 1, 1, 1, 1, 1, 1, 1, 1, 1, 1,\n",
              "         1, 1, 1, 1, 1, 2, 2, 2, 2, 2, 1, 1, 1, 1, 1, 1, 1, 1, 1, 1, 1, 1,\n",
              "         1, 1, 1, 1, 1, 1, 1, 1, 1, 1, 1, 1, 1, 1, 1, 1, 1, 1, 1, 2, 2, 2,\n",
              "         2, 2, 2, 2, 0, 0, 0, 0, 0, 0, 0, 2, 2, 2, 2, 2, 2, 2, 2, 2, 2, 2,\n",
              "         2, 2, 2, 2, 2, 2, 2, 2, 2, 2, 2, 2, 2, 2, 2, 2, 2, 2, 2, 2, 2, 2,\n",
              "         2, 2, 2, 2, 2, 1, 1, 1, 1, 1, 1, 1, 1, 1, 1, 1, 1, 1, 1, 1, 1, 1,\n",
              "         1, 1, 1, 1, 1, 1, 1, 1, 1, 1, 1, 1, 1, 1, 1, 1, 1, 1, 1, 1, 1, 1,\n",
              "         1, 1, 1, 1, 1, 1, 1, 1, 1, 1, 1, 1, 1, 1, 1, 1, 1, 1, 1, 1, 1, 1,\n",
              "         1, 1, 1, 2, 2, 0, 0, 0, 0, 1, 1, 1, 1, 1, 2, 2, 2, 2, 2, 2, 2, 2,\n",
              "         2, 2, 2, 2, 2, 2, 2, 2, 2, 2, 2, 2, 2, 2, 2, 2, 2, 2, 2, 2, 2, 2,\n",
              "         0, 0, 1, 1, 1, 2, 2, 2, 2, 2, 2, 2, 2, 2, 2, 2, 2, 2, 2, 2, 2, 2,\n",
              "         1, 1, 1, 1, 1, 1, 1, 0, 2, 2, 2, 2, 2, 2, 2, 2, 2, 2, 2, 2, 2, 2,\n",
              "         2, 2, 2, 2, 0, 0, 1, 1, 1, 0, 0, 1, 1, 1, 1, 1, 1, 1, 1, 1, 1, 1,\n",
              "         1, 1, 1, 1, 1, 1, 1, 1, 1, 1, 1, 1, 1, 0, 0, 0, 0, 0, 1, 1, 1, 1,\n",
              "         1, 1, 1, 1, 1, 0, 0, 0, 0, 0, 0, 0, 0, 0, 0, 0, 0, 0, 0, 0, 0, 0,\n",
              "         0, 0, 0, 0, 0, 0, 0, 0, 0, 1, 1, 1, 1, 1, 1, 1, 1, 1, 1, 1, 1, 1,\n",
              "         1, 2, 2, 2, 2, 2, 2, 2, 2, 2, 2, 2, 2, 2, 2, 2, 2, 2, 2, 0, 0, 0,\n",
              "         0, 0, 0, 0, 0, 2, 2, 2, 2, 2, 1, 1, 1, 1, 2, 2, 2, 2, 2, 2, 2, 2,\n",
              "         2, 2, 2, 2, 2, 2, 2, 2, 2, 2, 2, 2, 1, 1, 1, 1, 1, 1, 2, 2, 2, 2,\n",
              "         2, 2, 2, 2, 2, 2, 2, 2, 2, 2, 0, 0, 0, 0, 0, 0, 0, 0, 0, 0, 0, 0,\n",
              "         0, 0, 0, 0, 0, 0, 0, 0, 0, 0, 0, 0, 0, 1, 1, 1, 1])},\n",
              " 'val': {'type': array(['call', 'song', 'song', 'song', 'song', 'song', 'song', 'song',\n",
              "         'song', 'song', 'song', 'song', 'song', 'call', 'call', 'call',\n",
              "         'call', 'call', 'call', 'call', 'song', 'song', 'song', 'song',\n",
              "         'song', 'call', 'call', 'call', 'call', 'call', 'call', 'call',\n",
              "         'call', 'call', 'call', 'call', 'call', 'call', 'call', 'call',\n",
              "         'call', 'call', 'call', 'call', 'song', 'song', 'song', 'call',\n",
              "         'call', 'call', 'call', 'call', 'song', 'song', 'song', 'song',\n",
              "         'song', 'song', 'song', 'song', 'song', 'song', 'song', 'song',\n",
              "         'song', 'song', 'call', 'call', 'call', 'call', 'call'],\n",
              "        dtype='<U4'),\n",
              "  'continent': array(['EU', 'AF', 'AF', 'AF', 'AF', 'AF', 'AF', 'AF', 'AF', 'AF', 'AF',\n",
              "         'AF', 'AF', 'AF', 'AF', 'AF', 'AF', 'AF', 'AF', 'AF', 'AF', 'AF',\n",
              "         'AF', 'AF', 'AF', 'AF', 'AF', 'AF', 'AF', 'AF', 'AF', 'AF', 'AF',\n",
              "         'AF', 'AF', 'AF', 'AF', 'AF', 'EU', 'EU', 'EU', 'EU', 'EU', 'EU',\n",
              "         'AF', 'AF', 'AF', 'AF', 'AF', 'AF', 'AF', 'AF', 'AF', 'AF', 'AF',\n",
              "         'AF', 'AF', 'AF', 'AF', 'AF', 'AF', 'AF', 'AF', 'AF', 'AF', 'AF',\n",
              "         'AF', 'AF', 'AF', 'AF', 'AF'], dtype='<U2'),\n",
              "  'rating': array([5. , 5. , 5. , 5. , 5. , 5. , 5. , 5. , 5. , 5. , 5. , 5. , 5. ,\n",
              "         4. , 4. , 4. , 4. , 4. , 4. , 4. , 5. , 5. , 5. , 5. , 5. , 4. ,\n",
              "         4. , 4. , 4. , 4. , 4. , 4. , 4. , 4. , 4. , 4. , 4. , 4. , 4. ,\n",
              "         4. , 4. , 4. , 4. , 4. , 4.5, 4.5, 4.5, 3.5, 3.5, 3.5, 3.5, 3.5,\n",
              "         4. , 4. , 5. , 5. , 5. , 5. , 5. , 5. , 4. , 4. , 4. , 4. , 4. ,\n",
              "         4. , 3.5, 3.5, 3.5, 3.5, 3.5]),\n",
              "  'label': array([0, 2, 2, 2, 2, 2, 2, 2, 2, 2, 2, 2, 2, 0, 0, 0, 0, 0, 0, 0, 1, 1,\n",
              "         1, 1, 1, 2, 2, 2, 2, 2, 2, 2, 2, 2, 2, 2, 2, 2, 0, 0, 0, 0, 0, 0,\n",
              "         1, 1, 1, 2, 2, 2, 2, 2, 1, 1, 2, 2, 2, 1, 1, 1, 1, 1, 1, 1, 1, 1,\n",
              "         2, 2, 2, 2, 2])}}"
            ]
          },
          "metadata": {},
          "execution_count": 47
        }
      ]
    },
    {
      "cell_type": "markdown",
      "source": [
        "#Saving the merge_dict\n"
      ],
      "metadata": {
        "id": "HR8BPEGHSZHI"
      }
    },
    {
      "cell_type": "code",
      "source": [
        "assert np.array_equal(audio_df['train']['label'], non_audio_df['train']['label'])"
      ],
      "metadata": {
        "id": "tQrcjyF5KUMs"
      },
      "execution_count": null,
      "outputs": []
    },
    {
      "cell_type": "code",
      "source": [
        "\n",
        "assert np.array_equal(audio_df['val']['label'], non_audio_df['val']['label'])"
      ],
      "metadata": {
        "id": "HzEFxiF-KVzD"
      },
      "execution_count": null,
      "outputs": []
    },
    {
      "cell_type": "code",
      "source": [
        "\n",
        "def shuffle_data(audio_features, non_audio_features):\n",
        "  input_len = len(audio_features['label'])\n",
        "  input_indices = np.random.permutation(input_len)\n",
        "  audio_features = {key: np.array([audio_features[key][i] for i in input_indices]) for key in audio_features}\n",
        "  non_audio_features = {key: np.array([non_audio_features[key][i] for i in input_indices]) for key in non_audio_features}\n",
        "\n",
        "  return audio_features, non_audio_features"
      ],
      "metadata": {
        "id": "DVK66lTB53QE"
      },
      "execution_count": null,
      "outputs": []
    },
    {
      "cell_type": "code",
      "source": [
        "\n",
        "audio_df['train'], non_audio_df['train'] = shuffle_data(audio_df['train'], non_audio_df['train'])"
      ],
      "metadata": {
        "id": "F1KcWK0WKsxr"
      },
      "execution_count": null,
      "outputs": []
    },
    {
      "cell_type": "code",
      "source": [
        "for key in audio_df['train'].keys():\n",
        "  display(key)\n",
        "  display(audio_df['train'][key].shape)\n",
        "  display(audio_df['train'][key][:5])"
      ],
      "metadata": {
        "id": "ZvFVyIdX6KNM",
        "colab": {
          "base_uri": "https://localhost:8080/",
          "height": 1000
        },
        "outputId": "28752fbb-0806-4f5d-b784-0b0b247048bb"
      },
      "execution_count": null,
      "outputs": [
        {
          "output_type": "display_data",
          "data": {
            "text/plain": [
              "'mfcc'"
            ],
            "application/vnd.google.colaboratory.intrinsic+json": {
              "type": "string"
            }
          },
          "metadata": {}
        },
        {
          "output_type": "display_data",
          "data": {
            "text/plain": [
              "(897, 251, 20)"
            ]
          },
          "metadata": {}
        },
        {
          "output_type": "display_data",
          "data": {
            "text/plain": [
              "array([[[0.34700182, 0.28016264, 0.56960338, ..., 0.60247644,\n",
              "         0.41483461, 0.36283095],\n",
              "        [0.28722083, 0.23490831, 0.51982984, ..., 0.55516243,\n",
              "         0.46255796, 0.44492211],\n",
              "        [0.2957772 , 0.14070252, 0.48216409, ..., 0.5550645 ,\n",
              "         0.53987808, 0.48690413],\n",
              "        ...,\n",
              "        [0.26434151, 0.03467127, 0.47733767, ..., 0.40315067,\n",
              "         0.56332721, 0.37052717],\n",
              "        [0.23414093, 0.09303342, 0.467913  , ..., 0.51187471,\n",
              "         0.55632966, 0.41539124],\n",
              "        [0.30018084, 0.13741661, 0.51122971, ..., 0.4901875 ,\n",
              "         0.59022481, 0.48296536]],\n",
              "\n",
              "       [[0.64492515, 0.81971499, 0.52067613, ..., 0.52485297,\n",
              "         0.22068239, 0.25730219],\n",
              "        [0.63701543, 0.79341283, 0.55109813, ..., 0.54839616,\n",
              "         0.22253026, 0.27876689],\n",
              "        [0.66433249, 0.71057491, 0.55023072, ..., 0.51522168,\n",
              "         0.28644877, 0.40936417],\n",
              "        ...,\n",
              "        [0.69137195, 0.64287951, 0.52510179, ..., 0.31827152,\n",
              "         0.28537424, 0.39586634],\n",
              "        [0.67493814, 0.6639436 , 0.56711743, ..., 0.39001574,\n",
              "         0.40406766, 0.32036163],\n",
              "        [0.65469054, 0.68870634, 0.60952483, ..., 0.49135243,\n",
              "         0.50510252, 0.2585763 ]],\n",
              "\n",
              "       [[0.7166104 , 0.59210059, 0.34834255, ..., 0.1473518 ,\n",
              "         0.88077469, 0.35664021],\n",
              "        [0.6823723 , 0.58534121, 0.40796081, ..., 0.07344699,\n",
              "         0.86817497, 0.52484294],\n",
              "        [0.67799365, 0.52553416, 0.4494218 , ..., 0.1238063 ,\n",
              "         0.77649883, 0.61596271],\n",
              "        ...,\n",
              "        [0.66551475, 0.5055713 , 0.43012531, ..., 0.65733048,\n",
              "         0.36329536, 0.37261561],\n",
              "        [0.56989388, 0.58496022, 0.47928304, ..., 0.72944495,\n",
              "         0.4120554 , 0.32366122],\n",
              "        [0.5119029 , 0.64219005, 0.49749407, ..., 0.75984249,\n",
              "         0.53303342, 0.33288987]],\n",
              "\n",
              "       [[0.51392342, 0.74253971, 0.52850652, ..., 0.65256871,\n",
              "         0.34462759, 0.35883531],\n",
              "        [0.51922072, 0.71468912, 0.50192136, ..., 0.58580128,\n",
              "         0.35165566, 0.46468718],\n",
              "        [0.54255241, 0.60394982, 0.48482777, ..., 0.43111212,\n",
              "         0.40426975, 0.54855412],\n",
              "        ...,\n",
              "        [0.53961685, 0.5582594 , 0.38557973, ..., 0.41672735,\n",
              "         0.40817648, 0.50450876],\n",
              "        [0.49038763, 0.58726482, 0.40097526, ..., 0.46072182,\n",
              "         0.42271724, 0.43312098],\n",
              "        [0.47977647, 0.58311611, 0.40514106, ..., 0.44141779,\n",
              "         0.46518768, 0.3973661 ]],\n",
              "\n",
              "       [[0.59562511, 0.85113332, 0.37950446, ..., 0.64056475,\n",
              "         0.50725633, 0.48198234],\n",
              "        [0.61096153, 0.84193319, 0.34303579, ..., 0.59167557,\n",
              "         0.36671796, 0.43849097],\n",
              "        [0.65635203, 0.76153489, 0.32095403, ..., 0.50751017,\n",
              "         0.39693807, 0.4344304 ],\n",
              "        ...,\n",
              "        [0.62656918, 0.7628995 , 0.41311249, ..., 0.24970571,\n",
              "         0.373171  , 0.4344681 ],\n",
              "        [0.64037294, 0.75580031, 0.48354977, ..., 0.30951349,\n",
              "         0.50154435, 0.40335102],\n",
              "        [0.64238686, 0.73508145, 0.54684022, ..., 0.31116044,\n",
              "         0.59489998, 0.42578841]]])"
            ]
          },
          "metadata": {}
        },
        {
          "output_type": "display_data",
          "data": {
            "text/plain": [
              "'rms'"
            ],
            "application/vnd.google.colaboratory.intrinsic+json": {
              "type": "string"
            }
          },
          "metadata": {}
        },
        {
          "output_type": "display_data",
          "data": {
            "text/plain": [
              "(897, 251, 1)"
            ]
          },
          "metadata": {}
        },
        {
          "output_type": "display_data",
          "data": {
            "text/plain": [
              "array([[[0.00902063],\n",
              "        [0.01063785],\n",
              "        [0.01175697],\n",
              "        ...,\n",
              "        [0.11524866],\n",
              "        [0.10387059],\n",
              "        [0.03956706]],\n",
              "\n",
              "       [[0.02896832],\n",
              "        [0.0334549 ],\n",
              "        [0.03751738],\n",
              "        ...,\n",
              "        [0.05917897],\n",
              "        [0.05201048],\n",
              "        [0.04339901]],\n",
              "\n",
              "       [[0.19695853],\n",
              "        [0.19499387],\n",
              "        [0.1961058 ],\n",
              "        ...,\n",
              "        [0.29279825],\n",
              "        [0.19007559],\n",
              "        [0.05345649]],\n",
              "\n",
              "       [[0.00524013],\n",
              "        [0.0059344 ],\n",
              "        [0.00670396],\n",
              "        ...,\n",
              "        [0.02781312],\n",
              "        [0.02106321],\n",
              "        [0.01652344]],\n",
              "\n",
              "       [[0.02389388],\n",
              "        [0.02995448],\n",
              "        [0.03721933],\n",
              "        ...,\n",
              "        [0.06545015],\n",
              "        [0.06124772],\n",
              "        [0.05956375]]], dtype=float32)"
            ]
          },
          "metadata": {}
        },
        {
          "output_type": "display_data",
          "data": {
            "text/plain": [
              "'melspectrogram'"
            ],
            "application/vnd.google.colaboratory.intrinsic+json": {
              "type": "string"
            }
          },
          "metadata": {}
        },
        {
          "output_type": "display_data",
          "data": {
            "text/plain": [
              "(897, 251, 20)"
            ]
          },
          "metadata": {}
        },
        {
          "output_type": "display_data",
          "data": {
            "text/plain": [
              "array([[[0.23181794, 0.22247407, 0.22099161, ..., 0.60416163,\n",
              "         0.45948969, 0.31221553],\n",
              "        [0.16449272, 0.11065151, 0.13641552, ..., 0.62015371,\n",
              "         0.44917186, 0.22669507],\n",
              "        [0.13873355, 0.08985019, 0.1224426 , ..., 0.56760434,\n",
              "         0.43815747, 0.17084415],\n",
              "        ...,\n",
              "        [0.13761424, 0.07549872, 0.07004123, ..., 0.56447314,\n",
              "         0.42052949, 0.12944771],\n",
              "        [0.18977706, 0.16127603, 0.1463401 , ..., 0.52495828,\n",
              "         0.36207048, 0.14253059],\n",
              "        [0.23848869, 0.2261619 , 0.23034623, ..., 0.54283509,\n",
              "         0.40212039, 0.25061721]],\n",
              "\n",
              "       [[0.75772267, 0.79148974, 0.7338274 , ..., 0.58572841,\n",
              "         0.5637909 , 0.54464769],\n",
              "        [0.7652461 , 0.78177555, 0.74272004, ..., 0.56935256,\n",
              "         0.5553117 , 0.54851494],\n",
              "        [0.73800701, 0.74961964, 0.7778583 , ..., 0.50508013,\n",
              "         0.55606828, 0.5485004 ],\n",
              "        ...,\n",
              "        [0.75191605, 0.76060463, 0.72734732, ..., 0.55836619,\n",
              "         0.565877  , 0.53283343],\n",
              "        [0.76070002, 0.77556899, 0.75326314, ..., 0.5397814 ,\n",
              "         0.54939494, 0.50079609],\n",
              "        [0.7624225 , 0.77628428, 0.79621811, ..., 0.55540211,\n",
              "         0.59915559, 0.51019462]],\n",
              "\n",
              "       [[0.65979408, 0.66746509, 0.67813973, ..., 0.89124197,\n",
              "         0.95670128, 0.67374366],\n",
              "        [0.63760046, 0.66749437, 0.68239878, ..., 0.87949395,\n",
              "         0.93087462, 0.66050715],\n",
              "        [0.60830471, 0.66044091, 0.71846368, ..., 0.73081342,\n",
              "         0.84308847, 0.61599336],\n",
              "        ...,\n",
              "        [0.58905899, 0.61145099, 0.61460753, ..., 0.72058962,\n",
              "         0.66316178, 0.57837144],\n",
              "        [0.58814232, 0.6253103 , 0.61881369, ..., 0.54724582,\n",
              "         0.48916528, 0.47320429],\n",
              "        [0.5991742 , 0.62165584, 0.62979012, ..., 0.43142865,\n",
              "         0.43703099, 0.4179667 ]],\n",
              "\n",
              "       [[0.5222427 , 0.59409183, 0.6508435 , ..., 0.46866345,\n",
              "         0.47741746, 0.47157922],\n",
              "        [0.53770282, 0.60899626, 0.66171896, ..., 0.47140672,\n",
              "         0.47886844, 0.46659451],\n",
              "        [0.51107221, 0.58590457, 0.65879578, ..., 0.43802596,\n",
              "         0.47850867, 0.47099944],\n",
              "        ...,\n",
              "        [0.49068463, 0.51785263, 0.57114108, ..., 0.43703205,\n",
              "         0.45580611, 0.4421124 ],\n",
              "        [0.48858871, 0.54723116, 0.59623275, ..., 0.38840992,\n",
              "         0.385108  , 0.39066883],\n",
              "        [0.48634775, 0.54996361, 0.59189263, ..., 0.39846616,\n",
              "         0.41153462, 0.4040147 ]],\n",
              "\n",
              "       [[0.64551393, 0.68155601, 0.71471915, ..., 0.58465612,\n",
              "         0.39524559, 0.33112253],\n",
              "        [0.65413659, 0.67990707, 0.75134363, ..., 0.5492304 ,\n",
              "         0.38914538, 0.31798492],\n",
              "        [0.62928692, 0.68657128, 0.78456776, ..., 0.45092632,\n",
              "         0.42300434, 0.33599574],\n",
              "        ...,\n",
              "        [0.76501809, 0.77710764, 0.77417704, ..., 0.42861398,\n",
              "         0.36725068, 0.28026616],\n",
              "        [0.80773864, 0.82002958, 0.80820213, ..., 0.41946197,\n",
              "         0.38177922, 0.36078207],\n",
              "        [0.82045034, 0.82520384, 0.84309455, ..., 0.47162339,\n",
              "         0.48422108, 0.4665798 ]]])"
            ]
          },
          "metadata": {}
        },
        {
          "output_type": "display_data",
          "data": {
            "text/plain": [
              "'label'"
            ],
            "application/vnd.google.colaboratory.intrinsic+json": {
              "type": "string"
            }
          },
          "metadata": {}
        },
        {
          "output_type": "display_data",
          "data": {
            "text/plain": [
              "(897,)"
            ]
          },
          "metadata": {}
        },
        {
          "output_type": "display_data",
          "data": {
            "text/plain": [
              "array([2, 1, 1, 1, 0])"
            ]
          },
          "metadata": {}
        }
      ]
    },
    {
      "cell_type": "code",
      "source": [
        "\n",
        "for key in non_audio_df['train'].keys():\n",
        "  display(key)\n",
        "  display(non_audio_df['train'][key].shape)\n",
        "  display(non_audio_df['train'][key][:5])"
      ],
      "metadata": {
        "colab": {
          "base_uri": "https://localhost:8080/",
          "height": 229
        },
        "id": "aBAPL9rUKzhD",
        "outputId": "c4d73229-c720-4a62-a234-aa04f8ca86d2"
      },
      "execution_count": null,
      "outputs": [
        {
          "output_type": "display_data",
          "data": {
            "text/plain": [
              "'type'"
            ],
            "application/vnd.google.colaboratory.intrinsic+json": {
              "type": "string"
            }
          },
          "metadata": {}
        },
        {
          "output_type": "display_data",
          "data": {
            "text/plain": [
              "(897,)"
            ]
          },
          "metadata": {}
        },
        {
          "output_type": "display_data",
          "data": {
            "text/plain": [
              "array(['call', 'song', 'call', 'song', 'call'], dtype='<U5')"
            ]
          },
          "metadata": {}
        },
        {
          "output_type": "display_data",
          "data": {
            "text/plain": [
              "'continent'"
            ],
            "application/vnd.google.colaboratory.intrinsic+json": {
              "type": "string"
            }
          },
          "metadata": {}
        },
        {
          "output_type": "display_data",
          "data": {
            "text/plain": [
              "(897,)"
            ]
          },
          "metadata": {}
        },
        {
          "output_type": "display_data",
          "data": {
            "text/plain": [
              "array(['AF', 'AF', 'AF', 'AF', 'AF'], dtype='<U3')"
            ]
          },
          "metadata": {}
        },
        {
          "output_type": "display_data",
          "data": {
            "text/plain": [
              "'rating'"
            ],
            "application/vnd.google.colaboratory.intrinsic+json": {
              "type": "string"
            }
          },
          "metadata": {}
        },
        {
          "output_type": "display_data",
          "data": {
            "text/plain": [
              "(897,)"
            ]
          },
          "metadata": {}
        },
        {
          "output_type": "display_data",
          "data": {
            "text/plain": [
              "array([4. , 4.5, 4. , 5. , 4. ])"
            ]
          },
          "metadata": {}
        },
        {
          "output_type": "display_data",
          "data": {
            "text/plain": [
              "'label'"
            ],
            "application/vnd.google.colaboratory.intrinsic+json": {
              "type": "string"
            }
          },
          "metadata": {}
        },
        {
          "output_type": "display_data",
          "data": {
            "text/plain": [
              "(897,)"
            ]
          },
          "metadata": {}
        },
        {
          "output_type": "display_data",
          "data": {
            "text/plain": [
              "array([2, 1, 1, 1, 0])"
            ]
          },
          "metadata": {}
        }
      ]
    },
    {
      "cell_type": "code",
      "source": [
        "\n",
        "audio_df['val'], non_audio_df['val'] = shuffle_data(audio_df['val'], non_audio_df['val'])"
      ],
      "metadata": {
        "id": "GFb8VW9wK03z"
      },
      "execution_count": null,
      "outputs": []
    },
    {
      "cell_type": "code",
      "source": [
        "for key in audio_df['val'].keys():\n",
        "  display(key)\n",
        "  display(audio_df['val'][key].shape)\n",
        "  display(audio_df['val'][key][:5])"
      ],
      "metadata": {
        "id": "empxXbqx6MgW",
        "colab": {
          "base_uri": "https://localhost:8080/",
          "height": 1000
        },
        "outputId": "2a856df8-917f-4e85-c137-710623bb1f9d"
      },
      "execution_count": null,
      "outputs": [
        {
          "output_type": "display_data",
          "data": {
            "text/plain": [
              "'mfcc'"
            ],
            "application/vnd.google.colaboratory.intrinsic+json": {
              "type": "string"
            }
          },
          "metadata": {}
        },
        {
          "output_type": "display_data",
          "data": {
            "text/plain": [
              "(71, 251, 20)"
            ]
          },
          "metadata": {}
        },
        {
          "output_type": "display_data",
          "data": {
            "text/plain": [
              "array([[[0.49735683, 0.6997009 , 0.69418985, ..., 0.50788444,\n",
              "         0.31045276, 0.38717076],\n",
              "        [0.5100569 , 0.6592029 , 0.6150318 , ..., 0.65203667,\n",
              "         0.25835595, 0.51614124],\n",
              "        [0.54512715, 0.55204755, 0.5900693 , ..., 0.64868444,\n",
              "         0.35987   , 0.5549708 ],\n",
              "        ...,\n",
              "        [0.5461269 , 0.4855366 , 0.5735761 , ..., 0.40000188,\n",
              "         0.21599333, 0.4925056 ],\n",
              "        [0.56189114, 0.4428207 , 0.5720533 , ..., 0.5437082 ,\n",
              "         0.27491435, 0.4753655 ],\n",
              "        [0.59860593, 0.43674174, 0.57052827, ..., 0.69071114,\n",
              "         0.36313513, 0.5255777 ]],\n",
              "\n",
              "       [[0.5419212 , 0.8266486 , 0.79340994, ..., 0.4327965 ,\n",
              "         0.45980465, 0.4655733 ],\n",
              "        [0.5400041 , 0.7834226 , 0.7330195 , ..., 0.54170793,\n",
              "         0.42330608, 0.5385031 ],\n",
              "        [0.57039046, 0.7003457 , 0.72340167, ..., 0.5872667 ,\n",
              "         0.4317414 , 0.4984905 ],\n",
              "        ...,\n",
              "        [0.5672366 , 0.6310723 , 0.7018468 , ..., 0.4824319 ,\n",
              "         0.39922184, 0.5633169 ],\n",
              "        [0.5521906 , 0.6666529 , 0.7532397 , ..., 0.42960295,\n",
              "         0.4580993 , 0.45121366],\n",
              "        [0.5851317 , 0.7020968 , 0.7945447 , ..., 0.4714793 ,\n",
              "         0.5139211 , 0.43195227]],\n",
              "\n",
              "       [[0.3919165 , 0.7848893 , 0.70634735, ..., 0.5759058 ,\n",
              "         0.37267178, 0.31597453],\n",
              "        [0.35855398, 0.7290582 , 0.5742432 , ..., 0.66775364,\n",
              "         0.3654668 , 0.37938744],\n",
              "        [0.3604765 , 0.6081567 , 0.5050972 , ..., 0.67482525,\n",
              "         0.46400115, 0.57065344],\n",
              "        ...,\n",
              "        [0.2898938 , 0.57793206, 0.48559308, ..., 0.5092692 ,\n",
              "         0.4052851 , 0.45030078],\n",
              "        [0.21127966, 0.5951085 , 0.5138318 , ..., 0.580894  ,\n",
              "         0.44227552, 0.45786825],\n",
              "        [0.20893753, 0.5801926 , 0.5677446 , ..., 0.6050393 ,\n",
              "         0.55933374, 0.40681642]],\n",
              "\n",
              "       [[0.06890149, 0.58338815, 0.68049186, ..., 0.5335268 ,\n",
              "         0.45109367, 0.43933716],\n",
              "        [0.03152172, 0.5731391 , 0.63912916, ..., 0.5595791 ,\n",
              "         0.4439155 , 0.48356858],\n",
              "        [0.03502101, 0.47662228, 0.6050445 , ..., 0.54854316,\n",
              "         0.5081531 , 0.5271393 ],\n",
              "        ...,\n",
              "        [0.18590045, 0.48295808, 0.4983609 , ..., 0.533607  ,\n",
              "         0.34107   , 0.46679088],\n",
              "        [0.08312442, 0.52987593, 0.4715599 , ..., 0.4465462 ,\n",
              "         0.48802993, 0.32467857],\n",
              "        [0.09139902, 0.53254944, 0.43596345, ..., 0.3730576 ,\n",
              "         0.6238211 , 0.45396298]],\n",
              "\n",
              "       [[0.39923358, 0.56610006, 0.59850967, ..., 0.5098925 ,\n",
              "         0.2986201 , 0.46328393],\n",
              "        [0.378813  , 0.5661912 , 0.53627443, ..., 0.5304688 ,\n",
              "         0.39441362, 0.5415568 ],\n",
              "        [0.38963807, 0.49466377, 0.5338686 , ..., 0.47822216,\n",
              "         0.5318187 , 0.5628386 ],\n",
              "        ...,\n",
              "        [0.5793638 , 1.0026802 , 1.0208728 , ..., 0.3086596 ,\n",
              "         0.42806357, 0.6364344 ],\n",
              "        [0.59180737, 0.97620636, 0.9846429 , ..., 0.46131352,\n",
              "         0.54652745, 0.47282276],\n",
              "        [0.6502763 , 0.9262941 , 0.97544724, ..., 0.54347885,\n",
              "         0.6209084 , 0.5061671 ]]], dtype=float32)"
            ]
          },
          "metadata": {}
        },
        {
          "output_type": "display_data",
          "data": {
            "text/plain": [
              "'rms'"
            ],
            "application/vnd.google.colaboratory.intrinsic+json": {
              "type": "string"
            }
          },
          "metadata": {}
        },
        {
          "output_type": "display_data",
          "data": {
            "text/plain": [
              "(71, 251, 1)"
            ]
          },
          "metadata": {}
        },
        {
          "output_type": "display_data",
          "data": {
            "text/plain": [
              "array([[[6.1749290e-03],\n",
              "        [7.7499398e-03],\n",
              "        [8.6662397e-03],\n",
              "        ...,\n",
              "        [1.0724725e-01],\n",
              "        [8.1137128e-02],\n",
              "        [8.4001102e-02]],\n",
              "\n",
              "       [[2.8076977e-02],\n",
              "        [3.2782126e-02],\n",
              "        [3.9867099e-02],\n",
              "        ...,\n",
              "        [5.3982887e-02],\n",
              "        [4.4835348e-02],\n",
              "        [4.3928653e-02]],\n",
              "\n",
              "       [[2.0828589e-03],\n",
              "        [2.1599978e-03],\n",
              "        [2.3166179e-03],\n",
              "        ...,\n",
              "        [1.1684588e-03],\n",
              "        [1.0258910e-03],\n",
              "        [9.1133500e-04]],\n",
              "\n",
              "       [[6.1625360e-07],\n",
              "        [1.2365399e-06],\n",
              "        [7.4525578e-06],\n",
              "        ...,\n",
              "        [3.2039054e-04],\n",
              "        [2.7907835e-04],\n",
              "        [2.6200499e-04]],\n",
              "\n",
              "       [[1.5779256e-03],\n",
              "        [1.6645998e-03],\n",
              "        [1.7492240e-03],\n",
              "        ...,\n",
              "        [5.9169221e-01],\n",
              "        [5.8252561e-01],\n",
              "        [4.3656337e-01]]], dtype=float32)"
            ]
          },
          "metadata": {}
        },
        {
          "output_type": "display_data",
          "data": {
            "text/plain": [
              "'melspectrogram'"
            ],
            "application/vnd.google.colaboratory.intrinsic+json": {
              "type": "string"
            }
          },
          "metadata": {}
        },
        {
          "output_type": "display_data",
          "data": {
            "text/plain": [
              "(71, 251, 20)"
            ]
          },
          "metadata": {}
        },
        {
          "output_type": "display_data",
          "data": {
            "text/plain": [
              "array([[[ 6.63227499e-01,  6.28180027e-01,  5.54829895e-01, ...,\n",
              "          4.84056860e-01,  4.50689226e-01,  4.51609462e-01],\n",
              "        [ 6.41315460e-01,  6.19614124e-01,  5.60127914e-01, ...,\n",
              "          5.26109815e-01,  4.75856155e-01,  4.56433415e-01],\n",
              "        [ 6.22943282e-01,  6.12413347e-01,  6.01587176e-01, ...,\n",
              "          4.78978574e-01,  4.74180609e-01,  4.58194673e-01],\n",
              "        ...,\n",
              "        [ 6.29206002e-01,  5.99640191e-01,  5.13416171e-01, ...,\n",
              "          4.66986209e-01,  4.43968922e-01,  4.26473498e-01],\n",
              "        [ 6.44991934e-01,  6.24500275e-01,  5.55668175e-01, ...,\n",
              "          4.98123258e-01,  4.73814160e-01,  4.47179049e-01],\n",
              "        [ 6.46170199e-01,  6.37423456e-01,  6.34923935e-01, ...,\n",
              "          5.37567317e-01,  5.37775159e-01,  5.06093144e-01]],\n",
              "\n",
              "       [[ 7.95170665e-01,  6.62906170e-01,  6.76742315e-01, ...,\n",
              "          4.79853064e-01,  4.79878038e-01,  5.31084836e-01],\n",
              "        [ 7.86731958e-01,  6.54510617e-01,  6.83873713e-01, ...,\n",
              "          4.92937654e-01,  4.83606428e-01,  5.14069974e-01],\n",
              "        [ 7.42392480e-01,  6.32204115e-01,  7.94187427e-01, ...,\n",
              "          4.51774001e-01,  4.88137990e-01,  5.47858953e-01],\n",
              "        ...,\n",
              "        [ 7.40109384e-01,  6.19217098e-01,  6.29097521e-01, ...,\n",
              "          4.71370816e-01,  4.90935415e-01,  4.99193609e-01],\n",
              "        [ 7.68598318e-01,  6.62564039e-01,  6.80143595e-01, ...,\n",
              "          4.49807018e-01,  4.51883823e-01,  4.70613152e-01],\n",
              "        [ 8.00546229e-01,  7.21641123e-01,  7.27668405e-01, ...,\n",
              "          4.83384401e-01,  5.06374955e-01,  5.16118824e-01]],\n",
              "\n",
              "       [[ 6.14336610e-01,  5.47531903e-01,  4.90774065e-01, ...,\n",
              "          3.08698922e-01,  2.96868414e-01,  2.99644798e-01],\n",
              "        [ 5.64690709e-01,  4.58321005e-01,  4.31779712e-01, ...,\n",
              "          2.77166158e-01,  2.41219968e-01,  2.37366796e-01],\n",
              "        [ 4.98277277e-01,  3.72052908e-01,  4.10529137e-01, ...,\n",
              "          2.46576130e-01,  2.27102667e-01,  2.11473942e-01],\n",
              "        ...,\n",
              "        [ 4.43782300e-01,  3.73968124e-01,  3.62049460e-01, ...,\n",
              "          2.00343147e-01,  1.33061439e-01,  1.28700554e-01],\n",
              "        [ 4.56182808e-01,  3.83346081e-01,  3.67779911e-01, ...,\n",
              "          1.51117653e-01,  7.56253898e-02,  1.08962044e-01],\n",
              "        [ 4.44403857e-01,  3.59873444e-01,  3.50727409e-01, ...,\n",
              "          1.47444591e-01,  1.14947274e-01,  1.31225601e-01]],\n",
              "\n",
              "       [[ 5.38849086e-02,  3.17162424e-02,  2.86717098e-02, ...,\n",
              "          1.71606913e-02,  2.67323665e-02,  3.48724388e-02],\n",
              "        [ 5.15827127e-02,  1.38545213e-02,  3.09288297e-02, ...,\n",
              "         -8.93857214e-04, -5.24482643e-03,  1.27891926e-02],\n",
              "        [ 5.34102283e-02,  3.23843583e-02,  3.46407853e-02, ...,\n",
              "          1.92158241e-02,  1.64795201e-02,  1.82096399e-02],\n",
              "        ...,\n",
              "        [ 2.96209723e-01,  1.89890459e-01,  2.42659926e-01, ...,\n",
              "          2.41248563e-01,  1.38677627e-01,  1.06592298e-01],\n",
              "        [ 2.88588971e-01,  2.01841280e-01,  2.26545870e-01, ...,\n",
              "          9.77251232e-02,  5.34779690e-02,  5.34961075e-02],\n",
              "        [ 2.61336893e-01,  1.85096622e-01,  2.08461970e-01, ...,\n",
              "          8.20002332e-02,  6.41588718e-02,  5.19312769e-02]],\n",
              "\n",
              "       [[ 4.51213390e-01,  4.05392408e-01,  3.78191799e-01, ...,\n",
              "          3.53748590e-01,  3.43521446e-01,  3.51314098e-01],\n",
              "        [ 4.30446953e-01,  3.88065159e-01,  3.71722251e-01, ...,\n",
              "          3.15466613e-01,  3.14458221e-01,  3.19888473e-01],\n",
              "        [ 4.25853670e-01,  3.88240486e-01,  3.69076312e-01, ...,\n",
              "          2.86736071e-01,  3.21021587e-01,  3.22696805e-01],\n",
              "        ...,\n",
              "        [ 9.64130998e-01,  9.92610157e-01,  9.67423856e-01, ...,\n",
              "          2.58778811e-01,  2.75212437e-01,  2.79679298e-01],\n",
              "        [ 9.83798206e-01,  9.82003987e-01,  9.35919166e-01, ...,\n",
              "          3.33217949e-01,  3.39140385e-01,  3.62818152e-01],\n",
              "        [ 1.00593233e+00,  9.88674760e-01,  9.56601262e-01, ...,\n",
              "          4.48664516e-01,  4.77728516e-01,  4.87193286e-01]]],\n",
              "      dtype=float32)"
            ]
          },
          "metadata": {}
        },
        {
          "output_type": "display_data",
          "data": {
            "text/plain": [
              "'label'"
            ],
            "application/vnd.google.colaboratory.intrinsic+json": {
              "type": "string"
            }
          },
          "metadata": {}
        },
        {
          "output_type": "display_data",
          "data": {
            "text/plain": [
              "(71,)"
            ]
          },
          "metadata": {}
        },
        {
          "output_type": "display_data",
          "data": {
            "text/plain": [
              "array([2, 2, 2, 1, 2])"
            ]
          },
          "metadata": {}
        }
      ]
    },
    {
      "cell_type": "code",
      "source": [
        "\n",
        "for key in non_audio_df['val'].keys():\n",
        "  display(key)\n",
        "  display(non_audio_df['val'][key].shape)\n",
        "  display(non_audio_df['val'][key][:5])"
      ],
      "metadata": {
        "colab": {
          "base_uri": "https://localhost:8080/",
          "height": 229
        },
        "id": "6jk88sbKK4sE",
        "outputId": "286e64dd-f3cd-433c-ab70-cdf3aebd8b73"
      },
      "execution_count": null,
      "outputs": [
        {
          "output_type": "display_data",
          "data": {
            "text/plain": [
              "'type'"
            ],
            "application/vnd.google.colaboratory.intrinsic+json": {
              "type": "string"
            }
          },
          "metadata": {}
        },
        {
          "output_type": "display_data",
          "data": {
            "text/plain": [
              "(71,)"
            ]
          },
          "metadata": {}
        },
        {
          "output_type": "display_data",
          "data": {
            "text/plain": [
              "array(['song', 'call', 'call', 'song', 'call'], dtype='<U4')"
            ]
          },
          "metadata": {}
        },
        {
          "output_type": "display_data",
          "data": {
            "text/plain": [
              "'continent'"
            ],
            "application/vnd.google.colaboratory.intrinsic+json": {
              "type": "string"
            }
          },
          "metadata": {}
        },
        {
          "output_type": "display_data",
          "data": {
            "text/plain": [
              "(71,)"
            ]
          },
          "metadata": {}
        },
        {
          "output_type": "display_data",
          "data": {
            "text/plain": [
              "array(['AF', 'AF', 'AF', 'AF', 'AF'], dtype='<U2')"
            ]
          },
          "metadata": {}
        },
        {
          "output_type": "display_data",
          "data": {
            "text/plain": [
              "'rating'"
            ],
            "application/vnd.google.colaboratory.intrinsic+json": {
              "type": "string"
            }
          },
          "metadata": {}
        },
        {
          "output_type": "display_data",
          "data": {
            "text/plain": [
              "(71,)"
            ]
          },
          "metadata": {}
        },
        {
          "output_type": "display_data",
          "data": {
            "text/plain": [
              "array([5. , 3.5, 4. , 5. , 4. ])"
            ]
          },
          "metadata": {}
        },
        {
          "output_type": "display_data",
          "data": {
            "text/plain": [
              "'label'"
            ],
            "application/vnd.google.colaboratory.intrinsic+json": {
              "type": "string"
            }
          },
          "metadata": {}
        },
        {
          "output_type": "display_data",
          "data": {
            "text/plain": [
              "(71,)"
            ]
          },
          "metadata": {}
        },
        {
          "output_type": "display_data",
          "data": {
            "text/plain": [
              "array([2, 2, 2, 1, 2])"
            ]
          },
          "metadata": {}
        }
      ]
    },
    {
      "cell_type": "markdown",
      "source": [
        "##Creating Sample weights"
      ],
      "metadata": {
        "id": "2QWyPELg8ag8"
      }
    },
    {
      "cell_type": "code",
      "source": [
        "\n",
        "training_sample_weights = non_audio_df['train']['rating']\n",
        "\n",
        "training_sample_weights\n"
      ],
      "metadata": {
        "id": "W8tZNkbs8dXr",
        "colab": {
          "base_uri": "https://localhost:8080/"
        },
        "outputId": "e588d27d-e66d-490d-edb3-0bb29a8ca1fa"
      },
      "execution_count": null,
      "outputs": [
        {
          "output_type": "execute_result",
          "data": {
            "text/plain": [
              "array([4. , 4.5, 4. , 5. , 4. , 4. , 5. , 4. , 4.5, 5. , 5. , 4. , 4.5,\n",
              "       5. , 4. , 3.5, 5. , 4. , 4.5, 4. , 4. , 5. , 4. , 5. , 5. , 5. ,\n",
              "       4.5, 4. , 4. , 4. , 5. , 4. , 5. , 4. , 5. , 5. , 5. , 5. , 4.5,\n",
              "       5. , 4.5, 5. , 4.5, 4. , 4.5, 4. , 4. , 5. , 5. , 4. , 4. , 4. ,\n",
              "       5. , 4. , 5. , 5. , 4. , 3.5, 5. , 4. , 4. , 4. , 4. , 4. , 4.5,\n",
              "       5. , 5. , 4.5, 5. , 4. , 4. , 4. , 4.5, 4. , 4. , 4. , 5. , 5. ,\n",
              "       4. , 5. , 5. , 5. , 5. , 5. , 5. , 5. , 5. , 4. , 5. , 5. , 3.5,\n",
              "       4. , 5. , 4.5, 4.5, 4. , 5. , 4.5, 5. , 5. , 5. , 5. , 4.5, 5. ,\n",
              "       5. , 4. , 5. , 3.5, 4. , 5. , 4. , 3.5, 5. , 5. , 3.5, 5. , 3. ,\n",
              "       4. , 5. , 5. , 3.5, 4. , 5. , 4.5, 5. , 4. , 4. , 4. , 4. , 4. ,\n",
              "       4.5, 4.5, 3. , 5. , 4.5, 4. , 5. , 5. , 4.5, 5. , 4. , 4. , 5. ,\n",
              "       4. , 5. , 4. , 5. , 5. , 5. , 4. , 5. , 5. , 4. , 4. , 5. , 5. ,\n",
              "       3.5, 5. , 5. , 4. , 5. , 5. , 4. , 4. , 5. , 4.5, 3.5, 4. , 5. ,\n",
              "       4. , 5. , 5. , 5. , 4. , 4. , 4. , 5. , 4. , 4.5, 5. , 5. , 5. ,\n",
              "       5. , 5. , 5. , 4. , 5. , 4. , 4. , 5. , 3.5, 4. , 5. , 5. , 3.5,\n",
              "       4.5, 4. , 4.5, 5. , 3. , 5. , 4. , 5. , 5. , 5. , 5. , 5. , 5. ,\n",
              "       3. , 5. , 5. , 5. , 5. , 4. , 4.5, 3.5, 3.5, 5. , 4. , 5. , 4. ,\n",
              "       4.5, 5. , 4. , 4. , 5. , 5. , 5. , 4.5, 4.5, 4. , 3. , 5. , 5. ,\n",
              "       5. , 5. , 5. , 4.5, 5. , 4.5, 5. , 4.5, 5. , 3.5, 4. , 4.5, 5. ,\n",
              "       3.5, 5. , 4.5, 4. , 5. , 4.5, 4. , 3.5, 5. , 5. , 4. , 4.5, 4.5,\n",
              "       5. , 5. , 4.5, 4.5, 4.5, 5. , 4. , 5. , 4. , 5. , 4. , 4.5, 4. ,\n",
              "       5. , 5. , 5. , 5. , 4. , 4.5, 5. , 5. , 5. , 5. , 4.5, 4.5, 4.5,\n",
              "       5. , 4. , 4.5, 5. , 4.5, 5. , 4.5, 4.5, 5. , 4.5, 4.5, 4.5, 4. ,\n",
              "       4.5, 3.5, 5. , 5. , 5. , 5. , 3.5, 4. , 5. , 4. , 3.5, 4. , 5. ,\n",
              "       4. , 3.5, 4.5, 4. , 5. , 4.5, 4. , 4.5, 5. , 5. , 5. , 5. , 4.5,\n",
              "       4.5, 5. , 3.5, 5. , 5. , 5. , 4. , 3.5, 5. , 5. , 3. , 5. , 4.5,\n",
              "       5. , 5. , 5. , 4. , 4.5, 5. , 4.5, 5. , 5. , 5. , 4. , 4.5, 5. ,\n",
              "       5. , 4. , 5. , 5. , 5. , 5. , 4. , 5. , 5. , 5. , 4. , 4. , 5. ,\n",
              "       3.5, 4. , 5. , 4. , 5. , 4. , 5. , 3.5, 5. , 4. , 5. , 4. , 5. ,\n",
              "       5. , 3. , 4. , 4. , 5. , 5. , 5. , 4.5, 5. , 5. , 4. , 4.5, 4. ,\n",
              "       4. , 5. , 5. , 5. , 5. , 5. , 5. , 4.5, 4. , 4. , 5. , 4. , 4. ,\n",
              "       4.5, 4.5, 3. , 5. , 4.5, 3.5, 5. , 5. , 5. , 4. , 4. , 5. , 5. ,\n",
              "       5. , 4. , 5. , 5. , 4. , 4.5, 4.5, 5. , 4.5, 5. , 5. , 5. , 4. ,\n",
              "       3.5, 5. , 5. , 3.5, 4.5, 3. , 5. , 4.5, 5. , 5. , 5. , 4. , 4.5,\n",
              "       5. , 5. , 5. , 4.5, 5. , 5. , 4.5, 4. , 5. , 5. , 5. , 4. , 5. ,\n",
              "       3.5, 5. , 5. , 5. , 4.5, 4. , 5. , 4. , 3.5, 4. , 5. , 4. , 3. ,\n",
              "       5. , 5. , 4.5, 5. , 4.5, 5. , 4. , 4. , 4.5, 4. , 4. , 5. , 5. ,\n",
              "       5. , 4. , 4. , 3.5, 4.5, 4. , 5. , 5. , 4. , 4. , 3.5, 4.5, 4.5,\n",
              "       5. , 3.5, 5. , 4. , 4.5, 5. , 4. , 4. , 5. , 5. , 4. , 5. , 3.5,\n",
              "       4.5, 4.5, 4.5, 5. , 5. , 5. , 5. , 5. , 5. , 5. , 5. , 4.5, 5. ,\n",
              "       3.5, 4.5, 5. , 4. , 4. , 3.5, 5. , 5. , 5. , 5. , 4. , 5. , 4.5,\n",
              "       5. , 5. , 4. , 4.5, 5. , 4.5, 4.5, 5. , 3. , 5. , 5. , 3.5, 4. ,\n",
              "       4. , 4.5, 4. , 5. , 3.5, 5. , 5. , 3.5, 4.5, 4.5, 3. , 5. , 5. ,\n",
              "       4.5, 5. , 3.5, 4. , 4. , 5. , 4. , 4.5, 5. , 4.5, 5. , 5. , 4. ,\n",
              "       4.5, 5. , 4. , 4.5, 4. , 3.5, 5. , 5. , 4. , 4.5, 5. , 4. , 4.5,\n",
              "       5. , 4. , 4. , 5. , 4.5, 4. , 4. , 4.5, 5. , 5. , 4.5, 4. , 5. ,\n",
              "       4. , 5. , 4. , 4. , 4. , 3.5, 5. , 5. , 4. , 4. , 4.5, 4.5, 5. ,\n",
              "       4.5, 4.5, 5. , 4. , 5. , 3. , 5. , 5. , 5. , 5. , 5. , 4. , 5. ,\n",
              "       4. , 5. , 3.5, 4. , 4. , 5. , 4. , 4. , 4. , 4. , 4. , 5. , 4. ,\n",
              "       5. , 5. , 4.5, 4. , 4. , 3.5, 5. , 5. , 3.5, 5. , 5. , 5. , 4. ,\n",
              "       4.5, 5. , 5. , 4. , 3.5, 5. , 4.5, 5. , 5. , 5. , 4.5, 4.5, 3.5,\n",
              "       5. , 4. , 3.5, 4. , 5. , 5. , 4. , 4. , 5. , 5. , 4. , 5. , 5. ,\n",
              "       5. , 4.5, 5. , 4. , 3.5, 4.5, 4. , 4.5, 5. , 3.5, 4.5, 5. , 5. ,\n",
              "       5. , 4. , 4. , 5. , 5. , 5. , 4. , 4. , 3.5, 5. , 5. , 4.5, 4. ,\n",
              "       5. , 4.5, 4.5, 4. , 5. , 5. , 3. , 3.5, 4.5, 5. , 5. , 4.5, 5. ,\n",
              "       5. , 5. , 4. , 4.5, 4.5, 5. , 4. , 4.5, 4. , 3. , 5. , 5. , 5. ,\n",
              "       5. , 4. , 4.5, 4. , 3.5, 5. , 4.5, 4. , 5. , 4. , 4.5, 5. , 4.5,\n",
              "       5. , 5. , 4. , 5. , 4. , 4. , 4. , 5. , 4. , 4. , 4. , 4. , 4.5,\n",
              "       4. , 5. , 5. , 4. , 4.5, 3.5, 5. , 5. , 4.5, 4. , 3.5, 4. , 4.5,\n",
              "       4.5, 4. , 4.5, 5. , 3. , 5. , 5. , 5. , 4. , 4. , 5. , 5. , 5. ,\n",
              "       4.5, 4. , 5. , 5. , 4. , 5. , 4. , 5. , 4. , 4.5, 4. , 4.5, 5. ,\n",
              "       4. , 4. , 4. , 5. , 5. , 5. , 4. , 5. , 4.5, 3.5, 5. , 4.5, 5. ,\n",
              "       3.5, 4.5, 5. , 4.5, 4.5, 5. , 5. , 4.5, 5. , 5. , 5. , 3.5, 4. ,\n",
              "       5. , 4. , 4.5, 5. , 4. , 3. , 4. , 4. , 4. , 4.5, 5. , 4.5, 4. ,\n",
              "       5. , 4. , 4.5, 5. , 4. , 5. , 4. , 5. , 3.5, 4.5, 4. , 4. , 4.5,\n",
              "       5. , 5. , 5. , 5. , 4.5, 5. , 5. , 5. , 3.5, 5. , 5. , 5. , 4. ,\n",
              "       5. , 5. , 5. , 4. , 5. , 4. , 5. , 4. , 5. , 5. , 4. , 5. , 5. ,\n",
              "       4. , 5. , 5. , 4. , 5. , 5. , 5. , 4.5, 4. , 5. , 5. , 4. , 5. ,\n",
              "       4. , 5. , 5. , 4.5, 4.5, 5. , 3.5, 5. , 5. , 5. , 5. , 4. , 4. ])"
            ]
          },
          "metadata": {},
          "execution_count": 57
        }
      ]
    },
    {
      "cell_type": "code",
      "source": [
        "\n",
        "validation_sample_weights = non_audio_df['val']['rating']\n",
        "\n",
        "validation_sample_weights"
      ],
      "metadata": {
        "id": "Fd-NUbjx8o6j",
        "colab": {
          "base_uri": "https://localhost:8080/"
        },
        "outputId": "ad1005b9-426c-4316-da45-810dcd0e9b93"
      },
      "execution_count": null,
      "outputs": [
        {
          "output_type": "execute_result",
          "data": {
            "text/plain": [
              "array([5. , 3.5, 4. , 5. , 4. , 3.5, 5. , 4. , 3.5, 4. , 4.5, 4. , 4. ,\n",
              "       4. , 5. , 4. , 5. , 5. , 5. , 4. , 4.5, 4. , 5. , 4. , 5. , 5. ,\n",
              "       4. , 4. , 4. , 4. , 4. , 4. , 3.5, 4. , 4. , 5. , 4. , 5. , 5. ,\n",
              "       4. , 4. , 4. , 5. , 3.5, 4. , 5. , 3.5, 5. , 5. , 5. , 3.5, 4. ,\n",
              "       4. , 4. , 5. , 4. , 4. , 4. , 5. , 5. , 4. , 4.5, 4. , 5. , 4. ,\n",
              "       5. , 3.5, 5. , 3.5, 4. , 3.5])"
            ]
          },
          "metadata": {},
          "execution_count": 58
        }
      ]
    },
    {
      "cell_type": "code",
      "source": [
        "\n",
        "training_sample_weights = np.where(training_sample_weights > 3.0, 0.6, 0.4)\n",
        "\n",
        "training_sample_weights"
      ],
      "metadata": {
        "colab": {
          "base_uri": "https://localhost:8080/"
        },
        "id": "bmolcU54LB6z",
        "outputId": "bfdbecec-4711-4246-a9cc-ed863f87b76b"
      },
      "execution_count": null,
      "outputs": [
        {
          "output_type": "execute_result",
          "data": {
            "text/plain": [
              "array([0.6, 0.6, 0.6, 0.6, 0.6, 0.6, 0.6, 0.6, 0.6, 0.6, 0.6, 0.6, 0.6,\n",
              "       0.6, 0.6, 0.6, 0.6, 0.6, 0.6, 0.6, 0.6, 0.6, 0.6, 0.6, 0.6, 0.6,\n",
              "       0.6, 0.6, 0.6, 0.6, 0.6, 0.6, 0.6, 0.6, 0.6, 0.6, 0.6, 0.6, 0.6,\n",
              "       0.6, 0.6, 0.6, 0.6, 0.6, 0.6, 0.6, 0.6, 0.6, 0.6, 0.6, 0.6, 0.6,\n",
              "       0.6, 0.6, 0.6, 0.6, 0.6, 0.6, 0.6, 0.6, 0.6, 0.6, 0.6, 0.6, 0.6,\n",
              "       0.6, 0.6, 0.6, 0.6, 0.6, 0.6, 0.6, 0.6, 0.6, 0.6, 0.6, 0.6, 0.6,\n",
              "       0.6, 0.6, 0.6, 0.6, 0.6, 0.6, 0.6, 0.6, 0.6, 0.6, 0.6, 0.6, 0.6,\n",
              "       0.6, 0.6, 0.6, 0.6, 0.6, 0.6, 0.6, 0.6, 0.6, 0.6, 0.6, 0.6, 0.6,\n",
              "       0.6, 0.6, 0.6, 0.6, 0.6, 0.6, 0.6, 0.6, 0.6, 0.6, 0.6, 0.6, 0.4,\n",
              "       0.6, 0.6, 0.6, 0.6, 0.6, 0.6, 0.6, 0.6, 0.6, 0.6, 0.6, 0.6, 0.6,\n",
              "       0.6, 0.6, 0.4, 0.6, 0.6, 0.6, 0.6, 0.6, 0.6, 0.6, 0.6, 0.6, 0.6,\n",
              "       0.6, 0.6, 0.6, 0.6, 0.6, 0.6, 0.6, 0.6, 0.6, 0.6, 0.6, 0.6, 0.6,\n",
              "       0.6, 0.6, 0.6, 0.6, 0.6, 0.6, 0.6, 0.6, 0.6, 0.6, 0.6, 0.6, 0.6,\n",
              "       0.6, 0.6, 0.6, 0.6, 0.6, 0.6, 0.6, 0.6, 0.6, 0.6, 0.6, 0.6, 0.6,\n",
              "       0.6, 0.6, 0.6, 0.6, 0.6, 0.6, 0.6, 0.6, 0.6, 0.6, 0.6, 0.6, 0.6,\n",
              "       0.6, 0.6, 0.6, 0.6, 0.4, 0.6, 0.6, 0.6, 0.6, 0.6, 0.6, 0.6, 0.6,\n",
              "       0.4, 0.6, 0.6, 0.6, 0.6, 0.6, 0.6, 0.6, 0.6, 0.6, 0.6, 0.6, 0.6,\n",
              "       0.6, 0.6, 0.6, 0.6, 0.6, 0.6, 0.6, 0.6, 0.6, 0.6, 0.4, 0.6, 0.6,\n",
              "       0.6, 0.6, 0.6, 0.6, 0.6, 0.6, 0.6, 0.6, 0.6, 0.6, 0.6, 0.6, 0.6,\n",
              "       0.6, 0.6, 0.6, 0.6, 0.6, 0.6, 0.6, 0.6, 0.6, 0.6, 0.6, 0.6, 0.6,\n",
              "       0.6, 0.6, 0.6, 0.6, 0.6, 0.6, 0.6, 0.6, 0.6, 0.6, 0.6, 0.6, 0.6,\n",
              "       0.6, 0.6, 0.6, 0.6, 0.6, 0.6, 0.6, 0.6, 0.6, 0.6, 0.6, 0.6, 0.6,\n",
              "       0.6, 0.6, 0.6, 0.6, 0.6, 0.6, 0.6, 0.6, 0.6, 0.6, 0.6, 0.6, 0.6,\n",
              "       0.6, 0.6, 0.6, 0.6, 0.6, 0.6, 0.6, 0.6, 0.6, 0.6, 0.6, 0.6, 0.6,\n",
              "       0.6, 0.6, 0.6, 0.6, 0.6, 0.6, 0.6, 0.6, 0.6, 0.6, 0.6, 0.6, 0.6,\n",
              "       0.6, 0.6, 0.6, 0.6, 0.6, 0.6, 0.6, 0.6, 0.6, 0.6, 0.4, 0.6, 0.6,\n",
              "       0.6, 0.6, 0.6, 0.6, 0.6, 0.6, 0.6, 0.6, 0.6, 0.6, 0.6, 0.6, 0.6,\n",
              "       0.6, 0.6, 0.6, 0.6, 0.6, 0.6, 0.6, 0.6, 0.6, 0.6, 0.6, 0.6, 0.6,\n",
              "       0.6, 0.6, 0.6, 0.6, 0.6, 0.6, 0.6, 0.6, 0.6, 0.6, 0.6, 0.6, 0.6,\n",
              "       0.6, 0.4, 0.6, 0.6, 0.6, 0.6, 0.6, 0.6, 0.6, 0.6, 0.6, 0.6, 0.6,\n",
              "       0.6, 0.6, 0.6, 0.6, 0.6, 0.6, 0.6, 0.6, 0.6, 0.6, 0.6, 0.6, 0.6,\n",
              "       0.6, 0.6, 0.4, 0.6, 0.6, 0.6, 0.6, 0.6, 0.6, 0.6, 0.6, 0.6, 0.6,\n",
              "       0.6, 0.6, 0.6, 0.6, 0.6, 0.6, 0.6, 0.6, 0.6, 0.6, 0.6, 0.6, 0.6,\n",
              "       0.6, 0.6, 0.6, 0.6, 0.6, 0.4, 0.6, 0.6, 0.6, 0.6, 0.6, 0.6, 0.6,\n",
              "       0.6, 0.6, 0.6, 0.6, 0.6, 0.6, 0.6, 0.6, 0.6, 0.6, 0.6, 0.6, 0.6,\n",
              "       0.6, 0.6, 0.6, 0.6, 0.6, 0.6, 0.6, 0.6, 0.6, 0.6, 0.6, 0.6, 0.4,\n",
              "       0.6, 0.6, 0.6, 0.6, 0.6, 0.6, 0.6, 0.6, 0.6, 0.6, 0.6, 0.6, 0.6,\n",
              "       0.6, 0.6, 0.6, 0.6, 0.6, 0.6, 0.6, 0.6, 0.6, 0.6, 0.6, 0.6, 0.6,\n",
              "       0.6, 0.6, 0.6, 0.6, 0.6, 0.6, 0.6, 0.6, 0.6, 0.6, 0.6, 0.6, 0.6,\n",
              "       0.6, 0.6, 0.6, 0.6, 0.6, 0.6, 0.6, 0.6, 0.6, 0.6, 0.6, 0.6, 0.6,\n",
              "       0.6, 0.6, 0.6, 0.6, 0.6, 0.6, 0.6, 0.6, 0.6, 0.6, 0.6, 0.6, 0.6,\n",
              "       0.6, 0.6, 0.6, 0.6, 0.6, 0.6, 0.6, 0.6, 0.4, 0.6, 0.6, 0.6, 0.6,\n",
              "       0.6, 0.6, 0.6, 0.6, 0.6, 0.6, 0.6, 0.6, 0.6, 0.6, 0.4, 0.6, 0.6,\n",
              "       0.6, 0.6, 0.6, 0.6, 0.6, 0.6, 0.6, 0.6, 0.6, 0.6, 0.6, 0.6, 0.6,\n",
              "       0.6, 0.6, 0.6, 0.6, 0.6, 0.6, 0.6, 0.6, 0.6, 0.6, 0.6, 0.6, 0.6,\n",
              "       0.6, 0.6, 0.6, 0.6, 0.6, 0.6, 0.6, 0.6, 0.6, 0.6, 0.6, 0.6, 0.6,\n",
              "       0.6, 0.6, 0.6, 0.6, 0.6, 0.6, 0.6, 0.6, 0.6, 0.6, 0.6, 0.6, 0.6,\n",
              "       0.6, 0.6, 0.6, 0.6, 0.6, 0.4, 0.6, 0.6, 0.6, 0.6, 0.6, 0.6, 0.6,\n",
              "       0.6, 0.6, 0.6, 0.6, 0.6, 0.6, 0.6, 0.6, 0.6, 0.6, 0.6, 0.6, 0.6,\n",
              "       0.6, 0.6, 0.6, 0.6, 0.6, 0.6, 0.6, 0.6, 0.6, 0.6, 0.6, 0.6, 0.6,\n",
              "       0.6, 0.6, 0.6, 0.6, 0.6, 0.6, 0.6, 0.6, 0.6, 0.6, 0.6, 0.6, 0.6,\n",
              "       0.6, 0.6, 0.6, 0.6, 0.6, 0.6, 0.6, 0.6, 0.6, 0.6, 0.6, 0.6, 0.6,\n",
              "       0.6, 0.6, 0.6, 0.6, 0.6, 0.6, 0.6, 0.6, 0.6, 0.6, 0.6, 0.6, 0.6,\n",
              "       0.6, 0.6, 0.6, 0.6, 0.6, 0.6, 0.6, 0.6, 0.6, 0.6, 0.6, 0.6, 0.6,\n",
              "       0.6, 0.6, 0.6, 0.6, 0.6, 0.6, 0.4, 0.6, 0.6, 0.6, 0.6, 0.6, 0.6,\n",
              "       0.6, 0.6, 0.6, 0.6, 0.6, 0.6, 0.6, 0.6, 0.6, 0.4, 0.6, 0.6, 0.6,\n",
              "       0.6, 0.6, 0.6, 0.6, 0.6, 0.6, 0.6, 0.6, 0.6, 0.6, 0.6, 0.6, 0.6,\n",
              "       0.6, 0.6, 0.6, 0.6, 0.6, 0.6, 0.6, 0.6, 0.6, 0.6, 0.6, 0.6, 0.6,\n",
              "       0.6, 0.6, 0.6, 0.6, 0.6, 0.6, 0.6, 0.6, 0.6, 0.6, 0.6, 0.6, 0.6,\n",
              "       0.6, 0.6, 0.6, 0.6, 0.4, 0.6, 0.6, 0.6, 0.6, 0.6, 0.6, 0.6, 0.6,\n",
              "       0.6, 0.6, 0.6, 0.6, 0.6, 0.6, 0.6, 0.6, 0.6, 0.6, 0.6, 0.6, 0.6,\n",
              "       0.6, 0.6, 0.6, 0.6, 0.6, 0.6, 0.6, 0.6, 0.6, 0.6, 0.6, 0.6, 0.6,\n",
              "       0.6, 0.6, 0.6, 0.6, 0.6, 0.6, 0.6, 0.6, 0.6, 0.6, 0.6, 0.6, 0.6,\n",
              "       0.6, 0.6, 0.6, 0.6, 0.6, 0.4, 0.6, 0.6, 0.6, 0.6, 0.6, 0.6, 0.6,\n",
              "       0.6, 0.6, 0.6, 0.6, 0.6, 0.6, 0.6, 0.6, 0.6, 0.6, 0.6, 0.6, 0.6,\n",
              "       0.6, 0.6, 0.6, 0.6, 0.6, 0.6, 0.6, 0.6, 0.6, 0.6, 0.6, 0.6, 0.6,\n",
              "       0.6, 0.6, 0.6, 0.6, 0.6, 0.6, 0.6, 0.6, 0.6, 0.6, 0.6, 0.6, 0.6,\n",
              "       0.6, 0.6, 0.6, 0.6, 0.6, 0.6, 0.6, 0.6, 0.6, 0.6, 0.6, 0.6, 0.6,\n",
              "       0.6, 0.6, 0.6, 0.6, 0.6, 0.6, 0.6, 0.6, 0.6, 0.6, 0.6, 0.6, 0.6])"
            ]
          },
          "metadata": {},
          "execution_count": 59
        }
      ]
    },
    {
      "cell_type": "code",
      "source": [
        "\n",
        "validation_sample_weights = np.where(validation_sample_weights > 3.0, 0.6, 0.4)\n",
        "\n",
        "validation_sample_weights"
      ],
      "metadata": {
        "colab": {
          "base_uri": "https://localhost:8080/"
        },
        "id": "1E9k_FmjLC7r",
        "outputId": "bfb29596-e8ae-437e-c891-63505f42a09a"
      },
      "execution_count": null,
      "outputs": [
        {
          "output_type": "execute_result",
          "data": {
            "text/plain": [
              "array([0.6, 0.6, 0.6, 0.6, 0.6, 0.6, 0.6, 0.6, 0.6, 0.6, 0.6, 0.6, 0.6,\n",
              "       0.6, 0.6, 0.6, 0.6, 0.6, 0.6, 0.6, 0.6, 0.6, 0.6, 0.6, 0.6, 0.6,\n",
              "       0.6, 0.6, 0.6, 0.6, 0.6, 0.6, 0.6, 0.6, 0.6, 0.6, 0.6, 0.6, 0.6,\n",
              "       0.6, 0.6, 0.6, 0.6, 0.6, 0.6, 0.6, 0.6, 0.6, 0.6, 0.6, 0.6, 0.6,\n",
              "       0.6, 0.6, 0.6, 0.6, 0.6, 0.6, 0.6, 0.6, 0.6, 0.6, 0.6, 0.6, 0.6,\n",
              "       0.6, 0.6, 0.6, 0.6, 0.6, 0.6])"
            ]
          },
          "metadata": {},
          "execution_count": 60
        }
      ]
    },
    {
      "cell_type": "markdown",
      "source": [
        "#GRU Model"
      ],
      "metadata": {
        "id": "8JOP06LC6aPX"
      }
    },
    {
      "cell_type": "code",
      "source": [
        "train_results = {}\n",
        "val_results = {}"
      ],
      "metadata": {
        "id": "Ci2pH_is6TtM"
      },
      "execution_count": null,
      "outputs": []
    },
    {
      "cell_type": "code",
      "source": [
        "\n",
        "classes = list(df['common_name'].unique())\n",
        "classes\n"
      ],
      "metadata": {
        "id": "tUyX3pR66kKe",
        "colab": {
          "base_uri": "https://localhost:8080/"
        },
        "outputId": "dc65c6e6-eb36-49b1-b4c8-316ba75c6f43"
      },
      "execution_count": null,
      "outputs": [
        {
          "output_type": "execute_result",
          "data": {
            "text/plain": [
              "['Scarlet-chested Sunbird', 'Red-chested Cuckoo', 'Egyptian Goose']"
            ]
          },
          "metadata": {},
          "execution_count": 62
        }
      ]
    },
    {
      "cell_type": "code",
      "source": [
        "df['common_name'].unique().size"
      ],
      "metadata": {
        "id": "25F_MKPl61yU",
        "colab": {
          "base_uri": "https://localhost:8080/"
        },
        "outputId": "5ba0b0ff-3dc5-4a5d-95bd-39efcaa8d27c"
      },
      "execution_count": null,
      "outputs": [
        {
          "output_type": "execute_result",
          "data": {
            "text/plain": [
              "3"
            ]
          },
          "metadata": {},
          "execution_count": 63
        }
      ]
    },
    {
      "cell_type": "markdown",
      "source": [
        "##create GRU Model Function"
      ],
      "metadata": {
        "id": "-nIp-NHs7Lzq"
      }
    },
    {
      "cell_type": "code",
      "source": [
        "def build_model(audio_features,\n",
        "                learning_rate=0.002,\n",
        "                gru=256,\n",
        "                hidden=[256,128,48],\n",
        "                dropout=0.3):\n",
        "\n",
        "  tf.keras.backend.clear_session()\n",
        "\n",
        "  # set audio features input layer\n",
        "  audio_features = tf.keras.layers.Input(shape=(audio_features.shape[1],audio_features.shape[2]), name='Audio_Features')\n",
        "\n",
        "  # add sequential model\n",
        "  model = tf.keras.models.Sequential()\n",
        "  model.add(tf.keras.layers.GRU(gru, input_shape=(audio_features.shape[1],audio_features.shape[2])))\n",
        "  model.add(tf.keras.layers.BatchNormalization())\n",
        "  model.add(tf.keras.layers.Dropout(dropout))\n",
        "\n",
        "  for size in hidden:\n",
        "    model.add(tf.keras.layers.Dense(size, activation='relu', kernel_regularizer=tf.keras.regularizers.l2(0.01)))\n",
        "    model.add(tf.keras.layers.Dropout(dropout))\n",
        "\n",
        "  model.add(tf.keras.layers.Dense(units=3,activation='softmax'))\n",
        "\n",
        "  print(model.summary())\n",
        "\n",
        "  # compile model\n",
        "  model.compile(optimizer=tf.keras.optimizers.Adam(learning_rate=learning_rate),\n",
        "              loss=tf.keras.losses.SparseCategoricalCrossentropy(),\n",
        "              metrics=['accuracy'],\n",
        "              weighted_metrics=['accuracy'])\n",
        "\n",
        "  return model\n"
      ],
      "metadata": {
        "id": "oF2adnkH7FLj"
      },
      "execution_count": null,
      "outputs": []
    },
    {
      "cell_type": "code",
      "source": [
        "\n",
        "def visualize(model_history, best_epoch):\n",
        "  fig, axes = plt.subplots(nrows=1, ncols=2, figsize=(15,5))\n",
        "  # visualize the loss\n",
        "  axes[0].plot(model_history.history['loss'][:best_epoch+1], color='purple', label='train_losses')\n",
        "  axes[0].plot(model_history.history['val_loss'][:best_epoch+1], color='orange', label='val_losses')\n",
        "  axes[0].set_xlabel('Epoch')\n",
        "  axes[0].set_ylabel('Loss')\n",
        "  axes[0].set_title('Loss Progression')\n",
        "  axes[0].legend()\n",
        "\n",
        "  # visualze the accuracy\n",
        "  axes[1].plot(model_history.history['accuracy'][:best_epoch+1], color='purple', label='train_accuracy')\n",
        "  axes[1].plot(model_history.history['val_accuracy'][:best_epoch+1], color='orange', label='val_accuracy')\n",
        "  axes[1].set_xlabel('Epoch')\n",
        "  axes[1].set_ylabel('Accuracy')\n",
        "  axes[1].set_title('Accuracy Progression')\n",
        "  axes[1].legend()\n",
        "\n",
        "  plt.show()"
      ],
      "metadata": {
        "id": "VxmbXpAn7O4b"
      },
      "execution_count": null,
      "outputs": []
    },
    {
      "cell_type": "markdown",
      "source": [
        "##With mfcc & rms & chroma  & spectral_centroid\n"
      ],
      "metadata": {
        "id": "LU6l8JJ97owj"
      }
    },
    {
      "cell_type": "code",
      "source": [
        "# traning audio bata hatako , audio_df['train']['chroma']  audio_df['train']['spectral_centroid']\n",
        "training_audio_features = np.concatenate((audio_df['train']['mfcc'], audio_df['train']['rms']), axis=-1)\n",
        "\n",
        "training_audio_features"
      ],
      "metadata": {
        "id": "unSGg2Uc7rjU",
        "colab": {
          "base_uri": "https://localhost:8080/"
        },
        "outputId": "c9a9da1c-726e-4694-8fd9-cb25492a77d7"
      },
      "execution_count": null,
      "outputs": [
        {
          "output_type": "execute_result",
          "data": {
            "text/plain": [
              "array([[[0.34700182, 0.28016264, 0.56960338, ..., 0.41483461,\n",
              "         0.36283095, 0.00902063],\n",
              "        [0.28722083, 0.23490831, 0.51982984, ..., 0.46255796,\n",
              "         0.44492211, 0.01063785],\n",
              "        [0.2957772 , 0.14070252, 0.48216409, ..., 0.53987808,\n",
              "         0.48690413, 0.01175697],\n",
              "        ...,\n",
              "        [0.26434151, 0.03467127, 0.47733767, ..., 0.56332721,\n",
              "         0.37052717, 0.11524866],\n",
              "        [0.23414093, 0.09303342, 0.467913  , ..., 0.55632966,\n",
              "         0.41539124, 0.10387059],\n",
              "        [0.30018084, 0.13741661, 0.51122971, ..., 0.59022481,\n",
              "         0.48296536, 0.03956706]],\n",
              "\n",
              "       [[0.64492515, 0.81971499, 0.52067613, ..., 0.22068239,\n",
              "         0.25730219, 0.02896832],\n",
              "        [0.63701543, 0.79341283, 0.55109813, ..., 0.22253026,\n",
              "         0.27876689, 0.0334549 ],\n",
              "        [0.66433249, 0.71057491, 0.55023072, ..., 0.28644877,\n",
              "         0.40936417, 0.03751738],\n",
              "        ...,\n",
              "        [0.69137195, 0.64287951, 0.52510179, ..., 0.28537424,\n",
              "         0.39586634, 0.05917897],\n",
              "        [0.67493814, 0.6639436 , 0.56711743, ..., 0.40406766,\n",
              "         0.32036163, 0.05201048],\n",
              "        [0.65469054, 0.68870634, 0.60952483, ..., 0.50510252,\n",
              "         0.2585763 , 0.04339901]],\n",
              "\n",
              "       [[0.7166104 , 0.59210059, 0.34834255, ..., 0.88077469,\n",
              "         0.35664021, 0.19695853],\n",
              "        [0.6823723 , 0.58534121, 0.40796081, ..., 0.86817497,\n",
              "         0.52484294, 0.19499387],\n",
              "        [0.67799365, 0.52553416, 0.4494218 , ..., 0.77649883,\n",
              "         0.61596271, 0.19610579],\n",
              "        ...,\n",
              "        [0.66551475, 0.5055713 , 0.43012531, ..., 0.36329536,\n",
              "         0.37261561, 0.29279825],\n",
              "        [0.56989388, 0.58496022, 0.47928304, ..., 0.4120554 ,\n",
              "         0.32366122, 0.19007559],\n",
              "        [0.5119029 , 0.64219005, 0.49749407, ..., 0.53303342,\n",
              "         0.33288987, 0.05345649]],\n",
              "\n",
              "       ...,\n",
              "\n",
              "       [[0.42515406, 0.67674222, 0.50977157, ..., 0.39989853,\n",
              "         0.48632948, 0.00788861],\n",
              "        [0.43342587, 0.67948129, 0.51965203, ..., 0.32247845,\n",
              "         0.64033569, 0.02080838],\n",
              "        [0.4782505 , 0.54624058, 0.48584091, ..., 0.34376404,\n",
              "         0.57897476, 0.03185905],\n",
              "        ...,\n",
              "        [0.4041971 , 0.54670096, 0.53600556, ..., 0.35509942,\n",
              "         0.24446039, 0.02855654],\n",
              "        [0.34534591, 0.58203502, 0.55508426, ..., 0.48640946,\n",
              "         0.34721456, 0.02211092],\n",
              "        [0.35166352, 0.644169  , 0.65150187, ..., 0.56207757,\n",
              "         0.38909657, 0.01298758]],\n",
              "\n",
              "       [[0.57755994, 0.62282805, 0.69396717, ..., 0.42658227,\n",
              "         0.47017354, 0.0084717 ],\n",
              "        [0.59919392, 0.62696986, 0.6099467 , ..., 0.24686199,\n",
              "         0.4668639 , 0.05881771],\n",
              "        [0.71923101, 0.54693647, 0.35818694, ..., 0.23430386,\n",
              "         0.67899404, 0.12402675],\n",
              "        ...,\n",
              "        [0.75151625, 0.5060992 , 0.36030586, ..., 0.44474696,\n",
              "         0.51932558, 0.08981675],\n",
              "        [0.70788762, 0.51165947, 0.39415975, ..., 0.5614912 ,\n",
              "         0.51767931, 0.08892991],\n",
              "        [0.67696237, 0.50147011, 0.37846433, ..., 0.56582063,\n",
              "         0.54531545, 0.07712928]],\n",
              "\n",
              "       [[0.33001389, 0.3388679 , 0.41258062, ..., 0.39722773,\n",
              "         0.51768441, 0.001768  ],\n",
              "        [0.32648395, 0.31632397, 0.32496796, ..., 0.4315882 ,\n",
              "         0.60821139, 0.00212569],\n",
              "        [0.34544475, 0.19662504, 0.30274496, ..., 0.49172065,\n",
              "         0.61594551, 0.00250361],\n",
              "        ...,\n",
              "        [0.30628449, 0.1685808 , 0.26533406, ..., 0.51049589,\n",
              "         0.48815745, 0.00316945],\n",
              "        [0.23804499, 0.19444645, 0.34016308, ..., 0.52450416,\n",
              "         0.37802055, 0.00268914],\n",
              "        [0.24150312, 0.20845174, 0.42384608, ..., 0.58642954,\n",
              "         0.30623587, 0.00231268]]])"
            ]
          },
          "metadata": {},
          "execution_count": 66
        }
      ]
    },
    {
      "cell_type": "code",
      "source": [
        "training_audio_features.shape"
      ],
      "metadata": {
        "id": "4uyzTjs475e9",
        "colab": {
          "base_uri": "https://localhost:8080/"
        },
        "outputId": "c5c07994-1252-47a6-8a14-a499296a6853"
      },
      "execution_count": null,
      "outputs": [
        {
          "output_type": "execute_result",
          "data": {
            "text/plain": [
              "(897, 251, 21)"
            ]
          },
          "metadata": {},
          "execution_count": 67
        }
      ]
    },
    {
      "cell_type": "code",
      "source": [
        "# audio_df['val']['chroma']  audio_df['val']['spectral_centroid']\n",
        "validation_audio_features = np.concatenate((audio_df['val']['mfcc'], audio_df['val']['rms'],), axis=-1)\n",
        "\n",
        "validation_audio_features\n"
      ],
      "metadata": {
        "id": "zqZE29U977rz",
        "colab": {
          "base_uri": "https://localhost:8080/"
        },
        "outputId": "6d8129f2-598a-4533-938d-ec91ae0e0660"
      },
      "execution_count": null,
      "outputs": [
        {
          "output_type": "execute_result",
          "data": {
            "text/plain": [
              "array([[[4.9735683e-01, 6.9970089e-01, 6.9418985e-01, ...,\n",
              "         3.1045276e-01, 3.8717076e-01, 6.1749290e-03],\n",
              "        [5.1005691e-01, 6.5920287e-01, 6.1503178e-01, ...,\n",
              "         2.5835595e-01, 5.1614124e-01, 7.7499398e-03],\n",
              "        [5.4512715e-01, 5.5204755e-01, 5.9006929e-01, ...,\n",
              "         3.5986999e-01, 5.5497080e-01, 8.6662397e-03],\n",
              "        ...,\n",
              "        [5.4612690e-01, 4.8553661e-01, 5.7357609e-01, ...,\n",
              "         2.1599333e-01, 4.9250561e-01, 1.0724725e-01],\n",
              "        [5.6189114e-01, 4.4282070e-01, 5.7205331e-01, ...,\n",
              "         2.7491435e-01, 4.7536549e-01, 8.1137128e-02],\n",
              "        [5.9860593e-01, 4.3674174e-01, 5.7052827e-01, ...,\n",
              "         3.6313513e-01, 5.2557772e-01, 8.4001102e-02]],\n",
              "\n",
              "       [[5.4192120e-01, 8.2664859e-01, 7.9340994e-01, ...,\n",
              "         4.5980465e-01, 4.6557331e-01, 2.8076977e-02],\n",
              "        [5.4000407e-01, 7.8342259e-01, 7.3301947e-01, ...,\n",
              "         4.2330608e-01, 5.3850311e-01, 3.2782126e-02],\n",
              "        [5.7039046e-01, 7.0034570e-01, 7.2340167e-01, ...,\n",
              "         4.3174139e-01, 4.9849051e-01, 3.9867099e-02],\n",
              "        ...,\n",
              "        [5.6723660e-01, 6.3107228e-01, 7.0184678e-01, ...,\n",
              "         3.9922184e-01, 5.6331688e-01, 5.3982887e-02],\n",
              "        [5.5219060e-01, 6.6665292e-01, 7.5323969e-01, ...,\n",
              "         4.5809931e-01, 4.5121366e-01, 4.4835348e-02],\n",
              "        [5.8513170e-01, 7.0209682e-01, 7.9454470e-01, ...,\n",
              "         5.1392108e-01, 4.3195227e-01, 4.3928653e-02]],\n",
              "\n",
              "       [[3.9191651e-01, 7.8488928e-01, 7.0634735e-01, ...,\n",
              "         3.7267178e-01, 3.1597453e-01, 2.0828589e-03],\n",
              "        [3.5855398e-01, 7.2905821e-01, 5.7424319e-01, ...,\n",
              "         3.6546680e-01, 3.7938744e-01, 2.1599978e-03],\n",
              "        [3.6047649e-01, 6.0815668e-01, 5.0509721e-01, ...,\n",
              "         4.6400115e-01, 5.7065344e-01, 2.3166179e-03],\n",
              "        ...,\n",
              "        [2.8989381e-01, 5.7793206e-01, 4.8559308e-01, ...,\n",
              "         4.0528509e-01, 4.5030078e-01, 1.1684588e-03],\n",
              "        [2.1127966e-01, 5.9510851e-01, 5.1383179e-01, ...,\n",
              "         4.4227552e-01, 4.5786825e-01, 1.0258910e-03],\n",
              "        [2.0893753e-01, 5.8019263e-01, 5.6774461e-01, ...,\n",
              "         5.5933374e-01, 4.0681642e-01, 9.1133500e-04]],\n",
              "\n",
              "       ...,\n",
              "\n",
              "       [[6.0966086e-01, 8.3850211e-01, 8.3890361e-01, ...,\n",
              "         4.4588998e-01, 5.5805665e-01, 4.9063466e-02],\n",
              "        [5.5967647e-01, 7.8839570e-01, 7.7108735e-01, ...,\n",
              "         4.4917238e-01, 5.6095499e-01, 4.8796393e-02],\n",
              "        [5.6623697e-01, 6.8931341e-01, 6.9304311e-01, ...,\n",
              "         5.7172978e-01, 6.3494349e-01, 5.4175787e-02],\n",
              "        ...,\n",
              "        [5.4339498e-01, 6.4423013e-01, 7.3366356e-01, ...,\n",
              "         3.9198563e-01, 6.9471568e-01, 3.7363086e-02],\n",
              "        [5.0267005e-01, 6.6646504e-01, 7.5206059e-01, ...,\n",
              "         4.1366515e-01, 7.0899171e-01, 3.4388650e-02],\n",
              "        [4.8577911e-01, 6.9046456e-01, 7.9516959e-01, ...,\n",
              "         4.4841030e-01, 7.6966435e-01, 2.6776509e-02]],\n",
              "\n",
              "       [[2.9767513e-01, 7.5513250e-01, 6.8613476e-01, ...,\n",
              "         3.8885337e-01, 4.1017422e-01, 7.5338455e-03],\n",
              "        [5.1281404e-01, 7.4182993e-01, 6.1341894e-01, ...,\n",
              "         2.8622937e-01, 5.2597892e-01, 1.0891941e-02],\n",
              "        [6.1633211e-01, 6.4251423e-01, 5.5807114e-01, ...,\n",
              "         3.9500189e-01, 5.5271298e-01, 1.3735698e-02],\n",
              "        ...,\n",
              "        [6.3929164e-01, 6.1583519e-01, 4.8423621e-01, ...,\n",
              "         4.2825326e-01, 5.9143370e-01, 2.9417543e-02],\n",
              "        [5.9446782e-01, 6.2610805e-01, 5.4173982e-01, ...,\n",
              "         4.8733470e-01, 5.4538864e-01, 2.0896098e-02],\n",
              "        [5.6446427e-01, 6.2759429e-01, 5.8226073e-01, ...,\n",
              "         5.3636765e-01, 5.6551254e-01, 1.7491529e-02]],\n",
              "\n",
              "       [[4.1453171e-01, 7.0682156e-01, 4.5649278e-01, ...,\n",
              "         6.6067183e-01, 6.8055433e-01, 4.2760228e-03],\n",
              "        [4.4344190e-01, 6.7529756e-01, 3.5759106e-01, ...,\n",
              "         5.6813574e-01, 5.4970431e-01, 4.8244381e-03],\n",
              "        [4.7611189e-01, 5.6519341e-01, 3.4999123e-01, ...,\n",
              "         4.9579823e-01, 4.9629277e-01, 5.2536433e-03],\n",
              "        ...,\n",
              "        [5.6442356e-01, 8.6048180e-01, 6.9969290e-01, ...,\n",
              "         3.2462025e-01, 5.3116786e-01, 2.9965746e-01],\n",
              "        [5.3790104e-01, 9.7303969e-01, 8.7975979e-01, ...,\n",
              "         4.1045931e-01, 4.3053231e-01, 2.9077518e-01],\n",
              "        [5.5082279e-01, 9.7861797e-01, 1.0044149e+00, ...,\n",
              "         4.7336084e-01, 3.4335876e-01, 2.9266870e-01]]], dtype=float32)"
            ]
          },
          "metadata": {},
          "execution_count": 68
        }
      ]
    },
    {
      "cell_type": "code",
      "source": [
        "validation_audio_features.shape"
      ],
      "metadata": {
        "id": "wL06wlWY7_Hi",
        "colab": {
          "base_uri": "https://localhost:8080/"
        },
        "outputId": "8300a98c-b41c-4711-fd2d-98af19d76417"
      },
      "execution_count": null,
      "outputs": [
        {
          "output_type": "execute_result",
          "data": {
            "text/plain": [
              "(71, 251, 21)"
            ]
          },
          "metadata": {},
          "execution_count": 69
        }
      ]
    },
    {
      "cell_type": "markdown",
      "source": [
        "###Fit the model with the training data"
      ],
      "metadata": {
        "id": "l0vvu44x8C4T"
      }
    },
    {
      "cell_type": "code",
      "source": [
        "callback = tf.keras.callbacks.EarlyStopping(\n",
        "    monitor=\"val_weighted_accuracy\",\n",
        "    patience=20,\n",
        "    restore_best_weights=True,\n",
        "    start_from_epoch=50,\n",
        "    mode='max'\n",
        ")"
      ],
      "metadata": {
        "id": "9DaFHydK8yXr"
      },
      "execution_count": null,
      "outputs": []
    },
    {
      "cell_type": "code",
      "source": [
        "model = build_model(training_audio_features,\n",
        "                    learning_rate=0.002,\n",
        "                    gru=256,\n",
        "                    hidden=[256,128,48],\n",
        "                    dropout=0.3)\n",
        "\n",
        "history = model.fit(\n",
        "   x=training_audio_features,\n",
        "   y=audio_df['train']['label'],\n",
        "   sample_weight=training_sample_weights,\n",
        "   epochs=100,\n",
        "   validation_data=(\n",
        "      validation_audio_features,\n",
        "      audio_df['val']['label'],\n",
        "      validation_sample_weights\n",
        "   ),\n",
        "   batch_size=64,\n",
        "   callbacks=[callback],\n",
        "   verbose=1)\n",
        "\n",
        "best_epoch = history.history['val_weighted_accuracy'].index(max(history.history['val_weighted_accuracy']))+1\n",
        "print('best_epoch: ', best_epoch)\n",
        "\n",
        "visualize(history, best_epoch)"
      ],
      "metadata": {
        "id": "Y4O6eFzM8Bdr",
        "colab": {
          "base_uri": "https://localhost:8080/",
          "height": 1000
        },
        "outputId": "c663adc5-ec40-4c2d-e777-6fb308b21df3"
      },
      "execution_count": null,
      "outputs": [
        {
          "output_type": "stream",
          "name": "stdout",
          "text": [
            "Model: \"sequential\"\n",
            "_________________________________________________________________\n",
            " Layer (type)                Output Shape              Param #   \n",
            "=================================================================\n",
            " gru (GRU)                   (None, 256)               214272    \n",
            "                                                                 \n",
            " batch_normalization (Batch  (None, 256)               1024      \n",
            " Normalization)                                                  \n",
            "                                                                 \n",
            " dropout (Dropout)           (None, 256)               0         \n",
            "                                                                 \n",
            " dense (Dense)               (None, 256)               65792     \n",
            "                                                                 \n",
            " dropout_1 (Dropout)         (None, 256)               0         \n",
            "                                                                 \n",
            " dense_1 (Dense)             (None, 128)               32896     \n",
            "                                                                 \n",
            " dropout_2 (Dropout)         (None, 128)               0         \n",
            "                                                                 \n",
            " dense_2 (Dense)             (None, 48)                6192      \n",
            "                                                                 \n",
            " dropout_3 (Dropout)         (None, 48)                0         \n",
            "                                                                 \n",
            " dense_3 (Dense)             (None, 3)                 147       \n",
            "                                                                 \n",
            "=================================================================\n",
            "Total params: 320323 (1.22 MB)\n",
            "Trainable params: 319811 (1.22 MB)\n",
            "Non-trainable params: 512 (2.00 KB)\n",
            "_________________________________________________________________\n",
            "None\n",
            "Epoch 1/100\n",
            "15/15 [==============================] - 9s 434ms/step - loss: 5.0249 - accuracy: 0.5530 - weighted_accuracy: 0.5527 - val_loss: 4.3895 - val_accuracy: 0.4085 - val_weighted_accuracy: 0.4085\n",
            "Epoch 2/100\n",
            "15/15 [==============================] - 6s 408ms/step - loss: 3.6048 - accuracy: 0.7402 - weighted_accuracy: 0.7412 - val_loss: 3.8148 - val_accuracy: 0.2676 - val_weighted_accuracy: 0.2676\n",
            "Epoch 3/100\n",
            "15/15 [==============================] - 6s 391ms/step - loss: 2.4582 - accuracy: 0.8239 - weighted_accuracy: 0.8239 - val_loss: 2.6656 - val_accuracy: 0.2676 - val_weighted_accuracy: 0.2676\n",
            "Epoch 4/100\n",
            "15/15 [==============================] - 6s 395ms/step - loss: 1.6250 - accuracy: 0.8896 - weighted_accuracy: 0.8912 - val_loss: 2.0905 - val_accuracy: 0.2676 - val_weighted_accuracy: 0.2676\n",
            "Epoch 5/100\n",
            "15/15 [==============================] - 6s 387ms/step - loss: 1.0984 - accuracy: 0.8763 - weighted_accuracy: 0.8770 - val_loss: 1.5706 - val_accuracy: 0.2676 - val_weighted_accuracy: 0.2676\n",
            "Epoch 6/100\n",
            "15/15 [==============================] - 6s 382ms/step - loss: 0.7382 - accuracy: 0.9287 - weighted_accuracy: 0.9282 - val_loss: 0.9908 - val_accuracy: 0.6197 - val_weighted_accuracy: 0.6197\n",
            "Epoch 7/100\n",
            "15/15 [==============================] - 6s 395ms/step - loss: 0.5334 - accuracy: 0.9186 - weighted_accuracy: 0.9207 - val_loss: 1.0257 - val_accuracy: 0.4085 - val_weighted_accuracy: 0.4085\n",
            "Epoch 8/100\n",
            "15/15 [==============================] - 6s 393ms/step - loss: 0.4444 - accuracy: 0.8997 - weighted_accuracy: 0.8998 - val_loss: 0.9508 - val_accuracy: 0.4085 - val_weighted_accuracy: 0.4085\n",
            "Epoch 9/100\n",
            "15/15 [==============================] - 6s 395ms/step - loss: 0.3608 - accuracy: 0.9231 - weighted_accuracy: 0.9233 - val_loss: 0.8479 - val_accuracy: 0.3380 - val_weighted_accuracy: 0.3380\n",
            "Epoch 10/100\n",
            "15/15 [==============================] - 6s 385ms/step - loss: 0.2995 - accuracy: 0.9431 - weighted_accuracy: 0.9443 - val_loss: 0.9254 - val_accuracy: 0.3803 - val_weighted_accuracy: 0.3803\n",
            "Epoch 11/100\n",
            "15/15 [==============================] - 6s 389ms/step - loss: 0.2609 - accuracy: 0.9275 - weighted_accuracy: 0.9289 - val_loss: 0.6059 - val_accuracy: 0.6197 - val_weighted_accuracy: 0.6197\n",
            "Epoch 12/100\n",
            "15/15 [==============================] - 6s 384ms/step - loss: 0.2611 - accuracy: 0.9275 - weighted_accuracy: 0.9293 - val_loss: 0.5173 - val_accuracy: 0.7324 - val_weighted_accuracy: 0.7324\n",
            "Epoch 13/100\n",
            "15/15 [==============================] - 6s 389ms/step - loss: 0.2422 - accuracy: 0.9253 - weighted_accuracy: 0.9260 - val_loss: 0.7944 - val_accuracy: 0.3239 - val_weighted_accuracy: 0.3239\n",
            "Epoch 14/100\n",
            "15/15 [==============================] - 6s 381ms/step - loss: 0.2138 - accuracy: 0.9465 - weighted_accuracy: 0.9480 - val_loss: 0.5531 - val_accuracy: 0.6620 - val_weighted_accuracy: 0.6620\n",
            "Epoch 15/100\n",
            "15/15 [==============================] - 6s 387ms/step - loss: 0.2269 - accuracy: 0.9353 - weighted_accuracy: 0.9357 - val_loss: 0.3774 - val_accuracy: 0.9014 - val_weighted_accuracy: 0.9014\n",
            "Epoch 16/100\n",
            "15/15 [==============================] - 6s 382ms/step - loss: 0.1897 - accuracy: 0.9576 - weighted_accuracy: 0.9581 - val_loss: 1.0124 - val_accuracy: 0.3521 - val_weighted_accuracy: 0.3521\n",
            "Epoch 17/100\n",
            "15/15 [==============================] - 6s 367ms/step - loss: 0.2031 - accuracy: 0.9376 - weighted_accuracy: 0.9390 - val_loss: 0.4910 - val_accuracy: 0.7746 - val_weighted_accuracy: 0.7746\n",
            "Epoch 18/100\n",
            "15/15 [==============================] - 6s 367ms/step - loss: 0.2473 - accuracy: 0.9097 - weighted_accuracy: 0.9099 - val_loss: 0.8345 - val_accuracy: 0.3803 - val_weighted_accuracy: 0.3803\n",
            "Epoch 19/100\n",
            "15/15 [==============================] - 6s 378ms/step - loss: 0.2211 - accuracy: 0.9298 - weighted_accuracy: 0.9327 - val_loss: 0.2965 - val_accuracy: 0.9014 - val_weighted_accuracy: 0.9014\n",
            "Epoch 20/100\n",
            "15/15 [==============================] - 6s 377ms/step - loss: 0.1797 - accuracy: 0.9554 - weighted_accuracy: 0.9562 - val_loss: 0.4528 - val_accuracy: 0.7465 - val_weighted_accuracy: 0.7465\n",
            "Epoch 21/100\n",
            "15/15 [==============================] - 6s 385ms/step - loss: 0.1817 - accuracy: 0.9476 - weighted_accuracy: 0.9476 - val_loss: 0.7548 - val_accuracy: 0.5493 - val_weighted_accuracy: 0.5493\n",
            "Epoch 22/100\n",
            "15/15 [==============================] - 6s 389ms/step - loss: 0.2010 - accuracy: 0.9353 - weighted_accuracy: 0.9364 - val_loss: 0.3687 - val_accuracy: 0.8310 - val_weighted_accuracy: 0.8310\n",
            "Epoch 23/100\n",
            "15/15 [==============================] - 6s 397ms/step - loss: 0.1601 - accuracy: 0.9621 - weighted_accuracy: 0.9622 - val_loss: 0.3806 - val_accuracy: 0.8732 - val_weighted_accuracy: 0.8732\n",
            "Epoch 24/100\n",
            "15/15 [==============================] - 6s 395ms/step - loss: 0.2005 - accuracy: 0.9387 - weighted_accuracy: 0.9390 - val_loss: 0.9661 - val_accuracy: 0.6197 - val_weighted_accuracy: 0.6197\n",
            "Epoch 25/100\n",
            "15/15 [==============================] - 6s 397ms/step - loss: 0.2439 - accuracy: 0.9242 - weighted_accuracy: 0.9260 - val_loss: 0.4165 - val_accuracy: 0.8732 - val_weighted_accuracy: 0.8732\n",
            "Epoch 26/100\n",
            "15/15 [==============================] - 6s 396ms/step - loss: 0.1987 - accuracy: 0.9409 - weighted_accuracy: 0.9417 - val_loss: 0.2996 - val_accuracy: 0.8873 - val_weighted_accuracy: 0.8873\n",
            "Epoch 27/100\n",
            "15/15 [==============================] - 6s 396ms/step - loss: 0.1558 - accuracy: 0.9732 - weighted_accuracy: 0.9742 - val_loss: 0.3230 - val_accuracy: 0.9155 - val_weighted_accuracy: 0.9155\n",
            "Epoch 28/100\n",
            "15/15 [==============================] - 6s 392ms/step - loss: 0.1423 - accuracy: 0.9744 - weighted_accuracy: 0.9749 - val_loss: 0.2276 - val_accuracy: 0.8873 - val_weighted_accuracy: 0.8873\n",
            "Epoch 29/100\n",
            "15/15 [==============================] - 6s 397ms/step - loss: 0.1516 - accuracy: 0.9588 - weighted_accuracy: 0.9596 - val_loss: 0.4225 - val_accuracy: 0.9155 - val_weighted_accuracy: 0.9155\n",
            "Epoch 30/100\n",
            "15/15 [==============================] - 6s 393ms/step - loss: 0.1405 - accuracy: 0.9610 - weighted_accuracy: 0.9615 - val_loss: 0.1784 - val_accuracy: 0.9577 - val_weighted_accuracy: 0.9577\n",
            "Epoch 31/100\n",
            "15/15 [==============================] - 6s 385ms/step - loss: 0.1469 - accuracy: 0.9610 - weighted_accuracy: 0.9619 - val_loss: 0.2534 - val_accuracy: 0.9296 - val_weighted_accuracy: 0.9296\n",
            "Epoch 32/100\n",
            "15/15 [==============================] - 6s 398ms/step - loss: 0.1528 - accuracy: 0.9521 - weighted_accuracy: 0.9533 - val_loss: 0.8291 - val_accuracy: 0.7887 - val_weighted_accuracy: 0.7887\n",
            "Epoch 33/100\n",
            "15/15 [==============================] - 6s 403ms/step - loss: 0.1551 - accuracy: 0.9610 - weighted_accuracy: 0.9622 - val_loss: 0.3138 - val_accuracy: 0.8451 - val_weighted_accuracy: 0.8451\n",
            "Epoch 34/100\n",
            "15/15 [==============================] - 6s 395ms/step - loss: 0.1429 - accuracy: 0.9588 - weighted_accuracy: 0.9596 - val_loss: 0.4815 - val_accuracy: 0.7465 - val_weighted_accuracy: 0.7465\n",
            "Epoch 35/100\n",
            "15/15 [==============================] - 6s 386ms/step - loss: 0.1378 - accuracy: 0.9621 - weighted_accuracy: 0.9634 - val_loss: 0.3432 - val_accuracy: 0.8169 - val_weighted_accuracy: 0.8169\n",
            "Epoch 36/100\n",
            "15/15 [==============================] - 6s 391ms/step - loss: 0.1545 - accuracy: 0.9621 - weighted_accuracy: 0.9634 - val_loss: 0.7728 - val_accuracy: 0.7042 - val_weighted_accuracy: 0.7042\n",
            "Epoch 37/100\n",
            "15/15 [==============================] - 6s 394ms/step - loss: 0.1542 - accuracy: 0.9532 - weighted_accuracy: 0.9547 - val_loss: 0.1110 - val_accuracy: 0.9859 - val_weighted_accuracy: 0.9859\n",
            "Epoch 38/100\n",
            "15/15 [==============================] - 6s 395ms/step - loss: 0.1543 - accuracy: 0.9576 - weighted_accuracy: 0.9592 - val_loss: 0.6766 - val_accuracy: 0.9155 - val_weighted_accuracy: 0.9155\n",
            "Epoch 39/100\n",
            "15/15 [==============================] - 6s 396ms/step - loss: 0.1429 - accuracy: 0.9688 - weighted_accuracy: 0.9690 - val_loss: 0.4629 - val_accuracy: 0.8592 - val_weighted_accuracy: 0.8592\n",
            "Epoch 40/100\n",
            "15/15 [==============================] - 6s 389ms/step - loss: 0.1399 - accuracy: 0.9610 - weighted_accuracy: 0.9634 - val_loss: 0.6561 - val_accuracy: 0.7183 - val_weighted_accuracy: 0.7183\n",
            "Epoch 41/100\n",
            "15/15 [==============================] - 6s 378ms/step - loss: 0.1229 - accuracy: 0.9766 - weighted_accuracy: 0.9768 - val_loss: 1.5652 - val_accuracy: 0.8169 - val_weighted_accuracy: 0.8169\n",
            "Epoch 42/100\n",
            "15/15 [==============================] - 6s 374ms/step - loss: 0.1197 - accuracy: 0.9688 - weighted_accuracy: 0.9712 - val_loss: 0.5760 - val_accuracy: 0.8310 - val_weighted_accuracy: 0.8310\n",
            "Epoch 43/100\n",
            "15/15 [==============================] - 6s 383ms/step - loss: 0.1047 - accuracy: 0.9755 - weighted_accuracy: 0.9757 - val_loss: 0.0975 - val_accuracy: 0.9859 - val_weighted_accuracy: 0.9859\n",
            "Epoch 44/100\n",
            "15/15 [==============================] - 6s 400ms/step - loss: 0.1145 - accuracy: 0.9710 - weighted_accuracy: 0.9716 - val_loss: 0.7629 - val_accuracy: 0.7465 - val_weighted_accuracy: 0.7465\n",
            "Epoch 45/100\n",
            "15/15 [==============================] - 6s 406ms/step - loss: 0.1351 - accuracy: 0.9666 - weighted_accuracy: 0.9675 - val_loss: 0.5589 - val_accuracy: 0.7606 - val_weighted_accuracy: 0.7606\n",
            "Epoch 46/100\n",
            "15/15 [==============================] - 6s 399ms/step - loss: 0.1197 - accuracy: 0.9721 - weighted_accuracy: 0.9731 - val_loss: 1.2651 - val_accuracy: 0.7042 - val_weighted_accuracy: 0.7042\n",
            "Epoch 47/100\n",
            "15/15 [==============================] - 6s 389ms/step - loss: 0.1253 - accuracy: 0.9688 - weighted_accuracy: 0.9705 - val_loss: 0.4445 - val_accuracy: 0.8873 - val_weighted_accuracy: 0.8873\n",
            "Epoch 48/100\n",
            "15/15 [==============================] - 6s 382ms/step - loss: 0.1251 - accuracy: 0.9710 - weighted_accuracy: 0.9723 - val_loss: 0.5291 - val_accuracy: 0.9155 - val_weighted_accuracy: 0.9155\n",
            "Epoch 49/100\n",
            "15/15 [==============================] - 6s 383ms/step - loss: 0.1044 - accuracy: 0.9822 - weighted_accuracy: 0.9835 - val_loss: 0.5890 - val_accuracy: 0.9155 - val_weighted_accuracy: 0.9155\n",
            "Epoch 50/100\n",
            "15/15 [==============================] - 6s 404ms/step - loss: 0.1280 - accuracy: 0.9666 - weighted_accuracy: 0.9682 - val_loss: 0.2662 - val_accuracy: 0.8451 - val_weighted_accuracy: 0.8451\n",
            "Epoch 51/100\n",
            "15/15 [==============================] - 6s 400ms/step - loss: 0.1278 - accuracy: 0.9688 - weighted_accuracy: 0.9697 - val_loss: 0.2628 - val_accuracy: 0.8592 - val_weighted_accuracy: 0.8592\n",
            "Epoch 52/100\n",
            "15/15 [==============================] - 6s 385ms/step - loss: 0.1248 - accuracy: 0.9688 - weighted_accuracy: 0.9705 - val_loss: 0.8306 - val_accuracy: 0.8028 - val_weighted_accuracy: 0.8028\n",
            "Epoch 53/100\n",
            "15/15 [==============================] - 6s 391ms/step - loss: 0.1175 - accuracy: 0.9710 - weighted_accuracy: 0.9727 - val_loss: 0.9318 - val_accuracy: 0.7887 - val_weighted_accuracy: 0.7887\n",
            "Epoch 54/100\n",
            "15/15 [==============================] - 6s 393ms/step - loss: 0.1279 - accuracy: 0.9576 - weighted_accuracy: 0.9600 - val_loss: 0.5850 - val_accuracy: 0.8592 - val_weighted_accuracy: 0.8592\n",
            "Epoch 55/100\n",
            "15/15 [==============================] - 6s 399ms/step - loss: 0.1234 - accuracy: 0.9799 - weighted_accuracy: 0.9798 - val_loss: 0.5677 - val_accuracy: 0.9155 - val_weighted_accuracy: 0.9155\n",
            "Epoch 56/100\n",
            "15/15 [==============================] - 6s 391ms/step - loss: 0.1146 - accuracy: 0.9788 - weighted_accuracy: 0.9802 - val_loss: 0.5502 - val_accuracy: 0.8732 - val_weighted_accuracy: 0.8732\n",
            "Epoch 57/100\n",
            "15/15 [==============================] - 6s 393ms/step - loss: 0.1039 - accuracy: 0.9822 - weighted_accuracy: 0.9828 - val_loss: 0.5802 - val_accuracy: 0.7606 - val_weighted_accuracy: 0.7606\n",
            "Epoch 58/100\n",
            "15/15 [==============================] - 6s 393ms/step - loss: 0.0952 - accuracy: 0.9799 - weighted_accuracy: 0.9813 - val_loss: 0.4304 - val_accuracy: 0.8028 - val_weighted_accuracy: 0.8028\n",
            "Epoch 59/100\n",
            "15/15 [==============================] - 6s 396ms/step - loss: 0.0982 - accuracy: 0.9799 - weighted_accuracy: 0.9809 - val_loss: 0.3470 - val_accuracy: 0.9155 - val_weighted_accuracy: 0.9155\n",
            "Epoch 60/100\n",
            "15/15 [==============================] - 6s 385ms/step - loss: 0.0875 - accuracy: 0.9855 - weighted_accuracy: 0.9858 - val_loss: 0.5242 - val_accuracy: 0.8732 - val_weighted_accuracy: 0.8732\n",
            "Epoch 61/100\n",
            "15/15 [==============================] - 6s 388ms/step - loss: 0.1055 - accuracy: 0.9721 - weighted_accuracy: 0.9731 - val_loss: 1.5161 - val_accuracy: 0.6761 - val_weighted_accuracy: 0.6761\n",
            "Epoch 62/100\n",
            "15/15 [==============================] - 6s 380ms/step - loss: 0.1092 - accuracy: 0.9710 - weighted_accuracy: 0.9734 - val_loss: 0.3619 - val_accuracy: 0.8169 - val_weighted_accuracy: 0.8169\n",
            "Epoch 63/100\n",
            "15/15 [==============================] - 6s 371ms/step - loss: 0.0936 - accuracy: 0.9855 - weighted_accuracy: 0.9865 - val_loss: 0.6120 - val_accuracy: 0.8451 - val_weighted_accuracy: 0.8451\n",
            "Epoch 64/100\n",
            "15/15 [==============================] - 6s 375ms/step - loss: 0.0918 - accuracy: 0.9799 - weighted_accuracy: 0.9806 - val_loss: 0.2675 - val_accuracy: 0.9155 - val_weighted_accuracy: 0.9155\n",
            "Epoch 65/100\n",
            "15/15 [==============================] - 6s 389ms/step - loss: 0.0989 - accuracy: 0.9755 - weighted_accuracy: 0.9757 - val_loss: 1.0319 - val_accuracy: 0.7042 - val_weighted_accuracy: 0.7042\n",
            "Epoch 66/100\n",
            "15/15 [==============================] - 6s 388ms/step - loss: 0.1000 - accuracy: 0.9788 - weighted_accuracy: 0.9794 - val_loss: 0.5952 - val_accuracy: 0.9014 - val_weighted_accuracy: 0.9014\n",
            "Epoch 67/100\n",
            "15/15 [==============================] - 6s 384ms/step - loss: 0.1095 - accuracy: 0.9710 - weighted_accuracy: 0.9716 - val_loss: 0.2867 - val_accuracy: 0.8873 - val_weighted_accuracy: 0.8873\n",
            "Epoch 68/100\n",
            "15/15 [==============================] - 6s 404ms/step - loss: 0.0943 - accuracy: 0.9777 - weighted_accuracy: 0.9787 - val_loss: 0.3927 - val_accuracy: 0.9155 - val_weighted_accuracy: 0.9155\n",
            "Epoch 69/100\n",
            "15/15 [==============================] - 6s 401ms/step - loss: 0.0829 - accuracy: 0.9855 - weighted_accuracy: 0.9862 - val_loss: 0.2242 - val_accuracy: 0.9296 - val_weighted_accuracy: 0.9296\n",
            "Epoch 70/100\n",
            "15/15 [==============================] - 6s 402ms/step - loss: 0.0756 - accuracy: 0.9866 - weighted_accuracy: 0.9869 - val_loss: 0.2409 - val_accuracy: 0.9155 - val_weighted_accuracy: 0.9155\n",
            "Epoch 71/100\n",
            "15/15 [==============================] - 6s 402ms/step - loss: 0.0741 - accuracy: 0.9844 - weighted_accuracy: 0.9847 - val_loss: 0.4819 - val_accuracy: 0.8451 - val_weighted_accuracy: 0.8451\n",
            "Epoch 72/100\n",
            "15/15 [==============================] - 6s 385ms/step - loss: 0.0894 - accuracy: 0.9699 - weighted_accuracy: 0.9712 - val_loss: 0.2456 - val_accuracy: 0.9155 - val_weighted_accuracy: 0.9155\n",
            "Epoch 73/100\n",
            "15/15 [==============================] - 6s 387ms/step - loss: 0.0777 - accuracy: 0.9877 - weighted_accuracy: 0.9877 - val_loss: 0.2920 - val_accuracy: 0.9155 - val_weighted_accuracy: 0.9155\n",
            "Epoch 74/100\n",
            "15/15 [==============================] - 6s 383ms/step - loss: 0.0782 - accuracy: 0.9866 - weighted_accuracy: 0.9865 - val_loss: 0.1562 - val_accuracy: 0.9155 - val_weighted_accuracy: 0.9155\n",
            "Epoch 75/100\n",
            "15/15 [==============================] - 6s 382ms/step - loss: 0.0721 - accuracy: 0.9866 - weighted_accuracy: 0.9873 - val_loss: 0.0913 - val_accuracy: 0.9577 - val_weighted_accuracy: 0.9577\n",
            "Epoch 76/100\n",
            "15/15 [==============================] - 6s 389ms/step - loss: 0.0696 - accuracy: 0.9877 - weighted_accuracy: 0.9877 - val_loss: 0.0790 - val_accuracy: 0.9718 - val_weighted_accuracy: 0.9718\n",
            "Epoch 77/100\n",
            "15/15 [==============================] - 6s 388ms/step - loss: 0.0644 - accuracy: 0.9900 - weighted_accuracy: 0.9899 - val_loss: 0.0931 - val_accuracy: 0.9577 - val_weighted_accuracy: 0.9577\n",
            "Epoch 78/100\n",
            "15/15 [==============================] - 6s 383ms/step - loss: 0.0839 - accuracy: 0.9766 - weighted_accuracy: 0.9779 - val_loss: 0.5271 - val_accuracy: 0.8592 - val_weighted_accuracy: 0.8592\n",
            "Epoch 79/100\n",
            "15/15 [==============================] - 6s 379ms/step - loss: 0.1259 - accuracy: 0.9565 - weighted_accuracy: 0.9570 - val_loss: 0.3259 - val_accuracy: 0.8592 - val_weighted_accuracy: 0.8592\n",
            "Epoch 80/100\n",
            "15/15 [==============================] - 6s 376ms/step - loss: 0.0944 - accuracy: 0.9822 - weighted_accuracy: 0.9824 - val_loss: 0.1233 - val_accuracy: 0.9718 - val_weighted_accuracy: 0.9718\n",
            "Epoch 81/100\n",
            "15/15 [==============================] - 6s 395ms/step - loss: 0.1019 - accuracy: 0.9799 - weighted_accuracy: 0.9798 - val_loss: 0.1782 - val_accuracy: 0.9155 - val_weighted_accuracy: 0.9155\n",
            "Epoch 82/100\n",
            "15/15 [==============================] - 6s 401ms/step - loss: 0.0990 - accuracy: 0.9833 - weighted_accuracy: 0.9835 - val_loss: 0.2372 - val_accuracy: 0.9014 - val_weighted_accuracy: 0.9014\n",
            "Epoch 83/100\n",
            "15/15 [==============================] - 6s 402ms/step - loss: 0.0940 - accuracy: 0.9855 - weighted_accuracy: 0.9858 - val_loss: 0.4205 - val_accuracy: 0.7887 - val_weighted_accuracy: 0.7887\n",
            "Epoch 84/100\n",
            "15/15 [==============================] - 6s 396ms/step - loss: 0.0867 - accuracy: 0.9822 - weighted_accuracy: 0.9824 - val_loss: 0.2191 - val_accuracy: 0.9155 - val_weighted_accuracy: 0.9155\n",
            "Epoch 85/100\n",
            "15/15 [==============================] - 6s 397ms/step - loss: 0.0710 - accuracy: 0.9922 - weighted_accuracy: 0.9921 - val_loss: 0.2873 - val_accuracy: 0.9155 - val_weighted_accuracy: 0.9155\n",
            "Epoch 86/100\n",
            "15/15 [==============================] - 6s 398ms/step - loss: 0.0810 - accuracy: 0.9844 - weighted_accuracy: 0.9847 - val_loss: 0.1478 - val_accuracy: 0.9437 - val_weighted_accuracy: 0.9437\n",
            "Epoch 87/100\n",
            "15/15 [==============================] - 6s 397ms/step - loss: 0.0676 - accuracy: 0.9922 - weighted_accuracy: 0.9921 - val_loss: 0.2673 - val_accuracy: 0.9296 - val_weighted_accuracy: 0.9296\n",
            "Epoch 88/100\n",
            "15/15 [==============================] - 6s 399ms/step - loss: 0.0854 - accuracy: 0.9855 - weighted_accuracy: 0.9862 - val_loss: 0.8285 - val_accuracy: 0.7465 - val_weighted_accuracy: 0.7465\n",
            "Epoch 89/100\n",
            "15/15 [==============================] - 6s 390ms/step - loss: 0.0848 - accuracy: 0.9866 - weighted_accuracy: 0.9865 - val_loss: 0.3360 - val_accuracy: 0.9155 - val_weighted_accuracy: 0.9155\n",
            "Epoch 90/100\n",
            "15/15 [==============================] - 6s 391ms/step - loss: 0.0807 - accuracy: 0.9855 - weighted_accuracy: 0.9858 - val_loss: 0.1003 - val_accuracy: 0.9718 - val_weighted_accuracy: 0.9718\n",
            "Epoch 91/100\n",
            "15/15 [==============================] - 6s 379ms/step - loss: 0.0716 - accuracy: 0.9866 - weighted_accuracy: 0.9869 - val_loss: 0.4962 - val_accuracy: 0.9014 - val_weighted_accuracy: 0.9014\n",
            "Epoch 92/100\n",
            "15/15 [==============================] - 6s 390ms/step - loss: 0.0749 - accuracy: 0.9866 - weighted_accuracy: 0.9869 - val_loss: 0.1279 - val_accuracy: 0.9437 - val_weighted_accuracy: 0.9437\n",
            "Epoch 93/100\n",
            "15/15 [==============================] - 6s 392ms/step - loss: 0.0779 - accuracy: 0.9877 - weighted_accuracy: 0.9884 - val_loss: 0.1080 - val_accuracy: 0.9577 - val_weighted_accuracy: 0.9577\n",
            "Epoch 94/100\n",
            "15/15 [==============================] - 6s 391ms/step - loss: 0.0775 - accuracy: 0.9866 - weighted_accuracy: 0.9865 - val_loss: 0.0545 - val_accuracy: 1.0000 - val_weighted_accuracy: 1.0000\n",
            "Epoch 95/100\n",
            "15/15 [==============================] - 6s 383ms/step - loss: 0.0658 - accuracy: 0.9900 - weighted_accuracy: 0.9899 - val_loss: 0.0616 - val_accuracy: 0.9859 - val_weighted_accuracy: 0.9859\n",
            "Epoch 96/100\n",
            "15/15 [==============================] - 6s 383ms/step - loss: 0.0705 - accuracy: 0.9844 - weighted_accuracy: 0.9847 - val_loss: 0.1156 - val_accuracy: 0.9155 - val_weighted_accuracy: 0.9155\n",
            "Epoch 97/100\n",
            "15/15 [==============================] - 6s 401ms/step - loss: 0.0644 - accuracy: 0.9877 - weighted_accuracy: 0.9880 - val_loss: 0.2502 - val_accuracy: 0.8873 - val_weighted_accuracy: 0.8873\n",
            "Epoch 98/100\n",
            "15/15 [==============================] - 6s 395ms/step - loss: 0.0785 - accuracy: 0.9766 - weighted_accuracy: 0.9768 - val_loss: 0.0600 - val_accuracy: 0.9859 - val_weighted_accuracy: 0.9859\n",
            "Epoch 99/100\n",
            "15/15 [==============================] - 6s 394ms/step - loss: 0.0576 - accuracy: 0.9933 - weighted_accuracy: 0.9933 - val_loss: 0.0631 - val_accuracy: 0.9859 - val_weighted_accuracy: 0.9859\n",
            "Epoch 100/100\n",
            "15/15 [==============================] - 6s 388ms/step - loss: 0.0645 - accuracy: 0.9844 - weighted_accuracy: 0.9843 - val_loss: 0.0805 - val_accuracy: 0.9577 - val_weighted_accuracy: 0.9577\n",
            "best_epoch:  94\n"
          ]
        },
        {
          "output_type": "display_data",
          "data": {
            "text/plain": [
              "<Figure size 1500x500 with 2 Axes>"
            ],
            "image/png": "[encoded data removed]"
          },
          "metadata": {}
        }
      ]
    },
    {
      "cell_type": "markdown",
      "source": [
        "##Graphs"
      ],
      "metadata": {
        "id": "K7vXtWAhLl8W"
      }
    },
    {
      "cell_type": "code",
      "source": [
        "# For modeling\n",
        "import tensorflow as tf\n",
        "from sklearn.metrics import classification_report"
      ],
      "metadata": {
        "id": "Ke0QjYwUMylG"
      },
      "execution_count": null,
      "outputs": []
    },
    {
      "cell_type": "code",
      "source": [
        "tf.keras.utils.plot_model(model, show_shapes=True)"
      ],
      "metadata": {
        "id": "eYFrd5FcLowo",
        "colab": {
          "base_uri": "https://localhost:8080/"
        },
        "outputId": "ad8420d5-4309-4033-f74d-397e10a2ee08"
      },
      "execution_count": null,
      "outputs": [
        {
          "output_type": "stream",
          "name": "stdout",
          "text": [
            "You must install pydot (`pip install pydot`) and install graphviz (see instructions at https://graphviz.gitlab.io/download/) for plot_model to work.\n"
          ]
        }
      ]
    },
    {
      "cell_type": "code",
      "source": [
        "train_yhat = model.predict(training_audio_features)\n",
        "\n",
        "train_yhat_result = np.argmax(train_yhat, axis=-1)\n",
        "\n",
        "train_results['mfcc_chroma_rms_spectral_centroid'] = model.evaluate(training_audio_features,\n",
        "                                                         audio_df['train']['label'])[-1]"
      ],
      "metadata": {
        "id": "lAKrp7V2MOSO",
        "colab": {
          "base_uri": "https://localhost:8080/"
        },
        "outputId": "87b3e68f-a966-4118-9b5e-ff571f682cb3"
      },
      "execution_count": null,
      "outputs": [
        {
          "output_type": "stream",
          "name": "stdout",
          "text": [
            "29/29 [==============================] - 3s 91ms/step\n",
            "29/29 [==============================] - 3s 87ms/step - loss: 0.1947 - accuracy: 0.9420 - weighted_accuracy: 0.9420\n"
          ]
        }
      ]
    },
    {
      "cell_type": "code",
      "source": [
        "val_yhat = model.predict(validation_audio_features)\n",
        "\n",
        "val_yhat_result = np.argmax(val_yhat, axis=-1)\n",
        "\n",
        "val_results['mfcc_chroma_rms_spectral_centroid'] = model.evaluate(validation_audio_features,\n",
        "                                                         audio_df['val']['label'])[-1]"
      ],
      "metadata": {
        "id": "Rk5OCtVANGzV",
        "colab": {
          "base_uri": "https://localhost:8080/"
        },
        "outputId": "39ead6ae-5406-43d6-a83b-ac7878c88c43"
      },
      "execution_count": null,
      "outputs": [
        {
          "output_type": "stream",
          "name": "stdout",
          "text": [
            "3/3 [==============================] - 0s 62ms/step\n",
            "3/3 [==============================] - 0s 62ms/step - loss: 0.1085 - accuracy: 0.9577 - weighted_accuracy: 0.9577\n"
          ]
        }
      ]
    },
    {
      "cell_type": "code",
      "source": [
        "print('Training classification Report \\n')\n",
        "print(classification_report(audio_df['train']['label'], train_yhat_result, target_names=classes))"
      ],
      "metadata": {
        "id": "Yi-OySlVMke9",
        "colab": {
          "base_uri": "https://localhost:8080/"
        },
        "outputId": "89ba152c-3671-4ad1-811b-57849f547bcd"
      },
      "execution_count": null,
      "outputs": [
        {
          "output_type": "stream",
          "name": "stdout",
          "text": [
            "Training classification Report \n",
            "\n",
            "                         precision    recall  f1-score   support\n",
            "\n",
            "Scarlet-chested Sunbird       1.00      0.80      0.89       238\n",
            "     Red-chested Cuckoo       0.97      0.99      0.98       345\n",
            "         Egyptian Goose       0.88      1.00      0.94       314\n",
            "\n",
            "               accuracy                           0.94       897\n",
            "              macro avg       0.95      0.93      0.93       897\n",
            "           weighted avg       0.95      0.94      0.94       897\n",
            "\n"
          ]
        }
      ]
    },
    {
      "cell_type": "code",
      "source": [
        "print('Validation classification Report \\n')\n",
        "print(classification_report(audio_df['val']['label'], val_yhat_result, target_names=classes))"
      ],
      "metadata": {
        "id": "WxR-fsgpMoQ1",
        "colab": {
          "base_uri": "https://localhost:8080/"
        },
        "outputId": "07c8797b-7182-4dc4-8a11-d4830d650ae0"
      },
      "execution_count": null,
      "outputs": [
        {
          "output_type": "stream",
          "name": "stdout",
          "text": [
            "Validation classification Report \n",
            "\n",
            "                         precision    recall  f1-score   support\n",
            "\n",
            "Scarlet-chested Sunbird       1.00      0.93      0.96        14\n",
            "     Red-chested Cuckoo       0.90      1.00      0.95        19\n",
            "         Egyptian Goose       0.97      0.95      0.96        38\n",
            "\n",
            "               accuracy                           0.96        71\n",
            "              macro avg       0.96      0.96      0.96        71\n",
            "           weighted avg       0.96      0.96      0.96        71\n",
            "\n"
          ]
        }
      ]
    },
    {
      "cell_type": "code",
      "source": [
        "train_cm = tf.math.confusion_matrix(audio_df['train']['label'], train_yhat_result)\n",
        "\n",
        "ax = sns.heatmap(train_cm,\n",
        "                 annot=True,\n",
        "                 fmt='.0f',\n",
        "                 cmap='Blues',\n",
        "                 xticklabels=classes,\n",
        "                 yticklabels=classes,\n",
        "                 cbar=False)\n",
        "\n",
        "ax.set(xlabel='Predicted Label', ylabel='True Label')\n",
        "plt.title('Train Confusion Matrix')\n",
        "plt.show()"
      ],
      "metadata": {
        "id": "UXleaKhtNUtd",
        "colab": {
          "base_uri": "https://localhost:8080/",
          "height": 472
        },
        "outputId": "111ed1fc-42e2-412f-ad7b-ce362ed19b46"
      },
      "execution_count": null,
      "outputs": [
        {
          "output_type": "display_data",
          "data": {
            "text/plain": [
              "<Figure size 640x480 with 1 Axes>"
            ],
            "image/png": "[encoded data removed]"
          },
          "metadata": {}
        }
      ]
    },
    {
      "cell_type": "code",
      "source": [
        "val_cm = tf.math.confusion_matrix(audio_df['val']['label'], val_yhat_result)\n",
        "\n",
        "ax = sns.heatmap(val_cm,\n",
        "                 annot=True,\n",
        "                 fmt='.0f',\n",
        "                 cmap='Blues',\n",
        "                 xticklabels=classes,\n",
        "                 yticklabels=classes,\n",
        "                 cbar=False)\n",
        "\n",
        "ax.set(xlabel='Predicted Label', ylabel='True Label')\n",
        "plt.title('Validation Confusion Matrix')\n",
        "plt.show()"
      ],
      "metadata": {
        "id": "1Sxi2lgINWpW",
        "colab": {
          "base_uri": "https://localhost:8080/",
          "height": 472
        },
        "outputId": "3723bbe1-caf9-4f4e-c513-d5e32b8cd936"
      },
      "execution_count": null,
      "outputs": [
        {
          "output_type": "display_data",
          "data": {
            "text/plain": [
              "<Figure size 640x480 with 1 Axes>"
            ],
            "image/png": "[encoded data removed]"
          },
          "metadata": {}
        }
      ]
    },
    {
      "cell_type": "markdown",
      "source": [
        "##save the model created"
      ],
      "metadata": {
        "id": "ED8aZa51uc_5"
      }
    },
    {
      "cell_type": "code",
      "source": [
        "# To test whether the model created is working or not.\n",
        "import numpy as np\n",
        "import librosa\n",
        "import tensorflow as tf\n",
        "\n",
        "model = tf.keras.models.load_model('/content/drive/MyDrive/my_model1.keras')\n",
        "\n",
        "# Define a mapping of class indices to class names\n",
        "class_names = {0: 'Scarlet-chested Sunbird', 1: 'Red-chested Cuckoo', 2: 'Egyptian Goose'}\n",
        "\n",
        "\n",
        "def predict_audio(file_path):\n",
        "    try:\n",
        "        # Load the audio file\n",
        "        audio, sr = librosa.load(file_path, sr=None)\n",
        "\n",
        "        # Extract MFCCs (21 MFCCs to match model input)\n",
        "        mfccs = librosa.feature.mfcc(y=audio, sr=sr, n_mfcc=21)\n",
        "\n",
        "        # Ensure the time steps (frames) match the model's expected input (251 time steps in this case)\n",
        "        required_time_steps = 251\n",
        "\n",
        "        if mfccs.shape[1] < required_time_steps:\n",
        "            # Pad with zeros if shorter\n",
        "            pad_width = required_time_steps - mfccs.shape[1]\n",
        "            mfccs = np.pad(mfccs, pad_width=((0, 0), (0, pad_width)), mode='constant')\n",
        "        else:\n",
        "            # Truncate if longer\n",
        "            mfccs = mfccs[:, :required_time_steps]\n",
        "\n",
        "        # Transpose the mfccs to have shape (251, 21) as expected by the model\n",
        "        mfccs = mfccs.T  # Now mfccs will have shape (251, 21)\n",
        "\n",
        "        # Reshape to match the model's input shape (1, 251, 21)\n",
        "        audio_features = np.expand_dims(mfccs, axis=0)  # Add batch dimension\n",
        "\n",
        "        # Make the prediction\n",
        "        prediction = model.predict(audio_features)\n",
        "        predicted_class = np.argmax(prediction, axis=-1)[0]  # Get the class with the highest probability\n",
        "\n",
        "        # Get the class name from the mapping\n",
        "        class_name = class_names.get(predicted_class, \"Unknown\")\n",
        "\n",
        "        return class_name, prediction  # Return class name and probabilities\n",
        "\n",
        "    except Exception as e:\n",
        "        print(f\"Error during prediction: {e}\")\n",
        "        return None, None\n",
        "\n",
        "# Example usage:\n",
        "file_path = '/content/drive/MyDrive/XC921114 - Egyptian Goose - Alopochen aegyptiaca.wav'\n",
        "class_name, probabilities = predict_audio(file_path)\n",
        "\n",
        "if class_name is not None:\n",
        "    print(f\"Predicted class: {class_name}\")\n",
        "    print(f\"Probabilities: {probabilities}\")"
      ],
      "metadata": {
        "id": "WtjSslAQuuHu",
        "colab": {
          "base_uri": "https://localhost:8080/"
        },
        "outputId": "11c8b218-cb5c-42b8-b0de-b6830a9f471a"
      },
      "execution_count": null,
      "outputs": [
        {
          "output_type": "stream",
          "name": "stdout",
          "text": [
            "1/1 [==============================] - 0s 404ms/step\n",
            "Predicted class: Red-chested Cuckoo\n",
            "Probabilities: [[4.1310494e-05 9.9965262e-01 3.0604043e-04]]\n"
          ]
        }
      ]
    },
    {
      "cell_type": "code",
      "source": [
        "#  This will save the model in the google drive.\n",
        "# model.save('/content/drive/MyDrive/my_model1.keras')"
      ],
      "metadata": {
        "id": "fAY7wUlh-hGS"
      },
      "execution_count": null,
      "outputs": []
    }
  ]
}